{
 "cells": [
  {
   "cell_type": "markdown",
   "metadata": {},
   "source": [
    "<p style=\"text-align:center\">\n",
    "    <a href=\"https://skills.network/?utm_medium=Exinfluencer&utm_source=Exinfluencer&utm_content=000026UJ&utm_term=10006555&utm_id=NA-SkillsNetwork-Channel-SkillsNetworkCoursesIBMDeveloperSkillsNetworkPY0220ENSkillsNetwork900-2022-01-01\" target=\"_blank\">\n",
    "    <img src=\"https://cf-courses-data.s3.us.cloud-object-storage.appdomain.cloud/assets/logos/SN_web_lightmode.png\" width=\"200\" alt=\"Skills Network Logo\">\n",
    "    </a>\n",
    "</p>\n"
   ]
  },
  {
   "cell_type": "markdown",
   "metadata": {},
   "source": [
    "<h1>Extracting and Visualizing Stock Data</h1>\n",
    "<h2>Description</h2>\n"
   ]
  },
  {
   "cell_type": "markdown",
   "metadata": {},
   "source": [
    "Extracting essential data from a dataset and displaying it is a necessary part of data science; therefore individuals can make correct decisions based on the data. In this assignment, you will extract some stock data, you will then display this data in a graph.\n"
   ]
  },
  {
   "cell_type": "markdown",
   "metadata": {},
   "source": [
    "<h2>Table of Contents</h2>\n",
    "<div class=\"alert alert-block alert-info\" style=\"margin-top: 20px\">\n",
    "    <ul>\n",
    "        <li>Define a Function that Makes a Graph</li>\n",
    "        <li>Question 1: Use yfinance to Extract Stock Data</li>\n",
    "        <li>Question 2: Use Webscraping to Extract Tesla Revenue Data</li>\n",
    "        <li>Question 3: Use yfinance to Extract Stock Data</li>\n",
    "        <li>Question 4: Use Webscraping to Extract GME Revenue Data</li>\n",
    "        <li>Question 5: Plot Tesla Stock Graph</li>\n",
    "        <li>Question 6: Plot GameStop Stock Graph</li>\n",
    "    </ul>\n",
    "<p>\n",
    "    Estimated Time Needed: <strong>30 min</strong></p>\n",
    "</div>\n",
    "\n",
    "<hr>\n"
   ]
  },
  {
   "cell_type": "markdown",
   "metadata": {},
   "source": [
    "***Note***:- If you are working Locally using anaconda, please uncomment the following code and execute it.\n",
    "Use the version as per your python version.\n"
   ]
  },
  {
   "cell_type": "code",
   "execution_count": 1,
   "metadata": {
    "collapsed": true,
    "jupyter": {
     "outputs_hidden": true
    },
    "scrolled": true
   },
   "outputs": [
    {
     "name": "stdout",
     "output_type": "stream",
     "text": [
      "Requirement already satisfied: yfinance in /opt/conda/lib/python3.11/site-packages (0.2.51)\n",
      "Requirement already satisfied: pandas>=1.3.0 in /opt/conda/lib/python3.11/site-packages (from yfinance) (2.2.3)\n",
      "Requirement already satisfied: numpy>=1.16.5 in /opt/conda/lib/python3.11/site-packages (from yfinance) (2.2.1)\n",
      "Requirement already satisfied: requests>=2.31 in /opt/conda/lib/python3.11/site-packages (from yfinance) (2.31.0)\n",
      "Requirement already satisfied: multitasking>=0.0.7 in /opt/conda/lib/python3.11/site-packages (from yfinance) (0.0.11)\n",
      "Requirement already satisfied: lxml>=4.9.1 in /opt/conda/lib/python3.11/site-packages (from yfinance) (5.3.0)\n",
      "Requirement already satisfied: platformdirs>=2.0.0 in /opt/conda/lib/python3.11/site-packages (from yfinance) (4.2.1)\n",
      "Requirement already satisfied: pytz>=2022.5 in /opt/conda/lib/python3.11/site-packages (from yfinance) (2024.1)\n",
      "Requirement already satisfied: frozendict>=2.3.4 in /opt/conda/lib/python3.11/site-packages (from yfinance) (2.4.6)\n",
      "Requirement already satisfied: peewee>=3.16.2 in /opt/conda/lib/python3.11/site-packages (from yfinance) (3.17.8)\n",
      "Requirement already satisfied: beautifulsoup4>=4.11.1 in /opt/conda/lib/python3.11/site-packages (from yfinance) (4.12.3)\n",
      "Requirement already satisfied: html5lib>=1.1 in /opt/conda/lib/python3.11/site-packages (from yfinance) (1.1)\n",
      "Requirement already satisfied: soupsieve>1.2 in /opt/conda/lib/python3.11/site-packages (from beautifulsoup4>=4.11.1->yfinance) (2.5)\n",
      "Requirement already satisfied: six>=1.9 in /opt/conda/lib/python3.11/site-packages (from html5lib>=1.1->yfinance) (1.16.0)\n",
      "Requirement already satisfied: webencodings in /opt/conda/lib/python3.11/site-packages (from html5lib>=1.1->yfinance) (0.5.1)\n",
      "Requirement already satisfied: python-dateutil>=2.8.2 in /opt/conda/lib/python3.11/site-packages (from pandas>=1.3.0->yfinance) (2.9.0)\n",
      "Requirement already satisfied: tzdata>=2022.7 in /opt/conda/lib/python3.11/site-packages (from pandas>=1.3.0->yfinance) (2024.2)\n",
      "Requirement already satisfied: charset-normalizer<4,>=2 in /opt/conda/lib/python3.11/site-packages (from requests>=2.31->yfinance) (3.3.2)\n",
      "Requirement already satisfied: idna<4,>=2.5 in /opt/conda/lib/python3.11/site-packages (from requests>=2.31->yfinance) (3.7)\n",
      "Requirement already satisfied: urllib3<3,>=1.21.1 in /opt/conda/lib/python3.11/site-packages (from requests>=2.31->yfinance) (2.2.1)\n",
      "Requirement already satisfied: certifi>=2017.4.17 in /opt/conda/lib/python3.11/site-packages (from requests>=2.31->yfinance) (2024.12.14)\n",
      "Requirement already satisfied: bs4 in /opt/conda/lib/python3.11/site-packages (0.0.2)\n",
      "Requirement already satisfied: beautifulsoup4 in /opt/conda/lib/python3.11/site-packages (from bs4) (4.12.3)\n",
      "Requirement already satisfied: soupsieve>1.2 in /opt/conda/lib/python3.11/site-packages (from beautifulsoup4->bs4) (2.5)\n",
      "Requirement already satisfied: nbformat in /opt/conda/lib/python3.11/site-packages (5.10.4)\n",
      "Requirement already satisfied: fastjsonschema>=2.15 in /opt/conda/lib/python3.11/site-packages (from nbformat) (2.19.1)\n",
      "Requirement already satisfied: jsonschema>=2.6 in /opt/conda/lib/python3.11/site-packages (from nbformat) (4.22.0)\n",
      "Requirement already satisfied: jupyter-core!=5.0.*,>=4.12 in /opt/conda/lib/python3.11/site-packages (from nbformat) (5.7.2)\n",
      "Requirement already satisfied: traitlets>=5.1 in /opt/conda/lib/python3.11/site-packages (from nbformat) (5.14.3)\n",
      "Requirement already satisfied: attrs>=22.2.0 in /opt/conda/lib/python3.11/site-packages (from jsonschema>=2.6->nbformat) (23.2.0)\n",
      "Requirement already satisfied: jsonschema-specifications>=2023.03.6 in /opt/conda/lib/python3.11/site-packages (from jsonschema>=2.6->nbformat) (2023.12.1)\n",
      "Requirement already satisfied: referencing>=0.28.4 in /opt/conda/lib/python3.11/site-packages (from jsonschema>=2.6->nbformat) (0.35.1)\n",
      "Requirement already satisfied: rpds-py>=0.7.1 in /opt/conda/lib/python3.11/site-packages (from jsonschema>=2.6->nbformat) (0.18.0)\n",
      "Requirement already satisfied: platformdirs>=2.5 in /opt/conda/lib/python3.11/site-packages (from jupyter-core!=5.0.*,>=4.12->nbformat) (4.2.1)\n"
     ]
    }
   ],
   "source": [
    "!pip install yfinance\n",
    "!pip install bs4\n",
    "!pip install nbformat"
   ]
  },
  {
   "cell_type": "code",
   "execution_count": 89,
   "metadata": {},
   "outputs": [],
   "source": [
    "import yfinance as yf\n",
    "import pandas as pd\n",
    "import requests\n",
    "from bs4 import BeautifulSoup\n",
    "import plotly.graph_objects as go\n",
    "from plotly.subplots import make_subplots"
   ]
  },
  {
   "cell_type": "markdown",
   "metadata": {},
   "source": [
    "In Python, you can ignore warnings using the warnings module. You can use the filterwarnings function to filter or ignore specific warning messages or categories.\n"
   ]
  },
  {
   "cell_type": "code",
   "execution_count": 4,
   "metadata": {},
   "outputs": [],
   "source": [
    "import warnings\n",
    "# Ignore all warnings\n",
    "warnings.filterwarnings(\"ignore\", category=FutureWarning)"
   ]
  },
  {
   "cell_type": "markdown",
   "metadata": {},
   "source": [
    "## Define Graphing Function\n"
   ]
  },
  {
   "cell_type": "markdown",
   "metadata": {},
   "source": [
    "In this section, we define the function `make_graph`. **You don't have to know how the function works, you should only care about the inputs. It takes a dataframe with stock data (dataframe must contain Date and Close columns), a dataframe with revenue data (dataframe must contain Date and Revenue columns), and the name of the stock.**\n"
   ]
  },
  {
   "cell_type": "code",
   "execution_count": 48,
   "metadata": {},
   "outputs": [],
   "source": [
    "def make_graph(stock_data, revenue_data, stock):\n",
    "    fig = make_subplots(rows=2, cols=1, shared_xaxes=True, subplot_titles=(\"Historical Share Price\", \"Historical Revenue\"), vertical_spacing = .3)\n",
    "    stock_data_specific = stock_data[stock_data.Date <= '2021-06-14']\n",
    "    revenue_data_specific = revenue_data[revenue_data.Date <= '2021-04-30']\n",
    "    fig.add_trace(go.Scatter(x=pd.to_datetime(stock_data_specific.Date, infer_datetime_format=True), y=stock_data_specific.Close.astype(\"float\"), name=\"Share Price\"), row=1, col=1)\n",
    "    fig.add_trace(go.Scatter(x=pd.to_datetime(revenue_data_specific.Date, infer_datetime_format=True), y=revenue_data_specific.Revenue.astype(\"float\"), name=\"Revenue\"), row=2, col=1)\n",
    "    fig.update_xaxes(title_text=\"Date\", row=1, col=1)\n",
    "    fig.update_xaxes(title_text=\"Date\", row=2, col=1)\n",
    "    fig.update_yaxes(title_text=\"Price ($US)\", row=1, col=1)\n",
    "    fig.update_yaxes(title_text=\"Revenue ($US Millions)\", row=2, col=1)\n",
    "    fig.update_layout(showlegend=False,\n",
    "    height=900,\n",
    "    title=stock,\n",
    "    xaxis_rangeslider_visible=True)\n",
    "    fig.show()"
   ]
  },
  {
   "cell_type": "markdown",
   "metadata": {},
   "source": [
    "Use the make_graph function that we’ve already defined. You’ll need to invoke it in questions 5 and 6 to display the graphs and create the dashboard. \n",
    "> **Note: You don’t need to redefine the function for plotting graphs anywhere else in this notebook; just use the existing function.**\n"
   ]
  },
  {
   "cell_type": "markdown",
   "metadata": {},
   "source": [
    "## Question 1: Use yfinance to Extract Stock Data\n"
   ]
  },
  {
   "cell_type": "markdown",
   "metadata": {},
   "source": [
    "Using the `Ticker` function enter the ticker symbol of the stock we want to extract data on to create a ticker object. The stock is Tesla and its ticker symbol is `TSLA`.\n"
   ]
  },
  {
   "cell_type": "code",
   "execution_count": 49,
   "metadata": {},
   "outputs": [],
   "source": [
    "tsla=yf.Ticker(\"TSLA\")"
   ]
  },
  {
   "cell_type": "markdown",
   "metadata": {},
   "source": [
    "Using the ticker object and the function `history` extract stock information and save it in a dataframe named `tesla_data`. Set the `period` parameter to ` \"max\" ` so we get information for the maximum amount of time.\n"
   ]
  },
  {
   "cell_type": "code",
   "execution_count": 50,
   "metadata": {},
   "outputs": [],
   "source": [
    "tesla_data=tsla.history(period=\"max\")"
   ]
  },
  {
   "cell_type": "markdown",
   "metadata": {},
   "source": [
    "**Reset the index** using the `reset_index(inplace=True)` function on the tesla_data DataFrame and display the first five rows of the `tesla_data` dataframe using the `head` function. Take a screenshot of the results and code from the beginning of Question 1 to the results below.\n"
   ]
  },
  {
   "cell_type": "code",
   "execution_count": 51,
   "metadata": {},
   "outputs": [],
   "source": [
    "tesla_data.reset_index(inplace=True)"
   ]
  },
  {
   "cell_type": "code",
   "execution_count": 52,
   "metadata": {},
   "outputs": [
    {
     "data": {
      "text/html": [
       "<div>\n",
       "<style scoped>\n",
       "    .dataframe tbody tr th:only-of-type {\n",
       "        vertical-align: middle;\n",
       "    }\n",
       "\n",
       "    .dataframe tbody tr th {\n",
       "        vertical-align: top;\n",
       "    }\n",
       "\n",
       "    .dataframe thead th {\n",
       "        text-align: right;\n",
       "    }\n",
       "</style>\n",
       "<table border=\"1\" class=\"dataframe\">\n",
       "  <thead>\n",
       "    <tr style=\"text-align: right;\">\n",
       "      <th></th>\n",
       "      <th>Date</th>\n",
       "      <th>Open</th>\n",
       "      <th>High</th>\n",
       "      <th>Low</th>\n",
       "      <th>Close</th>\n",
       "      <th>Volume</th>\n",
       "      <th>Dividends</th>\n",
       "      <th>Stock Splits</th>\n",
       "    </tr>\n",
       "  </thead>\n",
       "  <tbody>\n",
       "    <tr>\n",
       "      <th>0</th>\n",
       "      <td>2010-06-29 00:00:00-04:00</td>\n",
       "      <td>1.266667</td>\n",
       "      <td>1.666667</td>\n",
       "      <td>1.169333</td>\n",
       "      <td>1.592667</td>\n",
       "      <td>281494500</td>\n",
       "      <td>0.0</td>\n",
       "      <td>0.0</td>\n",
       "    </tr>\n",
       "    <tr>\n",
       "      <th>1</th>\n",
       "      <td>2010-06-30 00:00:00-04:00</td>\n",
       "      <td>1.719333</td>\n",
       "      <td>2.028000</td>\n",
       "      <td>1.553333</td>\n",
       "      <td>1.588667</td>\n",
       "      <td>257806500</td>\n",
       "      <td>0.0</td>\n",
       "      <td>0.0</td>\n",
       "    </tr>\n",
       "    <tr>\n",
       "      <th>2</th>\n",
       "      <td>2010-07-01 00:00:00-04:00</td>\n",
       "      <td>1.666667</td>\n",
       "      <td>1.728000</td>\n",
       "      <td>1.351333</td>\n",
       "      <td>1.464000</td>\n",
       "      <td>123282000</td>\n",
       "      <td>0.0</td>\n",
       "      <td>0.0</td>\n",
       "    </tr>\n",
       "    <tr>\n",
       "      <th>3</th>\n",
       "      <td>2010-07-02 00:00:00-04:00</td>\n",
       "      <td>1.533333</td>\n",
       "      <td>1.540000</td>\n",
       "      <td>1.247333</td>\n",
       "      <td>1.280000</td>\n",
       "      <td>77097000</td>\n",
       "      <td>0.0</td>\n",
       "      <td>0.0</td>\n",
       "    </tr>\n",
       "    <tr>\n",
       "      <th>4</th>\n",
       "      <td>2010-07-06 00:00:00-04:00</td>\n",
       "      <td>1.333333</td>\n",
       "      <td>1.333333</td>\n",
       "      <td>1.055333</td>\n",
       "      <td>1.074000</td>\n",
       "      <td>103003500</td>\n",
       "      <td>0.0</td>\n",
       "      <td>0.0</td>\n",
       "    </tr>\n",
       "  </tbody>\n",
       "</table>\n",
       "</div>"
      ],
      "text/plain": [
       "                       Date      Open      High       Low     Close  \\\n",
       "0 2010-06-29 00:00:00-04:00  1.266667  1.666667  1.169333  1.592667   \n",
       "1 2010-06-30 00:00:00-04:00  1.719333  2.028000  1.553333  1.588667   \n",
       "2 2010-07-01 00:00:00-04:00  1.666667  1.728000  1.351333  1.464000   \n",
       "3 2010-07-02 00:00:00-04:00  1.533333  1.540000  1.247333  1.280000   \n",
       "4 2010-07-06 00:00:00-04:00  1.333333  1.333333  1.055333  1.074000   \n",
       "\n",
       "      Volume  Dividends  Stock Splits  \n",
       "0  281494500        0.0           0.0  \n",
       "1  257806500        0.0           0.0  \n",
       "2  123282000        0.0           0.0  \n",
       "3   77097000        0.0           0.0  \n",
       "4  103003500        0.0           0.0  "
      ]
     },
     "execution_count": 52,
     "metadata": {},
     "output_type": "execute_result"
    }
   ],
   "source": [
    "tesla_data.head()"
   ]
  },
  {
   "cell_type": "markdown",
   "metadata": {},
   "source": [
    "## Question 2: Use Webscraping to Extract Tesla Revenue Data\n"
   ]
  },
  {
   "cell_type": "markdown",
   "metadata": {},
   "source": [
    "Use the `requests` library to download the webpage https://cf-courses-data.s3.us.cloud-object-storage.appdomain.cloud/IBMDeveloperSkillsNetwork-PY0220EN-SkillsNetwork/labs/project/revenue.htm Save the text of the response as a variable named `html_data`.\n"
   ]
  },
  {
   "cell_type": "code",
   "execution_count": 90,
   "metadata": {
    "collapsed": true,
    "jupyter": {
     "outputs_hidden": true
    }
   },
   "outputs": [
    {
     "name": "stdout",
     "output_type": "stream",
     "text": [
      "\n",
      "<!DOCTYPE html>\n",
      "<!--[if lt IE 7]>      <html class=\"no-js lt-ie9 lt-ie8 lt-ie7\"> <![endif]-->\n",
      "<!--[if IE 7]>         <html class=\"no-js lt-ie9 lt-ie8\"> <![endif]-->\n",
      "<!--[if IE 8]>         <html class=\"no-js lt-ie9\"> <![endif]-->\n",
      "<!--[if gt IE 8]><!--> <html class=\"no-js\"> <!--<![endif]-->\n",
      "    <head>\n",
      "        <meta charset=\"utf-8\">\n",
      "        <meta http-equiv=\"X-UA-Compatible\" content=\"IE=edge,chrome=1\">\n",
      "\t\t<link rel=\"canonical\" href=\"https://www.macrotrends.net/stocks/charts/TSLA/tesla/revenue\" />\n",
      "\t\t<title>Tesla Revenue 2010-2022 | TSLA | MacroTrends</title>\n",
      "\t\t<meta name=\"description\" content=\"Tesla annual/quarterly revenue history and growth rate from 2010 to 2022. Revenue can be defined as the amount of money a company receives from its customers in exchange for the sales of goods or services.  Revenue is the top line item on an income statement from which all costs and expenses are subtracted to arrive at net income.    \n",
      "\t\t\t\t\n",
      "\t\t\t\t&lt;ul style='margin-top:10px;'&gt;\n",
      "\t\t\t\t&lt;li&gt;Tesla revenue for the quarter ending September 30, 2022 was &lt;strong&gt;$21.454B&lt;/strong&gt;, a &lt;strong&gt;55.95% increase&lt;/strong&gt; year-over-year.&lt;/li&gt;\n",
      "\t\t\t\t&lt;li&gt;Tesla revenue for the twelve months ending September 30, 2022 was &lt;strong&gt;$74.863B&lt;/strong&gt;, a &lt;strong&gt;59.8% increase&lt;/strong&gt; year-over-year.&lt;/li&gt;\n",
      "\t\t\t\t&lt;li&gt;Tesla annual revenue for 2021 was &lt;strong&gt;$53.823B&lt;/strong&gt;, a &lt;strong&gt;70.67% increase&lt;/strong&gt; from 2020.&lt;/li&gt;\n",
      "\t\t\t\t&lt;li&gt;Tesla annual revenue for 2020 was &lt;strong&gt;$31.536B&lt;/strong&gt;, a &lt;strong&gt;28.31% increase&lt;/strong&gt; from 2019.&lt;/li&gt;\n",
      "\t\t\t\t&lt;li&gt;Tesla annual revenue for 2019 was &lt;strong&gt;$24.578B&lt;/strong&gt;, a &lt;strong&gt;14.52% increase&lt;/strong&gt; from 2018.&lt;/li&gt;\n",
      "\t\t\t\t&lt;/ul&gt;\" />\n",
      "\t\t<meta name=\"robots\" content=\"\" />\n",
      "\t\t\t\t\n",
      "\t\t<link rel=\"shortcut icon\" href=\"/assets/images/icons/FAVICON/macro-trends_favicon.ico\" type=\"image/x-icon\">\n",
      "\n",
      "\t\t<meta name=\"msvalidate.01\" content=\"1228954C688F5907894001CD8E5E624B\" />\n",
      "\t\t<meta name=\"google-site-verification\" content=\"6MnD_3iDtAP1ZyoGK1YMyVIVck4r5Ws80I9xD3ue4_A\" />\n",
      "\n",
      "\t\t<!-- Load in Roboto Font -->\n",
      "\t\t<link rel='stylesheet' href='https://fonts.googleapis.com/css?family=Roboto:400,600,700'>\n",
      "\n",
      "\t\t<!-- Bootstrap -->\n",
      "\t\t<link rel=\"stylesheet\" href=\"//maxcdn.bootstrapcdn.com/bootstrap/3.3.7/css/bootstrap.min.css\"> <!--for Bootstrap CDN version-->\n",
      "\t\t<link rel=\"stylesheet\" href=\"//maxcdn.bootstrapcdn.com/bootstrap/3.3.7/css/bootstrap-theme.min.css\">\n",
      "\n",
      "\t\t<!-- Font Awesome -->\n",
      "\t\t<link rel=\"stylesheet\" href=\"//stackpath.bootstrapcdn.com/font-awesome/4.7.0/css/font-awesome.min.css\"> <!--for Font Awesome CDN version-->\n",
      "    \t\t\n",
      "\t\t<!-- Jquery, Bootstrap and Menu Javascript -->\t\n",
      "\t\t<script src=\"//code.jquery.com/jquery-1.12.4.min.js\" integrity=\"sha256-ZosEbRLbNQzLpnKIkEdrPv7lOy9C27hHQ+Xp8a4MxAQ=\" crossorigin=\"anonymous\"></script>\n",
      "\t\t<script src=\"//maxcdn.bootstrapcdn.com/bootstrap/3.3.7/js/bootstrap.min.js\"></script>\n",
      "\t\t\t\t\n",
      "\t\t<!-- Modernizr for cross-browser support -->\t\t\n",
      "\t\t<script type=\"text/javascript\" src=\"/assets/javascript/modernizr-2.6.2-respond-1.1.0.min.js\"></script>\n",
      "\n",
      "\t\t<!-- Latest compiled and minified CSS -->\n",
      "\t\t<link rel=\"stylesheet\" href=\"//www.fuelcdn.com/fuelux/3.13.0/css/fuelux.min.css\">\n",
      "\n",
      "\t\t<!-- Latest compiled and minified JavaScript -->\n",
      "\t\t<script src=\"//www.fuelcdn.com/fuelux/3.13.0/js/fuelux.min.js\"></script>\n",
      "\t\t\n",
      "\t\t\n",
      "\t\t <!-- Twitter Card data -->\n",
      "\t\t  <meta name=\"twitter:card\" content=\"summary_large_image\">\n",
      "\t\t  <meta name=\"twitter:site\" content=\"@tmacrotrends\">\n",
      "\t\t  <meta name=\"twitter:title\" content=\"Tesla Revenue 2010-2022 | TSLA\">\n",
      "\t\t  <meta name=\"twitter:description\" content=\"Tesla annual/quarterly revenue history and growth rate from 2010 to 2022. Revenue can be defined as the amount of money a company receives from its customers in exchange for the sales of goods or services.  Revenue is the top line item on an income statement from which all costs and expenses are subtracted to arrive at net income.    \n",
      "\t\t\t\t\n",
      "\t\t\t\t<ul style='margin-top:10px;'>\n",
      "\t\t\t\t<li>Tesla revenue for the quarter ending September 30, 2022 was <strong>$21.454B</strong>, a <strong>55.95% increase</strong> year-over-year.</li>\n",
      "\t\t\t\t<li>Tesla revenue for the twelve months ending September 30, 2022 was <strong>$74.863B</strong>, a <strong>59.8% increase</strong> year-over-year.</li>\n",
      "\t\t\t\t<li>Tesla annual revenue for 2021 was <strong>$53.823B</strong>, a <strong>70.67% increase</strong> from 2020.</li>\n",
      "\t\t\t\t<li>Tesla annual revenue for 2020 was <strong>$31.536B</strong>, a <strong>28.31% increase</strong> from 2019.</li>\n",
      "\t\t\t\t<li>Tesla annual revenue for 2019 was <strong>$24.578B</strong>, a <strong>14.52% increase</strong> from 2018.</li>\n",
      "\t\t\t\t</ul>\">\n",
      "\n",
      "\t\t  <!-- Open Graph data -->\n",
      "\t\t  <meta property=\"og:url\" content=\"https://www.macrotrends.net/stocks/charts/TSLA/tesla/revenue\" />  \n",
      "\t\t  <meta property=\"og:title\" content=\"Tesla Revenue 2010-2022 | TSLA\" />\n",
      "\t\t  <meta property=\"og:description\" content=\"Tesla annual/quarterly revenue history and growth rate from 2010 to 2022. Revenue can be defined as the amount of money a company receives from its customers in exchange for the sales of goods or services.  Revenue is the top line item on an income statement from which all costs and expenses are subtracted to arrive at net income.    \n",
      "\t\t\t\t\n",
      "\t\t\t\t<ul style='margin-top:10px;'>\n",
      "\t\t\t\t<li>Tesla revenue for the quarter ending September 30, 2022 was <strong>$21.454B</strong>, a <strong>55.95% increase</strong> year-over-year.</li>\n",
      "\t\t\t\t<li>Tesla revenue for the twelve months ending September 30, 2022 was <strong>$74.863B</strong>, a <strong>59.8% increase</strong> year-over-year.</li>\n",
      "\t\t\t\t<li>Tesla annual revenue for 2021 was <strong>$53.823B</strong>, a <strong>70.67% increase</strong> from 2020.</li>\n",
      "\t\t\t\t<li>Tesla annual revenue for 2020 was <strong>$31.536B</strong>, a <strong>28.31% increase</strong> from 2019.</li>\n",
      "\t\t\t\t<li>Tesla annual revenue for 2019 was <strong>$24.578B</strong>, a <strong>14.52% increase</strong> from 2018.</li>\n",
      "\t\t\t\t</ul>\" />\n",
      "\n",
      "\t\t<!-- JQXGRID STYLES AND JAVASCRIPT -->\n",
      "\t\t<link rel=\"stylesheet\" href=\"/assets/php/jqfiles/jqwidgets/styles/jqx.base.css\" type=\"text/css\" />\n",
      "\t\t<link rel=\"stylesheet\" href=\"/assets/php/jqfiles/jqwidgets/styles/jqx.bootstrap.css\" type=\"text/css\" />\n",
      "\n",
      "\t\t<!-- LOAD THESE SCRIPTS EARLY SO THE TICKER INPUT FIELD IS STYLED INSTANTLY -->\n",
      "\t\t<script type=\"text/javascript\" src=\"/assets/php/jqfiles/jqwidgets/jqxcore.js\"></script>\n",
      "\t\t<script type=\"text/javascript\" src=\"/assets/php/jqfiles/jqwidgets/jqxdata.js\"></script> \n",
      "\t\t<script type=\"text/javascript\" src=\"/assets/php/jqfiles/jqwidgets/jqxinput.js\"></script> \n",
      "\n",
      "\t\t<!-- Styling for search box -->\t\n",
      "\t\t<link rel=\"stylesheet\" type=\"text/css\" href=\"/assets/php/jquery-typeahead/jquery.typeahead_pages.css\">\n",
      "\n",
      "\t\t<!-- Search box javascript -->\n",
      "\t\t<script src=\"/assets/php/jquery-typeahead/jquery.typeahead.min.js\"></script>\n",
      "\t\t\n",
      "\n",
      "\t\t<link href=\"//cdnjs.cloudflare.com/ajax/libs/select2/4.0.3/css/select2.min.css\" rel=\"stylesheet\" />\n",
      "\t\t<script src=\"//cdnjs.cloudflare.com/ajax/libs/select2/4.0.3/js/select2.min.js\"></script>\n",
      "\t\n",
      "\t<!-- ToolTips -->\t\n",
      "\t\t<script src=\"/assets/php/tipped-4.6.1/js/tipped/tipped.js\"></script>\n",
      "\t\t<link rel=\"stylesheet\" href=\"/assets/php/tipped-4.6.1/css/tipped/tipped.css\">\n",
      "\t\t\n",
      "\t\t\t\n",
      "\t\t<!-- START IC AD INSERT -->\n",
      "\t\t\n",
      "    <script>InvestingChannelQueue = window.InvestingChannelQueue || [];</script>\n",
      "\n",
      "\t<script async src=\"https://u5.investingchannel.com/static/uat.js\"></script>\n",
      "\n",
      "    <script type=\"text/javascript\">\n",
      "    \n",
      "        //Push Run command with the API-Key, so that UAT will start processing publishers request.\n",
      "        InvestingChannelQueue.push(function() {\n",
      "            ic_page = InvestingChannel.UAT.Run(\"df17ac1e-cc7f-11e8-82a5-0abbb61c4a6a\");        \n",
      "        });\n",
      "\t\t\n",
      "\t\tvar tickerValue = 'TSLA';\t\t\t\n",
      "        var oopDivTag;\n",
      "\t\tvar subLeaderboardTag;\n",
      "\t\tvar rightSidebarTag1;\n",
      "\t\tvar rightSidebarTag2;\n",
      "\t\tvar searchButtonTag;\n",
      "\t\tvar partner_center_tag;\n",
      "\t\tvar videoTag;\n",
      "\t\tvar ic_3x7_1;\n",
      " \t\t//var IC_D_300x250_BCC;\n",
      "\t\t//var IC_D_3x7_BCC;\n",
      "   \n",
      "        //To define new tags/out of page tags.\n",
      "        InvestingChannelQueue.push(function() {\n",
      "\t\t\t\n",
      "\t\t\tic_page.setKval({'t': tickerValue});\n",
      "\t\t\t\n",
      "            //videoTag = ic_page.defineNativeTag(\"Macrotrends/fundamentalanalysis\",\"3x6, 728x90, Fluid\",\"IC_D_3x6\",35);\n",
      "\t\t\t\n",
      "            oopDivTag = ic_page.defineOutOfPageTag(\"Macrotrends/fundamentalanalysis\",\"oopDivTag_1\");\n",
      "\t\t\toopDivTag.setKval({\"adslot\":\"IC_OOP_1\"});\n",
      "            \n",
      "\t\t\t\n",
      "\t\t\tLeaderboardTag = ic_page.defineTag(\"Macrotrends/fundamentalanalysis\",\"970x250,728x90,970x90,fluid\", \"IC_D_970x250_1\");\n",
      "\t\t\tLeaderboardTag.setKval({\"adslot\":\"IC_D_970x250_1\"});\n",
      "\n",
      "\n",
      "\t\t\tsubLeaderboardTag = ic_page.defineTag(\"Macrotrends/fundamentalanalysis\",\"728x90\",\"ic_728x90_1\");\n",
      "\t\t\tsubLeaderboardTag.setKval({\"adslot\":\"IC_728x90_1\"});\n",
      "\t\t\t\n",
      "\t\t\t\n",
      "\t\t\trightSidebarTag1 = ic_page.defineTag(\"Macrotrends/fundamentalanalysis\",\"300x250,Fluid\",\"ic_300x250_1\");\n",
      "\t\t\trightSidebarTag1.setKval({\"adslot\":\"IC_300x250_1\"});\n",
      "\t\t\t\n",
      "\t\t\t\n",
      "\t\t\trightSidebarTag2 = ic_page.defineTag(\"Macrotrends/fundamentalanalysis\",\"300x600,300x250,160x600,300x1050,Fluid\",\"ic_300x600_1\");\n",
      "\t\t\trightSidebarTag2.setKval({\"adslot\":\"IC_300x600_1\"});\n",
      "\t\t\t\n",
      "\t\t\t\n",
      "\t\t\tsearchButtonTag = ic_page.defineTag(\"Macrotrends/fundamentalanalysis\",\"88x31\",\"ic_88x31_1\");\n",
      "\t\t\tsearchButtonTag.setKval({\"pc\":\"pc\",\"adslot\":\"IC_88x31\"});\n",
      "\t\t\t\n",
      "\t\t\tpartner_center_tag = ic_page.defineTag(\"macrotrends/fundamentalanalysis\",\"728x214, 728x90\",\"IC_728x214_1\");\n",
      "\t\t\tpartner_center_tag.setKval({\"pc\":\"pc\",\"adslot\":\"d_728x90_2\"});\n",
      "\n",
      "\t\t\tic_3x7_1 = ic_page.defineNativeTag(\"macrotrends/fundamentalanalysis\",\"3x7,728x90,Fluid\",\"IC_3x7_1\", 35);\n",
      "\t\t\t\n",
      "\t\t\t//IC_D_300x250_BCC = ic_page.defineTag(adCategory,\"300x250,Fluid\",\"IC_D_300x250_BCC\");\n",
      "\t\t\t//IC_D_300x250_BCC.setKval({\"adslot\":\"IC_D_300x250_BCC\"});\n",
      "\n",
      "\t\t\t//IC_D_3x7_BCC = ic_page.defineTag(adCategory,\"3x7, Fluid\",\"IC_D_3x7_BCC\");\n",
      "\t\t\t//IC_D_3x7_BCC.setKval({\"adslot\":\"IC_D_3x7_BCC\"});\n",
      "\t\t\t\n",
      "\n",
      "        });\n",
      "    \n",
      "        //To render tags.\n",
      "\t\t\tInvestingChannelQueue.push(function() {\n",
      "            ic_page.renderTags();\n",
      "        });\n",
      "        \n",
      "    </script>\n",
      "\n",
      "\t\t<!-- END IC AD INSERT -->\n",
      "\t\t\n",
      "\n",
      "\t\t<!-- Global site tag (gtag.js) - Google Analytics -->\n",
      "\t\t<script async src=\"https://www.googletagmanager.com/gtag/js?id=UA-62099500-1\"></script>\n",
      "\t\t<script>\n",
      "\t\t  window.dataLayer = window.dataLayer || [];\n",
      "\t\t  function gtag(){dataLayer.push(arguments);}\n",
      "\t\t  gtag('js', new Date());\n",
      "\n",
      "\t\t  gtag('config', 'UA-62099500-1');\n",
      "\t\t</script>\n",
      "\t\t\n",
      "\t\t<!-- Google tag (gtag.js) -->\n",
      "\t\t<script async src=\"https://www.googletagmanager.com/gtag/js?id=G-3KL0LYERBH\"></script>\n",
      "\t\t<script>\n",
      "\t\t  window.dataLayer = window.dataLayer || [];\n",
      "\t\t  function gtag(){dataLayer.push(arguments);}\n",
      "\t\t  gtag('js', new Date());\n",
      "\n",
      "\t\t  gtag('config', 'G-3KL0LYERBH');\n",
      "\t\t</script>\t\n",
      "\n",
      "\n",
      "\t\t<!--<script>\n",
      "\t\t\t(function(i,s,o,g,r,a,m){i['GoogleAnalyticsObject']=r;i[r]=i[r]||function(){\n",
      "\t\t\t(i[r].q=i[r].q||[]).push(arguments)},i[r].l=1*new Date();a=s.createElement(o),\n",
      "\t\t\tm=s.getElementsByTagName(o)[0];a.async=1;a.src=g;m.parentNode.insertBefore(a,m)\n",
      "\t\t\t})(window,document,'script','//www.google-analytics.com/analytics.js','ga');\n",
      "\n",
      "\t\t\tga('create', 'UA-62099500-1', 'auto');\n",
      "\t\t\tga('send', 'pageview');\n",
      "\t\t\t\n",
      "\t\t\t\n",
      "\t\t\t\n",
      "\t\t   \n",
      "\t\t\t//Send one event to GA at 30 seconds to control bounce rate\n",
      "\t\t\tsetTimeout(\"ga('send','event','Engaged User','30 Second Engagement')\",30000); \n",
      "\n",
      "\n",
      "\t\t  //This code sends events to ga every 30 seconds when the window is in focus\n",
      "\t\t\tvar count = 0;\n",
      "\t\t\tvar myInterval;\n",
      "\t\t\t\t\t\n",
      "\t\t\t// Active\n",
      "\t\t\twindow.addEventListener('load', startTimer);\n",
      "\t\t\twindow.addEventListener('focus', startTimer);\n",
      "\n",
      "\t\t\t// Inactive\n",
      "\t\t\twindow.addEventListener('blur', stopTimer);\n",
      "\n",
      "\t\t\tfunction timerHandler() {\n",
      "\t\t\t\tcount++;\n",
      "\t\t\t\t\n",
      "\t\t\t\tif(count % 60 == 0 && count <= 1800) {\n",
      "\t\t\t\t\t\n",
      "\t\t\t\t\tvar interval = (count/60);\n",
      "\t\t\t\t\tinterval = interval.toFixed(0);\n",
      "\t\t\t\t\t\n",
      "\t\t\t\t\tvar action = interval + \" Minute Engagement\";\n",
      "\t\t\t\t\t\n",
      "\t\t\t\t\tga('send','event','Engaged User',action);\n",
      "\n",
      "\t\t\t\t\t\n",
      "\t\t\t\t}\n",
      "\t\t\t\n",
      "\t\t\t}\n",
      "\n",
      "\t\t\t// Start timer\n",
      "\t\t\tfunction startTimer() {\n",
      "\t\t\tmyInterval = window.setInterval(timerHandler, 1000);\n",
      "\t\t\t}\n",
      "\n",
      "\t\t\t// Stop timer\n",
      "\t\t\tfunction stopTimer() {\n",
      "\t\t\twindow.clearInterval(myInterval);\n",
      "\t\t\t}\n",
      "\t\t\t\n",
      "\t\t\t\n",
      "\n",
      "\t\t</script>-->\n",
      "\t\t\n",
      "<style> \n",
      "\n",
      "#style-1::-webkit-scrollbar-track\n",
      "{\n",
      "\t-webkit-box-shadow: inset 0 0 6px rgba(0,0,0,0.3);\n",
      "\tborder-radius: 3px;\n",
      "\tbackground-color: #F5F5F5;\n",
      "}\n",
      "\n",
      "#style-1::-webkit-scrollbar\n",
      "{\n",
      "\twidth: 18px;\n",
      "\tbackground-color: #F5F5F5;\n",
      "}\n",
      "\n",
      "#style-1::-webkit-scrollbar-thumb\n",
      "{\n",
      "\tborder-radius: 3px;\n",
      "\t-webkit-box-shadow: inset 0 0 6px rgba(0,0,0,.3);\n",
      "\tbackground-color: #5B9BD5;\n",
      "}\n",
      "\n",
      "html {\n",
      "\twidth:100%;\n",
      "\tposition: relative;\n",
      "\tmin-height: 100%;\n",
      "}\n",
      "\n",
      "body {\n",
      "\t\n",
      "\twidth:100%;\n",
      "\n",
      "\t/* Margin bottom by footer height */\n",
      "\t  margin-bottom: 80px;\n",
      "\t  color: #444;\n",
      "\t  background-color:#fff;\n",
      "\t  font-family: 'Roboto', sans-serif;\n",
      "\t  font-size:14px;\n",
      "}\n",
      "\n",
      "\n",
      "\n",
      "\n",
      "\n",
      ".header_content_container {\n",
      "\t\n",
      "\tmin-width: 1280px;\n",
      "\tpadding: 0px;\n",
      "}\n",
      "\n",
      ".main_content_container {\n",
      "\t\n",
      "\tmin-width: 1280px;\n",
      "\tmax-width: 1280px;\n",
      "\tpadding: 0px 30px 100px 30px;\n",
      "\t\n",
      "}\n",
      "\n",
      ".sub_main_content_container {\n",
      "\t\n",
      "\t\n",
      "}\n",
      "\n",
      "\n",
      "\n",
      "#main_content {\n",
      "\t\n",
      "\tpadding:0px 20px 0px 0px;\n",
      "\twidth:826px;\n",
      "    float:left;\n",
      "\t\n",
      "}\n",
      "\n",
      "#right_sidebar {\n",
      "\t\n",
      "  width: 300px;\n",
      "  float:left;\n",
      "  height:3200px;\n",
      "\t\n",
      "}\n",
      "\n",
      "#sticky_ad_left {\n",
      "\t\n",
      "  position: -webkit-sticky;\n",
      "  position: sticky;\n",
      "  top: 30px;\n",
      "\t\n",
      "\t\n",
      "}\n",
      "\n",
      "#sticky_ad_right {\n",
      "\t\n",
      "  position: -webkit-sticky;\n",
      "  position: sticky;\n",
      "  top: 30px;\n",
      "\t\n",
      "\t\n",
      "}\n",
      "\n",
      "\n",
      "\n",
      "\n",
      "\n",
      ".footer {\n",
      "  position: absolute;\n",
      "  bottom: 0;\n",
      "  width: 100%;\n",
      "  /* Set the fixed height of the footer here */\n",
      "  height: 100px;\n",
      "  margin-top: 10px;\t\n",
      "  padding: 30px 20px 20px 20px;\n",
      "  color:#fff !important;\n",
      "  background-color:#444;\n",
      "  text-align: center;\n",
      "  font-size:16px;\n",
      "}\n",
      "\n",
      ".footer a {\n",
      "  color:#fff !important;\n",
      "}\n",
      "\n",
      ".ticker_search_box {\n",
      "\t\n",
      "\tbackground-color:#F5F5F5;\n",
      "\tborder: 1px solid #E0E0E0;\n",
      "\tborder-bottom:none;\n",
      "\tpadding:10px 30px 10px 10px;\n",
      "\tmargin:0px 0px 0px 0px;\n",
      "\ttext-align:center;\n",
      "\t\n",
      "}\n",
      "\n",
      ".related_tickers {\n",
      "\t\n",
      "\twidth:100%;\n",
      "\tbackground-color:#F5F5F5;\n",
      "\tborder: 1px solid #E0E0E0;\n",
      "\tborder-top: 0px;\n",
      "\tpadding:3px 30px 3px 10px;\n",
      "\tmargin:0px 0px 0px 0px;\n",
      "\ttext-align:center;\n",
      "\t\n",
      "}\n",
      "\n",
      ".statement_type_select {\n",
      "\n",
      "\twidth:100%;\n",
      "\theight:28px;\n",
      "\t\n",
      "}\n",
      "\n",
      ".frequency_select {\n",
      "\n",
      "\twidth:100%;\n",
      "\theight:28px;\n",
      "\tfont-weight:600;\n",
      "\t\n",
      "}\n",
      "\n",
      "\n",
      ".select2 {\n",
      "\t\n",
      "\ttext-align:left;\n",
      "\tfont-weight:600;\n",
      "\t\n",
      "\t}\n",
      "\t\n",
      "#jqxInput {\n",
      "\n",
      "\t\twidth:100%;\n",
      "\t\theight:28px;\n",
      "\t\t\n",
      "}\n",
      "\n",
      "\n",
      "\n",
      ".header__parent_container {\n",
      "\n",
      "\twidth:100%;\n",
      "\theight:50px;\n",
      "\tpadding:15px 0px 10px -20px; \n",
      "\tmargin:0px 0px 0px 0px;\n",
      "\tbackground-color:#444;\n",
      "\n",
      "}\n",
      "\n",
      ".header_container {\n",
      "\n",
      "\twidth:100%;\n",
      "\theight:50px;\n",
      "\tpadding:15px 0px 10px -20px; \n",
      "\tmargin:0px 0px 0px 0px;\n",
      "\tbackground-color:#444;\n",
      "\n",
      "}\n",
      "\n",
      ".header_logo {\n",
      "\t\n",
      "\tpadding-top:10px;\n",
      "\tmargin-left:50px;\n",
      "\t\n",
      "}\n",
      "\n",
      ".menu_parent_container {\n",
      "\t\n",
      "\twidth:100%;\n",
      "\theight:34px;\n",
      "\tfont-size:16px;\n",
      "\tpadding:15px 0px 10px -20px; \n",
      "\tmargin:0px 0px 0px 0px;\n",
      "\tbackground-color:#0089de;\n",
      "}\n",
      "\n",
      ".menu_container {\n",
      "\t\n",
      "\twidth:1280px;\n",
      "\theight:34px;\n",
      "\tfont-size:16px;\n",
      "\tpadding:11px 0px 0px -20px; \n",
      "\tmargin: 0 auto;\n",
      "\tbackground-color:#0089de;\n",
      "\tz-index:1000;\n",
      "}\n",
      "\n",
      ".menu_item {\n",
      "\n",
      "\theight:34px;\n",
      "\tfloat:left;\n",
      "\tfont-size:14px;\n",
      "\tfont-weight:bold;\n",
      "\tcolor:#fff;\n",
      "\ttext-align:center;\n",
      "\tpadding:7px 16px 0px 16px;\t\n",
      "\n",
      "}\n",
      "\n",
      ".menu_item:hover\n",
      "{\n",
      "\tbackground-color:#32a0e4;\n",
      "\tcursor: pointer;\n",
      "}\n",
      "\n",
      ".menu_item a\n",
      "{\n",
      "\tcolor:#fff;\n",
      "\tcursor: pointer;\n",
      "}\n",
      "\n",
      ".menu_item a:hover\n",
      "{\n",
      "\ttext-decoration:none;\n",
      "\tcursor: pointer;\n",
      "}\n",
      "\n",
      ".leaderboard_ad {\n",
      "\n",
      "\tmargin-top:20px;\n",
      "\tmargin-bottom:20px;\n",
      "\ttext-align:center;\n",
      "\tmin-height:100px;\n",
      "\n",
      "}\n",
      "\n",
      "#filter_result_count {\n",
      "\t\n",
      "\twidth:100%;\n",
      "\ttext-align:center;\n",
      "\tfont-size:24px;\n",
      "\tfont-weight:bold;\n",
      "\tpadding:10px 15px;\n",
      "\tbackground-color:#efefef;\n",
      "\tborder: 1px solid #dfdfdf;\n",
      "\tmargin:20px;\n",
      "\t\n",
      "}\n",
      "\n",
      "\n",
      "select {\n",
      "  color: #444;\n",
      "  background-color: #FFF;\n",
      "  border: 1px solid #AAA;\n",
      "  border-radius: 4px;\n",
      "  box-sizing: border-box;\n",
      "  cursor: pointer;\n",
      "  display: block;\n",
      "  height:40px;\n",
      "  line-height: 40px;\n",
      "}\n",
      "\n",
      ".historical_data_table  {\n",
      "    table-layout: fixed;\n",
      "\tmargin:20px;\n",
      "}\n",
      "\n",
      ".historical_data_table tbody tr td {\n",
      "\t\n",
      "\tpadding:6px;\n",
      "\tvertical-align: middle !important;\n",
      "\n",
      "}\n",
      "\n",
      "\n",
      ".descriptors {\n",
      "\t\n",
      "\ttext-align:center;\n",
      "\tfont-size:14px;\n",
      "\tpadding:15px;\n",
      "\t\n",
      "}\n",
      "\n",
      ".td_metric_name {\n",
      "\t\n",
      "\twidth:110px;\n",
      "\tpadding-top:17px;\n",
      "\t\n",
      "}\n",
      "\n",
      ".metric_link {\n",
      "\t\n",
      "\tfont-size:14px;\n",
      "\tfont-weight:bold;\n",
      "\n",
      "}\n",
      "\n",
      ".help_icon {\n",
      "\t\n",
      "\twidth:15px;\n",
      "\theight:18px; \n",
      "\tpadding-bottom:3px;\n",
      "\t\n",
      "}\n",
      "\n",
      ".td_min_value {\n",
      "\t\n",
      "\twidth:75px;\n",
      "\ttext-align:center;\n",
      "\tfont-size:13px;\n",
      "\t\n",
      "}\n",
      "\n",
      ".td_max_value {\n",
      "\t\n",
      "\twidth:75px;\n",
      "\ttext-align:center;\n",
      "\tfont-size:13px;\n",
      "\t\n",
      "}\n",
      "\n",
      "#myCombobox .form-control {\n",
      "\t\n",
      "\tbackground-color: #99d5ff;\n",
      "\n",
      "\t\n",
      "}\n",
      "\n",
      ".dropdown-toggle {\n",
      "\t\n",
      "\theight:24px;\n",
      "\tpadding-top:0px;\n",
      "\tpadding-left:7px;\n",
      "\twidth:24px;\n",
      "\t\n",
      "}\n",
      "\n",
      ".dropdown-menu-right {\n",
      "\t\n",
      "\tmin-width:75px;\n",
      "\tfont-size:13px;\n",
      "\t\n",
      "}\n",
      "\n",
      ".form-control {\n",
      "\t\n",
      "\tfont-size:12px;\t\n",
      "\tpadding:5px 10px;\n",
      "\theight:24px;\n",
      "\n",
      "\t\n",
      "}\n",
      "\n",
      "#myPills1 {\n",
      "\t\n",
      "\tmargin:0px 15px 10px 0px;\n",
      "\t\n",
      "}\n",
      "\n",
      "#jqxgrid {\n",
      "\t\n",
      "\tborder-radius:0px;\n",
      "\t\n",
      "}\n",
      "\n",
      ".jqx-widget-header {\n",
      "\t\n",
      "    font-family: 'Roboto', sans-serif;\n",
      "\tfont-size:13px;\t\n",
      "\t\n",
      "}\n",
      "\n",
      ".jqx-item {\n",
      "\t\n",
      "    font-family: 'Roboto', sans-serif;\n",
      "\tfont-size: 13px;\n",
      "\t\n",
      "}\n",
      "\n",
      ".jqx-widget-content {\n",
      "\t\n",
      "\tborder-color: #E0E0E0;\n",
      "\t\n",
      "}\n",
      "\n",
      "#jqxgrid .jqx-grid-cell {\n",
      "\t\n",
      "\tborder-color: #E0E0E0;\n",
      "\t\n",
      "}\n",
      "\n",
      "#jqxgrid .jqx-grid-cell-pinned {\n",
      "\t\n",
      "\tborder-color: #E0E0E0;\n",
      "\tbackground-color: #F5F5F5;\n",
      "\t\n",
      "}\n",
      "\n",
      "#jqxgrid .jqx-grid-column-header {\n",
      "\t\n",
      "\tborder-color: #E0E0E0;\n",
      "\tbackground-color: #F5F5F5;\n",
      "\t\n",
      "}\n",
      "\n",
      ".clear_zero {\n",
      "\n",
      "\theight:0px;\n",
      "\n",
      "}\n",
      "\n",
      "\n",
      "\n",
      "/* Styles for Popup Charts */\n",
      "\n",
      ".tpd-size-large {\n",
      "\t\n",
      "\tmargin:0px;\t\n",
      "\tpadding: 0px;\n",
      "}\n",
      "\n",
      ".popup_window_wrapper {\n",
      "\t\n",
      "\tmargin:15px;\n",
      "\t\n",
      "}\n",
      "\n",
      ".popup_stock_name {\n",
      "\n",
      "\tfont-size:16px;\n",
      "\tfont-weight:bold;\n",
      "\tmargin:5px;\n",
      "\n",
      "}\n",
      "\n",
      ".popup_stock_attributes {\n",
      "\n",
      "\tfont-size:13px;\n",
      "\tfont-weight:bold;\n",
      "\tmargin:5px;\n",
      "\n",
      "}\n",
      "\n",
      ".popup_stock_description {\n",
      "\n",
      "\tfont-size:12px;\n",
      "\tmargin:5px;\n",
      "\n",
      "}\n",
      "\n",
      ".jqx-input {\n",
      "\t\n",
      "\tfont-size:14px;\n",
      "\t\n",
      "} \n",
      "\n",
      ".jqx-menu-item {\n",
      "\t\n",
      "\tfont-size:14px;\n",
      "\t\n",
      "}\n",
      "\n",
      ".jqx-input {\n",
      "\t\n",
      "\tpadding:5px 10px;\n",
      "\t\n",
      "}\n",
      "\n",
      ".nav-tabs {\n",
      "    border: 1px solid #E0E0E0;\n",
      "\tbackground-color:#F5F5F5;\n",
      "\tpadding: 3px 5px 0px 5px;\n",
      "\tmargin: 0px 0px 10px 0px;\n",
      "}\n",
      "\n",
      ".nav-tabs>li>a {\n",
      "\tfont-size:13px;\n",
      "\tpadding:7px 11px;\n",
      "\tfont-weight:600;\n",
      "    margin-right: 0px;\n",
      "    line-height: 1.42857143;\n",
      "    border: 0px;\n",
      "    border-radius: 0px 0px 0 0;\n",
      "\tbackground-color:#F5F5F5;\n",
      "\n",
      "}\n",
      "\n",
      ".nav-tabs>li>a .active {\n",
      "    margin-right: 0px;\n",
      "    line-height: 1.42857143;\n",
      "    border: 1px solid #E0E0E0;\n",
      "    border-radius: 0px 0px 0 0;\n",
      "\tbackground-color:#F5F5F5;\n",
      "\n",
      "}\n",
      "\n",
      ".nav-tabs>li>a:hover { \n",
      "    background-color: #F5F5F5;\n",
      "\ttext-decoration: underline;\n",
      "\n",
      "}\n",
      "\n",
      ".donate_buttons {\n",
      "\n",
      "\tmargin-left:20px;\n",
      "\t\n",
      "\t}\n",
      "\n",
      ".modal-body {\n",
      "\n",
      "\tmargin:10px 40px 20px 40px;\n",
      "\ttext-align:left;\n",
      "\tfont-size:18px;\n",
      "\n",
      "}\n",
      "\n",
      ".modal-body li {\n",
      "\n",
      "\tmargin-top:20px;\n",
      "\tfont-size:14px;\n",
      "\n",
      "}\n",
      "\n",
      "\n",
      ".modal_title {\n",
      "\n",
      "\n",
      "\ttext-align:center;\n",
      "\tmargin-bottom:30px;\n",
      "\n",
      "}\n",
      "\n",
      ".modal-body th{\n",
      "\n",
      "\tmargin-left:10px;\n",
      "\tfont-size:14px;\n",
      "}\n",
      "\n",
      ".modal-body td {\n",
      "\n",
      "\tcolor: #337ab7;\n",
      "\tmargin-left:10px;\n",
      "\tfont-size:14px;\n",
      "}\n",
      "\n",
      ".modal_button {\n",
      "\n",
      "\tmargin-top:50px;\n",
      "\ttext-align:center;\n",
      "\tfont-size:16px;\n",
      "\n",
      "}\t\n",
      "\n",
      "\n",
      "</style>\t\n",
      "\n",
      "\n",
      "</head>\n",
      "\t<body class=\"fuelux\">\n",
      "        <!--[if lt IE 7]>\n",
      "            <p class=\"browsehappy\">You are using an <strong>outdated</strong> browser. Please <a href=\"https://browsehappy.com/\">upgrade your browser</a> to improve your experience.</p>\n",
      "        <![endif]-->\n",
      "\n",
      "<div class=\"header_content_container container-fluid\">\n",
      "\n",
      "\n",
      "<div class=\"header_parent_container\">\n",
      "\n",
      "<div class=\"header_container\">\n",
      "\n",
      "\t<div class=\"header_logo col-xs-2\">\n",
      "\t\t<a class=\"logo\" href=\"https://www.macrotrends.net\" title=\"MacroTrends Home Page\"><img src=\"/assets/images/logo_bright1.png\"/></a>\n",
      "\t</div>\n",
      "\n",
      "\n",
      "\t  <div class=\"col-xs-1 pull-right\" style=\"padding-top:8px; margin-right:10px; margin-left:0px; padding-left:0px;\">\n",
      "\t  \t \t\t\t\t\t\n",
      "\t\t<div id=\"ic_88x31_1\">\n",
      "\n",
      "\t\t\t\t\t\n",
      "\t\t</div> \n",
      "\t  \n",
      "\t  </div>\n",
      "\t  \n",
      "\n",
      "\t  <div class=\"col-xs-5 pull-right\" style=\"padding-top:8px;\">\n",
      "       <form>\n",
      "        <div class=\"typeahead__container\">\n",
      "            <div class=\"typeahead__field\">\n",
      "\n",
      "            <span class=\"typeahead__query\">\n",
      "                <input class=\"js-typeahead\"\n",
      "                       name=\"q\"\n",
      "                       type=\"search\"\n",
      "\t\t\t\t\t   placeholder=\"Search over 200,000 charts...\"\n",
      "                       autofocus\n",
      "                       autocomplete=\"off\">\n",
      "            </span>\n",
      "            <span class=\"typeahead__button\">\n",
      "                <button type=\"submit\">\n",
      "                    <span class=\"typeahead__search-icon\"></span>\n",
      "                </button>\n",
      "            </span>\n",
      "\n",
      "            </div>\n",
      "        </div>\n",
      "    </form>\n",
      "\t\t\n",
      "\t  </div>\n",
      "\t  \n",
      "\t  </div>\n",
      "\n",
      "\n",
      "\n",
      "</div>\n",
      "\n",
      "<div class=\"menu_parent_container\">\n",
      "\n",
      "<div class=\"menu_container\">\n",
      "\t\t\n",
      "\t<a href=\"/stocks/stock-screener\"><div class=\"menu_item\">Stock Screener</div></a>\n",
      "\t<a href=\"/stocks/research\"><div class=\"menu_item\">Stock Research</div></a>\n",
      "\t<a href=\"/charts/stock-indexes\"><div class=\"menu_item\">Market Indexes</div></a>\n",
      "\t<a href=\"/charts/precious-metals\"><div class=\"menu_item\">Precious Metals</div></a>\n",
      "\t<a href=\"/charts/energy\"><div class=\"menu_item\">Energy</div></a>\n",
      "\t<a href=\"/charts/commodities\"><div class=\"menu_item\">Commodities</div></a>\n",
      "\t<a href=\"/charts/exchange-rates\"><div class=\"menu_item\">Exchange Rates</div></a>\n",
      "\t<a href=\"/charts/interest-rates\"><div class=\"menu_item\">Interest Rates</div></a>\n",
      "\t<a href=\"/charts/economy\"><div class=\"menu_item\">Economy</div></a>\n",
      "\t<a href=\"/countries/topic-overview\"><div class=\"menu_item\">Global Metrics</div></a>\n",
      "\n",
      "\t\t\n",
      "</div>\n",
      "\n",
      "</div>\n",
      "\n",
      "</div>\n",
      "\n",
      "<div id=\"main_content_container\" class=\"main_content_container container-fluid\">\n",
      "\n",
      "\n",
      "\t<div id=\"ic_leaderboard\" class=\"adx_top_ad col-xs-12\" style=\"margin: 20px 20px 30px 20px; min-height:265px; text-align:center;\">\n",
      "\t\n",
      "\t\t<div id=\"IC_D_970x250_1\"></div>\n",
      "\n",
      "\t\t<!--Smartad # 4058: Macrotrends - 970x250 Image - Placement 2-->\n",
      "\t\t<!--<iframe id=\"dianomi_leaderboard\" WIDTH=\"970\" HEIGHT=\"250\" SCROLLING=\"NO\" src=\"//www.dianomi.com/smartads.epl?id=4058\"  style=\"height: 250px; border: none; overflow: hidden;\"></iframe>-->\n",
      "\t\t\t\t \t\t\n",
      "\t</div>\n",
      "\t\t\t\n",
      "\t\t\t<div style=\"margin:20px 20px 20px 5px;\">\n",
      "\t\t\t\n",
      "\t\t\t\t<h2 style=\"margin-left:0px; font-weight:600; color:#444;\">Tesla Revenue 2010-2022 | TSLA</h2>\n",
      "\t\t\t\n",
      "\t\t\t</div>\n",
      "\t\t\t\n",
      "\t\t\t\n",
      "\t<div class=\"sub_main_content_container\">\n",
      "\t\t\n",
      "\n",
      "\n",
      "\t\t\n",
      "\n",
      "\t\t\t<div id=\"main_content\">\n",
      "\t\t\t\n",
      "\t\t\t\n",
      "\t\t\t\n",
      "<div class=\"navigation_tabs\" style=\"margin-bottom:20px;\">\n",
      "\t\t\t\n",
      "\t<ul class=\"nav nav-tabs\" id=\"myTabs\" style=\"font-size:15px;\">\n",
      "\n",
      "\t\t\n",
      "\t\t\t\n",
      "\t\t\t\n",
      "\t\t\t\t<li><a href=\"https://www.macrotrends.net/stocks/charts/TSLA/tesla/stock-price-history\">Prices</a></li>\n",
      "\n",
      "\t\t\t\n",
      "\t\t\n",
      "\t\t\t\n",
      "\t\t\t\n",
      "\t\t\t\t<li><a href=\"https://www.macrotrends.net/stocks/charts/TSLA/tesla/financial-statements\">Financials</a></li>\n",
      "\n",
      "\t\t\t\n",
      "\t\t\n",
      "\t\t\t\n",
      "\t\t\t\n",
      "\t\t\t\t<li class=\"active\"><a href=\"https://www.macrotrends.net/stocks/charts/TSLA/tesla/revenue\">Revenue & Profit</a></li>\n",
      "\n",
      "\t\t\t\n",
      "\t\t\n",
      "\t\t\t\n",
      "\t\t\t\n",
      "\t\t\t\t<li><a href=\"https://www.macrotrends.net/stocks/charts/TSLA/tesla/total-assets\">Assets & Liabilities</a></li>\n",
      "\n",
      "\t\t\t\n",
      "\t\t\n",
      "\t\t\t\n",
      "\t\t\t\n",
      "\t\t\t\t<li><a href=\"https://www.macrotrends.net/stocks/charts/TSLA/tesla/profit-margins\">Margins</a></li>\n",
      "\n",
      "\t\t\t\n",
      "\t\t\n",
      "\t\t\t\n",
      "\t\t\t\n",
      "\t\t\t\t<li><a href=\"https://www.macrotrends.net/stocks/charts/TSLA/tesla/pe-ratio\">Price Ratios</a></li>\n",
      "\n",
      "\t\t\t\n",
      "\t\t\n",
      "\t\t\t\n",
      "\t\t\t\n",
      "\t\t\t\t<li><a href=\"https://www.macrotrends.net/stocks/charts/TSLA/tesla/current-ratio\">Other Ratios</a></li>\n",
      "\n",
      "\t\t\t\n",
      "\t\t\n",
      "\t\t\t\n",
      "\t\t\t\n",
      "\t\t\t\t<li><a href=\"https://www.macrotrends.net/stocks/charts/TSLA/tesla/dividend-yield-history\">Other Metrics</a></li>\n",
      "\n",
      "\t\t\t\n",
      "\t\t\n",
      "\t</ul>\n",
      "\n",
      "\n",
      "\t<ul class=\"nav nav-tabs\" id=\"myTabs\" style=\"font-size:15px;\">\n",
      "\n",
      "\t\t\n",
      "\t\t\t\n",
      "\t\t\t\n",
      "\t\t\t\t<li class=\"active\"><a href=\"https://www.macrotrends.net/stocks/charts/TSLA/tesla/revenue\">Revenue</a></li>\n",
      "\n",
      "\n",
      "\t\t\t\t\t\t\n",
      "\t\t\n",
      "\t\t\t\n",
      "\t\t\t\t\t\t\n",
      "\t\t\t\t<li><a href=\"https://www.macrotrends.net/stocks/charts/TSLA/tesla/gross-profit\">Gross Profit</a></li>\t\t\t\n",
      "\n",
      "\t\t\t\t\t\t\n",
      "\t\t\n",
      "\t\t\t\n",
      "\t\t\t\t\t\t\n",
      "\t\t\t\t<li><a href=\"https://www.macrotrends.net/stocks/charts/TSLA/tesla/operating-income\">Operating Income</a></li>\t\t\t\n",
      "\n",
      "\t\t\t\t\t\t\n",
      "\t\t\n",
      "\t\t\t\n",
      "\t\t\t\t\t\t\n",
      "\t\t\t\t<li><a href=\"https://www.macrotrends.net/stocks/charts/TSLA/tesla/ebitda\">EBITDA</a></li>\t\t\t\n",
      "\n",
      "\t\t\t\t\t\t\n",
      "\t\t\n",
      "\t\t\t\n",
      "\t\t\t\t\t\t\n",
      "\t\t\t\t<li><a href=\"https://www.macrotrends.net/stocks/charts/TSLA/tesla/net-income\">Net Income</a></li>\t\t\t\n",
      "\n",
      "\t\t\t\t\t\t\n",
      "\t\t\n",
      "\t\t\t\n",
      "\t\t\t\t\t\t\n",
      "\t\t\t\t<li><a href=\"https://www.macrotrends.net/stocks/charts/TSLA/tesla/eps-earnings-per-share-diluted\">EPS</a></li>\t\t\t\n",
      "\n",
      "\t\t\t\t\t\t\n",
      "\t\t\n",
      "\t\t\t\n",
      "\t\t\t\t\t\t\n",
      "\t\t\t\t<li><a href=\"https://www.macrotrends.net/stocks/charts/TSLA/tesla/shares-outstanding\">Shares Outstanding</a></li>\t\t\t\n",
      "\n",
      "\t\t\t\t\t\t\n",
      "\t\t\n",
      "\n",
      "\t</ul>\n",
      "\t\n",
      "\t\t\t\n",
      "</div>\n",
      "\n",
      "\n",
      "\n",
      "\n",
      "\t\t\t\n",
      "\n",
      "\t\t\n",
      "\n",
      "\t\t\t<div style=\"background-color:#fff; margin: 0px 0px 20px 0px; padding:20px 30px; border:1px solid #dfdfdf;\">\n",
      "\t\t\t\n",
      "\t\t\t\t<span style=\"color:#444; line-height: 1.8;\">Tesla annual/quarterly revenue history and growth rate from 2010 to 2022. Revenue can be defined as the amount of money a company receives from its customers in exchange for the sales of goods or services.  Revenue is the top line item on an income statement from which all costs and expenses are subtracted to arrive at net income.    \n",
      "\t\t\t\t\n",
      "\t\t\t\t<ul style='margin-top:10px;'>\n",
      "\t\t\t\t<li>Tesla revenue for the quarter ending September 30, 2022 was <strong>$21.454B</strong>, a <strong>55.95% increase</strong> year-over-year.</li>\n",
      "\t\t\t\t<li>Tesla revenue for the twelve months ending September 30, 2022 was <strong>$74.863B</strong>, a <strong>59.8% increase</strong> year-over-year.</li>\n",
      "\t\t\t\t<li>Tesla annual revenue for 2021 was <strong>$53.823B</strong>, a <strong>70.67% increase</strong> from 2020.</li>\n",
      "\t\t\t\t<li>Tesla annual revenue for 2020 was <strong>$31.536B</strong>, a <strong>28.31% increase</strong> from 2019.</li>\n",
      "\t\t\t\t<li>Tesla annual revenue for 2019 was <strong>$24.578B</strong>, a <strong>14.52% increase</strong> from 2018.</li>\n",
      "\t\t\t\t</ul></span>\n",
      "\t\t\t\n",
      "\t\t\t</div>\n",
      "\n",
      "\t\t\n",
      "\t\t\t\n",
      "\t\t\t<div style=\"background-color:#fff; margin: 30px 0px 30px 0px; text-align:center; min-height:90px;\">\n",
      "\n",
      "\n",
      "\t\t\t\t<div id=\"ic_728x90_1\" style=\"margin:10px 20px;\">\n",
      "\n",
      "\n",
      "\t\t\t\t</div>\n",
      "\t\t\t\n",
      "\t\t\t</div>\t\t\n",
      "\t\t\t\n",
      "\t\t\t\n",
      "\n",
      "\t\t\t<div class=\"ticker_search_box\" style=\"text-align:center;\">\t\t\t\n",
      "\n",
      "\t\t<div style=\"width:400px; margin-left:20px; border-bottom:none;\">\n",
      "\t\t\n",
      "\t\t\n",
      "\n",
      "\t\t\n",
      "        <script type=\"text/javascript\">\n",
      "            $(document).ready(function () {\n",
      "\t\t\t\t                \n",
      "\t\t\t\t\tvar url = \"https://www.macrotrends.net/assets/php/ticker_search_list.php\";\n",
      "\t\t\t\t\n",
      "                // prepare the data\n",
      "                var source =\n",
      "                {\n",
      "                    datatype: \"json\",\n",
      "                    datafields: [\n",
      "                        { name: 'n' },\n",
      "\t\t\t\t\t\t{ name: 's'}\n",
      "                    ],\n",
      "                    url: url\n",
      "                };\n",
      "                var dataAdapter = new $.jqx.dataAdapter(source);\n",
      "                // Create a jqxInput\n",
      "                $(\"#jqxInput\").jqxInput({ source: dataAdapter, minLength: 1, placeHolder: \"Search for ticker or company name...\", items: 20, searchMode: 'containsignorecase', displayMember: \"n\", valueMember: \"s\", width: '100%', height: 22, theme: 'bootstrap'});\n",
      "                $(\"#jqxInput\").on('select', function (event) {\n",
      "                    if (event.args) {\n",
      "                        var item = event.args.item;\n",
      "\t\t\t\t\t\t\n",
      "\t\t\t\t\t\t//Have to split the ticker and slug back out since jqxinput only seems to allow one data value\n",
      "\t\t\t\t\t\tvar itemArray = item.value.split(\"\\/\"); \n",
      "\t\t\t\t\t\tvar ticker = itemArray[0];\n",
      "\t\t\t\t\t\tvar slug = itemArray[1];\n",
      "                        if (item) {\n",
      "\t\t\t\t\t\t\t\n",
      "\t\t\t\t\t\t\t\t\t\t\t\t\t\t\n",
      "\t\t\t\t\t\t\t\twindow.location = \"https://www.macrotrends.net/stocks/charts/\" + ticker + \"/\" + slug + \"/revenue\";\n",
      "\t\t\t\t\t\t\t\n",
      "\t\t\t\t\t\t\t                        }\n",
      "                    }\n",
      "                });\n",
      "            });\n",
      "        </script>\n",
      "        <input id=\"jqxInput\" autocomplete=\"off\"/>\n",
      "\n",
      "\t\t</div>\n",
      "\t\t\t\t\n",
      "\t\t<div style=\"width:280px; margin-top: -32px; margin-left:80px; border-bottom:none; float:right;\">\n",
      "\t\t\n",
      "\t\t\n",
      "<button id=\"compareStocks\" style=\"margin-right:15px;\" class=\"chart_buttons btn btn-success btn-sm\"><span class=\"glyphicon glyphicon-stats\"></span>&nbsp;&nbsp;<strong>Compare TSLA With Other Stocks</strong></button>&nbsp;&nbsp;\n",
      "\n",
      "</div>\t\n",
      "\t\t\n",
      "\t\t</div>\n",
      "\t\t\n",
      "\t\t<div style=\"height:690px; background-color:#fff; border:1px solid #dfdfdf;\">\n",
      "\t\t\n",
      "<iframe id=\"chart_iframe\" title=\"Interactive chart: Tesla Revenue 2010-2022 | TSLA\" valign=\"middle\" margin=\"0px\" width=\"800\" height=\"680\" marginheight=0 marginwidth=0 frameborder=0 vspace=0 hspace=0 scrolling=NO  src=\"https://www.macrotrends.net/assets/php/fundamental_iframe.php?t=TSLA&type=revenue&statement=income-statement&freq=Q\"></iframe>\t\n",
      "\t\n",
      "\t\t\n",
      "\t\t</div>\n",
      "\t\t\n",
      "\t\t\n",
      "\n",
      "\t\t\t<div id=\"ic_video_ad\" style=\"height:317px; margin:30px;\">\n",
      "\t\t\t\n",
      "\t\t\t\n",
      "\t\t\t\t<div id=\"IC_D_3x6\"></div>\n",
      "\t\t\t\t\t\t\n",
      "\t\t\t\n",
      "\t\t\t</div>\n",
      "\n",
      "\t\t\t\n",
      "\n",
      "\t\t\t<div style=\"background-color:#fff; margin: 30px 0px; padding:10px 30px; border:1px solid #dfdfdf;\">\n",
      "\t\t\n",
      "\t\t\n",
      "\t\t\t<iframe id=\"dianomi_below_chart\" valign=\"middle\" width=\"100%\" height=\"300\" marginheight=0 marginwidth=0 frameborder=0 vspace=0 hspace=0 scrolling=NO  src=\"//www.dianomi.com/smartads.epl?id=4057\"></iframe>\n",
      "\n",
      "\t\t\t<!--<div id=\"IC_D_3x7_BCC\"></div>-->\n",
      "\t\t\t\n",
      "\t\t\n",
      "\t\t</div>\t\t\n",
      "\n",
      "\t\t\t\n",
      " \n",
      "\t\t\t\n",
      "\t\t\t<div id=\"style-1\" style=\"background-color:#fff; height:510px; overflow:auto; margin: 30px 0px 30px 0px; padding:0px 30px 20px 0px; border:1px solid #dfdfdf;\">\n",
      "\t\t\t\n",
      "\t\t\t  \t<div class=\"col-xs-6\">\n",
      "\t\t\t\n",
      "\t\t\t\t<table class=\"historical_data_table table\">\n",
      "\t\t\t\t<thead>\n",
      "\t\t\t\t  <tr>\n",
      "\t\t\t\t\t<th colspan=2 style=\"text-align:center\">Tesla Annual Revenue<br /><span style=\"font-size:14px;\">(Millions of US $)</span></th>\n",
      "\t\t\t\t  </tr>\n",
      "\t\t\t\t</thead>\t\t\t\t\t\n",
      "\t\t\t\t<tbody>\n",
      "\t\t\t\t\t\t\t\t\n",
      "\t\t\t\t\t\t\t\t\t\t\t\t\n",
      "\t\t\t\t<tr>\n",
      "\t\t\t\t\t<td style=\"text-align:center\">2021</td>\n",
      "\t\t\t\t\n",
      "\t\t\t\t\n",
      "\t\t\t\t\n",
      "\t\t\t\t\t\t\t\t\t\t<td style=\"text-align:center\">$53,823</td>\n",
      "\t\t\t\t\n",
      "\t\t\t\t\t\t\t\t\n",
      "\t\t\t\t</tr>\n",
      "\t\t\t\t  \n",
      "\t\t\t\t\t\t\t\t\t\t\t\t\n",
      "\t\t\t\t<tr>\n",
      "\t\t\t\t\t<td style=\"text-align:center\">2020</td>\n",
      "\t\t\t\t\n",
      "\t\t\t\t\n",
      "\t\t\t\t\n",
      "\t\t\t\t\t\t\t\t\t\t<td style=\"text-align:center\">$31,536</td>\n",
      "\t\t\t\t\n",
      "\t\t\t\t\t\t\t\t\n",
      "\t\t\t\t</tr>\n",
      "\t\t\t\t  \n",
      "\t\t\t\t\t\t\t\t\t\t\t\t\n",
      "\t\t\t\t<tr>\n",
      "\t\t\t\t\t<td style=\"text-align:center\">2019</td>\n",
      "\t\t\t\t\n",
      "\t\t\t\t\n",
      "\t\t\t\t\n",
      "\t\t\t\t\t\t\t\t\t\t<td style=\"text-align:center\">$24,578</td>\n",
      "\t\t\t\t\n",
      "\t\t\t\t\t\t\t\t\n",
      "\t\t\t\t</tr>\n",
      "\t\t\t\t  \n",
      "\t\t\t\t\t\t\t\t\t\t\t\t\n",
      "\t\t\t\t<tr>\n",
      "\t\t\t\t\t<td style=\"text-align:center\">2018</td>\n",
      "\t\t\t\t\n",
      "\t\t\t\t\n",
      "\t\t\t\t\n",
      "\t\t\t\t\t\t\t\t\t\t<td style=\"text-align:center\">$21,461</td>\n",
      "\t\t\t\t\n",
      "\t\t\t\t\t\t\t\t\n",
      "\t\t\t\t</tr>\n",
      "\t\t\t\t  \n",
      "\t\t\t\t\t\t\t\t\t\t\t\t\n",
      "\t\t\t\t<tr>\n",
      "\t\t\t\t\t<td style=\"text-align:center\">2017</td>\n",
      "\t\t\t\t\n",
      "\t\t\t\t\n",
      "\t\t\t\t\n",
      "\t\t\t\t\t\t\t\t\t\t<td style=\"text-align:center\">$11,759</td>\n",
      "\t\t\t\t\n",
      "\t\t\t\t\t\t\t\t\n",
      "\t\t\t\t</tr>\n",
      "\t\t\t\t  \n",
      "\t\t\t\t\t\t\t\t\t\t\t\t\n",
      "\t\t\t\t<tr>\n",
      "\t\t\t\t\t<td style=\"text-align:center\">2016</td>\n",
      "\t\t\t\t\n",
      "\t\t\t\t\n",
      "\t\t\t\t\n",
      "\t\t\t\t\t\t\t\t\t\t<td style=\"text-align:center\">$7,000</td>\n",
      "\t\t\t\t\n",
      "\t\t\t\t\t\t\t\t\n",
      "\t\t\t\t</tr>\n",
      "\t\t\t\t  \n",
      "\t\t\t\t\t\t\t\t\t\t\t\t\n",
      "\t\t\t\t<tr>\n",
      "\t\t\t\t\t<td style=\"text-align:center\">2015</td>\n",
      "\t\t\t\t\n",
      "\t\t\t\t\n",
      "\t\t\t\t\n",
      "\t\t\t\t\t\t\t\t\t\t<td style=\"text-align:center\">$4,046</td>\n",
      "\t\t\t\t\n",
      "\t\t\t\t\t\t\t\t\n",
      "\t\t\t\t</tr>\n",
      "\t\t\t\t  \n",
      "\t\t\t\t\t\t\t\t\t\t\t\t\n",
      "\t\t\t\t<tr>\n",
      "\t\t\t\t\t<td style=\"text-align:center\">2014</td>\n",
      "\t\t\t\t\n",
      "\t\t\t\t\n",
      "\t\t\t\t\n",
      "\t\t\t\t\t\t\t\t\t\t<td style=\"text-align:center\">$3,198</td>\n",
      "\t\t\t\t\n",
      "\t\t\t\t\t\t\t\t\n",
      "\t\t\t\t</tr>\n",
      "\t\t\t\t  \n",
      "\t\t\t\t\t\t\t\t\t\t\t\t\n",
      "\t\t\t\t<tr>\n",
      "\t\t\t\t\t<td style=\"text-align:center\">2013</td>\n",
      "\t\t\t\t\n",
      "\t\t\t\t\n",
      "\t\t\t\t\n",
      "\t\t\t\t\t\t\t\t\t\t<td style=\"text-align:center\">$2,013</td>\n",
      "\t\t\t\t\n",
      "\t\t\t\t\t\t\t\t\n",
      "\t\t\t\t</tr>\n",
      "\t\t\t\t  \n",
      "\t\t\t\t\t\t\t\t\t\t\t\t\n",
      "\t\t\t\t<tr>\n",
      "\t\t\t\t\t<td style=\"text-align:center\">2012</td>\n",
      "\t\t\t\t\n",
      "\t\t\t\t\n",
      "\t\t\t\t\n",
      "\t\t\t\t\t\t\t\t\t\t<td style=\"text-align:center\">$413</td>\n",
      "\t\t\t\t\n",
      "\t\t\t\t\t\t\t\t\n",
      "\t\t\t\t</tr>\n",
      "\t\t\t\t  \n",
      "\t\t\t\t\t\t\t\t\t\t\t\t\n",
      "\t\t\t\t<tr>\n",
      "\t\t\t\t\t<td style=\"text-align:center\">2011</td>\n",
      "\t\t\t\t\n",
      "\t\t\t\t\n",
      "\t\t\t\t\n",
      "\t\t\t\t\t\t\t\t\t\t<td style=\"text-align:center\">$204</td>\n",
      "\t\t\t\t\n",
      "\t\t\t\t\t\t\t\t\n",
      "\t\t\t\t</tr>\n",
      "\t\t\t\t  \n",
      "\t\t\t\t\t\t\t\t\t\t\t\t\n",
      "\t\t\t\t<tr>\n",
      "\t\t\t\t\t<td style=\"text-align:center\">2010</td>\n",
      "\t\t\t\t\n",
      "\t\t\t\t\n",
      "\t\t\t\t\n",
      "\t\t\t\t\t\t\t\t\t\t<td style=\"text-align:center\">$117</td>\n",
      "\t\t\t\t\n",
      "\t\t\t\t\t\t\t\t\n",
      "\t\t\t\t</tr>\n",
      "\t\t\t\t  \n",
      "\t\t\t\t\t\t\t\t\t\t\t\t\n",
      "\t\t\t\t<tr>\n",
      "\t\t\t\t\t<td style=\"text-align:center\">2009</td>\n",
      "\t\t\t\t\n",
      "\t\t\t\t\n",
      "\t\t\t\t\n",
      "\t\t\t\t\t\t\t\t\t\t<td style=\"text-align:center\">$112</td>\n",
      "\t\t\t\t\n",
      "\t\t\t\t\t\t\t\t\n",
      "\t\t\t\t</tr>\n",
      "\t\t\t\t  \n",
      "\t\t\t\t  \n",
      "\t\t\t\t</tbody>\n",
      "\t\t\t  </table>\n",
      "\t\t\t  \n",
      "\t\t\t  </div>\n",
      "\n",
      "\t\t\t  <div class=\"col-xs-6\">\n",
      "\t\t\t\n",
      "\t\t\t\t<table class=\"historical_data_table table\">\n",
      "\t\t\t\t<thead>\n",
      "\t\t\t\t  <tr>\n",
      "\t\t\t\t\t<th colspan=2 style=\"text-align:center\">Tesla Quarterly Revenue<br /><span style=\"font-size:14px;\">(Millions of US $)</span></th>\n",
      "\t\t\t\t  </tr>\n",
      "\t\t\t\t</thead>\t\t\t\t\n",
      "\t\t\t\t<tbody>\n",
      "\t\t\t\t\n",
      "\t\t\t\t\t\t\t\t\t\t\t\t\n",
      "\t\t\t\t<tr>\n",
      "\t\t\t\t\t<td style=\"text-align:center\">2022-09-30</td>\n",
      "\t\t\t\t\n",
      "\t\t\t\t\n",
      "\t\t\t\t\n",
      "\t\t\t\t\t\t\t\t\t\t\n",
      "\t\t\t\t\t\t\t\t\t\t\n",
      "\t\t\t\t\t\t<td style=\"text-align:center\">$21,454</td>\n",
      "\t\t\t\t\t\t\n",
      "\t\t\t\t\t\t\t\t\t\n",
      "\t\t\t\t\t\t\t\t\n",
      "\t\t\t\t  </tr>\n",
      "\t\t\t\t  \n",
      "\t\t\t\t\t\t\t\t\t\t\t\t\n",
      "\t\t\t\t<tr>\n",
      "\t\t\t\t\t<td style=\"text-align:center\">2022-06-30</td>\n",
      "\t\t\t\t\n",
      "\t\t\t\t\n",
      "\t\t\t\t\n",
      "\t\t\t\t\t\t\t\t\t\t\n",
      "\t\t\t\t\t\t\t\t\t\t\n",
      "\t\t\t\t\t\t<td style=\"text-align:center\">$16,934</td>\n",
      "\t\t\t\t\t\t\n",
      "\t\t\t\t\t\t\t\t\t\n",
      "\t\t\t\t\t\t\t\t\n",
      "\t\t\t\t  </tr>\n",
      "\t\t\t\t  \n",
      "\t\t\t\t\t\t\t\t\t\t\t\t\n",
      "\t\t\t\t<tr>\n",
      "\t\t\t\t\t<td style=\"text-align:center\">2022-03-31</td>\n",
      "\t\t\t\t\n",
      "\t\t\t\t\n",
      "\t\t\t\t\n",
      "\t\t\t\t\t\t\t\t\t\t\n",
      "\t\t\t\t\t\t\t\t\t\t\n",
      "\t\t\t\t\t\t<td style=\"text-align:center\">$18,756</td>\n",
      "\t\t\t\t\t\t\n",
      "\t\t\t\t\t\t\t\t\t\n",
      "\t\t\t\t\t\t\t\t\n",
      "\t\t\t\t  </tr>\n",
      "\t\t\t\t  \n",
      "\t\t\t\t\t\t\t\t\t\t\t\t\n",
      "\t\t\t\t<tr>\n",
      "\t\t\t\t\t<td style=\"text-align:center\">2021-12-31</td>\n",
      "\t\t\t\t\n",
      "\t\t\t\t\n",
      "\t\t\t\t\n",
      "\t\t\t\t\t\t\t\t\t\t\n",
      "\t\t\t\t\t\t\t\t\t\t\n",
      "\t\t\t\t\t\t<td style=\"text-align:center\">$17,719</td>\n",
      "\t\t\t\t\t\t\n",
      "\t\t\t\t\t\t\t\t\t\n",
      "\t\t\t\t\t\t\t\t\n",
      "\t\t\t\t  </tr>\n",
      "\t\t\t\t  \n",
      "\t\t\t\t\t\t\t\t\t\t\t\t\n",
      "\t\t\t\t<tr>\n",
      "\t\t\t\t\t<td style=\"text-align:center\">2021-09-30</td>\n",
      "\t\t\t\t\n",
      "\t\t\t\t\n",
      "\t\t\t\t\n",
      "\t\t\t\t\t\t\t\t\t\t\n",
      "\t\t\t\t\t\t\t\t\t\t\n",
      "\t\t\t\t\t\t<td style=\"text-align:center\">$13,757</td>\n",
      "\t\t\t\t\t\t\n",
      "\t\t\t\t\t\t\t\t\t\n",
      "\t\t\t\t\t\t\t\t\n",
      "\t\t\t\t  </tr>\n",
      "\t\t\t\t  \n",
      "\t\t\t\t\t\t\t\t\t\t\t\t\n",
      "\t\t\t\t<tr>\n",
      "\t\t\t\t\t<td style=\"text-align:center\">2021-06-30</td>\n",
      "\t\t\t\t\n",
      "\t\t\t\t\n",
      "\t\t\t\t\n",
      "\t\t\t\t\t\t\t\t\t\t\n",
      "\t\t\t\t\t\t\t\t\t\t\n",
      "\t\t\t\t\t\t<td style=\"text-align:center\">$11,958</td>\n",
      "\t\t\t\t\t\t\n",
      "\t\t\t\t\t\t\t\t\t\n",
      "\t\t\t\t\t\t\t\t\n",
      "\t\t\t\t  </tr>\n",
      "\t\t\t\t  \n",
      "\t\t\t\t\t\t\t\t\t\t\t\t\n",
      "\t\t\t\t<tr>\n",
      "\t\t\t\t\t<td style=\"text-align:center\">2021-03-31</td>\n",
      "\t\t\t\t\n",
      "\t\t\t\t\n",
      "\t\t\t\t\n",
      "\t\t\t\t\t\t\t\t\t\t\n",
      "\t\t\t\t\t\t\t\t\t\t\n",
      "\t\t\t\t\t\t<td style=\"text-align:center\">$10,389</td>\n",
      "\t\t\t\t\t\t\n",
      "\t\t\t\t\t\t\t\t\t\n",
      "\t\t\t\t\t\t\t\t\n",
      "\t\t\t\t  </tr>\n",
      "\t\t\t\t  \n",
      "\t\t\t\t\t\t\t\t\t\t\t\t\n",
      "\t\t\t\t<tr>\n",
      "\t\t\t\t\t<td style=\"text-align:center\">2020-12-31</td>\n",
      "\t\t\t\t\n",
      "\t\t\t\t\n",
      "\t\t\t\t\n",
      "\t\t\t\t\t\t\t\t\t\t\n",
      "\t\t\t\t\t\t\t\t\t\t\n",
      "\t\t\t\t\t\t<td style=\"text-align:center\">$10,744</td>\n",
      "\t\t\t\t\t\t\n",
      "\t\t\t\t\t\t\t\t\t\n",
      "\t\t\t\t\t\t\t\t\n",
      "\t\t\t\t  </tr>\n",
      "\t\t\t\t  \n",
      "\t\t\t\t\t\t\t\t\t\t\t\t\n",
      "\t\t\t\t<tr>\n",
      "\t\t\t\t\t<td style=\"text-align:center\">2020-09-30</td>\n",
      "\t\t\t\t\n",
      "\t\t\t\t\n",
      "\t\t\t\t\n",
      "\t\t\t\t\t\t\t\t\t\t\n",
      "\t\t\t\t\t\t\t\t\t\t\n",
      "\t\t\t\t\t\t<td style=\"text-align:center\">$8,771</td>\n",
      "\t\t\t\t\t\t\n",
      "\t\t\t\t\t\t\t\t\t\n",
      "\t\t\t\t\t\t\t\t\n",
      "\t\t\t\t  </tr>\n",
      "\t\t\t\t  \n",
      "\t\t\t\t\t\t\t\t\t\t\t\t\n",
      "\t\t\t\t<tr>\n",
      "\t\t\t\t\t<td style=\"text-align:center\">2020-06-30</td>\n",
      "\t\t\t\t\n",
      "\t\t\t\t\n",
      "\t\t\t\t\n",
      "\t\t\t\t\t\t\t\t\t\t\n",
      "\t\t\t\t\t\t\t\t\t\t\n",
      "\t\t\t\t\t\t<td style=\"text-align:center\">$6,036</td>\n",
      "\t\t\t\t\t\t\n",
      "\t\t\t\t\t\t\t\t\t\n",
      "\t\t\t\t\t\t\t\t\n",
      "\t\t\t\t  </tr>\n",
      "\t\t\t\t  \n",
      "\t\t\t\t\t\t\t\t\t\t\t\t\n",
      "\t\t\t\t<tr>\n",
      "\t\t\t\t\t<td style=\"text-align:center\">2020-03-31</td>\n",
      "\t\t\t\t\n",
      "\t\t\t\t\n",
      "\t\t\t\t\n",
      "\t\t\t\t\t\t\t\t\t\t\n",
      "\t\t\t\t\t\t\t\t\t\t\n",
      "\t\t\t\t\t\t<td style=\"text-align:center\">$5,985</td>\n",
      "\t\t\t\t\t\t\n",
      "\t\t\t\t\t\t\t\t\t\n",
      "\t\t\t\t\t\t\t\t\n",
      "\t\t\t\t  </tr>\n",
      "\t\t\t\t  \n",
      "\t\t\t\t\t\t\t\t\t\t\t\t\n",
      "\t\t\t\t<tr>\n",
      "\t\t\t\t\t<td style=\"text-align:center\">2019-12-31</td>\n",
      "\t\t\t\t\n",
      "\t\t\t\t\n",
      "\t\t\t\t\n",
      "\t\t\t\t\t\t\t\t\t\t\n",
      "\t\t\t\t\t\t\t\t\t\t\n",
      "\t\t\t\t\t\t<td style=\"text-align:center\">$7,384</td>\n",
      "\t\t\t\t\t\t\n",
      "\t\t\t\t\t\t\t\t\t\n",
      "\t\t\t\t\t\t\t\t\n",
      "\t\t\t\t  </tr>\n",
      "\t\t\t\t  \n",
      "\t\t\t\t\t\t\t\t\t\t\t\t\n",
      "\t\t\t\t<tr>\n",
      "\t\t\t\t\t<td style=\"text-align:center\">2019-09-30</td>\n",
      "\t\t\t\t\n",
      "\t\t\t\t\n",
      "\t\t\t\t\n",
      "\t\t\t\t\t\t\t\t\t\t\n",
      "\t\t\t\t\t\t\t\t\t\t\n",
      "\t\t\t\t\t\t<td style=\"text-align:center\">$6,303</td>\n",
      "\t\t\t\t\t\t\n",
      "\t\t\t\t\t\t\t\t\t\n",
      "\t\t\t\t\t\t\t\t\n",
      "\t\t\t\t  </tr>\n",
      "\t\t\t\t  \n",
      "\t\t\t\t\t\t\t\t\t\t\t\t\n",
      "\t\t\t\t<tr>\n",
      "\t\t\t\t\t<td style=\"text-align:center\">2019-06-30</td>\n",
      "\t\t\t\t\n",
      "\t\t\t\t\n",
      "\t\t\t\t\n",
      "\t\t\t\t\t\t\t\t\t\t\n",
      "\t\t\t\t\t\t\t\t\t\t\n",
      "\t\t\t\t\t\t<td style=\"text-align:center\">$6,350</td>\n",
      "\t\t\t\t\t\t\n",
      "\t\t\t\t\t\t\t\t\t\n",
      "\t\t\t\t\t\t\t\t\n",
      "\t\t\t\t  </tr>\n",
      "\t\t\t\t  \n",
      "\t\t\t\t\t\t\t\t\t\t\t\t\n",
      "\t\t\t\t<tr>\n",
      "\t\t\t\t\t<td style=\"text-align:center\">2019-03-31</td>\n",
      "\t\t\t\t\n",
      "\t\t\t\t\n",
      "\t\t\t\t\n",
      "\t\t\t\t\t\t\t\t\t\t\n",
      "\t\t\t\t\t\t\t\t\t\t\n",
      "\t\t\t\t\t\t<td style=\"text-align:center\">$4,541</td>\n",
      "\t\t\t\t\t\t\n",
      "\t\t\t\t\t\t\t\t\t\n",
      "\t\t\t\t\t\t\t\t\n",
      "\t\t\t\t  </tr>\n",
      "\t\t\t\t  \n",
      "\t\t\t\t\t\t\t\t\t\t\t\t\n",
      "\t\t\t\t<tr>\n",
      "\t\t\t\t\t<td style=\"text-align:center\">2018-12-31</td>\n",
      "\t\t\t\t\n",
      "\t\t\t\t\n",
      "\t\t\t\t\n",
      "\t\t\t\t\t\t\t\t\t\t\n",
      "\t\t\t\t\t\t\t\t\t\t\n",
      "\t\t\t\t\t\t<td style=\"text-align:center\">$7,226</td>\n",
      "\t\t\t\t\t\t\n",
      "\t\t\t\t\t\t\t\t\t\n",
      "\t\t\t\t\t\t\t\t\n",
      "\t\t\t\t  </tr>\n",
      "\t\t\t\t  \n",
      "\t\t\t\t\t\t\t\t\t\t\t\t\n",
      "\t\t\t\t<tr>\n",
      "\t\t\t\t\t<td style=\"text-align:center\">2018-09-30</td>\n",
      "\t\t\t\t\n",
      "\t\t\t\t\n",
      "\t\t\t\t\n",
      "\t\t\t\t\t\t\t\t\t\t\n",
      "\t\t\t\t\t\t\t\t\t\t\n",
      "\t\t\t\t\t\t<td style=\"text-align:center\">$6,824</td>\n",
      "\t\t\t\t\t\t\n",
      "\t\t\t\t\t\t\t\t\t\n",
      "\t\t\t\t\t\t\t\t\n",
      "\t\t\t\t  </tr>\n",
      "\t\t\t\t  \n",
      "\t\t\t\t\t\t\t\t\t\t\t\t\n",
      "\t\t\t\t<tr>\n",
      "\t\t\t\t\t<td style=\"text-align:center\">2018-06-30</td>\n",
      "\t\t\t\t\n",
      "\t\t\t\t\n",
      "\t\t\t\t\n",
      "\t\t\t\t\t\t\t\t\t\t\n",
      "\t\t\t\t\t\t\t\t\t\t\n",
      "\t\t\t\t\t\t<td style=\"text-align:center\">$4,002</td>\n",
      "\t\t\t\t\t\t\n",
      "\t\t\t\t\t\t\t\t\t\n",
      "\t\t\t\t\t\t\t\t\n",
      "\t\t\t\t  </tr>\n",
      "\t\t\t\t  \n",
      "\t\t\t\t\t\t\t\t\t\t\t\t\n",
      "\t\t\t\t<tr>\n",
      "\t\t\t\t\t<td style=\"text-align:center\">2018-03-31</td>\n",
      "\t\t\t\t\n",
      "\t\t\t\t\n",
      "\t\t\t\t\n",
      "\t\t\t\t\t\t\t\t\t\t\n",
      "\t\t\t\t\t\t\t\t\t\t\n",
      "\t\t\t\t\t\t<td style=\"text-align:center\">$3,409</td>\n",
      "\t\t\t\t\t\t\n",
      "\t\t\t\t\t\t\t\t\t\n",
      "\t\t\t\t\t\t\t\t\n",
      "\t\t\t\t  </tr>\n",
      "\t\t\t\t  \n",
      "\t\t\t\t\t\t\t\t\t\t\t\t\n",
      "\t\t\t\t<tr>\n",
      "\t\t\t\t\t<td style=\"text-align:center\">2017-12-31</td>\n",
      "\t\t\t\t\n",
      "\t\t\t\t\n",
      "\t\t\t\t\n",
      "\t\t\t\t\t\t\t\t\t\t\n",
      "\t\t\t\t\t\t\t\t\t\t\n",
      "\t\t\t\t\t\t<td style=\"text-align:center\">$3,288</td>\n",
      "\t\t\t\t\t\t\n",
      "\t\t\t\t\t\t\t\t\t\n",
      "\t\t\t\t\t\t\t\t\n",
      "\t\t\t\t  </tr>\n",
      "\t\t\t\t  \n",
      "\t\t\t\t\t\t\t\t\t\t\t\t\n",
      "\t\t\t\t<tr>\n",
      "\t\t\t\t\t<td style=\"text-align:center\">2017-09-30</td>\n",
      "\t\t\t\t\n",
      "\t\t\t\t\n",
      "\t\t\t\t\n",
      "\t\t\t\t\t\t\t\t\t\t\n",
      "\t\t\t\t\t\t\t\t\t\t\n",
      "\t\t\t\t\t\t<td style=\"text-align:center\">$2,985</td>\n",
      "\t\t\t\t\t\t\n",
      "\t\t\t\t\t\t\t\t\t\n",
      "\t\t\t\t\t\t\t\t\n",
      "\t\t\t\t  </tr>\n",
      "\t\t\t\t  \n",
      "\t\t\t\t\t\t\t\t\t\t\t\t\n",
      "\t\t\t\t<tr>\n",
      "\t\t\t\t\t<td style=\"text-align:center\">2017-06-30</td>\n",
      "\t\t\t\t\n",
      "\t\t\t\t\n",
      "\t\t\t\t\n",
      "\t\t\t\t\t\t\t\t\t\t\n",
      "\t\t\t\t\t\t\t\t\t\t\n",
      "\t\t\t\t\t\t<td style=\"text-align:center\">$2,790</td>\n",
      "\t\t\t\t\t\t\n",
      "\t\t\t\t\t\t\t\t\t\n",
      "\t\t\t\t\t\t\t\t\n",
      "\t\t\t\t  </tr>\n",
      "\t\t\t\t  \n",
      "\t\t\t\t\t\t\t\t\t\t\t\t\n",
      "\t\t\t\t<tr>\n",
      "\t\t\t\t\t<td style=\"text-align:center\">2017-03-31</td>\n",
      "\t\t\t\t\n",
      "\t\t\t\t\n",
      "\t\t\t\t\n",
      "\t\t\t\t\t\t\t\t\t\t\n",
      "\t\t\t\t\t\t\t\t\t\t\n",
      "\t\t\t\t\t\t<td style=\"text-align:center\">$2,696</td>\n",
      "\t\t\t\t\t\t\n",
      "\t\t\t\t\t\t\t\t\t\n",
      "\t\t\t\t\t\t\t\t\n",
      "\t\t\t\t  </tr>\n",
      "\t\t\t\t  \n",
      "\t\t\t\t\t\t\t\t\t\t\t\t\n",
      "\t\t\t\t<tr>\n",
      "\t\t\t\t\t<td style=\"text-align:center\">2016-12-31</td>\n",
      "\t\t\t\t\n",
      "\t\t\t\t\n",
      "\t\t\t\t\n",
      "\t\t\t\t\t\t\t\t\t\t\n",
      "\t\t\t\t\t\t\t\t\t\t\n",
      "\t\t\t\t\t\t<td style=\"text-align:center\">$2,285</td>\n",
      "\t\t\t\t\t\t\n",
      "\t\t\t\t\t\t\t\t\t\n",
      "\t\t\t\t\t\t\t\t\n",
      "\t\t\t\t  </tr>\n",
      "\t\t\t\t  \n",
      "\t\t\t\t\t\t\t\t\t\t\t\t\n",
      "\t\t\t\t<tr>\n",
      "\t\t\t\t\t<td style=\"text-align:center\">2016-09-30</td>\n",
      "\t\t\t\t\n",
      "\t\t\t\t\n",
      "\t\t\t\t\n",
      "\t\t\t\t\t\t\t\t\t\t\n",
      "\t\t\t\t\t\t\t\t\t\t\n",
      "\t\t\t\t\t\t<td style=\"text-align:center\">$2,298</td>\n",
      "\t\t\t\t\t\t\n",
      "\t\t\t\t\t\t\t\t\t\n",
      "\t\t\t\t\t\t\t\t\n",
      "\t\t\t\t  </tr>\n",
      "\t\t\t\t  \n",
      "\t\t\t\t\t\t\t\t\t\t\t\t\n",
      "\t\t\t\t<tr>\n",
      "\t\t\t\t\t<td style=\"text-align:center\">2016-06-30</td>\n",
      "\t\t\t\t\n",
      "\t\t\t\t\n",
      "\t\t\t\t\n",
      "\t\t\t\t\t\t\t\t\t\t\n",
      "\t\t\t\t\t\t\t\t\t\t\n",
      "\t\t\t\t\t\t<td style=\"text-align:center\">$1,270</td>\n",
      "\t\t\t\t\t\t\n",
      "\t\t\t\t\t\t\t\t\t\n",
      "\t\t\t\t\t\t\t\t\n",
      "\t\t\t\t  </tr>\n",
      "\t\t\t\t  \n",
      "\t\t\t\t\t\t\t\t\t\t\t\t\n",
      "\t\t\t\t<tr>\n",
      "\t\t\t\t\t<td style=\"text-align:center\">2016-03-31</td>\n",
      "\t\t\t\t\n",
      "\t\t\t\t\n",
      "\t\t\t\t\n",
      "\t\t\t\t\t\t\t\t\t\t\n",
      "\t\t\t\t\t\t\t\t\t\t\n",
      "\t\t\t\t\t\t<td style=\"text-align:center\">$1,147</td>\n",
      "\t\t\t\t\t\t\n",
      "\t\t\t\t\t\t\t\t\t\n",
      "\t\t\t\t\t\t\t\t\n",
      "\t\t\t\t  </tr>\n",
      "\t\t\t\t  \n",
      "\t\t\t\t\t\t\t\t\t\t\t\t\n",
      "\t\t\t\t<tr>\n",
      "\t\t\t\t\t<td style=\"text-align:center\">2015-12-31</td>\n",
      "\t\t\t\t\n",
      "\t\t\t\t\n",
      "\t\t\t\t\n",
      "\t\t\t\t\t\t\t\t\t\t\n",
      "\t\t\t\t\t\t\t\t\t\t\n",
      "\t\t\t\t\t\t<td style=\"text-align:center\">$1,214</td>\n",
      "\t\t\t\t\t\t\n",
      "\t\t\t\t\t\t\t\t\t\n",
      "\t\t\t\t\t\t\t\t\n",
      "\t\t\t\t  </tr>\n",
      "\t\t\t\t  \n",
      "\t\t\t\t\t\t\t\t\t\t\t\t\n",
      "\t\t\t\t<tr>\n",
      "\t\t\t\t\t<td style=\"text-align:center\">2015-09-30</td>\n",
      "\t\t\t\t\n",
      "\t\t\t\t\n",
      "\t\t\t\t\n",
      "\t\t\t\t\t\t\t\t\t\t\n",
      "\t\t\t\t\t\t\t\t\t\t\n",
      "\t\t\t\t\t\t<td style=\"text-align:center\">$937</td>\n",
      "\t\t\t\t\t\t\n",
      "\t\t\t\t\t\t\t\t\t\n",
      "\t\t\t\t\t\t\t\t\n",
      "\t\t\t\t  </tr>\n",
      "\t\t\t\t  \n",
      "\t\t\t\t\t\t\t\t\t\t\t\t\n",
      "\t\t\t\t<tr>\n",
      "\t\t\t\t\t<td style=\"text-align:center\">2015-06-30</td>\n",
      "\t\t\t\t\n",
      "\t\t\t\t\n",
      "\t\t\t\t\n",
      "\t\t\t\t\t\t\t\t\t\t\n",
      "\t\t\t\t\t\t\t\t\t\t\n",
      "\t\t\t\t\t\t<td style=\"text-align:center\">$955</td>\n",
      "\t\t\t\t\t\t\n",
      "\t\t\t\t\t\t\t\t\t\n",
      "\t\t\t\t\t\t\t\t\n",
      "\t\t\t\t  </tr>\n",
      "\t\t\t\t  \n",
      "\t\t\t\t\t\t\t\t\t\t\t\t\n",
      "\t\t\t\t<tr>\n",
      "\t\t\t\t\t<td style=\"text-align:center\">2015-03-31</td>\n",
      "\t\t\t\t\n",
      "\t\t\t\t\n",
      "\t\t\t\t\n",
      "\t\t\t\t\t\t\t\t\t\t\n",
      "\t\t\t\t\t\t\t\t\t\t\n",
      "\t\t\t\t\t\t<td style=\"text-align:center\">$940</td>\n",
      "\t\t\t\t\t\t\n",
      "\t\t\t\t\t\t\t\t\t\n",
      "\t\t\t\t\t\t\t\t\n",
      "\t\t\t\t  </tr>\n",
      "\t\t\t\t  \n",
      "\t\t\t\t\t\t\t\t\t\t\t\t\n",
      "\t\t\t\t<tr>\n",
      "\t\t\t\t\t<td style=\"text-align:center\">2014-12-31</td>\n",
      "\t\t\t\t\n",
      "\t\t\t\t\n",
      "\t\t\t\t\n",
      "\t\t\t\t\t\t\t\t\t\t\n",
      "\t\t\t\t\t\t\t\t\t\t\n",
      "\t\t\t\t\t\t<td style=\"text-align:center\">$957</td>\n",
      "\t\t\t\t\t\t\n",
      "\t\t\t\t\t\t\t\t\t\n",
      "\t\t\t\t\t\t\t\t\n",
      "\t\t\t\t  </tr>\n",
      "\t\t\t\t  \n",
      "\t\t\t\t\t\t\t\t\t\t\t\t\n",
      "\t\t\t\t<tr>\n",
      "\t\t\t\t\t<td style=\"text-align:center\">2014-09-30</td>\n",
      "\t\t\t\t\n",
      "\t\t\t\t\n",
      "\t\t\t\t\n",
      "\t\t\t\t\t\t\t\t\t\t\n",
      "\t\t\t\t\t\t\t\t\t\t\n",
      "\t\t\t\t\t\t<td style=\"text-align:center\">$852</td>\n",
      "\t\t\t\t\t\t\n",
      "\t\t\t\t\t\t\t\t\t\n",
      "\t\t\t\t\t\t\t\t\n",
      "\t\t\t\t  </tr>\n",
      "\t\t\t\t  \n",
      "\t\t\t\t\t\t\t\t\t\t\t\t\n",
      "\t\t\t\t<tr>\n",
      "\t\t\t\t\t<td style=\"text-align:center\">2014-06-30</td>\n",
      "\t\t\t\t\n",
      "\t\t\t\t\n",
      "\t\t\t\t\n",
      "\t\t\t\t\t\t\t\t\t\t\n",
      "\t\t\t\t\t\t\t\t\t\t\n",
      "\t\t\t\t\t\t<td style=\"text-align:center\">$769</td>\n",
      "\t\t\t\t\t\t\n",
      "\t\t\t\t\t\t\t\t\t\n",
      "\t\t\t\t\t\t\t\t\n",
      "\t\t\t\t  </tr>\n",
      "\t\t\t\t  \n",
      "\t\t\t\t\t\t\t\t\t\t\t\t\n",
      "\t\t\t\t<tr>\n",
      "\t\t\t\t\t<td style=\"text-align:center\">2014-03-31</td>\n",
      "\t\t\t\t\n",
      "\t\t\t\t\n",
      "\t\t\t\t\n",
      "\t\t\t\t\t\t\t\t\t\t\n",
      "\t\t\t\t\t\t\t\t\t\t\n",
      "\t\t\t\t\t\t<td style=\"text-align:center\">$621</td>\n",
      "\t\t\t\t\t\t\n",
      "\t\t\t\t\t\t\t\t\t\n",
      "\t\t\t\t\t\t\t\t\n",
      "\t\t\t\t  </tr>\n",
      "\t\t\t\t  \n",
      "\t\t\t\t\t\t\t\t\t\t\t\t\n",
      "\t\t\t\t<tr>\n",
      "\t\t\t\t\t<td style=\"text-align:center\">2013-12-31</td>\n",
      "\t\t\t\t\n",
      "\t\t\t\t\n",
      "\t\t\t\t\n",
      "\t\t\t\t\t\t\t\t\t\t\n",
      "\t\t\t\t\t\t\t\t\t\t\n",
      "\t\t\t\t\t\t<td style=\"text-align:center\">$615</td>\n",
      "\t\t\t\t\t\t\n",
      "\t\t\t\t\t\t\t\t\t\n",
      "\t\t\t\t\t\t\t\t\n",
      "\t\t\t\t  </tr>\n",
      "\t\t\t\t  \n",
      "\t\t\t\t\t\t\t\t\t\t\t\t\n",
      "\t\t\t\t<tr>\n",
      "\t\t\t\t\t<td style=\"text-align:center\">2013-09-30</td>\n",
      "\t\t\t\t\n",
      "\t\t\t\t\n",
      "\t\t\t\t\n",
      "\t\t\t\t\t\t\t\t\t\t\n",
      "\t\t\t\t\t\t\t\t\t\t\n",
      "\t\t\t\t\t\t<td style=\"text-align:center\">$431</td>\n",
      "\t\t\t\t\t\t\n",
      "\t\t\t\t\t\t\t\t\t\n",
      "\t\t\t\t\t\t\t\t\n",
      "\t\t\t\t  </tr>\n",
      "\t\t\t\t  \n",
      "\t\t\t\t\t\t\t\t\t\t\t\t\n",
      "\t\t\t\t<tr>\n",
      "\t\t\t\t\t<td style=\"text-align:center\">2013-06-30</td>\n",
      "\t\t\t\t\n",
      "\t\t\t\t\n",
      "\t\t\t\t\n",
      "\t\t\t\t\t\t\t\t\t\t\n",
      "\t\t\t\t\t\t\t\t\t\t\n",
      "\t\t\t\t\t\t<td style=\"text-align:center\">$405</td>\n",
      "\t\t\t\t\t\t\n",
      "\t\t\t\t\t\t\t\t\t\n",
      "\t\t\t\t\t\t\t\t\n",
      "\t\t\t\t  </tr>\n",
      "\t\t\t\t  \n",
      "\t\t\t\t\t\t\t\t\t\t\t\t\n",
      "\t\t\t\t<tr>\n",
      "\t\t\t\t\t<td style=\"text-align:center\">2013-03-31</td>\n",
      "\t\t\t\t\n",
      "\t\t\t\t\n",
      "\t\t\t\t\n",
      "\t\t\t\t\t\t\t\t\t\t\n",
      "\t\t\t\t\t\t\t\t\t\t\n",
      "\t\t\t\t\t\t<td style=\"text-align:center\">$562</td>\n",
      "\t\t\t\t\t\t\n",
      "\t\t\t\t\t\t\t\t\t\n",
      "\t\t\t\t\t\t\t\t\n",
      "\t\t\t\t  </tr>\n",
      "\t\t\t\t  \n",
      "\t\t\t\t\t\t\t\t\t\t\t\t\n",
      "\t\t\t\t<tr>\n",
      "\t\t\t\t\t<td style=\"text-align:center\">2012-12-31</td>\n",
      "\t\t\t\t\n",
      "\t\t\t\t\n",
      "\t\t\t\t\n",
      "\t\t\t\t\t\t\t\t\t\t\n",
      "\t\t\t\t\t\t\t\t\t\t\n",
      "\t\t\t\t\t\t<td style=\"text-align:center\">$306</td>\n",
      "\t\t\t\t\t\t\n",
      "\t\t\t\t\t\t\t\t\t\n",
      "\t\t\t\t\t\t\t\t\n",
      "\t\t\t\t  </tr>\n",
      "\t\t\t\t  \n",
      "\t\t\t\t\t\t\t\t\t\t\t\t\n",
      "\t\t\t\t<tr>\n",
      "\t\t\t\t\t<td style=\"text-align:center\">2012-09-30</td>\n",
      "\t\t\t\t\n",
      "\t\t\t\t\n",
      "\t\t\t\t\n",
      "\t\t\t\t\t\t\t\t\t\t\n",
      "\t\t\t\t\t\t\t\t\t\t\n",
      "\t\t\t\t\t\t<td style=\"text-align:center\">$50</td>\n",
      "\t\t\t\t\t\t\n",
      "\t\t\t\t\t\t\t\t\t\n",
      "\t\t\t\t\t\t\t\t\n",
      "\t\t\t\t  </tr>\n",
      "\t\t\t\t  \n",
      "\t\t\t\t\t\t\t\t\t\t\t\t\n",
      "\t\t\t\t<tr>\n",
      "\t\t\t\t\t<td style=\"text-align:center\">2012-06-30</td>\n",
      "\t\t\t\t\n",
      "\t\t\t\t\n",
      "\t\t\t\t\n",
      "\t\t\t\t\t\t\t\t\t\t\n",
      "\t\t\t\t\t\t\t\t\t\t\n",
      "\t\t\t\t\t\t<td style=\"text-align:center\">$27</td>\n",
      "\t\t\t\t\t\t\n",
      "\t\t\t\t\t\t\t\t\t\n",
      "\t\t\t\t\t\t\t\t\n",
      "\t\t\t\t  </tr>\n",
      "\t\t\t\t  \n",
      "\t\t\t\t\t\t\t\t\t\t\t\t\n",
      "\t\t\t\t<tr>\n",
      "\t\t\t\t\t<td style=\"text-align:center\">2012-03-31</td>\n",
      "\t\t\t\t\n",
      "\t\t\t\t\n",
      "\t\t\t\t\n",
      "\t\t\t\t\t\t\t\t\t\t\n",
      "\t\t\t\t\t\t\t\t\t\t\n",
      "\t\t\t\t\t\t<td style=\"text-align:center\">$30</td>\n",
      "\t\t\t\t\t\t\n",
      "\t\t\t\t\t\t\t\t\t\n",
      "\t\t\t\t\t\t\t\t\n",
      "\t\t\t\t  </tr>\n",
      "\t\t\t\t  \n",
      "\t\t\t\t\t\t\t\t\t\t\t\t\n",
      "\t\t\t\t<tr>\n",
      "\t\t\t\t\t<td style=\"text-align:center\">2011-12-31</td>\n",
      "\t\t\t\t\n",
      "\t\t\t\t\n",
      "\t\t\t\t\n",
      "\t\t\t\t\t\t\t\t\t\t\n",
      "\t\t\t\t\t\t\t\t\t\t\n",
      "\t\t\t\t\t\t<td style=\"text-align:center\">$39</td>\n",
      "\t\t\t\t\t\t\n",
      "\t\t\t\t\t\t\t\t\t\n",
      "\t\t\t\t\t\t\t\t\n",
      "\t\t\t\t  </tr>\n",
      "\t\t\t\t  \n",
      "\t\t\t\t\t\t\t\t\t\t\t\t\n",
      "\t\t\t\t<tr>\n",
      "\t\t\t\t\t<td style=\"text-align:center\">2011-09-30</td>\n",
      "\t\t\t\t\n",
      "\t\t\t\t\n",
      "\t\t\t\t\n",
      "\t\t\t\t\t\t\t\t\t\t\n",
      "\t\t\t\t\t\t\t\t\t\t\n",
      "\t\t\t\t\t\t<td style=\"text-align:center\">$58</td>\n",
      "\t\t\t\t\t\t\n",
      "\t\t\t\t\t\t\t\t\t\n",
      "\t\t\t\t\t\t\t\t\n",
      "\t\t\t\t  </tr>\n",
      "\t\t\t\t  \n",
      "\t\t\t\t\t\t\t\t\t\t\t\t\n",
      "\t\t\t\t<tr>\n",
      "\t\t\t\t\t<td style=\"text-align:center\">2011-06-30</td>\n",
      "\t\t\t\t\n",
      "\t\t\t\t\n",
      "\t\t\t\t\n",
      "\t\t\t\t\t\t\t\t\t\t\n",
      "\t\t\t\t\t\t\t\t\t\t\n",
      "\t\t\t\t\t\t<td style=\"text-align:center\">$58</td>\n",
      "\t\t\t\t\t\t\n",
      "\t\t\t\t\t\t\t\t\t\n",
      "\t\t\t\t\t\t\t\t\n",
      "\t\t\t\t  </tr>\n",
      "\t\t\t\t  \n",
      "\t\t\t\t\t\t\t\t\t\t\t\t\n",
      "\t\t\t\t<tr>\n",
      "\t\t\t\t\t<td style=\"text-align:center\">2011-03-31</td>\n",
      "\t\t\t\t\n",
      "\t\t\t\t\n",
      "\t\t\t\t\n",
      "\t\t\t\t\t\t\t\t\t\t\n",
      "\t\t\t\t\t\t\t\t\t\t\n",
      "\t\t\t\t\t\t<td style=\"text-align:center\">$49</td>\n",
      "\t\t\t\t\t\t\n",
      "\t\t\t\t\t\t\t\t\t\n",
      "\t\t\t\t\t\t\t\t\n",
      "\t\t\t\t  </tr>\n",
      "\t\t\t\t  \n",
      "\t\t\t\t\t\t\t\t\t\t\t\t\n",
      "\t\t\t\t<tr>\n",
      "\t\t\t\t\t<td style=\"text-align:center\">2010-12-31</td>\n",
      "\t\t\t\t\n",
      "\t\t\t\t\n",
      "\t\t\t\t\n",
      "\t\t\t\t\t\t\t\t\t\t\n",
      "\t\t\t\t\t\t\t\t\t\t\n",
      "\t\t\t\t\t\t<td style=\"text-align:center\">$36</td>\n",
      "\t\t\t\t\t\t\n",
      "\t\t\t\t\t\t\t\t\t\n",
      "\t\t\t\t\t\t\t\t\n",
      "\t\t\t\t  </tr>\n",
      "\t\t\t\t  \n",
      "\t\t\t\t\t\t\t\t\t\t\t\t\n",
      "\t\t\t\t<tr>\n",
      "\t\t\t\t\t<td style=\"text-align:center\">2010-09-30</td>\n",
      "\t\t\t\t\n",
      "\t\t\t\t\n",
      "\t\t\t\t\n",
      "\t\t\t\t\t\t\t\t\t\t\n",
      "\t\t\t\t\t\t\t\t\t\t\n",
      "\t\t\t\t\t\t<td style=\"text-align:center\">$31</td>\n",
      "\t\t\t\t\t\t\n",
      "\t\t\t\t\t\t\t\t\t\n",
      "\t\t\t\t\t\t\t\t\n",
      "\t\t\t\t  </tr>\n",
      "\t\t\t\t  \n",
      "\t\t\t\t\t\t\t\t\t\t\t\t\n",
      "\t\t\t\t<tr>\n",
      "\t\t\t\t\t<td style=\"text-align:center\">2010-06-30</td>\n",
      "\t\t\t\t\n",
      "\t\t\t\t\n",
      "\t\t\t\t\n",
      "\t\t\t\t\t\t\t\t\t\t\n",
      "\t\t\t\t\t\t\t\t\t\t\n",
      "\t\t\t\t\t\t<td style=\"text-align:center\">$28</td>\n",
      "\t\t\t\t\t\t\n",
      "\t\t\t\t\t\t\t\t\t\n",
      "\t\t\t\t\t\t\t\t\n",
      "\t\t\t\t  </tr>\n",
      "\t\t\t\t  \n",
      "\t\t\t\t\t\t\t\t\t\t\t\t\n",
      "\t\t\t\t<tr>\n",
      "\t\t\t\t\t<td style=\"text-align:center\">2010-03-31</td>\n",
      "\t\t\t\t\n",
      "\t\t\t\t\n",
      "\t\t\t\t\n",
      "\t\t\t\t\t\t\t\t\t\t\n",
      "\t\t\t\t\t\t\t\t\t\t\n",
      "\t\t\t\t\t\t<td style=\"text-align:center\">$21</td>\n",
      "\t\t\t\t\t\t\n",
      "\t\t\t\t\t\t\t\t\t\n",
      "\t\t\t\t\t\t\t\t\n",
      "\t\t\t\t  </tr>\n",
      "\t\t\t\t  \n",
      "\t\t\t\t\t\t\t\t\t\t\t\t\n",
      "\t\t\t\t<tr>\n",
      "\t\t\t\t\t<td style=\"text-align:center\">2009-12-31</td>\n",
      "\t\t\t\t\n",
      "\t\t\t\t\n",
      "\t\t\t\t\n",
      "\t\t\t\t\t\t\t\t\t\t\n",
      "\t\t\t\t\t\n",
      "\t\t\t\t\t\t<td style=\"text-align:center\"></td>\t\t\t\t\t\n",
      "\t\t\t\t\t\n",
      "\t\t\t\t\t\t\t\t\t\n",
      "\t\t\t\t\t\t\t\t\n",
      "\t\t\t\t  </tr>\n",
      "\t\t\t\t  \n",
      "\t\t\t\t\t\t\t\t\t\t\t\t\n",
      "\t\t\t\t<tr>\n",
      "\t\t\t\t\t<td style=\"text-align:center\">2009-09-30</td>\n",
      "\t\t\t\t\n",
      "\t\t\t\t\n",
      "\t\t\t\t\n",
      "\t\t\t\t\t\t\t\t\t\t\n",
      "\t\t\t\t\t\t\t\t\t\t\n",
      "\t\t\t\t\t\t<td style=\"text-align:center\">$46</td>\n",
      "\t\t\t\t\t\t\n",
      "\t\t\t\t\t\t\t\t\t\n",
      "\t\t\t\t\t\t\t\t\n",
      "\t\t\t\t  </tr>\n",
      "\t\t\t\t  \n",
      "\t\t\t\t\t\t\t\t\t\t\t\t\n",
      "\t\t\t\t<tr>\n",
      "\t\t\t\t\t<td style=\"text-align:center\">2009-06-30</td>\n",
      "\t\t\t\t\n",
      "\t\t\t\t\n",
      "\t\t\t\t\n",
      "\t\t\t\t\t\t\t\t\t\t\n",
      "\t\t\t\t\t\t\t\t\t\t\n",
      "\t\t\t\t\t\t<td style=\"text-align:center\">$27</td>\n",
      "\t\t\t\t\t\t\n",
      "\t\t\t\t\t\t\t\t\t\n",
      "\t\t\t\t\t\t\t\t\n",
      "\t\t\t\t  </tr>\n",
      "\t\t\t\t  \n",
      "\t\t\t\t  \n",
      "\t\t\t\t</tbody>\n",
      "\t\t\t  </table>\n",
      "\t\t\t  \n",
      "\t\t\t  </div>\n",
      "\t\t\t  \n",
      "\n",
      "\t\t\t\n",
      "</div>\t\t\t\n",
      "\t\t\t\n",
      "\t\t\t\n",
      "\t\t\n",
      "\t\t<div style=\"background-color:#fff; margin: 0px 0px 20px 0px; padding:5px 50px 5px 10px; border:1px solid #dfdfdf;\">\n",
      "\n",
      "\t\t\t  <table class=\"historical_data_table table\">\n",
      "\t\t\t\t<thead>\n",
      "\t\t\t\t  <tr>\n",
      "\t\t\t\t\t<th style=\"text-align:center\">Sector</th>\n",
      "\t\t\t\t\t<th style=\"text-align:center\">Industry</th>\n",
      "\t\t\t\t\t<th style=\"text-align:center\">Market Cap</th>\n",
      "\t\t\t\t\t<th style=\"text-align:center\">Revenue</th>\n",
      "\t\t\t\t  </tr>\n",
      "\t\t\t\t</thead>\n",
      "\t\t\t\t<tbody>\n",
      "\t\t\t\t  <tr>\n",
      "\t\t\t\t\t<td style=\"text-align:center\"><a href='https://www.macrotrends.net/stocks/sector/5/auto-tires-trucks'>Auto/Tires/Trucks</a></td>\n",
      "\t\t\t\t\t<td style=\"text-align:center\"><a href='https://www.macrotrends.net/stocks/industry/7/'>Auto Manufacturers - Domestic</a></td>\n",
      "\t\t\t\t\t<td style=\"text-align:center\">$549.575B</td>\n",
      "\t\t\t\t\t<td style=\"text-align:center\">$53.823B</td>\n",
      "\t\t\t\t  </tr>\n",
      "\t\t\t\t  <tr>\n",
      "\t\t\t\t\t  <td colspan=\"4\" style=\"padding:15px;\">\n",
      "\t\t\t\t\t\t<span>Tesla is the market leader in battery-powered electric car sales in the United States, with roughly 70% market share. The company's flagship Model 3 is the best-selling EV model in the United States. Tesla, which has managed to garner the reputation of a gold standard over the years, is now a far bigger entity that what it started off since its IPO in 2010, with its market cap crossing $1 trillion for the first time in October 2021.? The EV king's market capitalization is more than the combined value of legacy automakers including Toyota, Volkswagen, Daimler, General Motors and Ford.Over the years, Tesla has shifted from developing niche products for affluent buyers to making more affordable EVs for the masses. The firm's three-pronged business model approach of direct sales, servicing, and charging its EVs sets it apart from other carmakers. Tesla, which is touted as the clean energy revolutionary automaker, is much more than just a car manufacturer.</span>\n",
      "\t\t\t\t\t  </td>\n",
      "\t\t\t\t  </tr>\n",
      "\t\t\t\t</tbody>\n",
      "\t\t\t  </table>\t\t\t\n",
      "\t\t\t</div>\t\n",
      "\t\n",
      "\t\t\n",
      "\t\t<div style=\"background-color:#fff; margin: 20px 0px 30px 0px; padding:5px 50px 5px 10px; border:1px solid #dfdfdf;\">\n",
      "\t\t\t\n",
      "\n",
      "\t\t\t\t<table class=\"historical_data_table table\">\n",
      "\t\t\t\t<thead>\n",
      "\t\t\t\t  <tr>\n",
      "\t\t\t\t\t<th style=\"text-align:center; width:40%;\">Stock Name</th>\n",
      "\t\t\t\t\t<th style=\"text-align:center; width:20%;\">Country</th>\n",
      "\t\t\t\t\t<th style=\"text-align:center; width:20%;\">Market Cap</th>\n",
      "\t\t\t\t\t<th style=\"text-align:center; width:20%;\">PE Ratio</th>\n",
      "\t\t\t\t  </tr>\n",
      "\t\t\t\t</thead>\n",
      "\t\t\t\t<tbody>\t\t\t\n",
      "\n",
      "\t\t\t\t\t\t\n",
      "\t\t\t\t\t\t\n",
      "\t\t\t\t<tr>\n",
      "\t\t\t\t\t<td style=\"text-align:left\"><a href='/stocks/charts/GM/general-motors/revenue'>General Motors (GM)</a></td>\n",
      "\t\t\t\t\t<td style=\"text-align:center\">United States</td>\n",
      "\t\t\t\t\t<td style=\"text-align:center\">$53.930B</td>\n",
      "\t\t\t\t\t<td style=\"text-align:center\">5.56</td>\n",
      "\t\t\t\t </tr>\n",
      "\n",
      "\t\t\t\t\t\t\n",
      "\t\t\t\t\t\t\n",
      "\t\t\t\t<tr>\n",
      "\t\t\t\t\t<td style=\"text-align:left\"><a href='/stocks/charts/F/ford-motor/revenue'>Ford Motor (F)</a></td>\n",
      "\t\t\t\t\t<td style=\"text-align:center\">United States</td>\n",
      "\t\t\t\t\t<td style=\"text-align:center\">$52.668B</td>\n",
      "\t\t\t\t\t<td style=\"text-align:center\">8.09</td>\n",
      "\t\t\t\t </tr>\n",
      "\n",
      "\t\t\t\t\t\t\n",
      "\t\t\t\t\t\t\n",
      "\t\t\t\t<tr>\n",
      "\t\t\t\t\t<td style=\"text-align:left\"><a href='/stocks/charts/HOG/harley-davidson/revenue'>Harley-Davidson (HOG)</a></td>\n",
      "\t\t\t\t\t<td style=\"text-align:center\">United States</td>\n",
      "\t\t\t\t\t<td style=\"text-align:center\">$6.762B</td>\n",
      "\t\t\t\t\t<td style=\"text-align:center\">9.56</td>\n",
      "\t\t\t\t </tr>\n",
      "\n",
      "\t\t\t\t\t\t\n",
      "\t\t\t\t\t\t\n",
      "\t\t\t\t<tr>\n",
      "\t\t\t\t\t<td style=\"text-align:left\"><a href='/stocks/charts/PII/polaris/revenue'>Polaris (PII)</a></td>\n",
      "\t\t\t\t\t<td style=\"text-align:center\">United States</td>\n",
      "\t\t\t\t\t<td style=\"text-align:center\">$6.267B</td>\n",
      "\t\t\t\t\t<td style=\"text-align:center\">11.86</td>\n",
      "\t\t\t\t </tr>\n",
      "\n",
      "\t\t\t\t\t\t\n",
      "\t\t\t\t\t\t\n",
      "\t\t\t\t<tr>\n",
      "\t\t\t\t\t<td style=\"text-align:left\"><a href='/stocks/charts/IAA/iaa/revenue'>IAA (IAA)</a></td>\n",
      "\t\t\t\t\t<td style=\"text-align:center\">United States</td>\n",
      "\t\t\t\t\t<td style=\"text-align:center\">$5.134B</td>\n",
      "\t\t\t\t\t<td style=\"text-align:center\">16.40</td>\n",
      "\t\t\t\t </tr>\n",
      "\n",
      "\t\t\t\t\t\t\n",
      "\t\t\t\t\t\t\n",
      "\t\t\t\t<tr>\n",
      "\t\t\t\t\t<td style=\"text-align:left\"><a href='/stocks/charts/FSR/fisker/revenue'>Fisker (FSR)</a></td>\n",
      "\t\t\t\t\t<td style=\"text-align:center\">United States</td>\n",
      "\t\t\t\t\t<td style=\"text-align:center\">$2.261B</td>\n",
      "\t\t\t\t\t<td style=\"text-align:center\">0.00</td>\n",
      "\t\t\t\t </tr>\n",
      "\n",
      "\t\t\t\t\t\t\n",
      "\t\t\t\t\t\t\n",
      "\t\t\t\t<tr>\n",
      "\t\t\t\t\t<td style=\"text-align:left\"><a href='/stocks/charts/LEV/lion-electric/revenue'>Lion Electric (LEV)</a></td>\n",
      "\t\t\t\t\t<td style=\"text-align:center\">Canada</td>\n",
      "\t\t\t\t\t<td style=\"text-align:center\">$0.551B</td>\n",
      "\t\t\t\t\t<td style=\"text-align:center\">0.00</td>\n",
      "\t\t\t\t </tr>\n",
      "\n",
      "\t\t\t\t\t\t\n",
      "\t\t\t\t\t\t\n",
      "\t\t\t\t<tr>\n",
      "\t\t\t\t\t<td style=\"text-align:left\"><a href='/stocks/charts/VLTA/volta/revenue'>Volta (VLTA)</a></td>\n",
      "\t\t\t\t\t<td style=\"text-align:center\">United States</td>\n",
      "\t\t\t\t\t<td style=\"text-align:center\">$0.071B</td>\n",
      "\t\t\t\t\t<td style=\"text-align:center\">0.00</td>\n",
      "\t\t\t\t </tr>\n",
      "\n",
      "\t\t\t\t\t\t\n",
      "\t\t\t\t\t\t\n",
      "\t\t\t\t<tr>\n",
      "\t\t\t\t\t<td style=\"text-align:left\"><a href='/stocks/charts/BRDS/bird-global/revenue'>Bird Global (BRDS)</a></td>\n",
      "\t\t\t\t\t<td style=\"text-align:center\">United States</td>\n",
      "\t\t\t\t\t<td style=\"text-align:center\">$0.054B</td>\n",
      "\t\t\t\t\t<td style=\"text-align:center\">0.00</td>\n",
      "\t\t\t\t </tr>\n",
      "\n",
      "\t\t\t\t\t\t\n",
      "\t\t\t\t\t\t\n",
      "\t\t\t\t<tr>\n",
      "\t\t\t\t\t<td style=\"text-align:left\"><a href='/stocks/charts/ZEV/lightning-emotors/revenue'>Lightning EMotors (ZEV)</a></td>\n",
      "\t\t\t\t\t<td style=\"text-align:center\">United States</td>\n",
      "\t\t\t\t\t<td style=\"text-align:center\">$0.043B</td>\n",
      "\t\t\t\t\t<td style=\"text-align:center\">0.00</td>\n",
      "\t\t\t\t </tr>\n",
      "\n",
      "\t\t\t\t\t\t\n",
      "\t\t\t\t</tbody>\n",
      "\t\t\t  </table>\t\t\t\n",
      "\t\t\t\n",
      "\t\t\t</div>\n",
      "\t\t\t\n",
      "\t\t\t\n",
      "\t\t\t<div>\n",
      "\t\t\t\n",
      "\t\t\t<!-- Partner Center Ad Unit -->\n",
      "\t\t\t<div id=\"IC_728x214_1\" style=\"width:728px; height:214px; margin-left:30px;\">\n",
      "\t\t\t\n",
      "\t\t\t\n",
      "\t\t\t</div>\n",
      "\t\t\t\n",
      "\t\t\t\n",
      "\t\t\t</div>\n",
      "\t\t\t\n",
      "\t\t\t\n",
      "\n",
      "\t\t\t</div>\n",
      "\t\t\t\n",
      "\n",
      "\t\t\t<div id=\"right_sidebar\"\">\n",
      "\n",
      "\t\t\t\t<!--<a href=\"/stocks/stock-screener\" style=\"text-decoration:none; color: #fff; \">\n",
      "\t\t\t\t\t<div style=\"margin:0px; padding: 20px; width:300px; background-color: #01579b; min-height:150px; text-align:center;\">\n",
      "\n",
      "\t\t\t\t\t\t<h2 style=\"font-weight:600;\">Try our new<br />stock screener!</h2></a>\n",
      "\n",
      "\t\t\t\t\t</div>\n",
      "\t\t\t\t</a>-->\n",
      "\n",
      "\t\t\t\t<!--<div style=\"margin-top:0px; min-height:250px;\">\n",
      "\n",
      "\t\t\t\t\t<script src='//ads.investingchannel.com/adtags/Macrotrends/fundamentalanalysis/300x600.js?zhpos=300_2&multi_size=false' type='text/javascript' charset='utf-8'></script>\n",
      "\n",
      "\t\t\t\t</div>-->\n",
      "\t\t\t\t\n",
      "\t\t\t\t\t\t\t\n",
      "\t\t\t\t\n",
      "\t\t\t\t\n",
      "\t\t\t\t\n",
      "\t\t\t\t\n",
      "\t\t\t\t<div style=\"margin-top:0px; min-height:250px;\">\n",
      "\n",
      "\t\t\t\t\t<div id=\"ic_300x250_1\">\n",
      "\n",
      "\t\t\t\t\t\n",
      "\t\t\t\t\t</div>\n",
      "\t\t\t\t\t\n",
      "\t\t\t\t</div>\n",
      "\t\t\t\t\n",
      "\t\t\t\t<div id=\"sticky_ad_right\" style=\"margin-top:30px; height:1000px;\">\n",
      "\t\t\t\t\n",
      "\t\t\t\t\t<script type=\"text/javascript\" id=\"dianomi_context_script\" src=\"https://www.dianomi.com/js/contextfeed.js\"></script>\n",
      "\t\t\t\t\t<div class=\"dianomi_context\" data-dianomi-context-id=\"743\"></div>\n",
      "\n",
      "\t\t\t\t\t<!-- <div id=\"IC_D_300x250_BCC\"></div>-->\n",
      "\n",
      "\t\t\t\t\t<!--Smartad # 2981: Macrotrends - 300x670 Right Rail-->\n",
      "\t\t\t\t\t<iframe id=\"dianomi_sidebar\" width=\"300\" height=\"670\" scrolling=\"NO\" src=\"//www.dianomi.com/smartads.epl?id=4059\"  style=\"width: 300px; border: none; overflow: hidden;\"></iframe>\n",
      "\t\t\t\t\t\n",
      "\t\t\t\t\t<div id=\"IC_D_300x250_BCC\"></div>\n",
      "\n",
      "\n",
      "\t\t\t\t</div>\t\t\t\n",
      "\n",
      "\t\n",
      "\t\t\t\t\n",
      "\n",
      "\t\t\t\t\n",
      "\t\t\t</div>\n",
      "\t\t\t\n",
      "\t\t\t\n",
      "\t\t\t\n",
      "\t\t\t\t\t\t\n",
      "\t\t</div>\n",
      "\t\t</div>\n",
      "\t\t\n",
      "\n",
      "<!--This is the div for the IC OOP ad-->\n",
      "<div id=\"oopDivTag_1\" style=\"width:1px;height:1px;\"></div>\n",
      "\t\t\n",
      "\n",
      "<footer class=\"footer\">\n",
      "\n",
      "\t\t<span>&copy; 2010-2022 Macrotrends LLC</span>&nbsp;&nbsp;|&nbsp;&nbsp;\n",
      "\t\t  <a href=\"/terms\">Terms of Service</a>\n",
      "\t\t  &nbsp;&nbsp;|&nbsp;&nbsp;\n",
      "\t\t  <a href=\"/privacy\">Privacy Policy</a>&nbsp;&nbsp;|&nbsp;&nbsp;\n",
      "\t\t  <a href=\"ma&#105;lt&#111;&#58;%&#54;&#57;n%66&#111;&#64;%6D&#97;c%72&#111;&#116;rends&#37;2&#69;&#110;%65t\">Contact Us</a>&nbsp;&nbsp;|&nbsp;&nbsp;\n",
      "\t\t  <a href=\"/ccpa\">Do Not Sell My Personal Information</a>\n",
      "\t\t  <br />\n",
      "\t\t  <span>Fundamental data from </span><a target=\"_blank\" rel=\"nofollow\" href=\"https://www.zacksdata.com\">Zacks Investment Research, Inc.</a>\n",
      "\n",
      "\n",
      "</footer>\n",
      "\n",
      "<div class=\"modal\" id=\"smallWidthModal1\" tabindex=\"-1\" role=\"dialog\" aria-labelledby=\"exampleModalLabel\" aria-hidden=\"true\">\n",
      "  <div class=\"modal-dialog modal-lg\">\n",
      "    <div class=\"modal-content\">\n",
      "      <div class=\"modal-body\">\n",
      "\t  \t  \n",
      "\t\t<div class=\"modal_title\"><h2><strong>We Need Your Support!</strong></h2></div>\n",
      "\n",
      "\t\t<p>Backlinks from other websites are the lifeblood of our site and a primary source of new traffic.<p>\n",
      "\t\t\n",
      "<p>If you use our chart images on your site or blog, we ask that you provide attribution via a \"dofollow\" link back to this page.  We have provided a few examples below that you can copy and paste to your site:</p>\n",
      "\n",
      "<br />\n",
      "\n",
      "<table class=\"table\">\n",
      "<thead>\n",
      "<tr>\n",
      "<th>Link Preview</th>\n",
      "<th>HTML Code (Click to Copy)</th>\n",
      "</tr>\n",
      "</thead>\n",
      "<tbody>\n",
      "<tr>\n",
      "<td><a>Tesla Revenue 2010-2022 | TSLA</a></td>\n",
      "<td><input type=\"text\" class=\"modal_link\" size=\"60\" value=\"<a href='https://www.macrotrends.net/stocks/charts/TSLA/tesla/revenue'>Tesla Revenue 2010-2022 | TSLA</a>\"></td>\n",
      "</tr>\n",
      "<tr>\n",
      "<td><a>Macrotrends</a></td>\n",
      "<td><input type=\"text\" class=\"modal_link\" size=\"60\" value=\"<a href='https://www.macrotrends.net/stocks/charts/TSLA/tesla/revenue'>Macrotrends</a>\"></td>\n",
      "</tr>\n",
      "<tr>\n",
      "<td><a>Source</a></td>\n",
      "<td><input type=\"text\" class=\"modal_link\" size=\"60\" value=\"<a href='https://www.macrotrends.net/stocks/charts/TSLA/tesla/revenue'>Source</a>\"></td>\n",
      "</tr>\n",
      "\n",
      "\n",
      "\n",
      "</tbody>\n",
      "</table>\n",
      "\n",
      "<br />\n",
      "\n",
      "<p style=\"text-align:center\">Your image export is now complete.  Please check your download folder. </p>\n",
      "\n",
      "      </div>\n",
      "      <div class=\"modal-footer\">\n",
      "        <button type=\"button\" class=\"btn btn-primary\" data-dismiss=\"modal\">Close Window</button>\n",
      "      </div>\n",
      "    </div>\n",
      "  </div>\n",
      "</div>\n",
      "\n",
      "\n",
      "<div class=\"modal\" id=\"smallWidthModal2\" tabindex=\"-1\" role=\"dialog\" aria-labelledby=\"exampleModalLabel\" aria-hidden=\"true\">\n",
      "  <div class=\"modal-dialog modal-lg\">\n",
      "    <div class=\"modal-content\">\n",
      "      <div class=\"modal-body\">\n",
      "\t  \t  \n",
      "\t\t<div class=\"modal_title\"><h2><strong>We Need Your Support!</strong></h2></div>\n",
      "\n",
      "\t\t<p>Backlinks from other websites are the lifeblood of our site and a primary source of new traffic.<p>\n",
      "\t\t\n",
      "<p>If you use our datasets on your site or blog, we ask that you provide attribution via a \"dofollow\" link back to this page.  We have provided a few examples below that you can copy and paste to your site:</p>\n",
      "\n",
      "<br />\n",
      "\n",
      "<table class=\"table\">\n",
      "<thead>\n",
      "<tr>\n",
      "<th>Link Preview</th>\n",
      "<th>HTML Code (Click to Copy)</th>\n",
      "</tr>\n",
      "</thead>\n",
      "<tbody>\n",
      "<tr>\n",
      "<td><a>Tesla Revenue 2010-2022 | TSLA</a></td>\n",
      "<td><input type=\"text\" class=\"modal_link\" size=\"50\" value=\"<a href='https://www.macrotrends.net/stocks/charts/TSLA/tesla/revenue'>Tesla Revenue 2010-2022 | TSLA</a>\"></td>\n",
      "</tr>\n",
      "<tr>\n",
      "<td><a>Macrotrends</a></td>\n",
      "<td><input type=\"text\" class=\"modal_link\" size=\"50\" value=\"<a href='https://www.macrotrends.net/stocks/charts/TSLA/tesla/revenue'>Macrotrends</a>\"></td>\n",
      "</tr>\n",
      "<tr>\n",
      "<td><a>Source</a></td>\n",
      "<td><input type=\"text\" class=\"modal_link\" size=\"50\" value=\"<a href='https://www.macrotrends.net/stocks/charts/TSLA/tesla/revenue'>Source</a>\"></td>\n",
      "</tr>\n",
      "\n",
      "\n",
      "\n",
      "</tbody>\n",
      "</table>\n",
      "\n",
      "<br />\n",
      "\n",
      "<p style=\"text-align:center\">Your data export is now complete.  Please check your download folder. </p>\n",
      "\n",
      "      </div>\n",
      "      <div class=\"modal-footer\">\n",
      "        <button type=\"button\" class=\"btn btn-primary\" data-dismiss=\"modal\">Close Window</button>\n",
      "      </div>\n",
      "    </div>\n",
      "  </div>\n",
      "</div>\t\n",
      "\n",
      "\n",
      "<script type=\"text/javascript\">\n",
      "\t$.typeahead({\n",
      "\t\tinput: '.js-typeahead',\n",
      "\t\tminLength: 1,\n",
      "\t\tfilter: false,  //Disables typahead filter to just show everything in the results from the database\n",
      "\t\tdebug: false,\n",
      "\t\thighlight: true,\n",
      "\t\tmaxItem: 10,\n",
      "\t\tdynamic: true,\n",
      "\t\tdelay: 200,\n",
      "\t\tsearchOnFocus: true,\n",
      "\t\tbackdrop: {\n",
      "\t\t\t\"background-color\": \"#fff\"\n",
      "\t\t},\n",
      "\t\thref: \"{{url}}\",\n",
      "\t\temptyTemplate: \"no result for {{query}}\",\n",
      "\t\tdisplay: [\"name\"],\n",
      "\t\tsource: {\n",
      "\t\t\tusers: {\n",
      "\t\t\t\tajax: {\n",
      "\t\t\t\t\turl: '/assets/php/all_pages_query.php',\n",
      "\t\t\t\t\tdata: {\n",
      "\t\t\t\t\t\tq: '{{query}}'\n",
      "\t\t\t\t\t}\n",
      "\t\t\t\t}\n",
      "\t\t\t}\n",
      "\t\t}\n",
      "\t});\n",
      "</script>\n",
      "\n",
      "<script>\n",
      "\n",
      "\t// /*! js-cookie v3.0.0-rc.1 | MIT */\n",
      "\t// !function(e,t){\"object\"==typeof exports&&\"undefined\"!=typeof module?module.exports=t():\"function\"==typeof define&&define.amd?define(t):(e=e||self,function(){var n=e.Cookies,r=e.Cookies=t();r.noConflict=function(){return e.Cookies=n,r}}())}(this,function(){\"use strict\";function e(e){for(var t=1;t<arguments.length;t++){var n=arguments[t];for(var r in n)e[r]=n[r]}return e}var t={read:function(e){return e.replace(/(%[\\dA-F]{2})+/gi,decodeURIComponent)},write:function(e){return encodeURIComponent(e).replace(/%(2[346BF]|3[AC-F]|40|5[BDE]|60|7[BCD])/g,decodeURIComponent)}};return function n(r,o){function i(t,n,i){if(\"undefined\"!=typeof document){\"number\"==typeof(i=e({},o,i)).expires&&(i.expires=new Date(Date.now()+864e5*i.expires)),i.expires&&(i.expires=i.expires.toUTCString()),t=encodeURIComponent(t).replace(/%(2[346B]|5E|60|7C)/g,decodeURIComponent).replace(/[()]/g,escape),n=r.write(n,t);var c=\"\";for(var u in i)i[u]&&(c+=\"; \"+u,!0!==i[u]&&(c+=\"=\"+i[u].split(\";\")[0]));return document.cookie=t+\"=\"+n+c}}return Object.create({set:i,get:function(e){if(\"undefined\"!=typeof document&&(!arguments.length||e)){for(var n=document.cookie?document.cookie.split(\"; \"):[],o={},i=0;i<n.length;i++){var c=n[i].split(\"=\"),u=c.slice(1).join(\"=\");'\"'===u[0]&&(u=u.slice(1,-1));try{var f=t.read(c[0]);if(o[f]=r.read(u,f),e===f)break}catch(e){}}return e?o[e]:o}},remove:function(t,n){i(t,\"\",e({},n,{expires:-1}))},withAttributes:function(t){return n(this.converter,e({},this.attributes,t))},withConverter:function(t){return n(e({},this.converter,t),this.attributes)}},{attributes:{value:Object.freeze(o)},converter:{value:Object.freeze(r)}})}(t,{path:\"/\"})});\n",
      "\n",
      "\t\t\t\n",
      "\t// // Cookie Settings\n",
      "\t// var maxCookieValue = 4, initCookie = 1, expirationDays = 1;\n",
      "\t// var cookieName = \"session_pageviews\";\n",
      "\t// var getCookie = Cookies.get(cookieName);\n",
      "\n",
      "\t// // Under the Hood\n",
      "\t// if (getCookie == null) {\n",
      "\t\t// Cookies.set(cookieName, initCookie, { expires: expirationDays });\n",
      "\t\t// console.log('Cookie set to value 1');\n",
      "\t\t// $( \"#ic_video_ad\" ).append( \"<div id=\\\"IC_D_3x6\\\" style=\\\"margin:30px;\\\"></div>\" );\n",
      "\t// } else {\n",
      "\t\t// if (getCookie >= initCookie && getCookie < maxCookieValue) {\n",
      "\t\t\t// getCookie++;\n",
      "\t\t\t// Cookies.set(cookieName, getCookie, { expires: expirationDays });\n",
      "\t\t\t// console.log('Cookie incremented. New value is ' + getCookie);\n",
      "\t\t\t// $( \"#ic_video_ad\" ).append( \"<div id=\\\"IC_D_3x6\\\" style=\\\"margin:30px;\\\"></div>\" );\n",
      "\t\t// }\n",
      "\t\t// else if (getCookie >= maxCookieValue && getCookie < 7) {\n",
      "\t\t\t// getCookie++;\n",
      "\t\t\t// Cookies.set(cookieName, getCookie, { expires: expirationDays });\n",
      "\t\t\t// console.log('Cookie max allowed value reached. No video ads showing. New value is ' + getCookie);\n",
      "\t\t\t// //Cookies.remove(cookieName);\n",
      "\t\t\t// // if cookie is equal with the number you've set, then do something\n",
      "\t\t\t// // hide an element, delete the cookie etc...\n",
      "\t\t// }\n",
      "\t\t// else if (getCookie >= 7) {\n",
      "\t\t\t// Cookies.remove(cookieName);\n",
      "\t\t\t// // if cookie is equal with the number you've set, then do something\n",
      "\t\t\t// // hide an element, delete the cookie etc...\n",
      "\t\t// }\t\n",
      "\t// }\n",
      "\n",
      "</script>\t\t\t\t\t\n",
      "\n",
      "\n",
      "<script>\n",
      "\n",
      "\n",
      "\n",
      "\n",
      "\t\t\n",
      "\n",
      "$(document).ready(function() {\n",
      "\t\n",
      "\tvar user_data = '171.76.81.154';\tvar country_code = 'United States';\n",
      "\t$.post('https://www.macrotrends.net/assets/php/user_frequency_tracking.php', {user_ip: user_data, user_country: country_code}); \n",
      "\n",
      "\t// Selects all of the text in the chart export window when clicked\n",
      "\t$(\".modal_link\").focus(function() {\n",
      "\t\tvar $this = $(this);\n",
      "\t\t$this.select();\n",
      "\n",
      "\t\t// Work around Chrome's little problem\n",
      "\t\t$this.mouseup(function() {\n",
      "\t\t\t// Prevent further mouseup intervention\n",
      "\t\t\t$this.unbind(\"mouseup\");\n",
      "\t\t\treturn false;\n",
      "\t\t});\n",
      "\t});\t\n",
      "\t\n",
      "\t\n",
      "\t$('[data-toggle=\"tooltip\"]').tooltip();\n",
      "\t\n",
      "    $('.statement_type_select').select2({\n",
      "\t\n",
      "\ttheme: \"classic\",\n",
      "\tminimumResultsForSearch: 20\n",
      "\t\n",
      "\t});\n",
      "\n",
      "    $('.frequency_select').select2({\n",
      "\t\n",
      "\ttheme: \"classic\",\n",
      "\tminimumResultsForSearch: 20\n",
      "\t\n",
      "\t});\n",
      "\t\n",
      "\t\n",
      "});\n",
      "\n",
      "$( \"#compareStocks\" ).click(function() {\n",
      "\t\n",
      "\t\n",
      "\twindow.location.href = '/stocks/stock-comparison?s=revenue&axis=single&comp=TSLA';\n",
      "\t\n",
      "\t\n",
      "});\n",
      "\n",
      "$( \"#chartExport\" ).click(function() {\n",
      "\t\n",
      "\t\twindow.$('#smallWidthModal1').modal();\n",
      "\n",
      "\t\t//Turn off scroll bar for image export\n",
      "\t\tchart.chartScrollbarSettings.enabled = false;\n",
      "\t\tchart.validateNow(); \n",
      "\t\t\n",
      "\t\t\n",
      "\t\tchart.export.capture({},function() {\n",
      "\t\t\tthis.toPNG({},function(data) {\n",
      "\t\t\t\t// Download the image to the browser\n",
      "\t\t\t\tthis.download( data, \"image/png\", \"TSLA-revenue-2022-12-09-macrotrends.png\" );\n",
      "\t\t\t\t\n",
      "\t\t\t\t});\n",
      "\n",
      "\t\t//Turn scroll bar back on again\n",
      "\t\tchart.chartScrollbarSettings.enabled = true;\n",
      "\t\tchart.validateNow(); \n",
      "\t\t\t\t\n",
      "\t});\n",
      "\n",
      "});\n",
      "\n",
      "$( \".statement_type_select\" ).change(function() {\n",
      "  \n",
      "  window.location.href = 'https://testing.macrotrends.net/assets/php/income_statement_testing.php?t=ZEV&type=' + this.value + '&freq=Q';\n",
      "\n",
      "});\n",
      "\n",
      "$( \".frequency_select\" ).change(function() {\n",
      "  \n",
      "  window.location.href = '/assets/php/new_chart_page.php?t=ZEV&type=revenue&freq=' + this.value;\n",
      "\n",
      "});\n",
      "\n",
      "</script>\n",
      "\n",
      "<!--<div class=\"modal\" id=\"contribute_modal\" tabindex=\"-1\" role=\"dialog\" aria-labelledby=\"exampleModalLabel\" aria-hidden=\"false\">\n",
      "  <div class=\"modal-dialog modal-lg\">\n",
      "    <div class=\"modal-content\">\n",
      "      <div class=\"modal-body\" style=\"margin:20px 40px 20px 40px; text-align:left;font-size:18px;\">\n",
      "\t  \t  \n",
      "\n",
      "\n",
      "<div class=\"row\">\n",
      "\n",
      "<div class=\"col-xs-6\">\n",
      "\n",
      "<script src=\"https://donorbox.org/widget.js\" paypalExpress=\"true\"></script><iframe src=\"https://donorbox.org/embed/macrotrends-donations?hide_donation_meter=true\" height=\"685px\" width=\"100%\" style=\"max-width:500px; min-width:310px; max-height:none!important\" seamless=\"seamless\" name=\"donorbox\" frameborder=\"0\" scrolling=\"no\" allowpaymentrequest></iframe>\n",
      "\n",
      "</div>\n",
      "\n",
      "<div class=\"col-xs-6\">\n",
      "\n",
      "\t\t<div class=\"modal_title\"><h1><strong>We Need Your Support!</strong></h1></div>\n",
      "\n",
      "\t\t<p><strong>Macrotrends has been subscription-free since 2010 and we want to keep it that way.</strong></p>\n",
      "\n",
      "<p>Our goal has always been to serve as an easily accessible, high quality source of investment research for both professionals and amateurs alike.</p>\n",
      "\n",
      "<p>Any amount that you can contribute will help ensure we can keep the site completely free for many years to come.</p>\n",
      "\n",
      "<p style=\"margin-top:20px;\">Regards,</p>\n",
      "<p>The Macrotrends Team</p>\n",
      "\n",
      "</div>\n",
      "\n",
      "</div>\n",
      "\n",
      "</div>\n",
      "\n",
      "      <div class=\"modal-footer\" style=\"text-align:center;\">\n",
      "        <button type=\"button\" class=\"btn btn-success\" data-dismiss=\"modal\">Maybe Next Time...</button>\n",
      "      </div>\n",
      "    </div>\n",
      "  </div>\n",
      "</div>\t\n",
      "\n",
      "\n",
      "<script src=\"/ads.js\" type=\"text/javascript\"></script>\n",
      "\n",
      "<script>\n",
      "\n",
      "$(document).ready(function() {\n",
      "\t\n",
      "\tvar botPattern = \"(googlebot\\/|Googlebot-Mobile|Googlebot-Image|Google favicon|Mediapartners-Google|bingbot|slurp|java|wget|curl|Commons-HttpClient|Python-urllib|libwww|httpunit|nutch|phpcrawl|msnbot|jyxobot|FAST-WebCrawler|FAST Enterprise Crawler|biglotron|teoma|convera|seekbot|gigablast|exabot|ngbot|ia_archiver|GingerCrawler|webmon |httrack|webcrawler|grub.org|UsineNouvelleCrawler|antibot|netresearchserver|speedy|fluffy|bibnum.bnf|findlink|msrbot|panscient|yacybot|AISearchBot|IOI|ips-agent|tagoobot|MJ12bot|dotbot|woriobot|yanga|buzzbot|mlbot|yandexbot|purebot|Linguee Bot|Voyager|CyberPatrol|voilabot|baiduspider|citeseerxbot|spbot|twengabot|postrank|turnitinbot|scribdbot|page2rss|sitebot|linkdex|Adidxbot|blekkobot|ezooms|dotbot|Mail.RU_Bot|discobot|heritrix|findthatfile|europarchive.org|NerdByNature.Bot|sistrix crawler|ahrefsbot|Aboundex|domaincrawler|wbsearchbot|summify|ccbot|edisterbot|seznambot|ec2linkfinder|gslfbot|aihitbot|intelium_bot|facebookexternalhit|yeti|RetrevoPageAnalyzer|lb-spider|sogou|lssbot|careerbot|wotbox|wocbot|ichiro|DuckDuckBot|lssrocketcrawler|drupact|webcompanycrawler|acoonbot|openindexspider|gnam gnam spider|web-archive-net.com.bot|backlinkcrawler|coccoc|integromedb|content crawler spider|toplistbot|seokicks-robot|it2media-domain-crawler|ip-web-crawler.com|siteexplorer.info|elisabot|proximic|changedetection|blexbot|arabot|WeSEE:Search|niki-bot|CrystalSemanticsBot|rogerbot|360Spider|psbot|InterfaxScanBot|Lipperhey SEO Service|CC Metadata Scaper|g00g1e.net|GrapeshotCrawler|urlappendbot|brainobot|fr-crawler|binlar|SimpleCrawler|Livelapbot|Twitterbot|cXensebot|smtbot|bnf.fr_bot|A6-Indexer|ADmantX|Facebot|Twitterbot|OrangeBot|memorybot|AdvBot|MegaIndex|SemanticScholarBot|ltx71|nerdybot|xovibot|BUbiNG|Qwantify|archive.org_bot|Applebot|TweetmemeBot|crawler4j|findxbot|SemrushBot|yoozBot|lipperhey|y!j-asr|Domain Re-Animator Bot|AddThis)\";\n",
      "\n",
      "\tvar re = new RegExp(botPattern, 'i');\n",
      "\n",
      "\tif (re.test(navigator.userAgent)) {\n",
      "\t\t\n",
      "\t} else {\n",
      "\t\t\n",
      "\t\t//Check to see whether they are running an ad blocker\n",
      "\t\tif(document.getElementById('12mORwMnaEkJXlxz')){\n",
      "\t\t  var ad_blocker = 'N';\n",
      "\t\t} else {\n",
      "\t\t  var ad_blocker = 'Y';\n",
      "\t\t}\n",
      "\n",
      "\t\t$.post('https://api.ipstack.com/check?access_key=14fe63e83d5cfefa0b3d4cec498479ba&output=json&fields=ip,continent_name,country_name,region_name,city', \n",
      "\t\tfunction(ip_data){\n",
      "\t\t\t\n",
      "\t\t\t$.post('https://www.macrotrends.net/assets/php/page_view_tracking.php', {ip: ip_data.ip,continent: ip_data.continent_name, country: ip_data.country_name, state: ip_data.region_name, city: ip_data.city, screen_width: screen.width, ads: ad_blocker, page_type: 'stock'}, \n",
      "\t\t\t\tfunction(data){\n",
      "\t\t\t\t\t/*\t\t\t\t\t\n",
      "\t\t\t\t\tif(data % 20 === 0) {\n",
      "\t\t\t\t\t\t\n",
      "\t\t\t\t\t\t//$('#contribute_modal').modal();\n",
      "\t\t\t\t\t\t\n",
      "\t\t\t\t\t}\n",
      "\t\t\t\t\t*/\n",
      "\t\t\t\t});\n",
      "\t\t\n",
      "\t\t});\n",
      "\n",
      "\n",
      "\t}\n",
      "\t\n",
      "\n",
      "});\n",
      "\n",
      "\n",
      "$.post('https://api.ipstack.com/check?access_key=14fe63e83d5cfefa0b3d4cec498479ba&output=json&fields=ip,continent_name,country_name,region_name,city', \n",
      "function(ip_data){\n",
      "\t\n",
      "\t$(\".contribute_user_id\").val(ip_data.ip);\n",
      "\t\n",
      "});\n",
      "\n",
      "$( \".donate_buttons\" ).click(function() {\n",
      "  \n",
      "\tvar payment = $(this).attr(\"value\");\n",
      "\n",
      "\t$.post('https://api.ipstack.com/check?access_key=14fe63e83d5cfefa0b3d4cec498479ba&output=json&fields=ip,continent_name,country_name,region_name,city', \n",
      "\t\tfunction(ip_data){\n",
      "\t\t\t\t\t\n",
      "\t\t$.post('https://www.macrotrends.net/assets/php/page_view_tracking.php', {ip: ip_data.ip, paid: payment}); \n",
      "\t\n",
      "\t});\n",
      "\t\t \n",
      "});\n",
      "\n",
      "</script>\n",
      "\n",
      "-->\t\n",
      "\n",
      "<script type=\"text/javascript\">\n",
      "var clicky_site_ids = clicky_site_ids || [];\n",
      "clicky_site_ids.push(100827248);\n",
      "(function() {\n",
      "  var s = document.createElement('script');\n",
      "  s.type = 'text/javascript';\n",
      "  s.async = true;\n",
      "  s.src = '//static.getclicky.com/js';\n",
      "  ( document.getElementsByTagName('head')[0] || document.getElementsByTagName('body')[0] ).appendChild( s );\n",
      "})();\n",
      "</script>\n",
      "<noscript><p><img alt=\"Clicky\" width=\"1\" height=\"1\" src=\"//in.getclicky.com/100827248ns.gif\" /></p></noscript>\n",
      "\n",
      "\n",
      "\n",
      "<!-- This site is converting visitors into subscribers and customers with OptinMonster - https://optinmonster.com -->\n",
      "<!-- <script type=\"text/javascript\" src=\"https://a.omappapi.com/app/js/api.min.js\" data-account=\"6392\" data-user=\"15772\" async></script> -->\n",
      "<!-- / OptinMonster -->\n",
      "\n",
      "\n",
      "</body>\n",
      "\n",
      "</html>\n",
      "\n",
      "\t\n",
      "\n"
     ]
    }
   ],
   "source": [
    "html_data=requests.get(\"https://cf-courses-data.s3.us.cloud-object-storage.appdomain.cloud/IBMDeveloperSkillsNetwork-PY0220EN-SkillsNetwork/labs/project/revenue.htm\").text\n",
    "print(html_data)"
   ]
  },
  {
   "cell_type": "markdown",
   "metadata": {},
   "source": [
    "Parse the html data using `beautiful_soup` using parser i.e `html5lib` or `html.parser`.\n"
   ]
  },
  {
   "cell_type": "code",
   "execution_count": 91,
   "metadata": {},
   "outputs": [],
   "source": [
    "soup = BeautifulSoup(html_data, 'html.parser')"
   ]
  },
  {
   "cell_type": "markdown",
   "metadata": {},
   "source": [
    "\n",
    "Using `BeautifulSoup` or the `read_html` function extract the table with `Tesla Revenue` and store it into a dataframe named `tesla_revenue`. The dataframe should have columns `Date` and `Revenue`.\n"
   ]
  },
  {
   "cell_type": "markdown",
   "metadata": {},
   "source": [
    "<details><summary>Step-by-step instructions</summary>\n",
    "\n",
    "```\n",
    "\n",
    "Here are the step-by-step instructions:\n",
    "\n",
    "1. Create an Empty DataFrame\n",
    "2. Find the Relevant Table\n",
    "3. Check for the Tesla Quarterly Revenue Table\n",
    "4. Iterate Through Rows in the Table Body\n",
    "5. Extract Data from Columns\n",
    "6. Append Data to the DataFrame\n",
    "\n",
    "```\n",
    "</details>\n"
   ]
  },
  {
   "cell_type": "markdown",
   "metadata": {},
   "source": [
    "<details><summary>Click here if you need help locating the table</summary>\n",
    "\n",
    "```\n",
    "    \n",
    "Below is the code to isolate the table, you will now need to loop through the rows and columns like in the previous lab\n",
    "    \n",
    "soup.find_all(\"tbody\")[1]\n",
    "    \n",
    "If you want to use the read_html function the table is located at index 1\n",
    "\n",
    "We are focusing on quarterly revenue in the lab.\n",
    "```\n",
    "\n",
    "</details>\n"
   ]
  },
  {
   "cell_type": "code",
   "execution_count": 96,
   "metadata": {},
   "outputs": [
    {
     "name": "stdout",
     "output_type": "stream",
     "text": [
      "Empty DataFrame\n",
      "Columns: [Date, Revenue]\n",
      "Index: []\n",
      "    Date  Revenue\n",
      "0   2021  $53,823\n",
      "1   2020  $31,536\n",
      "2   2019  $24,578\n",
      "3   2018  $21,461\n",
      "4   2017  $11,759\n",
      "5   2016   $7,000\n",
      "6   2015   $4,046\n",
      "7   2014   $3,198\n",
      "8   2013   $2,013\n",
      "9   2012     $413\n",
      "10  2011     $204\n",
      "11  2010     $117\n",
      "12  2009     $112\n"
     ]
    }
   ],
   "source": [
    "tesla_revenue = pd.DataFrame(columns=['Date', 'Revenue'])\n",
    "\n",
    "print(tesla_revenue)\n",
    "table = soup.find('table')\n",
    "headers = table.find_all('th')\n",
    "header_text = [header.get_text().strip() for header in headers]\n",
    "tesla_revenue = pd.DataFrame(columns=[\"Date\", \"Revenue\"])\n",
    "\n",
    "# Find the table body\n",
    "table_body = table.find('tbody')\n",
    "\n",
    "# Find all rows in the body of the table\n",
    "rows = table_body.find_all('tr')\n",
    "\n",
    "# Iterate through the rows\n",
    "for row in rows:\n",
    "    cols = row.find_all('td')  # Get all columns in the row\n",
    "    if len(cols) > 1:  # Ensure there are enough columns (Date, Revenue)\n",
    "        date = cols[0].get_text().strip()  # Extract Date\n",
    "        revenue = cols[1].get_text().strip()  # Extract Revenue\n",
    "\n",
    "        # Create a new row as a dataframe\n",
    "        new_row = pd.DataFrame({\"Date\": [date], \"Revenue\": [revenue]})\n",
    "\n",
    "        # Concatenate the new row with the existing dataframe\n",
    "        tesla_revenue = pd.concat([tesla_revenue, new_row], ignore_index=True)\n",
    "\n",
    "# Print the dataframe to check the result\n",
    "print(tesla_revenue)"
   ]
  },
  {
   "cell_type": "markdown",
   "metadata": {},
   "source": [
    "Execute the following line to remove the comma and dollar sign from the `Revenue` column. \n"
   ]
  },
  {
   "cell_type": "code",
   "execution_count": 98,
   "metadata": {},
   "outputs": [],
   "source": [
    "gme_revenue[\"Revenue\"] = gme_revenue['Revenue'].str.replace(',|\\$',\"\")"
   ]
  },
  {
   "cell_type": "markdown",
   "metadata": {},
   "source": [
    "Execute the following lines to remove an null or empty strings in the Revenue column.\n"
   ]
  },
  {
   "cell_type": "code",
   "execution_count": 99,
   "metadata": {},
   "outputs": [],
   "source": [
    "tesla_revenue.dropna(inplace=True)\n",
    "\n",
    "tesla_revenue = tesla_revenue[tesla_revenue['Revenue'] != \"\"]"
   ]
  },
  {
   "cell_type": "markdown",
   "metadata": {},
   "source": [
    "Display the last 5 row of the `tesla_revenue` dataframe using the `tail` function. Take a screenshot of the results.\n"
   ]
  },
  {
   "cell_type": "code",
   "execution_count": 101,
   "metadata": {},
   "outputs": [
    {
     "data": {
      "text/html": [
       "<div>\n",
       "<style scoped>\n",
       "    .dataframe tbody tr th:only-of-type {\n",
       "        vertical-align: middle;\n",
       "    }\n",
       "\n",
       "    .dataframe tbody tr th {\n",
       "        vertical-align: top;\n",
       "    }\n",
       "\n",
       "    .dataframe thead th {\n",
       "        text-align: right;\n",
       "    }\n",
       "</style>\n",
       "<table border=\"1\" class=\"dataframe\">\n",
       "  <thead>\n",
       "    <tr style=\"text-align: right;\">\n",
       "      <th></th>\n",
       "      <th>Date</th>\n",
       "      <th>Revenue</th>\n",
       "    </tr>\n",
       "  </thead>\n",
       "  <tbody>\n",
       "    <tr>\n",
       "      <th>8</th>\n",
       "      <td>2013</td>\n",
       "      <td>$2,013</td>\n",
       "    </tr>\n",
       "    <tr>\n",
       "      <th>9</th>\n",
       "      <td>2012</td>\n",
       "      <td>$413</td>\n",
       "    </tr>\n",
       "    <tr>\n",
       "      <th>10</th>\n",
       "      <td>2011</td>\n",
       "      <td>$204</td>\n",
       "    </tr>\n",
       "    <tr>\n",
       "      <th>11</th>\n",
       "      <td>2010</td>\n",
       "      <td>$117</td>\n",
       "    </tr>\n",
       "    <tr>\n",
       "      <th>12</th>\n",
       "      <td>2009</td>\n",
       "      <td>$112</td>\n",
       "    </tr>\n",
       "  </tbody>\n",
       "</table>\n",
       "</div>"
      ],
      "text/plain": [
       "    Date Revenue\n",
       "8   2013  $2,013\n",
       "9   2012    $413\n",
       "10  2011    $204\n",
       "11  2010    $117\n",
       "12  2009    $112"
      ]
     },
     "execution_count": 101,
     "metadata": {},
     "output_type": "execute_result"
    }
   ],
   "source": [
    "tesla_revenue.tail()"
   ]
  },
  {
   "cell_type": "markdown",
   "metadata": {},
   "source": [
    "## Question 3: Use yfinance to Extract Stock Data\n"
   ]
  },
  {
   "cell_type": "markdown",
   "metadata": {},
   "source": [
    "Using the `Ticker` function enter the ticker symbol of the stock we want to extract data on to create a ticker object. The stock is GameStop and its ticker symbol is `GME`.\n"
   ]
  },
  {
   "cell_type": "code",
   "execution_count": 106,
   "metadata": {},
   "outputs": [],
   "source": [
    "gme=yf.Ticker(\"GME\")"
   ]
  },
  {
   "cell_type": "markdown",
   "metadata": {},
   "source": [
    "Using the ticker object and the function `history` extract stock information and save it in a dataframe named `gme_data`. Set the `period` parameter to ` \"max\" ` so we get information for the maximum amount of time.\n"
   ]
  },
  {
   "cell_type": "code",
   "execution_count": 107,
   "metadata": {},
   "outputs": [],
   "source": [
    "gme_data=gme.history(period=\"max\")"
   ]
  },
  {
   "cell_type": "markdown",
   "metadata": {},
   "source": [
    "**Reset the index** using the `reset_index(inplace=True)` function on the gme_data DataFrame and display the first five rows of the `gme_data` dataframe using the `head` function. Take a screenshot of the results and code from the beginning of Question 3 to the results below.\n"
   ]
  },
  {
   "cell_type": "code",
   "execution_count": 109,
   "metadata": {},
   "outputs": [
    {
     "data": {
      "text/html": [
       "<div>\n",
       "<style scoped>\n",
       "    .dataframe tbody tr th:only-of-type {\n",
       "        vertical-align: middle;\n",
       "    }\n",
       "\n",
       "    .dataframe tbody tr th {\n",
       "        vertical-align: top;\n",
       "    }\n",
       "\n",
       "    .dataframe thead th {\n",
       "        text-align: right;\n",
       "    }\n",
       "</style>\n",
       "<table border=\"1\" class=\"dataframe\">\n",
       "  <thead>\n",
       "    <tr style=\"text-align: right;\">\n",
       "      <th></th>\n",
       "      <th>Date</th>\n",
       "      <th>Open</th>\n",
       "      <th>High</th>\n",
       "      <th>Low</th>\n",
       "      <th>Close</th>\n",
       "      <th>Volume</th>\n",
       "      <th>Dividends</th>\n",
       "      <th>Stock Splits</th>\n",
       "    </tr>\n",
       "  </thead>\n",
       "  <tbody>\n",
       "    <tr>\n",
       "      <th>0</th>\n",
       "      <td>2002-02-13 00:00:00-05:00</td>\n",
       "      <td>1.620128</td>\n",
       "      <td>1.693350</td>\n",
       "      <td>1.603296</td>\n",
       "      <td>1.691666</td>\n",
       "      <td>76216000</td>\n",
       "      <td>0.0</td>\n",
       "      <td>0.0</td>\n",
       "    </tr>\n",
       "    <tr>\n",
       "      <th>1</th>\n",
       "      <td>2002-02-14 00:00:00-05:00</td>\n",
       "      <td>1.712707</td>\n",
       "      <td>1.716074</td>\n",
       "      <td>1.670626</td>\n",
       "      <td>1.683250</td>\n",
       "      <td>11021600</td>\n",
       "      <td>0.0</td>\n",
       "      <td>0.0</td>\n",
       "    </tr>\n",
       "    <tr>\n",
       "      <th>2</th>\n",
       "      <td>2002-02-15 00:00:00-05:00</td>\n",
       "      <td>1.683250</td>\n",
       "      <td>1.687458</td>\n",
       "      <td>1.658001</td>\n",
       "      <td>1.674834</td>\n",
       "      <td>8389600</td>\n",
       "      <td>0.0</td>\n",
       "      <td>0.0</td>\n",
       "    </tr>\n",
       "    <tr>\n",
       "      <th>3</th>\n",
       "      <td>2002-02-19 00:00:00-05:00</td>\n",
       "      <td>1.666418</td>\n",
       "      <td>1.666418</td>\n",
       "      <td>1.578047</td>\n",
       "      <td>1.607504</td>\n",
       "      <td>7410400</td>\n",
       "      <td>0.0</td>\n",
       "      <td>0.0</td>\n",
       "    </tr>\n",
       "    <tr>\n",
       "      <th>4</th>\n",
       "      <td>2002-02-20 00:00:00-05:00</td>\n",
       "      <td>1.615921</td>\n",
       "      <td>1.662210</td>\n",
       "      <td>1.603296</td>\n",
       "      <td>1.662210</td>\n",
       "      <td>6892800</td>\n",
       "      <td>0.0</td>\n",
       "      <td>0.0</td>\n",
       "    </tr>\n",
       "  </tbody>\n",
       "</table>\n",
       "</div>"
      ],
      "text/plain": [
       "                       Date      Open      High       Low     Close    Volume  \\\n",
       "0 2002-02-13 00:00:00-05:00  1.620128  1.693350  1.603296  1.691666  76216000   \n",
       "1 2002-02-14 00:00:00-05:00  1.712707  1.716074  1.670626  1.683250  11021600   \n",
       "2 2002-02-15 00:00:00-05:00  1.683250  1.687458  1.658001  1.674834   8389600   \n",
       "3 2002-02-19 00:00:00-05:00  1.666418  1.666418  1.578047  1.607504   7410400   \n",
       "4 2002-02-20 00:00:00-05:00  1.615921  1.662210  1.603296  1.662210   6892800   \n",
       "\n",
       "   Dividends  Stock Splits  \n",
       "0        0.0           0.0  \n",
       "1        0.0           0.0  \n",
       "2        0.0           0.0  \n",
       "3        0.0           0.0  \n",
       "4        0.0           0.0  "
      ]
     },
     "execution_count": 109,
     "metadata": {},
     "output_type": "execute_result"
    }
   ],
   "source": [
    "gme_data.reset_index(inplace=True)\n",
    "gme_data.head()"
   ]
  },
  {
   "cell_type": "markdown",
   "metadata": {},
   "source": [
    "## Question 4: Use Webscraping to Extract GME Revenue Data\n"
   ]
  },
  {
   "cell_type": "markdown",
   "metadata": {},
   "source": [
    "Use the `requests` library to download the webpage https://cf-courses-data.s3.us.cloud-object-storage.appdomain.cloud/IBMDeveloperSkillsNetwork-PY0220EN-SkillsNetwork/labs/project/stock.html. Save the text of the response as a variable named `html_data_2`.\n"
   ]
  },
  {
   "cell_type": "code",
   "execution_count": 135,
   "metadata": {
    "collapsed": true,
    "jupyter": {
     "outputs_hidden": true
    }
   },
   "outputs": [
    {
     "name": "stdout",
     "output_type": "stream",
     "text": [
      "<!DOCTYPE html>\n",
      "<!-- saved from url=(0105)https://web.archive.org/web/20200814131437/https://www.macrotrends.net/stocks/charts/GME/gamestop/revenue -->\n",
      "<html class=\" js flexbox canvas canvastext webgl no-touch geolocation postmessage websqldatabase indexeddb hashchange history draganddrop websockets rgba hsla multiplebgs backgroundsize borderimage borderradius boxshadow textshadow opacity cssanimations csscolumns cssgradients cssreflections csstransforms csstransforms3d csstransitions fontface generatedcontent video audio localstorage sessionstorage webworkers no-applicationcache svg inlinesvg smil svgclippaths\" style=\"\"><!--<![endif]--><head><meta http-equiv=\"Content-Type\" content=\"text/html; charset=UTF-8\"><script type=\"text/javascript\" async=\"\" src=\"./GameStop Revenue 2006-2020 _ GME _ MacroTrends_files/analytics.js.download\"></script><script async=\"\" type=\"text/javascript\" src=\"./GameStop Revenue 2006-2020 _ GME _ MacroTrends_files/gpt.js.download\"></script><script async=\"\" src=\"./GameStop Revenue 2006-2020 _ GME _ MacroTrends_files/analytics.js(1).download\"></script><script async=\"\" src=\"./GameStop Revenue 2006-2020 _ GME _ MacroTrends_files/analytics.js(1).download\"></script><script src=\"./GameStop Revenue 2006-2020 _ GME _ MacroTrends_files/analytics.js(2).download\" type=\"text/javascript\"></script>\n",
      "<script type=\"text/javascript\">window.addEventListener('DOMContentLoaded',function(){var v=archive_analytics.values;v.service='wb';v.server_name='wwwb-app201.us.archive.org';v.server_ms=286;archive_analytics.send_pageview({});});</script>\n",
      "<script type=\"text/javascript\" src=\"./GameStop Revenue 2006-2020 _ GME _ MacroTrends_files/bundle-playback.js.download\" charset=\"utf-8\"></script>\n",
      "<script type=\"text/javascript\" src=\"./GameStop Revenue 2006-2020 _ GME _ MacroTrends_files/wombat.js.download\" charset=\"utf-8\"></script>\n",
      "<script type=\"text/javascript\">\n",
      "  __wm.init(\"https://web.archive.org/web\");\n",
      "  __wm.wombat(\"https://www.macrotrends.net/stocks/charts/GME/gamestop/revenue\",\"20200814131437\",\"https://web.archive.org/\",\"web\",\"/_static/\",\n",
      "\t      \"1597410877\");\n",
      "</script>\n",
      "<link rel=\"stylesheet\" type=\"text/css\" href=\"./GameStop Revenue 2006-2020 _ GME _ MacroTrends_files/banner-styles.css\">\n",
      "<link rel=\"stylesheet\" type=\"text/css\" href=\"./GameStop Revenue 2006-2020 _ GME _ MacroTrends_files/iconochive.css\">\n",
      "<!-- End Wayback Rewrite JS Include -->\n",
      "\n",
      "        \n",
      "        <meta http-equiv=\"X-UA-Compatible\" content=\"IE=edge,chrome=1\">\n",
      "\t\t<link rel=\"canonical\" href=\"https://web.archive.org/web/20200814131437/https://www.macrotrends.net/stocks/charts/GME/gamestop/revenue\">\n",
      "\t\t<title>GameStop Revenue 2006-2020 | GME | MacroTrends</title>\n",
      "\t\t<meta name=\"description\" content=\"GameStop revenue from 2006 to 2020. Revenue can be defined as the amount of money a company receives from its customers in exchange for the sales of goods or services.  Revenue is the top line item on an income statement from which all costs and expenses are subtracted to arrive at net income.\">\n",
      "\t\t<meta name=\"robots\" content=\"\">\n",
      "\t\t\t\t\n",
      "\t\t<link rel=\"shortcut icon\" href=\"https://web.archive.org/web/20200814131437im_/https://www.macrotrends.net/assets/images/icons/FAVICON/macro-trends_favicon.ico\" type=\"image/x-icon\">\n",
      "\n",
      "\t\t<meta name=\"msvalidate.01\" content=\"1228954C688F5907894001CD8E5E624B\">\n",
      "\t\t<meta name=\"google-site-verification\" content=\"6MnD_3iDtAP1ZyoGK1YMyVIVck4r5Ws80I9xD3ue4_A\">\n",
      "\n",
      "\t\t<!-- Load in Roboto Font -->\n",
      "\t\t<link rel=\"stylesheet\" href=\"./GameStop Revenue 2006-2020 _ GME _ MacroTrends_files/css\">\n",
      "\n",
      "\t\t<!-- Bootstrap -->\n",
      "\t\t<link rel=\"stylesheet\" href=\"./GameStop Revenue 2006-2020 _ GME _ MacroTrends_files/bootstrap.min.css\"> <!--for Bootstrap CDN version-->\n",
      "\t\t<link rel=\"stylesheet\" href=\"./GameStop Revenue 2006-2020 _ GME _ MacroTrends_files/bootstrap-theme.min.css\">\n",
      "\n",
      "\t\t<!-- Font Awesome -->\n",
      "\t\t<link rel=\"stylesheet\" href=\"./GameStop Revenue 2006-2020 _ GME _ MacroTrends_files/font-awesome.min.css\"> <!--for Font Awesome CDN version-->\n",
      "    \t\t\n",
      "\t\t<!-- Jquery, Bootstrap and Menu Javascript -->\t\n",
      "\t\t<script src=\"./GameStop Revenue 2006-2020 _ GME _ MacroTrends_files/jquery-1.12.4.min.js.download\" integrity=\"\" crossorigin=\"anonymous\"></script>\n",
      "\t\t<script src=\"./GameStop Revenue 2006-2020 _ GME _ MacroTrends_files/bootstrap.min.js.download\"></script>\n",
      "\t\t\t\t\n",
      "\t\t<!-- Modernizr for cross-browser support -->\t\t\n",
      "\t\t<script type=\"text/javascript\" src=\"./GameStop Revenue 2006-2020 _ GME _ MacroTrends_files/modernizr-2.6.2-respond-1.1.0.min.js.download\"></script>\n",
      "\n",
      "\t\t<!-- Latest compiled and minified CSS -->\n",
      "\t\t<link rel=\"stylesheet\" href=\"./GameStop Revenue 2006-2020 _ GME _ MacroTrends_files/fuelux.min.css\">\n",
      "\n",
      "\t\t<!-- Latest compiled and minified JavaScript -->\n",
      "\t\t<script src=\"./GameStop Revenue 2006-2020 _ GME _ MacroTrends_files/fuelux.min.js.download\"></script>\n",
      "\t\t\n",
      "\t\t\n",
      "\t\t <!-- Twitter Card data -->\n",
      "\t\t  <meta name=\"twitter:card\" content=\"summary_large_image\">\n",
      "\t\t  <meta name=\"twitter:site\" content=\"@tmacrotrends\">\n",
      "\t\t  <meta name=\"twitter:title\" content=\"GameStop Revenue 2006-2020 | GME\">\n",
      "\t\t  <meta name=\"twitter:description\" content=\"GameStop revenue from 2006 to 2020. Revenue can be defined as the amount of money a company receives from its customers in exchange for the sales of goods or services.  Revenue is the top line item on an income statement from which all costs and expenses are subtracted to arrive at net income.\">\n",
      "\n",
      "\t\t  <!-- Open Graph data -->\n",
      "\t\t  <meta property=\"og:url\" content=\"https://web.archive.org/web/20200814131437/https://www.macrotrends.net/stocks/charts/GME/gamestop/revenue\">  \n",
      "\t\t  <meta property=\"og:title\" content=\"GameStop Revenue 2006-2020 | GME\">\n",
      "\t\t  <meta property=\"og:description\" content=\"GameStop revenue from 2006 to 2020. Revenue can be defined as the amount of money a company receives from its customers in exchange for the sales of goods or services.  Revenue is the top line item on an income statement from which all costs and expenses are subtracted to arrive at net income.\">\n",
      "\n",
      "\t\t<!-- JQXGRID STYLES AND JAVASCRIPT -->\n",
      "\t\t<link rel=\"stylesheet\" href=\"./GameStop Revenue 2006-2020 _ GME _ MacroTrends_files/jqx.base.css\" type=\"text/css\">\n",
      "\t\t<link rel=\"stylesheet\" href=\"./GameStop Revenue 2006-2020 _ GME _ MacroTrends_files/jqx.bootstrap.css\" type=\"text/css\">\n",
      "\n",
      "\t\t<!-- LOAD THESE SCRIPTS EARLY SO THE TICKER INPUT FIELD IS STYLED INSTANTLY -->\n",
      "\t\t<script type=\"text/javascript\" src=\"./GameStop Revenue 2006-2020 _ GME _ MacroTrends_files/jqxcore.js.download\"></script>\n",
      "\t\t<script type=\"text/javascript\" src=\"./GameStop Revenue 2006-2020 _ GME _ MacroTrends_files/jqxdata.js.download\"></script> \n",
      "\t\t<script type=\"text/javascript\" src=\"./GameStop Revenue 2006-2020 _ GME _ MacroTrends_files/jqxinput.js.download\"></script> \n",
      "\n",
      "\t\t<!-- Styling for search box -->\t\n",
      "\t\t<link rel=\"stylesheet\" type=\"text/css\" href=\"./GameStop Revenue 2006-2020 _ GME _ MacroTrends_files/jquery.typeahead_pages.css\">\n",
      "\n",
      "\t\t<!-- Search box javascript -->\n",
      "\t\t<script src=\"./GameStop Revenue 2006-2020 _ GME _ MacroTrends_files/jquery.typeahead.min.js.download\"></script>\n",
      "\t\t\n",
      "\n",
      "\t\t<link href=\"./GameStop Revenue 2006-2020 _ GME _ MacroTrends_files/select2.min.css\" rel=\"stylesheet\">\n",
      "\t\t<script src=\"./GameStop Revenue 2006-2020 _ GME _ MacroTrends_files/select2.min.js.download\"></script>\n",
      "\t\n",
      "\t<!-- ToolTips -->\t\n",
      "\t\t<script src=\"./GameStop Revenue 2006-2020 _ GME _ MacroTrends_files/tipped.js.download\"></script>\n",
      "\t\t<link rel=\"stylesheet\" href=\"./GameStop Revenue 2006-2020 _ GME _ MacroTrends_files/tipped.css\">\n",
      "\t\t\n",
      "\t\t\t\n",
      "\t\t<script async=\"\" src=\"./GameStop Revenue 2006-2020 _ GME _ MacroTrends_files/uat.js.download\"></script>\n",
      "\t\t<script type=\"text/javascript\">\n",
      "\t\t\tInvestingChannelQueue = window.InvestingChannelQueue || [];\n",
      "\t\t\tvar ic_page;\n",
      "\t\t\tInvestingChannelQueue.push(function() {ic_page = InvestingChannel.UAT.Run(\"df17ac1e-cc7f-11e8-82a5-0abbb61c4a6a\");});\n",
      "\t\t</script>\t\n",
      "\n",
      "\t\t<!-- Global site tag (gtag.js) - Google Analytics -->\n",
      "\t\t<script async=\"\" src=\"./GameStop Revenue 2006-2020 _ GME _ MacroTrends_files/js\"></script>\n",
      "\t\t<script>\n",
      "\t\t  window.dataLayer = window.dataLayer || [];\n",
      "\t\t  function gtag(){dataLayer.push(arguments);}\n",
      "\t\t  gtag('js', new Date());\n",
      "\n",
      "\t\t  gtag('config', 'UA-62099500-1');\n",
      "\t\t</script>\t\t\n",
      "\n",
      "\n",
      " \t\t<!-- Amcharts Files -->\t\t\n",
      "\t\t<script src=\"./GameStop Revenue 2006-2020 _ GME _ MacroTrends_files/amcharts.js.download\" type=\"text/javascript\"></script>\n",
      "        <script src=\"./GameStop Revenue 2006-2020 _ GME _ MacroTrends_files/serial.js.download\" type=\"text/javascript\"></script>\n",
      "        <script src=\"./GameStop Revenue 2006-2020 _ GME _ MacroTrends_files/light.js.download\" type=\"text/javascript\"></script>\n",
      "        <script src=\"./GameStop Revenue 2006-2020 _ GME _ MacroTrends_files/amstock.js.download\" type=\"text/javascript\"></script>  \n",
      "\t\t<script type=\"text/javascript\" src=\"./GameStop Revenue 2006-2020 _ GME _ MacroTrends_files/export.min.js.download\"></script>\n",
      "\t\t<script type=\"text/javascript\" src=\"./GameStop Revenue 2006-2020 _ GME _ MacroTrends_files/fabric.min.js.download\"></script>\n",
      "\t\t<script type=\"text/javascript\" src=\"./GameStop Revenue 2006-2020 _ GME _ MacroTrends_files/FileSaver.js.download\"></script>\n",
      "\t\t<link rel=\"stylesheet\" href=\"./GameStop Revenue 2006-2020 _ GME _ MacroTrends_files/export.css\" type=\"text/css\" media=\"all\">\t\t\n",
      "\n",
      "\n",
      "\t\t<!--<script>\n",
      "\t\t\t(function(i,s,o,g,r,a,m){i['GoogleAnalyticsObject']=r;i[r]=i[r]||function(){\n",
      "\t\t\t(i[r].q=i[r].q||[]).push(arguments)},i[r].l=1*new Date();a=s.createElement(o),\n",
      "\t\t\tm=s.getElementsByTagName(o)[0];a.async=1;a.src=g;m.parentNode.insertBefore(a,m)\n",
      "\t\t\t})(window,document,'script','//www.google-analytics.com/analytics.js','ga');\n",
      "\n",
      "\t\t\tga('create', 'UA-62099500-1', 'auto');\n",
      "\t\t\tga('send', 'pageview');\n",
      "\t\t\t\n",
      "\t\t\t\n",
      "\t\t\t\n",
      "\t\t   \n",
      "\t\t\t//Send one event to GA at 30 seconds to control bounce rate\n",
      "\t\t\tsetTimeout(\"ga('send','event','Engaged User','30 Second Engagement')\",30000); \n",
      "\n",
      "\n",
      "\t\t  //This code sends events to ga every 30 seconds when the window is in focus\n",
      "\t\t\tvar count = 0;\n",
      "\t\t\tvar myInterval;\n",
      "\t\t\t\t\t\n",
      "\t\t\t// Active\n",
      "\t\t\twindow.addEventListener('load', startTimer);\n",
      "\t\t\twindow.addEventListener('focus', startTimer);\n",
      "\n",
      "\t\t\t// Inactive\n",
      "\t\t\twindow.addEventListener('blur', stopTimer);\n",
      "\n",
      "\t\t\tfunction timerHandler() {\n",
      "\t\t\t\tcount++;\n",
      "\t\t\t\t\n",
      "\t\t\t\tif(count % 60 == 0 && count <= 1800) {\n",
      "\t\t\t\t\t\n",
      "\t\t\t\t\tvar interval = (count/60);\n",
      "\t\t\t\t\tinterval = interval.toFixed(0);\n",
      "\t\t\t\t\t\n",
      "\t\t\t\t\tvar action = interval + \" Minute Engagement\";\n",
      "\t\t\t\t\t\n",
      "\t\t\t\t\tga('send','event','Engaged User',action);\n",
      "\n",
      "\t\t\t\t\t\n",
      "\t\t\t\t}\n",
      "\t\t\t\n",
      "\t\t\t}\n",
      "\n",
      "\t\t\t// Start timer\n",
      "\t\t\tfunction startTimer() {\n",
      "\t\t\tmyInterval = window.setInterval(timerHandler, 1000);\n",
      "\t\t\t}\n",
      "\n",
      "\t\t\t// Stop timer\n",
      "\t\t\tfunction stopTimer() {\n",
      "\t\t\twindow.clearInterval(myInterval);\n",
      "\t\t\t}\n",
      "\t\t\t\n",
      "\t\t\t\n",
      "\n",
      "\t\t</script>-->\n",
      "\t\t\n",
      "<style> \n",
      "\n",
      "#style-1::-webkit-scrollbar-track\n",
      "{\n",
      "\t-webkit-box-shadow: inset 0 0 6px rgba(0,0,0,0.3);\n",
      "\tborder-radius: 3px;\n",
      "\tbackground-color: #F5F5F5;\n",
      "}\n",
      "\n",
      "#style-1::-webkit-scrollbar\n",
      "{\n",
      "\twidth: 18px;\n",
      "\tbackground-color: #F5F5F5;\n",
      "}\n",
      "\n",
      "#style-1::-webkit-scrollbar-thumb\n",
      "{\n",
      "\tborder-radius: 3px;\n",
      "\t-webkit-box-shadow: inset 0 0 6px rgba(0,0,0,.3);\n",
      "\tbackground-color: #5B9BD5;\n",
      "}\n",
      "\n",
      "html {\n",
      "\twidth:100%;\n",
      "\tposition: relative;\n",
      "\tmin-height: 100%;\n",
      "}\n",
      "\n",
      "body {\n",
      "\t\n",
      "\twidth:100%;\n",
      "\n",
      "\t/* Margin bottom by footer height */\n",
      "\t  margin-bottom: 80px;\n",
      "\t  color: #444;\n",
      "\t  background-color:#fff;\n",
      "\t  font-family: 'Roboto', sans-serif;\n",
      "\t  font-size:14px;\n",
      "}\n",
      "\n",
      "\n",
      "\n",
      "\n",
      "\n",
      ".header_content_container {\n",
      "\t\n",
      "\tmin-width: 1250px;\n",
      "\tpadding: 0px;\n",
      "}\n",
      "\n",
      ".main_content_container {\n",
      "\t\n",
      "\tmin-width: 1366px;\n",
      "\tmax-width: 1366px;\n",
      "\tpadding: 0px 30px 100px 30px;\n",
      "\t\n",
      "}\n",
      "\n",
      ".sub_main_content_container {\n",
      "\t\n",
      "\t\n",
      "}\n",
      "\n",
      "#left_sidebar {\n",
      "\t\n",
      "  width: 180px;\n",
      "  float:left;\n",
      "  height:3080px;\n",
      "\t\n",
      "}\n",
      "\n",
      "#main_content {\n",
      "\t\n",
      "\tpadding:0px 20px 0px 0px;\n",
      "\twidth:826px;\n",
      "    float:left;\n",
      "\t\n",
      "}\n",
      "\n",
      "#right_sidebar {\n",
      "\t\n",
      "  width: 300px;\n",
      "  float:left;\n",
      "  height:3080px;\n",
      "\t\n",
      "}\n",
      "\n",
      "#sticky_ad_left {\n",
      "\t\n",
      "  position: -webkit-sticky;\n",
      "  position: sticky;\n",
      "  top: 30px;\n",
      "\t\n",
      "\t\n",
      "}\n",
      "\n",
      "#sticky_ad_right {\n",
      "\t\n",
      "  position: -webkit-sticky;\n",
      "  position: sticky;\n",
      "  top: 30px;\n",
      "\t\n",
      "\t\n",
      "}\n",
      "\n",
      "\n",
      "\n",
      "\n",
      "\n",
      ".footer {\n",
      "  position: absolute;\n",
      "  bottom: 0;\n",
      "  width: 100%;\n",
      "  /* Set the fixed height of the footer here */\n",
      "  height: 100px;\n",
      "  margin-top: 10px;\t\n",
      "  padding: 30px 20px 20px 20px;\n",
      "  color:#fff !important;\n",
      "  background-color:#444;\n",
      "  text-align: center;\n",
      "  font-size:16px;\n",
      "}\n",
      "\n",
      ".footer a {\n",
      "  color:#fff !important;\n",
      "}\n",
      "\n",
      ".ticker_search_box {\n",
      "\t\n",
      "\tbackground-color:#F5F5F5;\n",
      "\tborder: 1px solid #E0E0E0;\n",
      "\tborder-bottom:none;\n",
      "\tpadding:10px 30px 10px 10px;\n",
      "\tmargin:0px 0px 0px 0px;\n",
      "\ttext-align:center;\n",
      "\t\n",
      "}\n",
      "\n",
      ".related_tickers {\n",
      "\t\n",
      "\twidth:100%;\n",
      "\tbackground-color:#F5F5F5;\n",
      "\tborder: 1px solid #E0E0E0;\n",
      "\tborder-top: 0px;\n",
      "\tpadding:3px 30px 3px 10px;\n",
      "\tmargin:0px 0px 0px 0px;\n",
      "\ttext-align:center;\n",
      "\t\n",
      "}\n",
      "\n",
      ".statement_type_select {\n",
      "\n",
      "\twidth:100%;\n",
      "\theight:28px;\n",
      "\t\n",
      "}\n",
      "\n",
      ".frequency_select {\n",
      "\n",
      "\twidth:100%;\n",
      "\theight:28px;\n",
      "\tfont-weight:600;\n",
      "\t\n",
      "}\n",
      "\n",
      "\n",
      ".select2 {\n",
      "\t\n",
      "\ttext-align:left;\n",
      "\tfont-weight:600;\n",
      "\t\n",
      "\t}\n",
      "\t\n",
      "#jqxInput {\n",
      "\n",
      "\t\twidth:100%;\n",
      "\t\theight:28px;\n",
      "\t\t\n",
      "}\n",
      "\n",
      "\n",
      "\n",
      ".header__parent_container {\n",
      "\n",
      "\twidth:100%;\n",
      "\theight:50px;\n",
      "\tpadding:15px 0px 10px -20px; \n",
      "\tmargin:0px 0px 0px 0px;\n",
      "\tbackground-color:#444;\n",
      "\n",
      "}\n",
      "\n",
      ".header_container {\n",
      "\n",
      "\twidth:100%;\n",
      "\theight:50px;\n",
      "\tpadding:15px 0px 10px -20px; \n",
      "\tmargin:0px 0px 0px 0px;\n",
      "\tbackground-color:#444;\n",
      "\n",
      "}\n",
      "\n",
      ".header_logo {\n",
      "\t\n",
      "\tpadding-top:10px;\n",
      "\tmargin-left:50px;\n",
      "\t\n",
      "}\n",
      "\n",
      ".menu_parent_container {\n",
      "\t\n",
      "\twidth:100%;\n",
      "\theight:34px;\n",
      "\tfont-size:16px;\n",
      "\tpadding:15px 0px 10px -20px; \n",
      "\tmargin:0px 0px 0px 0px;\n",
      "\tbackground-color:#0089de;\n",
      "}\n",
      "\n",
      ".menu_container {\n",
      "\t\n",
      "\twidth:1280px;\n",
      "\theight:34px;\n",
      "\tfont-size:16px;\n",
      "\tpadding:11px 0px 0px -20px; \n",
      "\tmargin: 0 auto;\n",
      "\tbackground-color:#0089de;\n",
      "\tz-index:1000;\n",
      "}\n",
      "\n",
      ".menu_item {\n",
      "\n",
      "\theight:34px;\n",
      "\tfloat:left;\n",
      "\tfont-size:14px;\n",
      "\tfont-weight:bold;\n",
      "\tcolor:#fff;\n",
      "\ttext-align:center;\n",
      "\tpadding:7px 16px 0px 16px;\t\n",
      "\n",
      "}\n",
      "\n",
      ".menu_item:hover\n",
      "{\n",
      "\tbackground-color:#32a0e4;\n",
      "\tcursor: pointer;\n",
      "}\n",
      "\n",
      ".menu_item a\n",
      "{\n",
      "\tcolor:#fff;\n",
      "\tcursor: pointer;\n",
      "}\n",
      "\n",
      ".menu_item a:hover\n",
      "{\n",
      "\ttext-decoration:none;\n",
      "\tcursor: pointer;\n",
      "}\n",
      "\n",
      ".leaderboard_ad {\n",
      "\n",
      "\tmargin-top:20px;\n",
      "\tmargin-bottom:20px;\n",
      "\ttext-align:center;\n",
      "\tmin-height:100px;\n",
      "\n",
      "}\n",
      "\n",
      "#filter_result_count {\n",
      "\t\n",
      "\twidth:100%;\n",
      "\ttext-align:center;\n",
      "\tfont-size:24px;\n",
      "\tfont-weight:bold;\n",
      "\tpadding:10px 15px;\n",
      "\tbackground-color:#efefef;\n",
      "\tborder: 1px solid #dfdfdf;\n",
      "\tmargin:20px;\n",
      "\t\n",
      "}\n",
      "\n",
      "\n",
      "select {\n",
      "  color: #444;\n",
      "  background-color: #FFF;\n",
      "  border: 1px solid #AAA;\n",
      "  border-radius: 4px;\n",
      "  box-sizing: border-box;\n",
      "  cursor: pointer;\n",
      "  display: block;\n",
      "  height:40px;\n",
      "  line-height: 40px;\n",
      "}\n",
      "\n",
      ".historical_data_table  {\n",
      "    table-layout: fixed;\n",
      "\tmargin:20px;\n",
      "}\n",
      "\n",
      ".historical_data_table tbody tr td {\n",
      "\t\n",
      "\tpadding:6px;\n",
      "\tvertical-align: middle !important;\n",
      "\n",
      "}\n",
      "\n",
      "\n",
      ".descriptors {\n",
      "\t\n",
      "\ttext-align:center;\n",
      "\tfont-size:14px;\n",
      "\tpadding:15px;\n",
      "\t\n",
      "}\n",
      "\n",
      ".td_metric_name {\n",
      "\t\n",
      "\twidth:110px;\n",
      "\tpadding-top:17px;\n",
      "\t\n",
      "}\n",
      "\n",
      ".metric_link {\n",
      "\t\n",
      "\tfont-size:14px;\n",
      "\tfont-weight:bold;\n",
      "\n",
      "}\n",
      "\n",
      ".help_icon {\n",
      "\t\n",
      "\twidth:15px;\n",
      "\theight:18px; \n",
      "\tpadding-bottom:3px;\n",
      "\t\n",
      "}\n",
      "\n",
      ".td_min_value {\n",
      "\t\n",
      "\twidth:75px;\n",
      "\ttext-align:center;\n",
      "\tfont-size:13px;\n",
      "\t\n",
      "}\n",
      "\n",
      ".td_max_value {\n",
      "\t\n",
      "\twidth:75px;\n",
      "\ttext-align:center;\n",
      "\tfont-size:13px;\n",
      "\t\n",
      "}\n",
      "\n",
      "#myCombobox .form-control {\n",
      "\t\n",
      "\tbackground-color: #99d5ff;\n",
      "\n",
      "\t\n",
      "}\n",
      "\n",
      ".dropdown-toggle {\n",
      "\t\n",
      "\theight:24px;\n",
      "\tpadding-top:0px;\n",
      "\tpadding-left:7px;\n",
      "\twidth:24px;\n",
      "\t\n",
      "}\n",
      "\n",
      ".dropdown-menu-right {\n",
      "\t\n",
      "\tmin-width:75px;\n",
      "\tfont-size:13px;\n",
      "\t\n",
      "}\n",
      "\n",
      ".form-control {\n",
      "\t\n",
      "\tfont-size:12px;\t\n",
      "\tpadding:5px 10px;\n",
      "\theight:24px;\n",
      "\n",
      "\t\n",
      "}\n",
      "\n",
      "#myPills1 {\n",
      "\t\n",
      "\tmargin:0px 15px 10px 0px;\n",
      "\t\n",
      "}\n",
      "\n",
      "#jqxgrid {\n",
      "\t\n",
      "\tborder-radius:0px;\n",
      "\t\n",
      "}\n",
      "\n",
      ".jqx-widget-header {\n",
      "\t\n",
      "    font-family: 'Roboto', sans-serif;\n",
      "\tfont-size:13px;\t\n",
      "\t\n",
      "}\n",
      "\n",
      ".jqx-item {\n",
      "\t\n",
      "    font-family: 'Roboto', sans-serif;\n",
      "\tfont-size: 13px;\n",
      "\t\n",
      "}\n",
      "\n",
      ".jqx-widget-content {\n",
      "\t\n",
      "\tborder-color: #E0E0E0;\n",
      "\t\n",
      "}\n",
      "\n",
      "#jqxgrid .jqx-grid-cell {\n",
      "\t\n",
      "\tborder-color: #E0E0E0;\n",
      "\t\n",
      "}\n",
      "\n",
      "#jqxgrid .jqx-grid-cell-pinned {\n",
      "\t\n",
      "\tborder-color: #E0E0E0;\n",
      "\tbackground-color: #F5F5F5;\n",
      "\t\n",
      "}\n",
      "\n",
      "#jqxgrid .jqx-grid-column-header {\n",
      "\t\n",
      "\tborder-color: #E0E0E0;\n",
      "\tbackground-color: #F5F5F5;\n",
      "\t\n",
      "}\n",
      "\n",
      ".clear_zero {\n",
      "\n",
      "\theight:0px;\n",
      "\n",
      "}\n",
      "\n",
      "\n",
      "\n",
      "/* Styles for Popup Charts */\n",
      "\n",
      ".tpd-size-large {\n",
      "\t\n",
      "\tmargin:0px;\t\n",
      "\tpadding: 0px;\n",
      "}\n",
      "\n",
      ".popup_window_wrapper {\n",
      "\t\n",
      "\tmargin:15px;\n",
      "\t\n",
      "}\n",
      "\n",
      ".popup_stock_name {\n",
      "\n",
      "\tfont-size:16px;\n",
      "\tfont-weight:bold;\n",
      "\tmargin:5px;\n",
      "\n",
      "}\n",
      "\n",
      ".popup_stock_attributes {\n",
      "\n",
      "\tfont-size:13px;\n",
      "\tfont-weight:bold;\n",
      "\tmargin:5px;\n",
      "\n",
      "}\n",
      "\n",
      ".popup_stock_description {\n",
      "\n",
      "\tfont-size:12px;\n",
      "\tmargin:5px;\n",
      "\n",
      "}\n",
      "\n",
      ".jqx-input {\n",
      "\t\n",
      "\tfont-size:14px;\n",
      "\t\n",
      "} \n",
      "\n",
      ".jqx-menu-item {\n",
      "\t\n",
      "\tfont-size:14px;\n",
      "\t\n",
      "}\n",
      "\n",
      ".jqx-input {\n",
      "\t\n",
      "\tpadding:5px 10px;\n",
      "\t\n",
      "}\n",
      "\n",
      ".nav-tabs {\n",
      "    border: 1px solid #E0E0E0;\n",
      "\tbackground-color:#F5F5F5;\n",
      "\tpadding: 3px 5px 0px 5px;\n",
      "\tmargin: 0px 0px 10px 0px;\n",
      "}\n",
      "\n",
      ".nav-tabs>li>a {\n",
      "\tfont-size:13px;\n",
      "\tpadding:7px 12px;\n",
      "\tfont-weight:600;\n",
      "    margin-right: 0px;\n",
      "    line-height: 1.42857143;\n",
      "    border: 0px;\n",
      "    border-radius: 0px 0px 0 0;\n",
      "\tbackground-color:#F5F5F5;\n",
      "\n",
      "}\n",
      "\n",
      ".nav-tabs>li>a .active {\n",
      "    margin-right: 0px;\n",
      "    line-height: 1.42857143;\n",
      "    border: 1px solid #E0E0E0;\n",
      "    border-radius: 0px 0px 0 0;\n",
      "\tbackground-color:#F5F5F5;\n",
      "\n",
      "}\n",
      "\n",
      ".nav-tabs>li>a:hover { \n",
      "    background-color: #F5F5F5;\n",
      "\ttext-decoration: underline;\n",
      "\n",
      "}\n",
      "\n",
      ".donate_buttons {\n",
      "\n",
      "\tmargin-left:20px;\n",
      "\t\n",
      "\t}\n",
      "\n",
      ".modal-body {\n",
      "\n",
      "\tmargin:10px 40px 20px 40px;\n",
      "\ttext-align:left;\n",
      "\tfont-size:18px;\n",
      "\n",
      "}\n",
      "\n",
      ".modal-body li {\n",
      "\n",
      "\tmargin-top:20px;\n",
      "\tfont-size:14px;\n",
      "\n",
      "}\n",
      "\n",
      "\n",
      ".modal_title {\n",
      "\n",
      "\n",
      "\ttext-align:center;\n",
      "\tmargin-bottom:30px;\n",
      "\n",
      "}\n",
      "\n",
      ".modal-body th{\n",
      "\n",
      "\tmargin-left:10px;\n",
      "\tfont-size:14px;\n",
      "}\n",
      "\n",
      ".modal-body td {\n",
      "\n",
      "\tcolor: #337ab7;\n",
      "\tmargin-left:10px;\n",
      "\tfont-size:14px;\n",
      "}\n",
      "\n",
      ".modal_button {\n",
      "\n",
      "\tmargin-top:50px;\n",
      "\ttext-align:center;\n",
      "\tfont-size:16px;\n",
      "\n",
      "}\t\n",
      "\n",
      "\n",
      "</style>\t\n",
      "\n",
      "\n",
      "<script type=\"text/javascript\" async=\"\" src=\"./GameStop Revenue 2006-2020 _ GME _ MacroTrends_files/js(1)\"></script><style type=\"text/css\">@-webkit-keyframes bounce{0%,20%,50%,80%,to{-webkit-transform:translateY(0);transform:translateY(0)}40%{-webkit-transform:translateY(-30px);transform:translateY(-30px)}60%{-webkit-transform:translateY(-15px);transform:translateY(-15px)}}@keyframes bounce{0%,20%,50%,80%,to{-webkit-transform:translateY(0);transform:translateY(0)}40%{-webkit-transform:translateY(-30px);transform:translateY(-30px)}60%{-webkit-transform:translateY(-15px);transform:translateY(-15px)}}.om-animation-bounce{-webkit-animation-duration:1s;animation-duration:1s;-webkit-animation-fill-mode:both;animation-fill-mode:both;-webkit-animation-name:bounce;animation-name:bounce}@-webkit-keyframes bounceIn{0%{opacity:0;-webkit-transform:scale(.3);transform:scale(.3)}50%{opacity:1;-webkit-transform:scale(1.05);transform:scale(1.05)}70%{-webkit-transform:scale(.9);transform:scale(.9)}to{opacity:1;-webkit-transform:scale(1);transform:scale(1)}}@keyframes bounceIn{0%{opacity:0;-webkit-transform:scale(.3);transform:scale(.3)}50%{opacity:1;-webkit-transform:scale(1.05);transform:scale(1.05)}70%{-webkit-transform:scale(.9);transform:scale(.9)}to{opacity:1;-webkit-transform:scale(1);transform:scale(1)}}.om-animation-bounce-in{-webkit-animation-duration:1s;animation-duration:1s;-webkit-animation-name:bounceIn;animation-name:bounceIn}@-webkit-keyframes bounceInDown{0%{opacity:0;-webkit-transform:translateY(-2000px);transform:translateY(-2000px)}60%{opacity:1;-webkit-transform:translateY(30px);transform:translateY(30px)}80%{-webkit-transform:translateY(-10px);transform:translateY(-10px)}to{-webkit-transform:translateY(0);transform:translateY(0)}}@keyframes bounceInDown{0%{opacity:0;-webkit-transform:translateY(-2000px);transform:translateY(-2000px)}60%{opacity:1;-webkit-transform:translateY(30px);transform:translateY(30px)}80%{-webkit-transform:translateY(-10px);transform:translateY(-10px)}to{-webkit-transform:translateY(0);transform:translateY(0)}}.om-animation-bounce-in-down{-webkit-animation-duration:1s;animation-duration:1s;-webkit-animation-name:bounceInDown;animation-name:bounceInDown}@-webkit-keyframes bounceInLeft{0%{opacity:0;-webkit-transform:translateX(-2000px);transform:translateX(-2000px)}60%{opacity:1;-webkit-transform:translateX(30px);transform:translateX(30px)}80%{-webkit-transform:translateX(-10px);transform:translateX(-10px)}to{-webkit-transform:translateX(0);transform:translateX(0)}}@keyframes bounceInLeft{0%{opacity:0;-webkit-transform:translateX(-2000px);transform:translateX(-2000px)}60%{opacity:1;-webkit-transform:translateX(30px);transform:translateX(30px)}80%{-webkit-transform:translateX(-10px);transform:translateX(-10px)}to{-webkit-transform:translateX(0);transform:translateX(0)}}.om-animation-bounce-in-left{-webkit-animation-duration:1s;animation-duration:1s;-webkit-animation-name:bounceInLeft;animation-name:bounceInLeft}@-webkit-keyframes bounceInRight{0%{opacity:0;-webkit-transform:translateX(2000px);transform:translateX(2000px)}60%{opacity:1;-webkit-transform:translateX(-30px);transform:translateX(-30px)}80%{-webkit-transform:translateX(10px);transform:translateX(10px)}to{-webkit-transform:translateX(0);transform:translateX(0)}}@keyframes bounceInRight{0%{opacity:0;-webkit-transform:translateX(2000px);transform:translateX(2000px)}60%{opacity:1;-webkit-transform:translateX(-30px);transform:translateX(-30px)}80%{-webkit-transform:translateX(10px);transform:translateX(10px)}to{-webkit-transform:translateX(0);transform:translateX(0)}}.om-animation-bounce-in-right{-webkit-animation-duration:1s;animation-duration:1s;-webkit-animation-name:bounceInRight;animation-name:bounceInRight}@-webkit-keyframes bounceInUp{0%{opacity:0;-webkit-transform:translateY(2000px);transform:translateY(2000px)}60%{opacity:1;-webkit-transform:translateY(-30px);transform:translateY(-30px)}80%{-webkit-transform:translateY(10px);transform:translateY(10px)}to{-webkit-transform:translateY(0);transform:translateY(0)}}@keyframes bounceInUp{0%{opacity:0;-webkit-transform:translateY(2000px);transform:translateY(2000px)}60%{opacity:1;-webkit-transform:translateY(-30px);transform:translateY(-30px)}80%{-webkit-transform:translateY(10px);transform:translateY(10px)}to{-webkit-transform:translateY(0);transform:translateY(0)}}.om-animation-bounce-in-up{-webkit-animation-duration:1s;animation-duration:1s;-webkit-animation-name:bounceInUp;animation-name:bounceInUp}@-webkit-keyframes flash{0%,50%,to{opacity:1}25%,75%{opacity:0}}@keyframes flash{0%,50%,to{opacity:1}25%,75%{opacity:0}}.om-animation-flash{-webkit-animation-duration:1s;animation-duration:1s;-webkit-animation-fill-mode:both;animation-fill-mode:both;-webkit-animation-name:flash;animation-name:flash}@-webkit-keyframes flip{0%{-webkit-transform:perspective(800px) translateZ(0) rotateY(0) scale(1);transform:perspective(800px) translateZ(0) rotateY(0) scale(1);-webkit-animation-timing-function:ease-out;animation-timing-function:ease-out}40%{-webkit-transform:perspective(800px) translateZ(150px) rotateY(170deg) scale(1);transform:perspective(800px) translateZ(150px) rotateY(170deg) scale(1);-webkit-animation-timing-function:ease-out;animation-timing-function:ease-out}50%{-webkit-transform:perspective(800px) translateZ(150px) rotateY(190deg) scale(1);transform:perspective(800px) translateZ(150px) rotateY(190deg) scale(1);-webkit-animation-timing-function:ease-in;animation-timing-function:ease-in}80%{-webkit-transform:perspective(800px) translateZ(0) rotateY(1turn) scale(.95);transform:perspective(800px) translateZ(0) rotateY(1turn) scale(.95);-webkit-animation-timing-function:ease-in;animation-timing-function:ease-in}to{-webkit-transform:perspective(800px) translateZ(0) rotateY(1turn) scale(1);transform:perspective(800px) translateZ(0) rotateY(1turn) scale(1);-webkit-animation-timing-function:ease-in;animation-timing-function:ease-in}}@keyframes flip{0%{-webkit-transform:perspective(800px) translateZ(0) rotateY(0) scale(1);transform:perspective(800px) translateZ(0) rotateY(0) scale(1);-webkit-animation-timing-function:ease-out;animation-timing-function:ease-out}40%{-webkit-transform:perspective(800px) translateZ(150px) rotateY(170deg) scale(1);transform:perspective(800px) translateZ(150px) rotateY(170deg) scale(1);-webkit-animation-timing-function:ease-out;animation-timing-function:ease-out}50%{-webkit-transform:perspective(800px) translateZ(150px) rotateY(190deg) scale(1);transform:perspective(800px) translateZ(150px) rotateY(190deg) scale(1);-webkit-animation-timing-function:ease-in;animation-timing-function:ease-in}80%{-webkit-transform:perspective(800px) translateZ(0) rotateY(1turn) scale(.95);transform:perspective(800px) translateZ(0) rotateY(1turn) scale(.95);-webkit-animation-timing-function:ease-in;animation-timing-function:ease-in}to{-webkit-transform:perspective(800px) translateZ(0) rotateY(1turn) scale(1);transform:perspective(800px) translateZ(0) rotateY(1turn) scale(1);-webkit-animation-timing-function:ease-in;animation-timing-function:ease-in}}.om-animation-flip{-webkit-animation-duration:1s;animation-duration:1s;-webkit-backface-visibility:visible;backface-visibility:visible;-webkit-animation-name:flip;animation-name:flip}@-webkit-keyframes flipInX{0%{-webkit-transform:perspective(800px) rotateX(90deg);transform:perspective(800px) rotateX(90deg);opacity:0}40%{-webkit-transform:perspective(800px) rotateX(-10deg);transform:perspective(800px) rotateX(-10deg)}70%{-webkit-transform:perspective(800px) rotateX(10deg);transform:perspective(800px) rotateX(10deg)}to{-webkit-transform:perspective(800px) rotateX(0deg);transform:perspective(800px) rotateX(0deg);opacity:1}}@keyframes flipInX{0%{-webkit-transform:perspective(800px) rotateX(90deg);transform:perspective(800px) rotateX(90deg);opacity:0}40%{-webkit-transform:perspective(800px) rotateX(-10deg);transform:perspective(800px) rotateX(-10deg)}70%{-webkit-transform:perspective(800px) rotateX(10deg);transform:perspective(800px) rotateX(10deg)}to{-webkit-transform:perspective(800px) rotateX(0deg);transform:perspective(800px) rotateX(0deg);opacity:1}}.om-animation-flip-down{-webkit-animation-duration:1s;animation-duration:1s;-webkit-backface-visibility:visible;backface-visibility:visible;-webkit-animation-name:flipInX;animation-name:flipInX}@-webkit-keyframes flipInY{0%{-webkit-transform:perspective(800px) rotateY(90deg);transform:perspective(800px) rotateY(90deg);opacity:0}40%{-webkit-transform:perspective(800px) rotateY(-10deg);transform:perspective(800px) rotateY(-10deg)}70%{-webkit-transform:perspective(800px) rotateY(10deg);transform:perspective(800px) rotateY(10deg)}to{-webkit-transform:perspective(800px) rotateY(0deg);transform:perspective(800px) rotateY(0deg);opacity:1}}@keyframes flipInY{0%{-webkit-transform:perspective(800px) rotateY(90deg);transform:perspective(800px) rotateY(90deg);opacity:0}40%{-webkit-transform:perspective(800px) rotateY(-10deg);transform:perspective(800px) rotateY(-10deg)}70%{-webkit-transform:perspective(800px) rotateY(10deg);transform:perspective(800px) rotateY(10deg)}to{-webkit-transform:perspective(800px) rotateY(0deg);transform:perspective(800px) rotateY(0deg);opacity:1}}.om-animation-flip-side{-webkit-animation-duration:1s;animation-duration:1s;-webkit-backface-visibility:visible;backface-visibility:visible;-webkit-animation-name:flipInY;animation-name:flipInY}@-webkit-keyframes lightSpeedIn{0%{-webkit-transform:translateX(100%) skewX(-30deg);transform:translateX(100%) skewX(-30deg);opacity:0}60%{-webkit-transform:translateX(-20%) skewX(30deg);transform:translateX(-20%) skewX(30deg);opacity:1}80%{-webkit-transform:translateX(0) skewX(-15deg);transform:translateX(0) skewX(-15deg);opacity:1}to{-webkit-transform:translateX(0) skewX(0deg);transform:translateX(0) skewX(0deg);opacity:1}}@keyframes lightSpeedIn{0%{-webkit-transform:translateX(100%) skewX(-30deg);transform:translateX(100%) skewX(-30deg);opacity:0}60%{-webkit-transform:translateX(-20%) skewX(30deg);transform:translateX(-20%) skewX(30deg);opacity:1}80%{-webkit-transform:translateX(0) skewX(-15deg);transform:translateX(0) skewX(-15deg);opacity:1}to{-webkit-transform:translateX(0) skewX(0deg);transform:translateX(0) skewX(0deg);opacity:1}}.om-animation-light-speed{-webkit-animation-duration:1s;animation-duration:1s;-webkit-animation-name:lightSpeedIn;animation-name:lightSpeedIn;-webkit-animation-timing-function:ease-out;animation-timing-function:ease-out}@-webkit-keyframes pulse{0%{-webkit-transform:scale(1);transform:scale(1)}50%{-webkit-transform:scale(1.1);transform:scale(1.1)}to{-webkit-transform:scale(1);transform:scale(1)}}@keyframes pulse{0%{-webkit-transform:scale(1);transform:scale(1)}50%{-webkit-transform:scale(1.1);transform:scale(1.1)}to{-webkit-transform:scale(1);transform:scale(1)}}.om-animation-pulse{-webkit-animation-duration:1s;animation-duration:1s;-webkit-animation-fill-mode:both;animation-fill-mode:both;-webkit-animation-name:pulse;animation-name:pulse}@-webkit-keyframes rollIn{0%{opacity:0;-webkit-transform:translateX(-100%) rotate(-120deg);transform:translateX(-100%) rotate(-120deg)}to{opacity:1;-webkit-transform:translateX(0) rotate(0deg);transform:translateX(0) rotate(0deg)}}@keyframes rollIn{0%{opacity:0;-webkit-transform:translateX(-100%) rotate(-120deg);transform:translateX(-100%) rotate(-120deg)}to{opacity:1;-webkit-transform:translateX(0) rotate(0deg);transform:translateX(0) rotate(0deg)}}.om-animation-roll-in{-webkit-animation-duration:1s;animation-duration:1s;-webkit-animation-name:rollIn;animation-name:rollIn}@-webkit-keyframes rotateIn{0%{-webkit-transform-origin:center center;transform-origin:center center;-webkit-transform:rotate(-200deg);transform:rotate(-200deg);opacity:0}to{-webkit-transform-origin:center center;transform-origin:center center;-webkit-transform:rotate(0);transform:rotate(0);opacity:1}}@keyframes rotateIn{0%{-webkit-transform-origin:center center;transform-origin:center center;-webkit-transform:rotate(-200deg);transform:rotate(-200deg);opacity:0}to{-webkit-transform-origin:center center;transform-origin:center center;-webkit-transform:rotate(0);transform:rotate(0);opacity:1}}.om-animation-rotate{-webkit-animation-duration:1s;animation-duration:1s;-webkit-animation-name:rotateIn;animation-name:rotateIn}@-webkit-keyframes rotateInDownLeft{0%{-webkit-transform-origin:left bottom;transform-origin:left bottom;-webkit-transform:rotate(-90deg);transform:rotate(-90deg);opacity:0}to{-webkit-transform-origin:left bottom;transform-origin:left bottom;-webkit-transform:rotate(0);transform:rotate(0);opacity:1}}@keyframes rotateInDownLeft{0%{-webkit-transform-origin:left bottom;transform-origin:left bottom;-webkit-transform:rotate(-90deg);transform:rotate(-90deg);opacity:0}to{-webkit-transform-origin:left bottom;transform-origin:left bottom;-webkit-transform:rotate(0);transform:rotate(0);opacity:1}}.om-animation-rotate-down-left{-webkit-animation-duration:1s;animation-duration:1s;-webkit-animation-name:rotateInDownLeft;animation-name:rotateInDownLeft}@-webkit-keyframes rotateInDownRight{0%{-webkit-transform-origin:right bottom;transform-origin:right bottom;-webkit-transform:rotate(90deg);transform:rotate(90deg);opacity:0}to{-webkit-transform-origin:right bottom;transform-origin:right bottom;-webkit-transform:rotate(0);transform:rotate(0);opacity:1}}@keyframes rotateInDownRight{0%{-webkit-transform-origin:right bottom;transform-origin:right bottom;-webkit-transform:rotate(90deg);transform:rotate(90deg);opacity:0}to{-webkit-transform-origin:right bottom;transform-origin:right bottom;-webkit-transform:rotate(0);transform:rotate(0);opacity:1}}.om-animation-rotate-down-right{-webkit-animation-duration:1s;animation-duration:1s;-webkit-animation-name:rotateInDownRight;animation-name:rotateInDownRight}@-webkit-keyframes rotateInUpLeft{0%{-webkit-transform-origin:left bottom;transform-origin:left bottom;-webkit-transform:rotate(90deg);transform:rotate(90deg);opacity:0}to{-webkit-transform-origin:left bottom;transform-origin:left bottom;-webkit-transform:rotate(0);transform:rotate(0);opacity:1}}@keyframes rotateInUpLeft{0%{-webkit-transform-origin:left bottom;transform-origin:left bottom;-webkit-transform:rotate(90deg);transform:rotate(90deg);opacity:0}to{-webkit-transform-origin:left bottom;transform-origin:left bottom;-webkit-transform:rotate(0);transform:rotate(0);opacity:1}}.om-animation-rotate-up-left{-webkit-animation-duration:1s;animation-duration:1s;-webkit-animation-name:rotateInUpLeft;animation-name:rotateInUpLeft}@-webkit-keyframes rotateInUpRight{0%{-webkit-transform-origin:right bottom;transform-origin:right bottom;-webkit-transform:rotate(-90deg);transform:rotate(-90deg);opacity:0}to{-webkit-transform-origin:right bottom;transform-origin:right bottom;-webkit-transform:rotate(0);transform:rotate(0);opacity:1}}@keyframes rotateInUpRight{0%{-webkit-transform-origin:right bottom;transform-origin:right bottom;-webkit-transform:rotate(-90deg);transform:rotate(-90deg);opacity:0}to{-webkit-transform-origin:right bottom;transform-origin:right bottom;-webkit-transform:rotate(0);transform:rotate(0);opacity:1}}.om-animation-rotate-up-right{-webkit-animation-duration:1s;animation-duration:1s;-webkit-animation-name:rotateInUpRight;animation-name:rotateInUpRight}@-webkit-keyframes rubberBand{0%{-webkit-transform:scale(1);transform:scale(1)}30%{-webkit-transform:scaleX(1.25) scaleY(.75);transform:scaleX(1.25) scaleY(.75)}40%{-webkit-transform:scaleX(.75) scaleY(1.25);transform:scaleX(.75) scaleY(1.25)}60%{-webkit-transform:scaleX(1.15) scaleY(.85);transform:scaleX(1.15) scaleY(.85)}to{-webkit-transform:scale(1);transform:scale(1)}}@keyframes rubberBand{0%{-webkit-transform:scale(1);transform:scale(1)}30%{-webkit-transform:scaleX(1.25) scaleY(.75);transform:scaleX(1.25) scaleY(.75)}40%{-webkit-transform:scaleX(.75) scaleY(1.25);transform:scaleX(.75) scaleY(1.25)}60%{-webkit-transform:scaleX(1.15) scaleY(.85);transform:scaleX(1.15) scaleY(.85)}to{-webkit-transform:scale(1);transform:scale(1)}}.om-animation-rubber-band{-webkit-animation-duration:1s;animation-duration:1s;-webkit-animation-fill-mode:both;animation-fill-mode:both;-webkit-animation-name:rubberBand;animation-name:rubberBand}@-webkit-keyframes shake{0%,to{-webkit-transform:translateX(0);transform:translateX(0)}10%,30%,50%,70%,90%{-webkit-transform:translateX(-10px);transform:translateX(-10px)}20%,40%,60%,80%{-webkit-transform:translateX(10px);transform:translateX(10px)}}@keyframes shake{0%,to{-webkit-transform:translateX(0);transform:translateX(0)}10%,30%,50%,70%,90%{-webkit-transform:translateX(-10px);transform:translateX(-10px)}20%,40%,60%,80%{-webkit-transform:translateX(10px);transform:translateX(10px)}}.om-animation-shake{-webkit-animation-duration:1s;animation-duration:1s;-webkit-animation-fill-mode:both;animation-fill-mode:both;-webkit-animation-name:shake;animation-name:shake}@-webkit-keyframes slideInDown{0%{opacity:0;-webkit-transform:translateY(-2000px);transform:translateY(-2000px)}to{-webkit-transform:translateY(0);transform:translateY(0)}}@keyframes slideInDown{0%{opacity:0;-webkit-transform:translateY(-2000px);transform:translateY(-2000px)}to{-webkit-transform:translateY(0);transform:translateY(0)}}.om-animation-slide-in-down{-webkit-animation-duration:1s;animation-duration:1s;-webkit-animation-name:slideInDown;animation-name:slideInDown}@-webkit-keyframes slideInLeft{0%{opacity:0;-webkit-transform:translateX(-2000px);transform:translateX(-2000px)}to{-webkit-transform:translateX(0);transform:translateX(0)}}@keyframes slideInLeft{0%{opacity:0;-webkit-transform:translateX(-2000px);transform:translateX(-2000px)}to{-webkit-transform:translateX(0);transform:translateX(0)}}.om-animation-slide-in-left{-webkit-animation-duration:1s;animation-duration:1s;-webkit-animation-name:slideInLeft;animation-name:slideInLeft}@-webkit-keyframes slideInRight{0%{opacity:0;-webkit-transform:translateX(2000px);transform:translateX(2000px)}to{-webkit-transform:translateX(0);transform:translateX(0)}}@keyframes slideInRight{0%{opacity:0;-webkit-transform:translateX(2000px);transform:translateX(2000px)}to{-webkit-transform:translateX(0);transform:translateX(0)}}.om-animation-slide-in-right{-webkit-animation-duration:1s;animation-duration:1s;-webkit-animation-name:slideInRight;animation-name:slideInRight}@-webkit-keyframes swing{20%{-webkit-transform:rotate(15deg);transform:rotate(15deg)}40%{-webkit-transform:rotate(-10deg);transform:rotate(-10deg)}60%{-webkit-transform:rotate(5deg);transform:rotate(5deg)}80%{-webkit-transform:rotate(-5deg);transform:rotate(-5deg)}to{-webkit-transform:rotate(0deg);transform:rotate(0deg)}}@keyframes swing{20%{-webkit-transform:rotate(15deg);transform:rotate(15deg)}40%{-webkit-transform:rotate(-10deg);transform:rotate(-10deg)}60%{-webkit-transform:rotate(5deg);transform:rotate(5deg)}80%{-webkit-transform:rotate(-5deg);transform:rotate(-5deg)}to{-webkit-transform:rotate(0deg);transform:rotate(0deg)}}.om-animation-swing{-webkit-animation-duration:1s;animation-duration:1s;-webkit-transform-origin:top center;transform-origin:top center;-webkit-animation-name:swing;animation-name:swing}@-webkit-keyframes tada{0%{-webkit-transform:scale(1);transform:scale(1)}10%,20%{-webkit-transform:scale(.9) rotate(-3deg);transform:scale(.9) rotate(-3deg)}30%,50%,70%,90%{-webkit-transform:scale(1.1) rotate(3deg);transform:scale(1.1) rotate(3deg)}40%,60%,80%{-webkit-transform:scale(1.1) rotate(-3deg);transform:scale(1.1) rotate(-3deg)}to{-webkit-transform:scale(1) rotate(0);transform:scale(1) rotate(0)}}@keyframes tada{0%{-webkit-transform:scale(1);transform:scale(1)}10%,20%{-webkit-transform:scale(.9) rotate(-3deg);transform:scale(.9) rotate(-3deg)}30%,50%,70%,90%{-webkit-transform:scale(1.1) rotate(3deg);transform:scale(1.1) rotate(3deg)}40%,60%,80%{-webkit-transform:scale(1.1) rotate(-3deg);transform:scale(1.1) rotate(-3deg)}to{-webkit-transform:scale(1) rotate(0);transform:scale(1) rotate(0)}}.om-animation-tada{-webkit-animation-duration:1s;animation-duration:1s;-webkit-animation-name:tada;animation-name:tada}@-webkit-keyframes wobble{0%{-webkit-transform:translateX(0);transform:translateX(0)}15%{-webkit-transform:translateX(-25%) rotate(-5deg);transform:translateX(-25%) rotate(-5deg)}30%{-webkit-transform:translateX(20%) rotate(3deg);transform:translateX(20%) rotate(3deg)}45%{-webkit-transform:translateX(-15%) rotate(-3deg);transform:translateX(-15%) rotate(-3deg)}60%{-webkit-transform:translateX(10%) rotate(2deg);transform:translateX(10%) rotate(2deg)}75%{-webkit-transform:translateX(-5%) rotate(-1deg);transform:translateX(-5%) rotate(-1deg)}to{-webkit-transform:translateX(0);transform:translateX(0)}}@keyframes wobble{0%{-webkit-transform:translateX(0);transform:translateX(0)}15%{-webkit-transform:translateX(-25%) rotate(-5deg);transform:translateX(-25%) rotate(-5deg)}30%{-webkit-transform:translateX(20%) rotate(3deg);transform:translateX(20%) rotate(3deg)}45%{-webkit-transform:translateX(-15%) rotate(-3deg);transform:translateX(-15%) rotate(-3deg)}60%{-webkit-transform:translateX(10%) rotate(2deg);transform:translateX(10%) rotate(2deg)}75%{-webkit-transform:translateX(-5%) rotate(-1deg);transform:translateX(-5%) rotate(-1deg)}to{-webkit-transform:translateX(0);transform:translateX(0)}}.om-animation-wobble{-webkit-animation-duration:1s;animation-duration:1s;-webkit-animation-name:wobble;animation-name:wobble}.om-content-lock{color:transparent!important;text-shadow:rgba(0,0,0,.5) 0 0 10px;-webkit-user-select:none;-moz-user-select:none;-ms-user-select:none;user-select:none;pointer-events:none;filter:url(\"data:image/svg+xml;utf9,<svg%20version='1.1'%20xmlns='http://www.w3.org/2000/svg'><filter%20id='blur'><feGaussianBlur%20stdDeviation='10'%20/></filter></svg>#blur\");-webkit-filter:blur(10px);-ms-filter:blur(10px);-o-filter:blur(10px);filter:blur(10px)}html.om-mobile-position,html.om-mobile-position body{position:fixed!important}html.om-ios-form,html.om-ios-form body{-webkit-transform:translateZ(0)!important;transform:translateZ(0)!important;-webkit-overflow-scrolling:touch!important;height:100%!important;overflow:auto!important}html.om-position-popup body{overflow:hidden!important}html.om-position-floating-top{transition:padding-top .5s ease!important}html.om-position-floating-bottom{transition:padding-bottom .5s ease!important}html.om-reset-dimensions{height:100%!important;width:100%!important}.om-verification-confirmation{font-family:Lato,Arial,Helvetica,sans-serif;position:fixed;border-radius:10px;bottom:20px;left:20px;padding:10px 20px;opacity:0;transition:opacity .3s ease-in;background:#85bf31;color:#fff;font-size:18px;font-weight:700;z-index:9999}</style><link rel=\"preload\" href=\"./GameStop Revenue 2006-2020 _ GME _ MacroTrends_files/f.txt\" as=\"script\"><script type=\"text/javascript\" src=\"./GameStop Revenue 2006-2020 _ GME _ MacroTrends_files/f.txt\"></script><script src=\"./GameStop Revenue 2006-2020 _ GME _ MacroTrends_files/pubads_impl_2020080501.js.download\" async=\"\"></script></head>\n",
      "\t<body class=\"fuelux\" data-new-gr-c-s-check-loaded=\"14.1050.0\" data-gr-ext-installed=\"\"><!-- BEGIN WAYBACK TOOLBAR INSERT -->\n",
      "<style type=\"text/css\">\n",
      "body {\n",
      "  margin-top:0 !important;\n",
      "  padding-top:0 !important;\n",
      "  /*min-width:800px !important;*/\n",
      "}\n",
      "</style>\n",
      "<script>__wm.rw(0);</script>\n",
      "<div id=\"wm-ipp-base\" lang=\"en\" style=\"display: block; direction: ltr;\">\n",
      "</div><div id=\"wm-ipp-print\">The Wayback Machine - https://web.archive.org/web/20200814131437/https://www.macrotrends.net/stocks/charts/GME/gamestop/revenue</div>\n",
      "<script type=\"text/javascript\">\n",
      "__wm.bt(675,27,25,2,\"web\",\"https://www.macrotrends.net/stocks/charts/GME/gamestop/revenue\",\"20200814131437\",1996,\"/_static/\",[\"/_static/css/banner-styles.css?v=fantwOh2\",\"/_static/css/iconochive.css?v=qtvMKcIJ\"], false);\n",
      "  __wm.rw(1);\n",
      "</script>\n",
      "<!-- END WAYBACK TOOLBAR INSERT -->\n",
      "        <!--[if lt IE 7]>\n",
      "            <p class=\"browsehappy\">You are using an <strong>outdated</strong> browser. Please <a href=\"https://browsehappy.com/\">upgrade your browser</a> to improve your experience.</p>\n",
      "        <![endif]-->\n",
      "\n",
      "<div class=\"header_content_container container-fluid\">\n",
      "\n",
      "\n",
      "<div class=\"header_parent_container\">\n",
      "\n",
      "<div class=\"header_container\">\n",
      "\n",
      "\t<div class=\"header_logo col-xs-2\">\n",
      "\t\t<a class=\"logo\" href=\"https://web.archive.org/web/20200814131437/https://www.macrotrends.net/\" title=\"MacroTrends Home Page\"><img src=\"./GameStop Revenue 2006-2020 _ GME _ MacroTrends_files/logo_bright1.png\"></a>\n",
      "\t</div>\n",
      "\n",
      "\n",
      "\t  <div class=\"col-xs-1 pull-right\" style=\"padding-top:8px; margin-right:10px; margin-left:0px; padding-left:0px;\">\n",
      "\t  \n",
      "\t  \n",
      "\t  </div>\n",
      "\t  \n",
      "\t  \n",
      "\n",
      "\t  <div class=\"col-xs-5 pull-right\" style=\"padding-top:8px;\">\n",
      "       <form>\n",
      "        <div class=\"typeahead__container\" style=\"z-index: 1041; position: relative;\">\n",
      "            <div class=\"typeahead__field\">\n",
      "\n",
      "            <span class=\"typeahead__query\">\n",
      "                <span class=\"typeahead__cancel-button\">Ã</span><input class=\"js-typeahead\" name=\"q\" type=\"search\" placeholder=\"Search over 200,000 charts...\" autofocus=\"\" autocomplete=\"off\">\n",
      "            </span>\n",
      "            <span class=\"typeahead__button\">\n",
      "                <button type=\"submit\">\n",
      "                    <span class=\"typeahead__search-icon\"></span>\n",
      "                </button>\n",
      "            </span>\n",
      "\n",
      "            </div>\n",
      "        <div class=\"typeahead__result\"></div></div><div class=\"typeahead__backdrop\" style=\"opacity: 0.6; position: fixed; inset: 0px; z-index: 1040; background-color: rgb(255, 255, 255);\"></div>\n",
      "    </form>\n",
      "\t\t\n",
      "\t  </div>\n",
      "\t  \n",
      "\t  </div>\n",
      "\n",
      "\n",
      "\n",
      "</div>\n",
      "\n",
      "<div class=\"menu_parent_container\">\n",
      "\n",
      "<div class=\"menu_container\">\n",
      "\t\t\n",
      "\t<a href=\"https://web.archive.org/web/20200814131437/https://www.macrotrends.net/stocks/stock-screener\"><div class=\"menu_item\">Stock Screener</div></a>\n",
      "\t<a href=\"https://web.archive.org/web/20200814131437/https://www.macrotrends.net/stocks/research\"><div class=\"menu_item\">Stock Research</div></a>\n",
      "\t<a href=\"https://web.archive.org/web/20200814131437/https://www.macrotrends.net/charts/stock-indexes\"><div class=\"menu_item\">Market Indexes</div></a>\n",
      "\t<a href=\"https://web.archive.org/web/20200814131437/https://www.macrotrends.net/charts/precious-metals\"><div class=\"menu_item\">Precious Metals</div></a>\n",
      "\t<a href=\"https://web.archive.org/web/20200814131437/https://www.macrotrends.net/charts/energy\"><div class=\"menu_item\">Energy</div></a>\n",
      "\t<a href=\"https://web.archive.org/web/20200814131437/https://www.macrotrends.net/charts/commodities\"><div class=\"menu_item\">Commodities</div></a>\n",
      "\t<a href=\"https://web.archive.org/web/20200814131437/https://www.macrotrends.net/charts/exchange-rates\"><div class=\"menu_item\">Exchange Rates</div></a>\n",
      "\t<a href=\"https://web.archive.org/web/20200814131437/https://www.macrotrends.net/charts/interest-rates\"><div class=\"menu_item\">Interest Rates</div></a>\n",
      "\t<a href=\"https://web.archive.org/web/20200814131437/https://www.macrotrends.net/futures\"><div class=\"menu_item\">Futures</div></a>\n",
      "\t<a href=\"https://web.archive.org/web/20200814131437/https://www.macrotrends.net/charts/economy\"><div class=\"menu_item\">Economy</div></a>\n",
      "\t<a href=\"https://web.archive.org/web/20200814131437/https://www.macrotrends.net/countries/topic-overview\"><div class=\"menu_item\">Global Metrics</div></a>\n",
      "\n",
      "\t\t\n",
      "</div>\n",
      "\n",
      "</div>\n",
      "\n",
      "</div>\n",
      "\n",
      "<div id=\"main_content_container\" class=\"main_content_container container-fluid\">\n",
      "\n",
      "\n",
      "\t<div id=\"ic_leaderboard\" class=\"adx_top_ad col-xs-12\" style=\"margin: 20px 20px 30px 20px; min-height:265px; text-align:center;\">\n",
      "\n",
      "\t\t<!--Smartad # 4058: Macrotrends - 970x250 Image - Placement 2-->\n",
      "\t\t<iframe id=\"dianomi_leaderboard\" width=\"970\" height=\"250\" scrolling=\"NO\" src=\"./GameStop Revenue 2006-2020 _ GME _ MacroTrends_files/smartads.html\" style=\"height: 250px; border: none; overflow: hidden;\"></iframe>\n",
      "\t\t\t\t \t\t\n",
      "\t</div>\n",
      "\t\t\t\n",
      "\t\t\t<div style=\"margin:20px;\">\n",
      "\t\t\t\n",
      "\t\t\t\t<h2 style=\"margin-left:180px; font-weight:600; color:#444;\">GameStop Revenue 2006-2020 | GME</h2>\n",
      "\t\t\t\n",
      "\t\t\t</div>\n",
      "\t\t\t\n",
      "\t\t\t\n",
      "\t<div class=\"sub_main_content_container\">\n",
      "\t\t\n",
      "\n",
      "\t\t\t<div id=\"left_sidebar\">\n",
      "\t\t\t\t\t\n",
      "\t\t\t\t<div id=\"sticky_ad_left\">\n",
      "\n",
      "\t\t\t\t\t<div id=\"ic_160_600\">\n",
      "\n",
      "\n",
      "\t\t\t\t\t</div>\n",
      "\n",
      "\n",
      "\t\t\t\t</div>\t\t\t\t\t\n",
      "\n",
      "\n",
      "\t\t\t</div>\n",
      "\t\t\n",
      "\n",
      "\t\t\t<div id=\"main_content\">\n",
      "\t\t\t\n",
      "\t\t\t\n",
      "\t\t\t\n",
      "<div class=\"navigation_tabs\" style=\"margin-bottom:20px;\">\n",
      "\t\t\t\n",
      "\t<ul class=\"nav nav-tabs\" id=\"myTabs\" style=\"font-size:15px;\">\n",
      "\n",
      "\t\t\n",
      "\t\t\t\n",
      "\t\t\t\n",
      "\t\t\t\t<li><a href=\"https://web.archive.org/web/20200814131437/https://www.macrotrends.net/stocks/charts/GME/gamestop/stock-price-history\">Prices</a></li>\n",
      "\n",
      "\t\t\t\n",
      "\t\t\n",
      "\t\t\t\n",
      "\t\t\t\n",
      "\t\t\t\t<li><a href=\"https://web.archive.org/web/20200814131437/https://www.macrotrends.net/stocks/charts/GME/gamestop/financial-statements\">Financials</a></li>\n",
      "\n",
      "\t\t\t\n",
      "\t\t\n",
      "\t\t\t\n",
      "\t\t\t\n",
      "\t\t\t\t<li class=\"active\"><a href=\"https://web.archive.org/web/20200814131437/https://www.macrotrends.net/stocks/charts/GME/gamestop/revenue\">Revenue &amp; Profit</a></li>\n",
      "\n",
      "\t\t\t\n",
      "\t\t\n",
      "\t\t\t\n",
      "\t\t\t\n",
      "\t\t\t\t<li><a href=\"https://web.archive.org/web/20200814131437/https://www.macrotrends.net/stocks/charts/GME/gamestop/total-assets\">Assets &amp; Liabilities</a></li>\n",
      "\n",
      "\t\t\t\n",
      "\t\t\n",
      "\t\t\t\n",
      "\t\t\t\n",
      "\t\t\t\t<li><a href=\"https://web.archive.org/web/20200814131437/https://www.macrotrends.net/stocks/charts/GME/gamestop/profit-margins\">Margins</a></li>\n",
      "\n",
      "\t\t\t\n",
      "\t\t\n",
      "\t\t\t\n",
      "\t\t\t\n",
      "\t\t\t\t<li><a href=\"https://web.archive.org/web/20200814131437/https://www.macrotrends.net/stocks/charts/GME/gamestop/pe-ratio\">Price Ratios</a></li>\n",
      "\n",
      "\t\t\t\n",
      "\t\t\n",
      "\t\t\t\n",
      "\t\t\t\n",
      "\t\t\t\t<li><a href=\"https://web.archive.org/web/20200814131437/https://www.macrotrends.net/stocks/charts/GME/gamestop/current-ratio\">Other Ratios</a></li>\n",
      "\n",
      "\t\t\t\n",
      "\t\t\n",
      "\t\t\t\n",
      "\t\t\t\n",
      "\t\t\t\t<li><a href=\"https://web.archive.org/web/20200814131437/https://www.macrotrends.net/stocks/charts/GME/gamestop/dividend-yield-history\">Other Metrics</a></li>\n",
      "\n",
      "\t\t\t\n",
      "\t\t\n",
      "\t</ul>\n",
      "\n",
      "\n",
      "\t<ul class=\"nav nav-tabs\" id=\"myTabs\" style=\"font-size:15px;\">\n",
      "\n",
      "\t\t\n",
      "\t\t\t\n",
      "\t\t\t\n",
      "\t\t\t\t<li class=\"active\"><a href=\"https://web.archive.org/web/20200814131437/https://www.macrotrends.net/stocks/charts/GME/gamestop/revenue\">Revenue</a></li>\n",
      "\n",
      "\n",
      "\t\t\t\t\t\t\n",
      "\t\t\n",
      "\t\t\t\n",
      "\t\t\t\t\t\t\n",
      "\t\t\t\t<li><a href=\"https://web.archive.org/web/20200814131437/https://www.macrotrends.net/stocks/charts/GME/gamestop/gross-profit\">Gross Profit</a></li>\t\t\t\n",
      "\n",
      "\t\t\t\t\t\t\n",
      "\t\t\n",
      "\t\t\t\n",
      "\t\t\t\t\t\t\n",
      "\t\t\t\t<li><a href=\"https://web.archive.org/web/20200814131437/https://www.macrotrends.net/stocks/charts/GME/gamestop/operating-income\">Operating Income</a></li>\t\t\t\n",
      "\n",
      "\t\t\t\t\t\t\n",
      "\t\t\n",
      "\t\t\t\n",
      "\t\t\t\t\t\t\n",
      "\t\t\t\t<li><a href=\"https://web.archive.org/web/20200814131437/https://www.macrotrends.net/stocks/charts/GME/gamestop/ebitda\">EBITDA</a></li>\t\t\t\n",
      "\n",
      "\t\t\t\t\t\t\n",
      "\t\t\n",
      "\t\t\t\n",
      "\t\t\t\t\t\t\n",
      "\t\t\t\t<li><a href=\"https://web.archive.org/web/20200814131437/https://www.macrotrends.net/stocks/charts/GME/gamestop/net-income\">Net Income</a></li>\t\t\t\n",
      "\n",
      "\t\t\t\t\t\t\n",
      "\t\t\n",
      "\t\t\t\n",
      "\t\t\t\t\t\t\n",
      "\t\t\t\t<li><a href=\"https://web.archive.org/web/20200814131437/https://www.macrotrends.net/stocks/charts/GME/gamestop/eps-earnings-per-share-diluted\">EPS</a></li>\t\t\t\n",
      "\n",
      "\t\t\t\t\t\t\n",
      "\t\t\n",
      "\t\t\t\n",
      "\t\t\t\t\t\t\n",
      "\t\t\t\t<li><a href=\"https://web.archive.org/web/20200814131437/https://www.macrotrends.net/stocks/charts/GME/gamestop/shares-outstanding\">Shares Outstanding</a></li>\t\t\t\n",
      "\n",
      "\t\t\t\t\t\t\n",
      "\t\t\n",
      "\n",
      "\t</ul>\n",
      "\t\n",
      "\t\t\t\n",
      "</div>\n",
      "\t\t\t\n",
      "\n",
      "\t\t\n",
      "\n",
      "\t\t\t<div style=\"background-color:#fff; margin: 0px 0px 20px 0px; padding:20px 30px; border:1px solid #dfdfdf;\">\n",
      "\t\t\t\n",
      "\t\t\t\t<span style=\"color:#444; line-height: 1.8;\">GameStop revenue from 2006 to 2020. Revenue can be defined as the amount of money a company receives from its customers in exchange for the sales of goods or services.  Revenue is the top line item on an income statement from which all costs and expenses are subtracted to arrive at net income.</span>\n",
      "\t\t\t\n",
      "\t\t\t</div>\n",
      "\n",
      "\t\t\n",
      "\t\t\t\n",
      "\t\t\t<div style=\"background-color:#fff; margin: 30px 0px 30px 0px; text-align:center; min-height:90px;\">\n",
      "\n",
      "\n",
      "\t\t\t\t<div id=\"ic_728_90\" style=\"margin:10px 20px;\">\n",
      "\n",
      "\n",
      "\t\t\t\t</div>\n",
      "\t\t\t\n",
      "\t\t\t</div>\t\t\n",
      "\t\t\t\n",
      "\t\t\t\n",
      "\n",
      "\t\t\t<div class=\"ticker_search_box\" style=\"text-align:center;\">\t\t\t\n",
      "\n",
      "\t\t<div style=\"width:400px; margin-left:20px; border-bottom:none;\">\n",
      "\t\t\n",
      "\t\t\n",
      "\n",
      "\t\t\n",
      "        <script type=\"text/javascript\">\n",
      "            $(document).ready(function () {\n",
      "\t\t\t\t                \n",
      "\t\t\t\t\tvar url = \"https://web.archive.org/web/20200814131437/https://www.macrotrends.net/assets/php/ticker_search_list.php\";\n",
      "\t\t\t\t\n",
      "                // prepare the data\n",
      "                var source =\n",
      "                {\n",
      "                    datatype: \"json\",\n",
      "                    datafields: [\n",
      "                        { name: 'n' },\n",
      "\t\t\t\t\t\t{ name: 's'}\n",
      "                    ],\n",
      "                    url: url\n",
      "                };\n",
      "                var dataAdapter = new $.jqx.dataAdapter(source);\n",
      "                // Create a jqxInput\n",
      "                $(\"#jqxInput\").jqxInput({ source: dataAdapter, minLength: 1, placeHolder: \"Search for ticker or company name...\", items: 20, searchMode: 'containsignorecase', displayMember: \"n\", valueMember: \"s\", width: '100%', height: 22, theme: 'bootstrap'});\n",
      "                $(\"#jqxInput\").on('select', function (event) {\n",
      "                    if (event.args) {\n",
      "                        var item = event.args.item;\n",
      "\t\t\t\t\t\t\n",
      "\t\t\t\t\t\t//Have to split the ticker and slug back out since jqxinput only seems to allow one data value\n",
      "\t\t\t\t\t\tvar itemArray = item.value.split(\"\\/\"); \n",
      "\t\t\t\t\t\tvar ticker = itemArray[0];\n",
      "\t\t\t\t\t\tvar slug = itemArray[1];\n",
      "                        if (item) {\n",
      "\t\t\t\t\t\t\t\n",
      "\t\t\t\t\t\t\t\t\t\t\t\t\t\t\n",
      "\t\t\t\t\t\t\t\twindow.location = \"https://web.archive.org/web/20200814131437/https://www.macrotrends.net/stocks/charts/\" + ticker + \"/\" + slug + \"/revenue\";\n",
      "\t\t\t\t\t\t\t\n",
      "\t\t\t\t\t\t\t                        }\n",
      "                    }\n",
      "                });\n",
      "            });\n",
      "        </script>\n",
      "        <input id=\"jqxInput\" role=\"textbox\" aria-autocomplete=\"both\" aria-disabled=\"false\" aria-readonly=\"false\" aria-multiline=\"false\" class=\"jqx-widget-content jqx-widget-content-bootstrap jqx-input jqx-input-bootstrap jqx-widget jqx-widget-bootstrap jqx-rc-all jqx-rc-all-bootstrap\" placeholder=\"Search for ticker or company name...\" style=\"width: 100%; height: 22px;\">\n",
      "\n",
      "\t\t</div>\n",
      "\t\t\t\t\n",
      "\t\t<div style=\"width:280px; margin-top: -32px; margin-left:80px; border-bottom:none; float:right;\">\n",
      "\t\t\n",
      "\t\t\n",
      "<button id=\"compareStocks\" style=\"margin-right:15px;\" class=\"chart_buttons btn btn-success btn-sm\"><span class=\"glyphicon glyphicon-stats\"></span>&nbsp;&nbsp;<strong>Compare GME With Other Stocks</strong></button>&nbsp;&nbsp;\n",
      "\n",
      "</div>\t\n",
      "\t\t\n",
      "\t\t</div>\n",
      "\t\t\n",
      "\t\t<div style=\"height:690px; background-color:#fff; border:1px solid #dfdfdf;\">\n",
      "\t\t\n",
      "<iframe id=\"chart_iframe\" title=\"Interactive chart: GameStop Revenue 2006-2020 | GME\" valign=\"middle\" margin=\"0px\" width=\"800\" height=\"680\" marginheight=\"0\" marginwidth=\"0\" frameborder=\"0\" vspace=\"0\" hspace=\"0\" scrolling=\"NO\" src=\"./GameStop Revenue 2006-2020 _ GME _ MacroTrends_files/fundamental_iframe.html\"></iframe>\t\n",
      "\t\n",
      "\t\t\n",
      "\t\t</div>\n",
      "\n",
      "\n",
      "\t\t\n",
      "\t\t\t\t\n",
      "\t\t<div style=\"background-color:#fff; margin: 30px 0px; padding:10px 30px; border:1px solid #dfdfdf;\">\n",
      "\t\t\n",
      "\t\t\t<iframe id=\"dianomi_below_chart\" valign=\"middle\" width=\"100%\" height=\"300\" marginheight=\"0\" marginwidth=\"0\" frameborder=\"0\" vspace=\"0\" hspace=\"0\" scrolling=\"NO\" src=\"./GameStop Revenue 2006-2020 _ GME _ MacroTrends_files/smartads(1).html\"></iframe>\t\n",
      "\t\t\n",
      "\t\t</div>\n",
      "\t\t\t\n",
      "\t\t\n",
      "\n",
      "\t\t\t\n",
      " \n",
      "\t\t\t\n",
      "\t\t\t<div id=\"style-1\" style=\"background-color:#fff; height:510px; overflow:auto; margin: 30px 0px 30px 0px; padding:0px 30px 20px 0px; border:1px solid #dfdfdf;\">\n",
      "\t\t\t\n",
      "\t\t\t  \t<div class=\"col-xs-6\">\n",
      "\t\t\t\n",
      "\t\t\t\t<table class=\"historical_data_table table\">\n",
      "\t\t\t\t<thead>\n",
      "\t\t\t\t  <tr>\n",
      "\t\t\t\t\t<th colspan=\"2\" style=\"text-align:center\">GameStop Annual Revenue<br><span style=\"font-size:14px;\">(Millions of US $)</span></th>\n",
      "\t\t\t\t  </tr>\n",
      "\t\t\t\t</thead>\t\t\t\t\t\n",
      "\t\t\t\t<tbody>\n",
      "\t\t\t\t\t\t\t\t\n",
      "\t\t\t\t\t\t\t\t\t\t\t\t\n",
      "\t\t\t\t<tr>\n",
      "\t\t\t\t\t<td style=\"text-align:center\">2020</td>\n",
      "\t\t\t\t\n",
      "\t\t\t\t\n",
      "\t\t\t\t\n",
      "\t\t\t\t\t\t\t\t\t\t<td style=\"text-align:center\">$6,466</td>\n",
      "\t\t\t\t\n",
      "\t\t\t\t\t\t\t\t\n",
      "\t\t\t\t</tr>\n",
      "\t\t\t\t  \n",
      "\t\t\t\t\t\t\t\t\t\t\t\t\n",
      "\t\t\t\t<tr>\n",
      "\t\t\t\t\t<td style=\"text-align:center\">2019</td>\n",
      "\t\t\t\t\n",
      "\t\t\t\t\n",
      "\t\t\t\t\n",
      "\t\t\t\t\t\t\t\t\t\t<td style=\"text-align:center\">$8,285</td>\n",
      "\t\t\t\t\n",
      "\t\t\t\t\t\t\t\t\n",
      "\t\t\t\t</tr>\n",
      "\t\t\t\t  \n",
      "\t\t\t\t\t\t\t\t\t\t\t\t\n",
      "\t\t\t\t<tr>\n",
      "\t\t\t\t\t<td style=\"text-align:center\">2018</td>\n",
      "\t\t\t\t\n",
      "\t\t\t\t\n",
      "\t\t\t\t\n",
      "\t\t\t\t\t\t\t\t\t\t<td style=\"text-align:center\">$8,547</td>\n",
      "\t\t\t\t\n",
      "\t\t\t\t\t\t\t\t\n",
      "\t\t\t\t</tr>\n",
      "\t\t\t\t  \n",
      "\t\t\t\t\t\t\t\t\t\t\t\t\n",
      "\t\t\t\t<tr>\n",
      "\t\t\t\t\t<td style=\"text-align:center\">2017</td>\n",
      "\t\t\t\t\n",
      "\t\t\t\t\n",
      "\t\t\t\t\n",
      "\t\t\t\t\t\t\t\t\t\t<td style=\"text-align:center\">$7,965</td>\n",
      "\t\t\t\t\n",
      "\t\t\t\t\t\t\t\t\n",
      "\t\t\t\t</tr>\n",
      "\t\t\t\t  \n",
      "\t\t\t\t\t\t\t\t\t\t\t\t\n",
      "\t\t\t\t<tr>\n",
      "\t\t\t\t\t<td style=\"text-align:center\">2016</td>\n",
      "\t\t\t\t\n",
      "\t\t\t\t\n",
      "\t\t\t\t\n",
      "\t\t\t\t\t\t\t\t\t\t<td style=\"text-align:center\">$9,364</td>\n",
      "\t\t\t\t\n",
      "\t\t\t\t\t\t\t\t\n",
      "\t\t\t\t</tr>\n",
      "\t\t\t\t  \n",
      "\t\t\t\t\t\t\t\t\t\t\t\t\n",
      "\t\t\t\t<tr>\n",
      "\t\t\t\t\t<td style=\"text-align:center\">2015</td>\n",
      "\t\t\t\t\n",
      "\t\t\t\t\n",
      "\t\t\t\t\n",
      "\t\t\t\t\t\t\t\t\t\t<td style=\"text-align:center\">$9,296</td>\n",
      "\t\t\t\t\n",
      "\t\t\t\t\t\t\t\t\n",
      "\t\t\t\t</tr>\n",
      "\t\t\t\t  \n",
      "\t\t\t\t\t\t\t\t\t\t\t\t\n",
      "\t\t\t\t<tr>\n",
      "\t\t\t\t\t<td style=\"text-align:center\">2014</td>\n",
      "\t\t\t\t\n",
      "\t\t\t\t\n",
      "\t\t\t\t\n",
      "\t\t\t\t\t\t\t\t\t\t<td style=\"text-align:center\">$9,040</td>\n",
      "\t\t\t\t\n",
      "\t\t\t\t\t\t\t\t\n",
      "\t\t\t\t</tr>\n",
      "\t\t\t\t  \n",
      "\t\t\t\t\t\t\t\t\t\t\t\t\n",
      "\t\t\t\t<tr>\n",
      "\t\t\t\t\t<td style=\"text-align:center\">2013</td>\n",
      "\t\t\t\t\n",
      "\t\t\t\t\n",
      "\t\t\t\t\n",
      "\t\t\t\t\t\t\t\t\t\t<td style=\"text-align:center\">$8,887</td>\n",
      "\t\t\t\t\n",
      "\t\t\t\t\t\t\t\t\n",
      "\t\t\t\t</tr>\n",
      "\t\t\t\t  \n",
      "\t\t\t\t\t\t\t\t\t\t\t\t\n",
      "\t\t\t\t<tr>\n",
      "\t\t\t\t\t<td style=\"text-align:center\">2012</td>\n",
      "\t\t\t\t\n",
      "\t\t\t\t\n",
      "\t\t\t\t\n",
      "\t\t\t\t\t\t\t\t\t\t<td style=\"text-align:center\">$9,551</td>\n",
      "\t\t\t\t\n",
      "\t\t\t\t\t\t\t\t\n",
      "\t\t\t\t</tr>\n",
      "\t\t\t\t  \n",
      "\t\t\t\t\t\t\t\t\t\t\t\t\n",
      "\t\t\t\t<tr>\n",
      "\t\t\t\t\t<td style=\"text-align:center\">2011</td>\n",
      "\t\t\t\t\n",
      "\t\t\t\t\n",
      "\t\t\t\t\n",
      "\t\t\t\t\t\t\t\t\t\t<td style=\"text-align:center\">$9,474</td>\n",
      "\t\t\t\t\n",
      "\t\t\t\t\t\t\t\t\n",
      "\t\t\t\t</tr>\n",
      "\t\t\t\t  \n",
      "\t\t\t\t\t\t\t\t\t\t\t\t\n",
      "\t\t\t\t<tr>\n",
      "\t\t\t\t\t<td style=\"text-align:center\">2010</td>\n",
      "\t\t\t\t\n",
      "\t\t\t\t\n",
      "\t\t\t\t\n",
      "\t\t\t\t\t\t\t\t\t\t<td style=\"text-align:center\">$9,078</td>\n",
      "\t\t\t\t\n",
      "\t\t\t\t\t\t\t\t\n",
      "\t\t\t\t</tr>\n",
      "\t\t\t\t  \n",
      "\t\t\t\t\t\t\t\t\t\t\t\t\n",
      "\t\t\t\t<tr>\n",
      "\t\t\t\t\t<td style=\"text-align:center\">2009</td>\n",
      "\t\t\t\t\n",
      "\t\t\t\t\n",
      "\t\t\t\t\n",
      "\t\t\t\t\t\t\t\t\t\t<td style=\"text-align:center\">$8,806</td>\n",
      "\t\t\t\t\n",
      "\t\t\t\t\t\t\t\t\n",
      "\t\t\t\t</tr>\n",
      "\t\t\t\t  \n",
      "\t\t\t\t\t\t\t\t\t\t\t\t\n",
      "\t\t\t\t<tr>\n",
      "\t\t\t\t\t<td style=\"text-align:center\">2008</td>\n",
      "\t\t\t\t\n",
      "\t\t\t\t\n",
      "\t\t\t\t\n",
      "\t\t\t\t\t\t\t\t\t\t<td style=\"text-align:center\">$7,094</td>\n",
      "\t\t\t\t\n",
      "\t\t\t\t\t\t\t\t\n",
      "\t\t\t\t</tr>\n",
      "\t\t\t\t  \n",
      "\t\t\t\t\t\t\t\t\t\t\t\t\n",
      "\t\t\t\t<tr>\n",
      "\t\t\t\t\t<td style=\"text-align:center\">2007</td>\n",
      "\t\t\t\t\n",
      "\t\t\t\t\n",
      "\t\t\t\t\n",
      "\t\t\t\t\t\t\t\t\t\t<td style=\"text-align:center\">$5,319</td>\n",
      "\t\t\t\t\n",
      "\t\t\t\t\t\t\t\t\n",
      "\t\t\t\t</tr>\n",
      "\t\t\t\t  \n",
      "\t\t\t\t\t\t\t\t\t\t\t\t\n",
      "\t\t\t\t<tr>\n",
      "\t\t\t\t\t<td style=\"text-align:center\">2006</td>\n",
      "\t\t\t\t\n",
      "\t\t\t\t\n",
      "\t\t\t\t\n",
      "\t\t\t\t\t\t\t\t\t\t<td style=\"text-align:center\">$3,092</td>\n",
      "\t\t\t\t\n",
      "\t\t\t\t\t\t\t\t\n",
      "\t\t\t\t</tr>\n",
      "\t\t\t\t  \n",
      "\t\t\t\t\t\t\t\t\t\t\t\t\n",
      "\t\t\t\t<tr>\n",
      "\t\t\t\t\t<td style=\"text-align:center\">2005</td>\n",
      "\t\t\t\t\n",
      "\t\t\t\t\n",
      "\t\t\t\t\n",
      "\t\t\t\t\t\t\t\t\t\t<td style=\"text-align:center\">$1,843</td>\n",
      "\t\t\t\t\n",
      "\t\t\t\t\t\t\t\t\n",
      "\t\t\t\t</tr>\n",
      "\t\t\t\t  \n",
      "\t\t\t\t  \n",
      "\t\t\t\t</tbody>\n",
      "\t\t\t  </table>\n",
      "\t\t\t  \n",
      "\t\t\t  </div>\n",
      "\n",
      "\t\t\t  <div class=\"col-xs-6\">\n",
      "\t\t\t\n",
      "\t\t\t\t<table class=\"historical_data_table table\">\n",
      "\t\t\t\t<thead>\n",
      "\t\t\t\t  <tr>\n",
      "\t\t\t\t\t<th colspan=\"2\" style=\"text-align:center\">GameStop Quarterly Revenue<br><span style=\"font-size:14px;\">(Millions of US $)</span></th>\n",
      "\t\t\t\t  </tr>\n",
      "\t\t\t\t</thead>\t\t\t\t\n",
      "\t\t\t\t<tbody>\n",
      "\t\t\t\t\n",
      "\t\t\t\t\t\t\t\t\t\t\t\t\n",
      "\t\t\t\t<tr>\n",
      "\t\t\t\t\t<td style=\"text-align:center\">2020-04-30</td>\n",
      "\t\t\t\t\n",
      "\t\t\t\t\n",
      "\t\t\t\t\n",
      "\t\t\t\t\t\t\t\t\t\t\n",
      "\t\t\t\t\t\t\t\t\t\t\n",
      "\t\t\t\t\t\t<td style=\"text-align:center\">$1,021</td>\n",
      "\t\t\t\t\t\t\n",
      "\t\t\t\t\t\t\t\t\t\n",
      "\t\t\t\t\t\t\t\t\n",
      "\t\t\t\t  </tr>\n",
      "\t\t\t\t  \n",
      "\t\t\t\t\t\t\t\t\t\t\t\t\n",
      "\t\t\t\t<tr>\n",
      "\t\t\t\t\t<td style=\"text-align:center\">2020-01-31</td>\n",
      "\t\t\t\t\n",
      "\t\t\t\t\n",
      "\t\t\t\t\n",
      "\t\t\t\t\t\t\t\t\t\t\n",
      "\t\t\t\t\t\t\t\t\t\t\n",
      "\t\t\t\t\t\t<td style=\"text-align:center\">$2,194</td>\n",
      "\t\t\t\t\t\t\n",
      "\t\t\t\t\t\t\t\t\t\n",
      "\t\t\t\t\t\t\t\t\n",
      "\t\t\t\t  </tr>\n",
      "\t\t\t\t  \n",
      "\t\t\t\t\t\t\t\t\t\t\t\t\n",
      "\t\t\t\t<tr>\n",
      "\t\t\t\t\t<td style=\"text-align:center\">2019-10-31</td>\n",
      "\t\t\t\t\n",
      "\t\t\t\t\n",
      "\t\t\t\t\n",
      "\t\t\t\t\t\t\t\t\t\t\n",
      "\t\t\t\t\t\t\t\t\t\t\n",
      "\t\t\t\t\t\t<td style=\"text-align:center\">$1,439</td>\n",
      "\t\t\t\t\t\t\n",
      "\t\t\t\t\t\t\t\t\t\n",
      "\t\t\t\t\t\t\t\t\n",
      "\t\t\t\t  </tr>\n",
      "\t\t\t\t  \n",
      "\t\t\t\t\t\t\t\t\t\t\t\t\n",
      "\t\t\t\t<tr>\n",
      "\t\t\t\t\t<td style=\"text-align:center\">2019-07-31</td>\n",
      "\t\t\t\t\n",
      "\t\t\t\t\n",
      "\t\t\t\t\n",
      "\t\t\t\t\t\t\t\t\t\t\n",
      "\t\t\t\t\t\t\t\t\t\t\n",
      "\t\t\t\t\t\t<td style=\"text-align:center\">$1,286</td>\n",
      "\t\t\t\t\t\t\n",
      "\t\t\t\t\t\t\t\t\t\n",
      "\t\t\t\t\t\t\t\t\n",
      "\t\t\t\t  </tr>\n",
      "\t\t\t\t  \n",
      "\t\t\t\t\t\t\t\t\t\t\t\t\n",
      "\t\t\t\t<tr>\n",
      "\t\t\t\t\t<td style=\"text-align:center\">2019-04-30</td>\n",
      "\t\t\t\t\n",
      "\t\t\t\t\n",
      "\t\t\t\t\n",
      "\t\t\t\t\t\t\t\t\t\t\n",
      "\t\t\t\t\t\t\t\t\t\t\n",
      "\t\t\t\t\t\t<td style=\"text-align:center\">$1,548</td>\n",
      "\t\t\t\t\t\t\n",
      "\t\t\t\t\t\t\t\t\t\n",
      "\t\t\t\t\t\t\t\t\n",
      "\t\t\t\t  </tr>\n",
      "\t\t\t\t  \n",
      "\t\t\t\t\t\t\t\t\t\t\t\t\n",
      "\t\t\t\t<tr>\n",
      "\t\t\t\t\t<td style=\"text-align:center\">2019-01-31</td>\n",
      "\t\t\t\t\n",
      "\t\t\t\t\n",
      "\t\t\t\t\n",
      "\t\t\t\t\t\t\t\t\t\t\n",
      "\t\t\t\t\t\t\t\t\t\t\n",
      "\t\t\t\t\t\t<td style=\"text-align:center\">$3,063</td>\n",
      "\t\t\t\t\t\t\n",
      "\t\t\t\t\t\t\t\t\t\n",
      "\t\t\t\t\t\t\t\t\n",
      "\t\t\t\t  </tr>\n",
      "\t\t\t\t  \n",
      "\t\t\t\t\t\t\t\t\t\t\t\t\n",
      "\t\t\t\t<tr>\n",
      "\t\t\t\t\t<td style=\"text-align:center\">2018-10-31</td>\n",
      "\t\t\t\t\n",
      "\t\t\t\t\n",
      "\t\t\t\t\n",
      "\t\t\t\t\t\t\t\t\t\t\n",
      "\t\t\t\t\t\t\t\t\t\t\n",
      "\t\t\t\t\t\t<td style=\"text-align:center\">$1,935</td>\n",
      "\t\t\t\t\t\t\n",
      "\t\t\t\t\t\t\t\t\t\n",
      "\t\t\t\t\t\t\t\t\n",
      "\t\t\t\t  </tr>\n",
      "\t\t\t\t  \n",
      "\t\t\t\t\t\t\t\t\t\t\t\t\n",
      "\t\t\t\t<tr>\n",
      "\t\t\t\t\t<td style=\"text-align:center\">2018-07-31</td>\n",
      "\t\t\t\t\n",
      "\t\t\t\t\n",
      "\t\t\t\t\n",
      "\t\t\t\t\t\t\t\t\t\t\n",
      "\t\t\t\t\t\t\t\t\t\t\n",
      "\t\t\t\t\t\t<td style=\"text-align:center\">$1,501</td>\n",
      "\t\t\t\t\t\t\n",
      "\t\t\t\t\t\t\t\t\t\n",
      "\t\t\t\t\t\t\t\t\n",
      "\t\t\t\t  </tr>\n",
      "\t\t\t\t  \n",
      "\t\t\t\t\t\t\t\t\t\t\t\t\n",
      "\t\t\t\t<tr>\n",
      "\t\t\t\t\t<td style=\"text-align:center\">2018-04-30</td>\n",
      "\t\t\t\t\n",
      "\t\t\t\t\n",
      "\t\t\t\t\n",
      "\t\t\t\t\t\t\t\t\t\t\n",
      "\t\t\t\t\t\t\t\t\t\t\n",
      "\t\t\t\t\t\t<td style=\"text-align:center\">$1,786</td>\n",
      "\t\t\t\t\t\t\n",
      "\t\t\t\t\t\t\t\t\t\n",
      "\t\t\t\t\t\t\t\t\n",
      "\t\t\t\t  </tr>\n",
      "\t\t\t\t  \n",
      "\t\t\t\t\t\t\t\t\t\t\t\t\n",
      "\t\t\t\t<tr>\n",
      "\t\t\t\t\t<td style=\"text-align:center\">2018-01-31</td>\n",
      "\t\t\t\t\n",
      "\t\t\t\t\n",
      "\t\t\t\t\n",
      "\t\t\t\t\t\t\t\t\t\t\n",
      "\t\t\t\t\t\t\t\t\t\t\n",
      "\t\t\t\t\t\t<td style=\"text-align:center\">$2,825</td>\n",
      "\t\t\t\t\t\t\n",
      "\t\t\t\t\t\t\t\t\t\n",
      "\t\t\t\t\t\t\t\t\n",
      "\t\t\t\t  </tr>\n",
      "\t\t\t\t  \n",
      "\t\t\t\t\t\t\t\t\t\t\t\t\n",
      "\t\t\t\t<tr>\n",
      "\t\t\t\t\t<td style=\"text-align:center\">2017-10-31</td>\n",
      "\t\t\t\t\n",
      "\t\t\t\t\n",
      "\t\t\t\t\n",
      "\t\t\t\t\t\t\t\t\t\t\n",
      "\t\t\t\t\t\t\t\t\t\t\n",
      "\t\t\t\t\t\t<td style=\"text-align:center\">$1,989</td>\n",
      "\t\t\t\t\t\t\n",
      "\t\t\t\t\t\t\t\t\t\n",
      "\t\t\t\t\t\t\t\t\n",
      "\t\t\t\t  </tr>\n",
      "\t\t\t\t  \n",
      "\t\t\t\t\t\t\t\t\t\t\t\t\n",
      "\t\t\t\t<tr>\n",
      "\t\t\t\t\t<td style=\"text-align:center\">2017-07-31</td>\n",
      "\t\t\t\t\n",
      "\t\t\t\t\n",
      "\t\t\t\t\n",
      "\t\t\t\t\t\t\t\t\t\t\n",
      "\t\t\t\t\t\t\t\t\t\t\n",
      "\t\t\t\t\t\t<td style=\"text-align:center\">$1,688</td>\n",
      "\t\t\t\t\t\t\n",
      "\t\t\t\t\t\t\t\t\t\n",
      "\t\t\t\t\t\t\t\t\n",
      "\t\t\t\t  </tr>\n",
      "\t\t\t\t  \n",
      "\t\t\t\t\t\t\t\t\t\t\t\t\n",
      "\t\t\t\t<tr>\n",
      "\t\t\t\t\t<td style=\"text-align:center\">2017-04-30</td>\n",
      "\t\t\t\t\n",
      "\t\t\t\t\n",
      "\t\t\t\t\n",
      "\t\t\t\t\t\t\t\t\t\t\n",
      "\t\t\t\t\t\t\t\t\t\t\n",
      "\t\t\t\t\t\t<td style=\"text-align:center\">$2,046</td>\n",
      "\t\t\t\t\t\t\n",
      "\t\t\t\t\t\t\t\t\t\n",
      "\t\t\t\t\t\t\t\t\n",
      "\t\t\t\t  </tr>\n",
      "\t\t\t\t  \n",
      "\t\t\t\t\t\t\t\t\t\t\t\t\n",
      "\t\t\t\t<tr>\n",
      "\t\t\t\t\t<td style=\"text-align:center\">2017-01-31</td>\n",
      "\t\t\t\t\n",
      "\t\t\t\t\n",
      "\t\t\t\t\n",
      "\t\t\t\t\t\t\t\t\t\t\n",
      "\t\t\t\t\t\t\t\t\t\t\n",
      "\t\t\t\t\t\t<td style=\"text-align:center\">$2,403</td>\n",
      "\t\t\t\t\t\t\n",
      "\t\t\t\t\t\t\t\t\t\n",
      "\t\t\t\t\t\t\t\t\n",
      "\t\t\t\t  </tr>\n",
      "\t\t\t\t  \n",
      "\t\t\t\t\t\t\t\t\t\t\t\t\n",
      "\t\t\t\t<tr>\n",
      "\t\t\t\t\t<td style=\"text-align:center\">2016-10-31</td>\n",
      "\t\t\t\t\n",
      "\t\t\t\t\n",
      "\t\t\t\t\n",
      "\t\t\t\t\t\t\t\t\t\t\n",
      "\t\t\t\t\t\t\t\t\t\t\n",
      "\t\t\t\t\t\t<td style=\"text-align:center\">$1,959</td>\n",
      "\t\t\t\t\t\t\n",
      "\t\t\t\t\t\t\t\t\t\n",
      "\t\t\t\t\t\t\t\t\n",
      "\t\t\t\t  </tr>\n",
      "\t\t\t\t  \n",
      "\t\t\t\t\t\t\t\t\t\t\t\t\n",
      "\t\t\t\t<tr>\n",
      "\t\t\t\t\t<td style=\"text-align:center\">2016-07-31</td>\n",
      "\t\t\t\t\n",
      "\t\t\t\t\n",
      "\t\t\t\t\n",
      "\t\t\t\t\t\t\t\t\t\t\n",
      "\t\t\t\t\t\t\t\t\t\t\n",
      "\t\t\t\t\t\t<td style=\"text-align:center\">$1,632</td>\n",
      "\t\t\t\t\t\t\n",
      "\t\t\t\t\t\t\t\t\t\n",
      "\t\t\t\t\t\t\t\t\n",
      "\t\t\t\t  </tr>\n",
      "\t\t\t\t  \n",
      "\t\t\t\t\t\t\t\t\t\t\t\t\n",
      "\t\t\t\t<tr>\n",
      "\t\t\t\t\t<td style=\"text-align:center\">2016-04-30</td>\n",
      "\t\t\t\t\n",
      "\t\t\t\t\n",
      "\t\t\t\t\n",
      "\t\t\t\t\t\t\t\t\t\t\n",
      "\t\t\t\t\t\t\t\t\t\t\n",
      "\t\t\t\t\t\t<td style=\"text-align:center\">$1,972</td>\n",
      "\t\t\t\t\t\t\n",
      "\t\t\t\t\t\t\t\t\t\n",
      "\t\t\t\t\t\t\t\t\n",
      "\t\t\t\t  </tr>\n",
      "\t\t\t\t  \n",
      "\t\t\t\t\t\t\t\t\t\t\t\t\n",
      "\t\t\t\t<tr>\n",
      "\t\t\t\t\t<td style=\"text-align:center\">2016-01-31</td>\n",
      "\t\t\t\t\n",
      "\t\t\t\t\n",
      "\t\t\t\t\n",
      "\t\t\t\t\t\t\t\t\t\t\n",
      "\t\t\t\t\t\t\t\t\t\t\n",
      "\t\t\t\t\t\t<td style=\"text-align:center\">$3,525</td>\n",
      "\t\t\t\t\t\t\n",
      "\t\t\t\t\t\t\t\t\t\n",
      "\t\t\t\t\t\t\t\t\n",
      "\t\t\t\t  </tr>\n",
      "\t\t\t\t  \n",
      "\t\t\t\t\t\t\t\t\t\t\t\t\n",
      "\t\t\t\t<tr>\n",
      "\t\t\t\t\t<td style=\"text-align:center\">2015-10-31</td>\n",
      "\t\t\t\t\n",
      "\t\t\t\t\n",
      "\t\t\t\t\n",
      "\t\t\t\t\t\t\t\t\t\t\n",
      "\t\t\t\t\t\t\t\t\t\t\n",
      "\t\t\t\t\t\t<td style=\"text-align:center\">$2,016</td>\n",
      "\t\t\t\t\t\t\n",
      "\t\t\t\t\t\t\t\t\t\n",
      "\t\t\t\t\t\t\t\t\n",
      "\t\t\t\t  </tr>\n",
      "\t\t\t\t  \n",
      "\t\t\t\t\t\t\t\t\t\t\t\t\n",
      "\t\t\t\t<tr>\n",
      "\t\t\t\t\t<td style=\"text-align:center\">2015-07-31</td>\n",
      "\t\t\t\t\n",
      "\t\t\t\t\n",
      "\t\t\t\t\n",
      "\t\t\t\t\t\t\t\t\t\t\n",
      "\t\t\t\t\t\t\t\t\t\t\n",
      "\t\t\t\t\t\t<td style=\"text-align:center\">$1,762</td>\n",
      "\t\t\t\t\t\t\n",
      "\t\t\t\t\t\t\t\t\t\n",
      "\t\t\t\t\t\t\t\t\n",
      "\t\t\t\t  </tr>\n",
      "\t\t\t\t  \n",
      "\t\t\t\t\t\t\t\t\t\t\t\t\n",
      "\t\t\t\t<tr>\n",
      "\t\t\t\t\t<td style=\"text-align:center\">2015-04-30</td>\n",
      "\t\t\t\t\n",
      "\t\t\t\t\n",
      "\t\t\t\t\n",
      "\t\t\t\t\t\t\t\t\t\t\n",
      "\t\t\t\t\t\t\t\t\t\t\n",
      "\t\t\t\t\t\t<td style=\"text-align:center\">$2,061</td>\n",
      "\t\t\t\t\t\t\n",
      "\t\t\t\t\t\t\t\t\t\n",
      "\t\t\t\t\t\t\t\t\n",
      "\t\t\t\t  </tr>\n",
      "\t\t\t\t  \n",
      "\t\t\t\t\t\t\t\t\t\t\t\t\n",
      "\t\t\t\t<tr>\n",
      "\t\t\t\t\t<td style=\"text-align:center\">2015-01-31</td>\n",
      "\t\t\t\t\n",
      "\t\t\t\t\n",
      "\t\t\t\t\n",
      "\t\t\t\t\t\t\t\t\t\t\n",
      "\t\t\t\t\t\t\t\t\t\t\n",
      "\t\t\t\t\t\t<td style=\"text-align:center\">$3,476</td>\n",
      "\t\t\t\t\t\t\n",
      "\t\t\t\t\t\t\t\t\t\n",
      "\t\t\t\t\t\t\t\t\n",
      "\t\t\t\t  </tr>\n",
      "\t\t\t\t  \n",
      "\t\t\t\t\t\t\t\t\t\t\t\t\n",
      "\t\t\t\t<tr>\n",
      "\t\t\t\t\t<td style=\"text-align:center\">2014-10-31</td>\n",
      "\t\t\t\t\n",
      "\t\t\t\t\n",
      "\t\t\t\t\n",
      "\t\t\t\t\t\t\t\t\t\t\n",
      "\t\t\t\t\t\t\t\t\t\t\n",
      "\t\t\t\t\t\t<td style=\"text-align:center\">$2,092</td>\n",
      "\t\t\t\t\t\t\n",
      "\t\t\t\t\t\t\t\t\t\n",
      "\t\t\t\t\t\t\t\t\n",
      "\t\t\t\t  </tr>\n",
      "\t\t\t\t  \n",
      "\t\t\t\t\t\t\t\t\t\t\t\t\n",
      "\t\t\t\t<tr>\n",
      "\t\t\t\t\t<td style=\"text-align:center\">2014-07-31</td>\n",
      "\t\t\t\t\n",
      "\t\t\t\t\n",
      "\t\t\t\t\n",
      "\t\t\t\t\t\t\t\t\t\t\n",
      "\t\t\t\t\t\t\t\t\t\t\n",
      "\t\t\t\t\t\t<td style=\"text-align:center\">$1,731</td>\n",
      "\t\t\t\t\t\t\n",
      "\t\t\t\t\t\t\t\t\t\n",
      "\t\t\t\t\t\t\t\t\n",
      "\t\t\t\t  </tr>\n",
      "\t\t\t\t  \n",
      "\t\t\t\t\t\t\t\t\t\t\t\t\n",
      "\t\t\t\t<tr>\n",
      "\t\t\t\t\t<td style=\"text-align:center\">2014-04-30</td>\n",
      "\t\t\t\t\n",
      "\t\t\t\t\n",
      "\t\t\t\t\n",
      "\t\t\t\t\t\t\t\t\t\t\n",
      "\t\t\t\t\t\t\t\t\t\t\n",
      "\t\t\t\t\t\t<td style=\"text-align:center\">$1,996</td>\n",
      "\t\t\t\t\t\t\n",
      "\t\t\t\t\t\t\t\t\t\n",
      "\t\t\t\t\t\t\t\t\n",
      "\t\t\t\t  </tr>\n",
      "\t\t\t\t  \n",
      "\t\t\t\t\t\t\t\t\t\t\t\t\n",
      "\t\t\t\t<tr>\n",
      "\t\t\t\t\t<td style=\"text-align:center\">2014-01-31</td>\n",
      "\t\t\t\t\n",
      "\t\t\t\t\n",
      "\t\t\t\t\n",
      "\t\t\t\t\t\t\t\t\t\t\n",
      "\t\t\t\t\t\t\t\t\t\t\n",
      "\t\t\t\t\t\t<td style=\"text-align:center\">$3,684</td>\n",
      "\t\t\t\t\t\t\n",
      "\t\t\t\t\t\t\t\t\t\n",
      "\t\t\t\t\t\t\t\t\n",
      "\t\t\t\t  </tr>\n",
      "\t\t\t\t  \n",
      "\t\t\t\t\t\t\t\t\t\t\t\t\n",
      "\t\t\t\t<tr>\n",
      "\t\t\t\t\t<td style=\"text-align:center\">2013-10-31</td>\n",
      "\t\t\t\t\n",
      "\t\t\t\t\n",
      "\t\t\t\t\n",
      "\t\t\t\t\t\t\t\t\t\t\n",
      "\t\t\t\t\t\t\t\t\t\t\n",
      "\t\t\t\t\t\t<td style=\"text-align:center\">$2,107</td>\n",
      "\t\t\t\t\t\t\n",
      "\t\t\t\t\t\t\t\t\t\n",
      "\t\t\t\t\t\t\t\t\n",
      "\t\t\t\t  </tr>\n",
      "\t\t\t\t  \n",
      "\t\t\t\t\t\t\t\t\t\t\t\t\n",
      "\t\t\t\t<tr>\n",
      "\t\t\t\t\t<td style=\"text-align:center\">2013-07-31</td>\n",
      "\t\t\t\t\n",
      "\t\t\t\t\n",
      "\t\t\t\t\n",
      "\t\t\t\t\t\t\t\t\t\t\n",
      "\t\t\t\t\t\t\t\t\t\t\n",
      "\t\t\t\t\t\t<td style=\"text-align:center\">$1,384</td>\n",
      "\t\t\t\t\t\t\n",
      "\t\t\t\t\t\t\t\t\t\n",
      "\t\t\t\t\t\t\t\t\n",
      "\t\t\t\t  </tr>\n",
      "\t\t\t\t  \n",
      "\t\t\t\t\t\t\t\t\t\t\t\t\n",
      "\t\t\t\t<tr>\n",
      "\t\t\t\t\t<td style=\"text-align:center\">2013-04-30</td>\n",
      "\t\t\t\t\n",
      "\t\t\t\t\n",
      "\t\t\t\t\n",
      "\t\t\t\t\t\t\t\t\t\t\n",
      "\t\t\t\t\t\t\t\t\t\t\n",
      "\t\t\t\t\t\t<td style=\"text-align:center\">$1,865</td>\n",
      "\t\t\t\t\t\t\n",
      "\t\t\t\t\t\t\t\t\t\n",
      "\t\t\t\t\t\t\t\t\n",
      "\t\t\t\t  </tr>\n",
      "\t\t\t\t  \n",
      "\t\t\t\t\t\t\t\t\t\t\t\t\n",
      "\t\t\t\t<tr>\n",
      "\t\t\t\t\t<td style=\"text-align:center\">2013-01-31</td>\n",
      "\t\t\t\t\n",
      "\t\t\t\t\n",
      "\t\t\t\t\n",
      "\t\t\t\t\t\t\t\t\t\t\n",
      "\t\t\t\t\t\t\t\t\t\t\n",
      "\t\t\t\t\t\t<td style=\"text-align:center\">$3,562</td>\n",
      "\t\t\t\t\t\t\n",
      "\t\t\t\t\t\t\t\t\t\n",
      "\t\t\t\t\t\t\t\t\n",
      "\t\t\t\t  </tr>\n",
      "\t\t\t\t  \n",
      "\t\t\t\t\t\t\t\t\t\t\t\t\n",
      "\t\t\t\t<tr>\n",
      "\t\t\t\t\t<td style=\"text-align:center\">2012-10-31</td>\n",
      "\t\t\t\t\n",
      "\t\t\t\t\n",
      "\t\t\t\t\n",
      "\t\t\t\t\t\t\t\t\t\t\n",
      "\t\t\t\t\t\t\t\t\t\t\n",
      "\t\t\t\t\t\t<td style=\"text-align:center\">$1,773</td>\n",
      "\t\t\t\t\t\t\n",
      "\t\t\t\t\t\t\t\t\t\n",
      "\t\t\t\t\t\t\t\t\n",
      "\t\t\t\t  </tr>\n",
      "\t\t\t\t  \n",
      "\t\t\t\t\t\t\t\t\t\t\t\t\n",
      "\t\t\t\t<tr>\n",
      "\t\t\t\t\t<td style=\"text-align:center\">2012-07-31</td>\n",
      "\t\t\t\t\n",
      "\t\t\t\t\n",
      "\t\t\t\t\n",
      "\t\t\t\t\t\t\t\t\t\t\n",
      "\t\t\t\t\t\t\t\t\t\t\n",
      "\t\t\t\t\t\t<td style=\"text-align:center\">$1,550</td>\n",
      "\t\t\t\t\t\t\n",
      "\t\t\t\t\t\t\t\t\t\n",
      "\t\t\t\t\t\t\t\t\n",
      "\t\t\t\t  </tr>\n",
      "\t\t\t\t  \n",
      "\t\t\t\t\t\t\t\t\t\t\t\t\n",
      "\t\t\t\t<tr>\n",
      "\t\t\t\t\t<td style=\"text-align:center\">2012-04-30</td>\n",
      "\t\t\t\t\n",
      "\t\t\t\t\n",
      "\t\t\t\t\n",
      "\t\t\t\t\t\t\t\t\t\t\n",
      "\t\t\t\t\t\t\t\t\t\t\n",
      "\t\t\t\t\t\t<td style=\"text-align:center\">$2,002</td>\n",
      "\t\t\t\t\t\t\n",
      "\t\t\t\t\t\t\t\t\t\n",
      "\t\t\t\t\t\t\t\t\n",
      "\t\t\t\t  </tr>\n",
      "\t\t\t\t  \n",
      "\t\t\t\t\t\t\t\t\t\t\t\t\n",
      "\t\t\t\t<tr>\n",
      "\t\t\t\t\t<td style=\"text-align:center\">2012-01-31</td>\n",
      "\t\t\t\t\n",
      "\t\t\t\t\n",
      "\t\t\t\t\n",
      "\t\t\t\t\t\t\t\t\t\t\n",
      "\t\t\t\t\t\t\t\t\t\t\n",
      "\t\t\t\t\t\t<td style=\"text-align:center\">$3,579</td>\n",
      "\t\t\t\t\t\t\n",
      "\t\t\t\t\t\t\t\t\t\n",
      "\t\t\t\t\t\t\t\t\n",
      "\t\t\t\t  </tr>\n",
      "\t\t\t\t  \n",
      "\t\t\t\t\t\t\t\t\t\t\t\t\n",
      "\t\t\t\t<tr>\n",
      "\t\t\t\t\t<td style=\"text-align:center\">2011-10-31</td>\n",
      "\t\t\t\t\n",
      "\t\t\t\t\n",
      "\t\t\t\t\n",
      "\t\t\t\t\t\t\t\t\t\t\n",
      "\t\t\t\t\t\t\t\t\t\t\n",
      "\t\t\t\t\t\t<td style=\"text-align:center\">$1,947</td>\n",
      "\t\t\t\t\t\t\n",
      "\t\t\t\t\t\t\t\t\t\n",
      "\t\t\t\t\t\t\t\t\n",
      "\t\t\t\t  </tr>\n",
      "\t\t\t\t  \n",
      "\t\t\t\t\t\t\t\t\t\t\t\t\n",
      "\t\t\t\t<tr>\n",
      "\t\t\t\t\t<td style=\"text-align:center\">2011-07-31</td>\n",
      "\t\t\t\t\n",
      "\t\t\t\t\n",
      "\t\t\t\t\n",
      "\t\t\t\t\t\t\t\t\t\t\n",
      "\t\t\t\t\t\t\t\t\t\t\n",
      "\t\t\t\t\t\t<td style=\"text-align:center\">$1,744</td>\n",
      "\t\t\t\t\t\t\n",
      "\t\t\t\t\t\t\t\t\t\n",
      "\t\t\t\t\t\t\t\t\n",
      "\t\t\t\t  </tr>\n",
      "\t\t\t\t  \n",
      "\t\t\t\t\t\t\t\t\t\t\t\t\n",
      "\t\t\t\t<tr>\n",
      "\t\t\t\t\t<td style=\"text-align:center\">2011-04-30</td>\n",
      "\t\t\t\t\n",
      "\t\t\t\t\n",
      "\t\t\t\t\n",
      "\t\t\t\t\t\t\t\t\t\t\n",
      "\t\t\t\t\t\t\t\t\t\t\n",
      "\t\t\t\t\t\t<td style=\"text-align:center\">$2,281</td>\n",
      "\t\t\t\t\t\t\n",
      "\t\t\t\t\t\t\t\t\t\n",
      "\t\t\t\t\t\t\t\t\n",
      "\t\t\t\t  </tr>\n",
      "\t\t\t\t  \n",
      "\t\t\t\t\t\t\t\t\t\t\t\t\n",
      "\t\t\t\t<tr>\n",
      "\t\t\t\t\t<td style=\"text-align:center\">2011-01-31</td>\n",
      "\t\t\t\t\n",
      "\t\t\t\t\n",
      "\t\t\t\t\n",
      "\t\t\t\t\t\t\t\t\t\t\n",
      "\t\t\t\t\t\t\t\t\t\t\n",
      "\t\t\t\t\t\t<td style=\"text-align:center\">$3,693</td>\n",
      "\t\t\t\t\t\t\n",
      "\t\t\t\t\t\t\t\t\t\n",
      "\t\t\t\t\t\t\t\t\n",
      "\t\t\t\t  </tr>\n",
      "\t\t\t\t  \n",
      "\t\t\t\t\t\t\t\t\t\t\t\t\n",
      "\t\t\t\t<tr>\n",
      "\t\t\t\t\t<td style=\"text-align:center\">2010-10-31</td>\n",
      "\t\t\t\t\n",
      "\t\t\t\t\n",
      "\t\t\t\t\n",
      "\t\t\t\t\t\t\t\t\t\t\n",
      "\t\t\t\t\t\t\t\t\t\t\n",
      "\t\t\t\t\t\t<td style=\"text-align:center\">$1,899</td>\n",
      "\t\t\t\t\t\t\n",
      "\t\t\t\t\t\t\t\t\t\n",
      "\t\t\t\t\t\t\t\t\n",
      "\t\t\t\t  </tr>\n",
      "\t\t\t\t  \n",
      "\t\t\t\t\t\t\t\t\t\t\t\t\n",
      "\t\t\t\t<tr>\n",
      "\t\t\t\t\t<td style=\"text-align:center\">2010-07-31</td>\n",
      "\t\t\t\t\n",
      "\t\t\t\t\n",
      "\t\t\t\t\n",
      "\t\t\t\t\t\t\t\t\t\t\n",
      "\t\t\t\t\t\t\t\t\t\t\n",
      "\t\t\t\t\t\t<td style=\"text-align:center\">$1,799</td>\n",
      "\t\t\t\t\t\t\n",
      "\t\t\t\t\t\t\t\t\t\n",
      "\t\t\t\t\t\t\t\t\n",
      "\t\t\t\t  </tr>\n",
      "\t\t\t\t  \n",
      "\t\t\t\t\t\t\t\t\t\t\t\t\n",
      "\t\t\t\t<tr>\n",
      "\t\t\t\t\t<td style=\"text-align:center\">2010-04-30</td>\n",
      "\t\t\t\t\n",
      "\t\t\t\t\n",
      "\t\t\t\t\n",
      "\t\t\t\t\t\t\t\t\t\t\n",
      "\t\t\t\t\t\t\t\t\t\t\n",
      "\t\t\t\t\t\t<td style=\"text-align:center\">$2,083</td>\n",
      "\t\t\t\t\t\t\n",
      "\t\t\t\t\t\t\t\t\t\n",
      "\t\t\t\t\t\t\t\t\n",
      "\t\t\t\t  </tr>\n",
      "\t\t\t\t  \n",
      "\t\t\t\t\t\t\t\t\t\t\t\t\n",
      "\t\t\t\t<tr>\n",
      "\t\t\t\t\t<td style=\"text-align:center\">2010-01-31</td>\n",
      "\t\t\t\t\n",
      "\t\t\t\t\n",
      "\t\t\t\t\n",
      "\t\t\t\t\t\t\t\t\t\t\n",
      "\t\t\t\t\t\t\t\t\t\t\n",
      "\t\t\t\t\t\t<td style=\"text-align:center\">$3,524</td>\n",
      "\t\t\t\t\t\t\n",
      "\t\t\t\t\t\t\t\t\t\n",
      "\t\t\t\t\t\t\t\t\n",
      "\t\t\t\t  </tr>\n",
      "\t\t\t\t  \n",
      "\t\t\t\t\t\t\t\t\t\t\t\t\n",
      "\t\t\t\t<tr>\n",
      "\t\t\t\t\t<td style=\"text-align:center\">2009-10-31</td>\n",
      "\t\t\t\t\n",
      "\t\t\t\t\n",
      "\t\t\t\t\n",
      "\t\t\t\t\t\t\t\t\t\t\n",
      "\t\t\t\t\t\t\t\t\t\t\n",
      "\t\t\t\t\t\t<td style=\"text-align:center\">$1,835</td>\n",
      "\t\t\t\t\t\t\n",
      "\t\t\t\t\t\t\t\t\t\n",
      "\t\t\t\t\t\t\t\t\n",
      "\t\t\t\t  </tr>\n",
      "\t\t\t\t  \n",
      "\t\t\t\t\t\t\t\t\t\t\t\t\n",
      "\t\t\t\t<tr>\n",
      "\t\t\t\t\t<td style=\"text-align:center\">2009-07-31</td>\n",
      "\t\t\t\t\n",
      "\t\t\t\t\n",
      "\t\t\t\t\n",
      "\t\t\t\t\t\t\t\t\t\t\n",
      "\t\t\t\t\t\t\t\t\t\t\n",
      "\t\t\t\t\t\t<td style=\"text-align:center\">$1,739</td>\n",
      "\t\t\t\t\t\t\n",
      "\t\t\t\t\t\t\t\t\t\n",
      "\t\t\t\t\t\t\t\t\n",
      "\t\t\t\t  </tr>\n",
      "\t\t\t\t  \n",
      "\t\t\t\t\t\t\t\t\t\t\t\t\n",
      "\t\t\t\t<tr>\n",
      "\t\t\t\t\t<td style=\"text-align:center\">2009-04-30</td>\n",
      "\t\t\t\t\n",
      "\t\t\t\t\n",
      "\t\t\t\t\n",
      "\t\t\t\t\t\t\t\t\t\t\n",
      "\t\t\t\t\t\t\t\t\t\t\n",
      "\t\t\t\t\t\t<td style=\"text-align:center\">$1,981</td>\n",
      "\t\t\t\t\t\t\n",
      "\t\t\t\t\t\t\t\t\t\n",
      "\t\t\t\t\t\t\t\t\n",
      "\t\t\t\t  </tr>\n",
      "\t\t\t\t  \n",
      "\t\t\t\t\t\t\t\t\t\t\t\t\n",
      "\t\t\t\t<tr>\n",
      "\t\t\t\t\t<td style=\"text-align:center\">2009-01-31</td>\n",
      "\t\t\t\t\n",
      "\t\t\t\t\n",
      "\t\t\t\t\n",
      "\t\t\t\t\t\t\t\t\t\t\n",
      "\t\t\t\t\t\t\t\t\t\t\n",
      "\t\t\t\t\t\t<td style=\"text-align:center\">$3,492</td>\n",
      "\t\t\t\t\t\t\n",
      "\t\t\t\t\t\t\t\t\t\n",
      "\t\t\t\t\t\t\t\t\n",
      "\t\t\t\t  </tr>\n",
      "\t\t\t\t  \n",
      "\t\t\t\t\t\t\t\t\t\t\t\t\n",
      "\t\t\t\t<tr>\n",
      "\t\t\t\t\t<td style=\"text-align:center\">2008-10-31</td>\n",
      "\t\t\t\t\n",
      "\t\t\t\t\n",
      "\t\t\t\t\n",
      "\t\t\t\t\t\t\t\t\t\t\n",
      "\t\t\t\t\t\t\t\t\t\t\n",
      "\t\t\t\t\t\t<td style=\"text-align:center\">$1,696</td>\n",
      "\t\t\t\t\t\t\n",
      "\t\t\t\t\t\t\t\t\t\n",
      "\t\t\t\t\t\t\t\t\n",
      "\t\t\t\t  </tr>\n",
      "\t\t\t\t  \n",
      "\t\t\t\t\t\t\t\t\t\t\t\t\n",
      "\t\t\t\t<tr>\n",
      "\t\t\t\t\t<td style=\"text-align:center\">2008-07-31</td>\n",
      "\t\t\t\t\n",
      "\t\t\t\t\n",
      "\t\t\t\t\n",
      "\t\t\t\t\t\t\t\t\t\t\n",
      "\t\t\t\t\t\t\t\t\t\t\n",
      "\t\t\t\t\t\t<td style=\"text-align:center\">$1,804</td>\n",
      "\t\t\t\t\t\t\n",
      "\t\t\t\t\t\t\t\t\t\n",
      "\t\t\t\t\t\t\t\t\n",
      "\t\t\t\t  </tr>\n",
      "\t\t\t\t  \n",
      "\t\t\t\t\t\t\t\t\t\t\t\t\n",
      "\t\t\t\t<tr>\n",
      "\t\t\t\t\t<td style=\"text-align:center\">2008-04-30</td>\n",
      "\t\t\t\t\n",
      "\t\t\t\t\n",
      "\t\t\t\t\n",
      "\t\t\t\t\t\t\t\t\t\t\n",
      "\t\t\t\t\t\t\t\t\t\t\n",
      "\t\t\t\t\t\t<td style=\"text-align:center\">$1,814</td>\n",
      "\t\t\t\t\t\t\n",
      "\t\t\t\t\t\t\t\t\t\n",
      "\t\t\t\t\t\t\t\t\n",
      "\t\t\t\t  </tr>\n",
      "\t\t\t\t  \n",
      "\t\t\t\t\t\t\t\t\t\t\t\t\n",
      "\t\t\t\t<tr>\n",
      "\t\t\t\t\t<td style=\"text-align:center\">2008-01-31</td>\n",
      "\t\t\t\t\n",
      "\t\t\t\t\n",
      "\t\t\t\t\n",
      "\t\t\t\t\t\t\t\t\t\t\n",
      "\t\t\t\t\t\t\t\t\t\t\n",
      "\t\t\t\t\t\t<td style=\"text-align:center\">$2,866</td>\n",
      "\t\t\t\t\t\t\n",
      "\t\t\t\t\t\t\t\t\t\n",
      "\t\t\t\t\t\t\t\t\n",
      "\t\t\t\t  </tr>\n",
      "\t\t\t\t  \n",
      "\t\t\t\t\t\t\t\t\t\t\t\t\n",
      "\t\t\t\t<tr>\n",
      "\t\t\t\t\t<td style=\"text-align:center\">2007-10-31</td>\n",
      "\t\t\t\t\n",
      "\t\t\t\t\n",
      "\t\t\t\t\n",
      "\t\t\t\t\t\t\t\t\t\t\n",
      "\t\t\t\t\t\t\t\t\t\t\n",
      "\t\t\t\t\t\t<td style=\"text-align:center\">$1,611</td>\n",
      "\t\t\t\t\t\t\n",
      "\t\t\t\t\t\t\t\t\t\n",
      "\t\t\t\t\t\t\t\t\n",
      "\t\t\t\t  </tr>\n",
      "\t\t\t\t  \n",
      "\t\t\t\t\t\t\t\t\t\t\t\t\n",
      "\t\t\t\t<tr>\n",
      "\t\t\t\t\t<td style=\"text-align:center\">2007-07-31</td>\n",
      "\t\t\t\t\n",
      "\t\t\t\t\n",
      "\t\t\t\t\n",
      "\t\t\t\t\t\t\t\t\t\t\n",
      "\t\t\t\t\t\t\t\t\t\t\n",
      "\t\t\t\t\t\t<td style=\"text-align:center\">$1,338</td>\n",
      "\t\t\t\t\t\t\n",
      "\t\t\t\t\t\t\t\t\t\n",
      "\t\t\t\t\t\t\t\t\n",
      "\t\t\t\t  </tr>\n",
      "\t\t\t\t  \n",
      "\t\t\t\t\t\t\t\t\t\t\t\t\n",
      "\t\t\t\t<tr>\n",
      "\t\t\t\t\t<td style=\"text-align:center\">2007-04-30</td>\n",
      "\t\t\t\t\n",
      "\t\t\t\t\n",
      "\t\t\t\t\n",
      "\t\t\t\t\t\t\t\t\t\t\n",
      "\t\t\t\t\t\t\t\t\t\t\n",
      "\t\t\t\t\t\t<td style=\"text-align:center\">$1,279</td>\n",
      "\t\t\t\t\t\t\n",
      "\t\t\t\t\t\t\t\t\t\n",
      "\t\t\t\t\t\t\t\t\n",
      "\t\t\t\t  </tr>\n",
      "\t\t\t\t  \n",
      "\t\t\t\t\t\t\t\t\t\t\t\t\n",
      "\t\t\t\t<tr>\n",
      "\t\t\t\t\t<td style=\"text-align:center\">2007-01-31</td>\n",
      "\t\t\t\t\n",
      "\t\t\t\t\n",
      "\t\t\t\t\n",
      "\t\t\t\t\t\t\t\t\t\t\n",
      "\t\t\t\t\t\t\t\t\t\t\n",
      "\t\t\t\t\t\t<td style=\"text-align:center\">$2,304</td>\n",
      "\t\t\t\t\t\t\n",
      "\t\t\t\t\t\t\t\t\t\n",
      "\t\t\t\t\t\t\t\t\n",
      "\t\t\t\t  </tr>\n",
      "\t\t\t\t  \n",
      "\t\t\t\t\t\t\t\t\t\t\t\t\n",
      "\t\t\t\t<tr>\n",
      "\t\t\t\t\t<td style=\"text-align:center\">2006-10-31</td>\n",
      "\t\t\t\t\n",
      "\t\t\t\t\n",
      "\t\t\t\t\n",
      "\t\t\t\t\t\t\t\t\t\t\n",
      "\t\t\t\t\t\t\t\t\t\t\n",
      "\t\t\t\t\t\t<td style=\"text-align:center\">$1,012</td>\n",
      "\t\t\t\t\t\t\n",
      "\t\t\t\t\t\t\t\t\t\n",
      "\t\t\t\t\t\t\t\t\n",
      "\t\t\t\t  </tr>\n",
      "\t\t\t\t  \n",
      "\t\t\t\t\t\t\t\t\t\t\t\t\n",
      "\t\t\t\t<tr>\n",
      "\t\t\t\t\t<td style=\"text-align:center\">2006-07-31</td>\n",
      "\t\t\t\t\n",
      "\t\t\t\t\n",
      "\t\t\t\t\n",
      "\t\t\t\t\t\t\t\t\t\t\n",
      "\t\t\t\t\t\t\t\t\t\t\n",
      "\t\t\t\t\t\t<td style=\"text-align:center\">$963</td>\n",
      "\t\t\t\t\t\t\n",
      "\t\t\t\t\t\t\t\t\t\n",
      "\t\t\t\t\t\t\t\t\n",
      "\t\t\t\t  </tr>\n",
      "\t\t\t\t  \n",
      "\t\t\t\t\t\t\t\t\t\t\t\t\n",
      "\t\t\t\t<tr>\n",
      "\t\t\t\t\t<td style=\"text-align:center\">2006-04-30</td>\n",
      "\t\t\t\t\n",
      "\t\t\t\t\n",
      "\t\t\t\t\n",
      "\t\t\t\t\t\t\t\t\t\t\n",
      "\t\t\t\t\t\t\t\t\t\t\n",
      "\t\t\t\t\t\t<td style=\"text-align:center\">$1,040</td>\n",
      "\t\t\t\t\t\t\n",
      "\t\t\t\t\t\t\t\t\t\n",
      "\t\t\t\t\t\t\t\t\n",
      "\t\t\t\t  </tr>\n",
      "\t\t\t\t  \n",
      "\t\t\t\t\t\t\t\t\t\t\t\t\n",
      "\t\t\t\t<tr>\n",
      "\t\t\t\t\t<td style=\"text-align:center\">2006-01-31</td>\n",
      "\t\t\t\t\n",
      "\t\t\t\t\n",
      "\t\t\t\t\n",
      "\t\t\t\t\t\t\t\t\t\t\n",
      "\t\t\t\t\t\t\t\t\t\t\n",
      "\t\t\t\t\t\t<td style=\"text-align:center\">$1,667</td>\n",
      "\t\t\t\t\t\t\n",
      "\t\t\t\t\t\t\t\t\t\n",
      "\t\t\t\t\t\t\t\t\n",
      "\t\t\t\t  </tr>\n",
      "\t\t\t\t  \n",
      "\t\t\t\t\t\t\t\t\t\t\t\t\n",
      "\t\t\t\t<tr>\n",
      "\t\t\t\t\t<td style=\"text-align:center\">2005-10-31</td>\n",
      "\t\t\t\t\n",
      "\t\t\t\t\n",
      "\t\t\t\t\n",
      "\t\t\t\t\t\t\t\t\t\t\n",
      "\t\t\t\t\t\t\t\t\t\t\n",
      "\t\t\t\t\t\t<td style=\"text-align:center\">$534</td>\n",
      "\t\t\t\t\t\t\n",
      "\t\t\t\t\t\t\t\t\t\n",
      "\t\t\t\t\t\t\t\t\n",
      "\t\t\t\t  </tr>\n",
      "\t\t\t\t  \n",
      "\t\t\t\t\t\t\t\t\t\t\t\t\n",
      "\t\t\t\t<tr>\n",
      "\t\t\t\t\t<td style=\"text-align:center\">2005-07-31</td>\n",
      "\t\t\t\t\n",
      "\t\t\t\t\n",
      "\t\t\t\t\n",
      "\t\t\t\t\t\t\t\t\t\t\n",
      "\t\t\t\t\t\t\t\t\t\t\n",
      "\t\t\t\t\t\t<td style=\"text-align:center\">$416</td>\n",
      "\t\t\t\t\t\t\n",
      "\t\t\t\t\t\t\t\t\t\n",
      "\t\t\t\t\t\t\t\t\n",
      "\t\t\t\t  </tr>\n",
      "\t\t\t\t  \n",
      "\t\t\t\t\t\t\t\t\t\t\t\t\n",
      "\t\t\t\t<tr>\n",
      "\t\t\t\t\t<td style=\"text-align:center\">2005-04-30</td>\n",
      "\t\t\t\t\n",
      "\t\t\t\t\n",
      "\t\t\t\t\n",
      "\t\t\t\t\t\t\t\t\t\t\n",
      "\t\t\t\t\t\t\t\t\t\t\n",
      "\t\t\t\t\t\t<td style=\"text-align:center\">$475</td>\n",
      "\t\t\t\t\t\t\n",
      "\t\t\t\t\t\t\t\t\t\n",
      "\t\t\t\t\t\t\t\t\n",
      "\t\t\t\t  </tr>\n",
      "\t\t\t\t  \n",
      "\t\t\t\t\t\t\t\t\t\t\t\t\n",
      "\t\t\t\t<tr>\n",
      "\t\t\t\t\t<td style=\"text-align:center\">2005-01-31</td>\n",
      "\t\t\t\t\n",
      "\t\t\t\t\n",
      "\t\t\t\t\n",
      "\t\t\t\t\t\t\t\t\t\t\n",
      "\t\t\t\t\t\t\t\t\t\t\n",
      "\t\t\t\t\t\t<td style=\"text-align:center\">$709</td>\n",
      "\t\t\t\t\t\t\n",
      "\t\t\t\t\t\t\t\t\t\n",
      "\t\t\t\t\t\t\t\t\n",
      "\t\t\t\t  </tr>\n",
      "\t\t\t\t  \n",
      "\t\t\t\t  \n",
      "\t\t\t\t</tbody>\n",
      "\t\t\t  </table>\n",
      "\t\t\t  \n",
      "\t\t\t  </div>\n",
      "\t\t\t  \n",
      "\n",
      "\t\t\t\n",
      "</div>\t\t\t\n",
      "\t\t\t\n",
      "\t\t\t\n",
      "\t\t\n",
      "\t\t<div style=\"background-color:#fff; margin: 0px 0px 20px 0px; padding:5px 50px 5px 10px; border:1px solid #dfdfdf;\">\n",
      "\n",
      "\t\t\t  <table class=\"historical_data_table table\">\n",
      "\t\t\t\t<thead>\n",
      "\t\t\t\t  <tr>\n",
      "\t\t\t\t\t<th style=\"text-align:center\">Sector</th>\n",
      "\t\t\t\t\t<th style=\"text-align:center\">Industry</th>\n",
      "\t\t\t\t\t<th style=\"text-align:center\">Market Cap</th>\n",
      "\t\t\t\t\t<th style=\"text-align:center\">Revenue</th>\n",
      "\t\t\t\t  </tr>\n",
      "\t\t\t\t</thead>\n",
      "\t\t\t\t<tbody>\n",
      "\t\t\t\t  <tr>\n",
      "\t\t\t\t\t<td style=\"text-align:center\"><a href=\"https://web.archive.org/web/20200814131437/https://www.macrotrends.net/stocks/sector/3/retail-wholesale\">Retail/Wholesale</a></td>\n",
      "\t\t\t\t\t<td style=\"text-align:center\"><a href=\"https://web.archive.org/web/20200814131437/https://www.macrotrends.net/stocks/industry/156/\">Retail - Consumer Electronics</a></td>\n",
      "\t\t\t\t\t<td style=\"text-align:center\">$0.293B</td>\n",
      "\t\t\t\t\t<td style=\"text-align:center\">$6.466B</td>\n",
      "\t\t\t\t  </tr>\n",
      "\t\t\t\t  <tr>\n",
      "\t\t\t\t\t  <td colspan=\"4\" style=\"padding:15px;\">\n",
      "\t\t\t\t\t\t<span>GameStop Corp. is the world's largest video game and entertainment software retailer. The company operates 4,816 retail stores across the United States and in fifteen countries worldwide. The company also operates two e-commerce sites, GameStop.com and EBgames.com, and publishes Game Informer? magazine, a leading multi-platform video game publication. GameStop Corp. sells new and used video game software, hardware and accessories for next generation video game systems from Sony, Nintendo, and Microsoft. In addition, the company sells PC entertainment software, related accessories and other merchandise.</span>\n",
      "\t\t\t\t\t  </td>\n",
      "\t\t\t\t  </tr>\n",
      "\t\t\t\t</tbody>\n",
      "\t\t\t  </table>\t\t\t\n",
      "\t\t\t</div>\t\n",
      "\t\n",
      "\t\t\n",
      "\t\t<div style=\"background-color:#fff; margin: 20px 0px 30px 0px; padding:5px 50px 5px 10px; border:1px solid #dfdfdf;\">\n",
      "\t\t\t\n",
      "\n",
      "\t\t\t\t<table class=\"historical_data_table table\">\n",
      "\t\t\t\t<thead>\n",
      "\t\t\t\t  <tr>\n",
      "\t\t\t\t\t<th style=\"text-align:center; width:40%;\">Stock Name</th>\n",
      "\t\t\t\t\t<th style=\"text-align:center; width:20%;\">Country</th>\n",
      "\t\t\t\t\t<th style=\"text-align:center; width:20%;\">Market Cap</th>\n",
      "\t\t\t\t\t<th style=\"text-align:center; width:20%;\">PE Ratio</th>\n",
      "\t\t\t\t  </tr>\n",
      "\t\t\t\t</thead>\n",
      "\t\t\t\t<tbody>\t\t\t\n",
      "\n",
      "\t\t\t\t\t\t\n",
      "\t\t\t\t\t\t\n",
      "\t\t\t\t<tr>\n",
      "\t\t\t\t\t<td style=\"text-align:left\"><a href=\"https://web.archive.org/web/20200814131437/https://www.macrotrends.net/stocks/charts/BBY/best-buy/revenue\">Best Buy (BBY)</a></td>\n",
      "\t\t\t\t\t<td style=\"text-align:center\">United States</td>\n",
      "\t\t\t\t\t<td style=\"text-align:center\">$27.033B</td>\n",
      "\t\t\t\t\t<td style=\"text-align:center\">18.16</td>\n",
      "\t\t\t\t </tr>\n",
      "\n",
      "\t\t\t\t\t\t\n",
      "\t\t\t\t\t\t\n",
      "\t\t\t\t<tr>\n",
      "\t\t\t\t\t<td style=\"text-align:left\"><a href=\"https://web.archive.org/web/20200814131437/https://www.macrotrends.net/stocks/charts/AAN/aarons,-/revenue\">Aaron's,  (AAN)</a></td>\n",
      "\t\t\t\t\t<td style=\"text-align:center\">United States</td>\n",
      "\t\t\t\t\t<td style=\"text-align:center\">$3.975B</td>\n",
      "\t\t\t\t\t<td style=\"text-align:center\">15.14</td>\n",
      "\t\t\t\t </tr>\n",
      "\n",
      "\t\t\t\t\t\t\n",
      "\t\t\t\t\t\t\n",
      "\t\t\t\t<tr>\n",
      "\t\t\t\t\t<td style=\"text-align:left\"><a href=\"https://web.archive.org/web/20200814131437/https://www.macrotrends.net/stocks/charts/GMELY/gome-retail-holdings/revenue\">GOME Retail Holdings (GMELY)</a></td>\n",
      "\t\t\t\t\t<td style=\"text-align:center\">China</td>\n",
      "\t\t\t\t\t<td style=\"text-align:center\">$1.684B</td>\n",
      "\t\t\t\t\t<td style=\"text-align:center\">0.00</td>\n",
      "\t\t\t\t </tr>\n",
      "\n",
      "\t\t\t\t\t\t\n",
      "\t\t\t\t\t\t\n",
      "\t\t\t\t<tr>\n",
      "\t\t\t\t\t<td style=\"text-align:left\"><a href=\"https://web.archive.org/web/20200814131437/https://www.macrotrends.net/stocks/charts/SYX/systemax/revenue\">Systemax (SYX)</a></td>\n",
      "\t\t\t\t\t<td style=\"text-align:center\">United States</td>\n",
      "\t\t\t\t\t<td style=\"text-align:center\">$0.873B</td>\n",
      "\t\t\t\t\t<td style=\"text-align:center\">18.34</td>\n",
      "\t\t\t\t </tr>\n",
      "\n",
      "\t\t\t\t\t\t\n",
      "\t\t\t\t\t\t\n",
      "\t\t\t\t<tr>\n",
      "\t\t\t\t\t<td style=\"text-align:left\"><a href=\"https://web.archive.org/web/20200814131437/https://www.macrotrends.net/stocks/charts/CONN/conns/revenue\">Conn's (CONN)</a></td>\n",
      "\t\t\t\t\t<td style=\"text-align:center\">United States</td>\n",
      "\t\t\t\t\t<td style=\"text-align:center\">$0.325B</td>\n",
      "\t\t\t\t\t<td style=\"text-align:center\">0.00</td>\n",
      "\t\t\t\t </tr>\n",
      "\n",
      "\t\t\t\t\t\t\n",
      "\t\t\t\t\t\t\n",
      "\t\t\t\t<tr>\n",
      "\t\t\t\t\t<td style=\"text-align:left\"><a href=\"https://web.archive.org/web/20200814131437/https://www.macrotrends.net/stocks/charts/TAIT/taitron-components/revenue\">Taitron Components (TAIT)</a></td>\n",
      "\t\t\t\t\t<td style=\"text-align:center\">United States</td>\n",
      "\t\t\t\t\t<td style=\"text-align:center\">$0.016B</td>\n",
      "\t\t\t\t\t<td style=\"text-align:center\">10.50</td>\n",
      "\t\t\t\t </tr>\n",
      "\n",
      "\t\t\t\t\t\t\n",
      "\t\t\t\t</tbody>\n",
      "\t\t\t  </table>\t\t\t\n",
      "\t\t\t\n",
      "\t\t\t</div>\n",
      "\t\t\t\n",
      "\t\t\t\n",
      "\n",
      "\t\t\t</div>\n",
      "\t\t\t\n",
      "\n",
      "\t\t\t<div id=\"right_sidebar\" \"=\"\">\n",
      "\n",
      "\t\t\t\t<!--<a href=\"/stocks/stock-screener\" style=\"text-decoration:none; color: #fff; \">\n",
      "\t\t\t\t\t<div style=\"margin:0px; padding: 20px; width:300px; background-color: #01579b; min-height:150px; text-align:center;\">\n",
      "\n",
      "\t\t\t\t\t\t<h2 style=\"font-weight:600;\">Try our new<br />stock screener!</h2></a>\n",
      "\n",
      "\t\t\t\t\t</div>\n",
      "\t\t\t\t</a>-->\n",
      "\n",
      "\t\t\t\t<!--<div style=\"margin-top:0px; min-height:250px;\">\n",
      "\n",
      "\t\t\t\t\t<script src='//ads.investingchannel.com/adtags/Macrotrends/fundamentalanalysis/300x600.js?zhpos=300_2&multi_size=false' type='text/javascript' charset='utf-8'></script>\n",
      "\n",
      "\t\t\t\t</div>-->\n",
      "\t\t\t\t\n",
      "\t\t\t\t\t\t\t\n",
      "\t\t\t\t\n",
      "\t\t\t\t\n",
      "\t\t\t\t\n",
      "\t\t\t\t\t\t\n",
      "\n",
      "\n",
      "\n",
      "\t\t\t<div style=\"margin-top:0px; min-height:250px;\">\n",
      "\n",
      "\t\t\t\t\t<div id=\"ic_300_250\">\n",
      "\n",
      "\t\t\t\t\t\n",
      "\t\t\t\t\t</div>\n",
      "\n",
      "\t\t\t\t</div>\n",
      "\t\t\t\n",
      "\t\t\t<div id=\"sticky_ad_right\">\n",
      "\t\t\t\n",
      "\t\t\t\t<div style=\"margin-top:30px; min-height:250px;\">\n",
      "\n",
      "\t\t\t\t\t<div id=\"ic_300_600\">\n",
      "\n",
      "\n",
      "\t\t\t\t\t</div>\n",
      "\n",
      "\t\t\t\t</div>\n",
      "\n",
      "\t\t\t\t</div>\n",
      "\n",
      "\n",
      "\t\t\t\t\t\n",
      "\t\t\t\t\n",
      "\n",
      "\t\t\t\t\n",
      "\t\t\t</div>\n",
      "\t\t\t\n",
      "\t\t\t\n",
      "\t\t\t\n",
      "\t\t\t\t\t\t\n",
      "\t\t</div>\n",
      "\t\t</div>\n",
      "\n",
      "<footer class=\"footer\">\n",
      "\n",
      "\t\t<span>Â© 2010-2020 Macrotrends LLC</span>&nbsp;&nbsp;|&nbsp;&nbsp;\n",
      "\t\t  <a href=\"https://web.archive.org/web/20200814131437/https://www.macrotrends.net/terms\">Terms of Service</a>\n",
      "\t\t  &nbsp;&nbsp;|&nbsp;&nbsp;\n",
      "\t\t  <a href=\"https://web.archive.org/web/20200814131437/https://www.macrotrends.net/privacy\">Privacy Policy</a>&nbsp;&nbsp;|&nbsp;&nbsp;\n",
      "\t\t  <a href=\"https://web.archive.org/web/20200814131437/mailto:info@macrotrends.net\">Contact Us</a>&nbsp;&nbsp;|&nbsp;&nbsp;\n",
      "\t\t  <a href=\"https://web.archive.org/web/20200814131437/https://www.macrotrends.net/ccpa\">Do Not Sell My Personal Information</a>\n",
      "\t\t  <br>\n",
      "\t\t  <span>Fundamental data from </span><a target=\"_blank\" rel=\"nofollow\" href=\"https://web.archive.org/web/20200814131437/https://www.zacksdata.com/\">Zacks Investment Research, Inc.</a>\n",
      "\n",
      "\n",
      "</footer>\n",
      "\n",
      "<div class=\"modal\" id=\"smallWidthModal1\" tabindex=\"-1\" role=\"dialog\" aria-labelledby=\"exampleModalLabel\" aria-hidden=\"true\">\n",
      "  <div class=\"modal-dialog modal-lg\">\n",
      "    <div class=\"modal-content\">\n",
      "      <div class=\"modal-body\">\n",
      "\t  \t  \n",
      "\t\t<div class=\"modal_title\"><h2><strong>We Need Your Support!</strong></h2></div>\n",
      "\n",
      "\t\t<p>Backlinks from other websites are the lifeblood of our site and a primary source of new traffic.</p><p>\n",
      "\t\t\n",
      "</p><p>If you use our chart images on your site or blog, we ask that you provide attribution via a \"dofollow\" link back to this page.  We have provided a few examples below that you can copy and paste to your site:</p>\n",
      "\n",
      "<br>\n",
      "\n",
      "<table class=\"table\">\n",
      "<thead>\n",
      "<tr>\n",
      "<th>Link Preview</th>\n",
      "<th>HTML Code (Click to Copy)</th>\n",
      "</tr>\n",
      "</thead>\n",
      "<tbody>\n",
      "<tr>\n",
      "<td><a>GameStop Revenue 2006-2020 | GME</a></td>\n",
      "<td><input type=\"text\" class=\"modal_link\" size=\"60\" value=\"&lt;a href=&#39;https://www.macrotrends.net/stocks/charts/GME/gamestop/revenue&#39;&gt;GameStop Revenue 2006-2020 | GME&lt;/a&gt;\"></td>\n",
      "</tr>\n",
      "<tr>\n",
      "<td><a>Macrotrends</a></td>\n",
      "<td><input type=\"text\" class=\"modal_link\" size=\"60\" value=\"&lt;a href=&#39;https://www.macrotrends.net/stocks/charts/GME/gamestop/revenue&#39;&gt;Macrotrends&lt;/a&gt;\"></td>\n",
      "</tr>\n",
      "<tr>\n",
      "<td><a>Source</a></td>\n",
      "<td><input type=\"text\" class=\"modal_link\" size=\"60\" value=\"&lt;a href=&#39;https://www.macrotrends.net/stocks/charts/GME/gamestop/revenue&#39;&gt;Source&lt;/a&gt;\"></td>\n",
      "</tr>\n",
      "\n",
      "\n",
      "\n",
      "</tbody>\n",
      "</table>\n",
      "\n",
      "<br>\n",
      "\n",
      "<p style=\"text-align:center\">Your image export is now complete.  Please check your download folder. </p>\n",
      "\n",
      "      </div>\n",
      "      <div class=\"modal-footer\">\n",
      "        <button type=\"button\" class=\"btn btn-primary\" data-dismiss=\"modal\">Close Window</button>\n",
      "      </div>\n",
      "    </div>\n",
      "  </div>\n",
      "</div>\n",
      "\n",
      "\n",
      "<div class=\"modal\" id=\"smallWidthModal2\" tabindex=\"-1\" role=\"dialog\" aria-labelledby=\"exampleModalLabel\" aria-hidden=\"true\">\n",
      "  <div class=\"modal-dialog modal-lg\">\n",
      "    <div class=\"modal-content\">\n",
      "      <div class=\"modal-body\">\n",
      "\t  \t  \n",
      "\t\t<div class=\"modal_title\"><h2><strong>We Need Your Support!</strong></h2></div>\n",
      "\n",
      "\t\t<p>Backlinks from other websites are the lifeblood of our site and a primary source of new traffic.</p><p>\n",
      "\t\t\n",
      "</p><p>If you use our datasets on your site or blog, we ask that you provide attribution via a \"dofollow\" link back to this page.  We have provided a few examples below that you can copy and paste to your site:</p>\n",
      "\n",
      "<br>\n",
      "\n",
      "<table class=\"table\">\n",
      "<thead>\n",
      "<tr>\n",
      "<th>Link Preview</th>\n",
      "<th>HTML Code (Click to Copy)</th>\n",
      "</tr>\n",
      "</thead>\n",
      "<tbody>\n",
      "<tr>\n",
      "<td><a>GameStop Revenue 2006-2020 | GME</a></td>\n",
      "<td><input type=\"text\" class=\"modal_link\" size=\"50\" value=\"&lt;a href=&#39;https://www.macrotrends.net/stocks/charts/GME/gamestop/revenue&#39;&gt;GameStop Revenue 2006-2020 | GME&lt;/a&gt;\"></td>\n",
      "</tr>\n",
      "<tr>\n",
      "<td><a>Macrotrends</a></td>\n",
      "<td><input type=\"text\" class=\"modal_link\" size=\"50\" value=\"&lt;a href=&#39;https://www.macrotrends.net/stocks/charts/GME/gamestop/revenue&#39;&gt;Macrotrends&lt;/a&gt;\"></td>\n",
      "</tr>\n",
      "<tr>\n",
      "<td><a>Source</a></td>\n",
      "<td><input type=\"text\" class=\"modal_link\" size=\"50\" value=\"&lt;a href=&#39;https://www.macrotrends.net/stocks/charts/GME/gamestop/revenue&#39;&gt;Source&lt;/a&gt;\"></td>\n",
      "</tr>\n",
      "\n",
      "\n",
      "\n",
      "</tbody>\n",
      "</table>\n",
      "\n",
      "<br>\n",
      "\n",
      "<p style=\"text-align:center\">Your data export is now complete.  Please check your download folder. </p>\n",
      "\n",
      "      </div>\n",
      "      <div class=\"modal-footer\">\n",
      "        <button type=\"button\" class=\"btn btn-primary\" data-dismiss=\"modal\">Close Window</button>\n",
      "      </div>\n",
      "    </div>\n",
      "  </div>\n",
      "</div>\t\n",
      "\n",
      "\n",
      "<script type=\"text/javascript\">\n",
      "\t$.typeahead({\n",
      "\t\tinput: '.js-typeahead',\n",
      "\t\tminLength: 1,\n",
      "\t\tfilter: false,  //Disables typahead filter to just show everything in the results from the database\n",
      "\t\tdebug: false,\n",
      "\t\thighlight: true,\n",
      "\t\tmaxItem: 10,\n",
      "\t\tdynamic: true,\n",
      "\t\tdelay: 200,\n",
      "\t\tsearchOnFocus: true,\n",
      "\t\tbackdrop: {\n",
      "\t\t\t\"background-color\": \"#fff\"\n",
      "\t\t},\n",
      "\t\thref: \"{{url}}\",\n",
      "\t\temptyTemplate: \"no result for {{query}}\",\n",
      "\t\tdisplay: [\"name\"],\n",
      "\t\tsource: {\n",
      "\t\t\tusers: {\n",
      "\t\t\t\tajax: {\n",
      "\t\t\t\t\turl: '/assets/php/all_pages_query.php',\n",
      "\t\t\t\t\tdata: {\n",
      "\t\t\t\t\t\tq: '{{query}}'\n",
      "\t\t\t\t\t}\n",
      "\t\t\t\t}\n",
      "\t\t\t}\n",
      "\t\t}\n",
      "\t});\n",
      "</script>\t\t\t\t\t\t\n",
      "\n",
      "\n",
      "<script>\n",
      "\n",
      "$(document).ready(function() {\n",
      "\t\n",
      "\t// Selects all of the text in the chart export window when clicked\n",
      "\t$(\".modal_link\").focus(function() {\n",
      "\t\tvar $this = $(this);\n",
      "\t\t$this.select();\n",
      "\n",
      "\t\t// Work around Chrome's little problem\n",
      "\t\t$this.mouseup(function() {\n",
      "\t\t\t// Prevent further mouseup intervention\n",
      "\t\t\t$this.unbind(\"mouseup\");\n",
      "\t\t\treturn false;\n",
      "\t\t});\n",
      "\t});\t\n",
      "\t\n",
      "\t\n",
      "\t$('[data-toggle=\"tooltip\"]').tooltip();\n",
      "\t\n",
      "    $('.statement_type_select').select2({\n",
      "\t\n",
      "\ttheme: \"classic\",\n",
      "\tminimumResultsForSearch: 20\n",
      "\t\n",
      "\t});\n",
      "\n",
      "    $('.frequency_select').select2({\n",
      "\t\n",
      "\ttheme: \"classic\",\n",
      "\tminimumResultsForSearch: 20\n",
      "\t\n",
      "\t});\n",
      "\t\n",
      "\t\n",
      "});\n",
      "\n",
      "$( \"#compareStocks\" ).click(function() {\n",
      "\t\n",
      "\t\n",
      "\twindow.location.href = '/stocks/stock-comparison?s=revenue&axis=single&comp=GME';\n",
      "\t\n",
      "\t\n",
      "});\n",
      "\n",
      "$( \"#chartExport\" ).click(function() {\n",
      "\t\n",
      "\t\twindow.$('#smallWidthModal1').modal();\n",
      "\n",
      "\t\t//Turn off scroll bar for image export\n",
      "\t\tchart.chartScrollbarSettings.enabled = false;\n",
      "\t\tchart.validateNow(); \n",
      "\t\t\n",
      "\t\t\n",
      "\t\tchart.export.capture({},function() {\n",
      "\t\t\tthis.toPNG({},function(data) {\n",
      "\t\t\t\t// Download the image to the browser\n",
      "\t\t\t\tthis.download( data, \"image/png\", \"GME-revenue-2020-08-14-macrotrends.png\" );\n",
      "\t\t\t\t\n",
      "\t\t\t\t});\n",
      "\n",
      "\t\t//Turn scroll bar back on again\n",
      "\t\tchart.chartScrollbarSettings.enabled = true;\n",
      "\t\tchart.validateNow(); \n",
      "\t\t\t\t\n",
      "\t});\n",
      "\n",
      "});\n",
      "\n",
      "$( \".statement_type_select\" ).change(function() {\n",
      "  \n",
      "  window.location.href = 'https://web.archive.org/web/20200814131437/https://testing.macrotrends.net/assets/php/income_statement_testing.php?t=TAIT&type=' + this.value + '&freq=Q';\n",
      "\n",
      "});\n",
      "\n",
      "$( \".frequency_select\" ).change(function() {\n",
      "  \n",
      "  window.location.href = '/assets/php/new_chart_page.php?t=TAIT&type=revenue&freq=' + this.value;\n",
      "\n",
      "});\n",
      "\n",
      "</script>\n",
      "\n",
      "<!--<div class=\"modal\" id=\"contribute_modal\" tabindex=\"-1\" role=\"dialog\" aria-labelledby=\"exampleModalLabel\" aria-hidden=\"false\">\n",
      "  <div class=\"modal-dialog modal-lg\">\n",
      "    <div class=\"modal-content\">\n",
      "      <div class=\"modal-body\" style=\"margin:20px 40px 20px 40px; text-align:left;font-size:18px;\">\n",
      "\t  \t  \n",
      "\n",
      "\n",
      "<div class=\"row\">\n",
      "\n",
      "<div class=\"col-xs-6\">\n",
      "\n",
      "<script src=\"https://donorbox.org/widget.js\" paypalExpress=\"true\"></script><iframe src=\"https://donorbox.org/embed/macrotrends-donations?hide_donation_meter=true\" height=\"685px\" width=\"100%\" style=\"max-width:500px; min-width:310px; max-height:none!important\" seamless=\"seamless\" name=\"donorbox\" frameborder=\"0\" scrolling=\"no\" allowpaymentrequest></iframe>\n",
      "\n",
      "</div>\n",
      "\n",
      "<div class=\"col-xs-6\">\n",
      "\n",
      "\t\t<div class=\"modal_title\"><h1><strong>We Need Your Support!</strong></h1></div>\n",
      "\n",
      "\t\t<p><strong>Macrotrends has been subscription-free since 2010 and we want to keep it that way.</strong></p>\n",
      "\n",
      "<p>Our goal has always been to serve as an easily accessible, high quality source of investment research for both professionals and amateurs alike.</p>\n",
      "\n",
      "<p>Any amount that you can contribute will help ensure we can keep the site completely free for many years to come.</p>\n",
      "\n",
      "<p style=\"margin-top:20px;\">Regards,</p>\n",
      "<p>The Macrotrends Team</p>\n",
      "\n",
      "</div>\n",
      "\n",
      "</div>\n",
      "\n",
      "</div>\n",
      "\n",
      "      <div class=\"modal-footer\" style=\"text-align:center;\">\n",
      "        <button type=\"button\" class=\"btn btn-success\" data-dismiss=\"modal\">Maybe Next Time...</button>\n",
      "      </div>\n",
      "    </div>\n",
      "  </div>\n",
      "</div>\t\n",
      "\n",
      "\n",
      "<script src=\"/ads.js\" type=\"text/javascript\"></script>\n",
      "\n",
      "<script>\n",
      "\n",
      "$(document).ready(function() {\n",
      "\t\n",
      "\tvar botPattern = \"(googlebot\\/|Googlebot-Mobile|Googlebot-Image|Google favicon|Mediapartners-Google|bingbot|slurp|java|wget|curl|Commons-HttpClient|Python-urllib|libwww|httpunit|nutch|phpcrawl|msnbot|jyxobot|FAST-WebCrawler|FAST Enterprise Crawler|biglotron|teoma|convera|seekbot|gigablast|exabot|ngbot|ia_archiver|GingerCrawler|webmon |httrack|webcrawler|grub.org|UsineNouvelleCrawler|antibot|netresearchserver|speedy|fluffy|bibnum.bnf|findlink|msrbot|panscient|yacybot|AISearchBot|IOI|ips-agent|tagoobot|MJ12bot|dotbot|woriobot|yanga|buzzbot|mlbot|yandexbot|purebot|Linguee Bot|Voyager|CyberPatrol|voilabot|baiduspider|citeseerxbot|spbot|twengabot|postrank|turnitinbot|scribdbot|page2rss|sitebot|linkdex|Adidxbot|blekkobot|ezooms|dotbot|Mail.RU_Bot|discobot|heritrix|findthatfile|europarchive.org|NerdByNature.Bot|sistrix crawler|ahrefsbot|Aboundex|domaincrawler|wbsearchbot|summify|ccbot|edisterbot|seznambot|ec2linkfinder|gslfbot|aihitbot|intelium_bot|facebookexternalhit|yeti|RetrevoPageAnalyzer|lb-spider|sogou|lssbot|careerbot|wotbox|wocbot|ichiro|DuckDuckBot|lssrocketcrawler|drupact|webcompanycrawler|acoonbot|openindexspider|gnam gnam spider|web-archive-net.com.bot|backlinkcrawler|coccoc|integromedb|content crawler spider|toplistbot|seokicks-robot|it2media-domain-crawler|ip-web-crawler.com|siteexplorer.info|elisabot|proximic|changedetection|blexbot|arabot|WeSEE:Search|niki-bot|CrystalSemanticsBot|rogerbot|360Spider|psbot|InterfaxScanBot|Lipperhey SEO Service|CC Metadata Scaper|g00g1e.net|GrapeshotCrawler|urlappendbot|brainobot|fr-crawler|binlar|SimpleCrawler|Livelapbot|Twitterbot|cXensebot|smtbot|bnf.fr_bot|A6-Indexer|ADmantX|Facebot|Twitterbot|OrangeBot|memorybot|AdvBot|MegaIndex|SemanticScholarBot|ltx71|nerdybot|xovibot|BUbiNG|Qwantify|archive.org_bot|Applebot|TweetmemeBot|crawler4j|findxbot|SemrushBot|yoozBot|lipperhey|y!j-asr|Domain Re-Animator Bot|AddThis)\";\n",
      "\n",
      "\tvar re = new RegExp(botPattern, 'i');\n",
      "\n",
      "\tif (re.test(navigator.userAgent)) {\n",
      "\t\t\n",
      "\t} else {\n",
      "\t\t\n",
      "\t\t//Check to see whether they are running an ad blocker\n",
      "\t\tif(document.getElementById('12mORwMnaEkJXlxz')){\n",
      "\t\t  var ad_blocker = 'N';\n",
      "\t\t} else {\n",
      "\t\t  var ad_blocker = 'Y';\n",
      "\t\t}\n",
      "\n",
      "\t\t$.post('https://api.ipstack.com/check?access_key=14fe63e83d5cfefa0b3d4cec498479ba&output=json&fields=ip,continent_name,country_name,region_name,city', \n",
      "\t\tfunction(ip_data){\n",
      "\t\t\t\n",
      "\t\t\t$.post('https://www.macrotrends.net/assets/php/page_view_tracking.php', {ip: ip_data.ip,continent: ip_data.continent_name, country: ip_data.country_name, state: ip_data.region_name, city: ip_data.city, screen_width: screen.width, ads: ad_blocker, page_type: 'stock'}, \n",
      "\t\t\t\tfunction(data){\n",
      "\t\t\t\t\t/*\t\t\t\t\t\n",
      "\t\t\t\t\tif(data % 20 === 0) {\n",
      "\t\t\t\t\t\t\n",
      "\t\t\t\t\t\t//$('#contribute_modal').modal();\n",
      "\t\t\t\t\t\t\n",
      "\t\t\t\t\t}\n",
      "\t\t\t\t\t*/\n",
      "\t\t\t\t});\n",
      "\t\t\n",
      "\t\t});\n",
      "\n",
      "\n",
      "\t}\n",
      "\t\n",
      "\n",
      "});\n",
      "\n",
      "\n",
      "$.post('https://api.ipstack.com/check?access_key=14fe63e83d5cfefa0b3d4cec498479ba&output=json&fields=ip,continent_name,country_name,region_name,city', \n",
      "function(ip_data){\n",
      "\t\n",
      "\t$(\".contribute_user_id\").val(ip_data.ip);\n",
      "\t\n",
      "});\n",
      "\n",
      "$( \".donate_buttons\" ).click(function() {\n",
      "  \n",
      "\tvar payment = $(this).attr(\"value\");\n",
      "\n",
      "\t$.post('https://api.ipstack.com/check?access_key=14fe63e83d5cfefa0b3d4cec498479ba&output=json&fields=ip,continent_name,country_name,region_name,city', \n",
      "\t\tfunction(ip_data){\n",
      "\t\t\t\t\t\n",
      "\t\t$.post('https://www.macrotrends.net/assets/php/page_view_tracking.php', {ip: ip_data.ip, paid: payment}); \n",
      "\t\n",
      "\t});\n",
      "\t\t \n",
      "});\n",
      "\n",
      "</script>\n",
      "\n",
      "-->\n",
      "\n",
      "<script>    \n",
      "// Begin editable configuration\n",
      "  window.ABD = {\n",
      "    bannerSuppress: false, // Optionally suppress the banner asking the user to disable their adblocker.\n",
      "    bannerTheme: 'blue', // The bannerTheme of the banner (e.g. 'blue', 'black', 'gray')\n",
      "    bannerSnoozeTime: 86400, // Set in seconds\n",
      "    remoteURL: \"https://web.archive.org/web/20200814131437/https://abd.investingchannel.com\", // Remote ABD URL for JS bundle fetch and event reporting.\n",
      "    proxyURL: \"/proxy.php\" // Proxy URL to use for event and bundle fetching if the remote URL is unreachable.\n",
      "  };\n",
      "// End editable configuration\n",
      "\n",
      "function getBundle(e,n,r){var o=new XMLHttpRequest;o.addEventListener(\"load\",n),o.addEventListener(\"error\",r),o.open(\"GET\",e),o.send()}function handleSuccess(){if(200!=this.status)throw new Error(\"ABD was able to reach the server but received a non 200:OK response.\");var e=document.createElement(\"script\");e.innerHTML=this.responseText,document.body.appendChild(e)}function handleErrorInitial(){getBundle(window.ABD.proxyURL+\"?remoteURL=\"+encodeURIComponent(window.ABD.remoteURL+\"/js/bundle.js\"),handleSuccess,handleErrorProxy)}function handleErrorProxy(){throw new Error(\"ABD was unable to fetch the JS component from the remote site or local proxy.\")}getBundle(window.ABD.remoteURL+\"/js/bundle.js\",handleSuccess,handleErrorInitial);\n",
      "\n",
      "</script>\n",
      "\n",
      "\t\n",
      "\n",
      "\n",
      "\n",
      "<script type=\"text/javascript\">\n",
      "var clicky_site_ids = clicky_site_ids || [];\n",
      "clicky_site_ids.push(100827248);\n",
      "(function() {\n",
      "  var s = document.createElement('script');\n",
      "  s.type = 'text/javascript';\n",
      "  s.async = true;\n",
      "  s.src = '//web.archive.org/web/20200814131437/https://static.getclicky.com/js';\n",
      "  ( document.getElementsByTagName('head')[0] || document.getElementsByTagName('body')[0] ).appendChild( s );\n",
      "})();\n",
      "</script>\n",
      "<noscript><p><img alt=\"Clicky\" width=\"1\" height=\"1\" src=\"//web.archive.org/web/20200814131437im_/https://in.getclicky.com/100827248ns.gif\"/></p></noscript>\n",
      "\n",
      "\n",
      "<!--<script type=\"text/javascript\">\n",
      "    window._mfq = window._mfq || [];\n",
      "    (function() {\n",
      "        var mf = document.createElement(\"script\");\n",
      "        mf.type = \"text/javascript\"; mf.async = true;\n",
      "        mf.src = \"//cdn.mouseflow.com/projects/de879dfd-36cc-4d5e-adcd-3e97d4a41e06.js\";\n",
      "        document.getElementsByTagName(\"head\")[0].appendChild(mf);\n",
      "    })();\n",
      "</script>-->\n",
      "\n",
      "\n",
      "\n",
      "<!-- This site is converting visitors into subscribers and customers with OptinMonster - https://optinmonster.com-->\n",
      "<script type=\"text/javascript\" src=\"./GameStop Revenue 2006-2020 _ GME _ MacroTrends_files/api.min.js.download\" data-account=\"6392\" data-user=\"15772\" async=\"\"></script>\n",
      "<!-- / OptinMonster -->\n",
      "\n",
      "\n",
      "\n",
      "\n",
      "\n",
      "\n",
      "\t\n",
      "<!--\n",
      "     FILE ARCHIVED ON 13:14:37 Aug 14, 2020 AND RETRIEVED FROM THE\n",
      "     INTERNET ARCHIVE ON 08:06:04 Feb 24, 2022.\n",
      "     JAVASCRIPT APPENDED BY WAYBACK MACHINE, COPYRIGHT INTERNET ARCHIVE.\n",
      "\n",
      "     ALL OTHER CONTENT MAY ALSO BE PROTECTED BY COPYRIGHT (17 U.S.C.\n",
      "     SECTION 108(a)(3)).\n",
      "-->\n",
      "<!--\n",
      "playback timings (ms):\n",
      "  captures_list: 147.271\n",
      "  exclusion.robots: 0.161\n",
      "  exclusion.robots.policy: 0.154\n",
      "  cdx.remote: 0.078\n",
      "  esindex: 0.008\n",
      "  LoadShardBlock: 111.691 (3)\n",
      "  PetaboxLoader3.datanode: 195.902 (4)\n",
      "  CDXLines.iter: 18.257 (3)\n",
      "  load_resource: 122.531\n",
      "  PetaboxLoader3.resolve: 30.75\n",
      "--><script> </script><script type=\"text/javascript\" async=\"\" src=\"./GameStop Revenue 2006-2020 _ GME _ MacroTrends_files/in.php\"></script></body><grammarly-desktop-integration data-grammarly-shadow-root=\"true\"></grammarly-desktop-integration></html>\n"
     ]
    }
   ],
   "source": [
    "html_data_2=requests.get(\"https://cf-courses-data.s3.us.cloud-object-storage.appdomain.cloud/IBMDeveloperSkillsNetwork-PY0220EN-SkillsNetwork/labs/project/stock.html\").text\n",
    "print(html_data_2)"
   ]
  },
  {
   "cell_type": "markdown",
   "metadata": {},
   "source": [
    "Parse the html data using `beautiful_soup` using parser i.e `html5lib` or `html.parser`.\n"
   ]
  },
  {
   "cell_type": "code",
   "execution_count": 136,
   "metadata": {},
   "outputs": [],
   "source": [
    "soup = BeautifulSoup(html_data_2, 'html.parser')"
   ]
  },
  {
   "cell_type": "markdown",
   "metadata": {},
   "source": [
    "Using `BeautifulSoup` or the `read_html` function extract the table with `GameStop Revenue` and store it into a dataframe named `gme_revenue`. The dataframe should have columns `Date` and `Revenue`. Make sure the comma and dollar sign is removed from the `Revenue` column.\n"
   ]
  },
  {
   "cell_type": "markdown",
   "metadata": {},
   "source": [
    "> **Note: Use the method similar to what you did in question 2.**  \n"
   ]
  },
  {
   "cell_type": "markdown",
   "metadata": {},
   "source": [
    "<details><summary>Click here if you need help locating the table</summary>\n",
    "\n",
    "```\n",
    "    \n",
    "Below is the code to isolate the table, you will now need to loop through the rows and columns like in the previous lab\n",
    "    \n",
    "soup.find_all(\"tbody\")[1]\n",
    "    \n",
    "If you want to use the read_html function the table is located at index 1\n",
    "\n",
    "\n",
    "```\n",
    "\n",
    "</details>\n"
   ]
  },
  {
   "cell_type": "code",
   "execution_count": 169,
   "metadata": {
    "scrolled": true
   },
   "outputs": [
    {
     "name": "stdout",
     "output_type": "stream",
     "text": [
      "Empty DataFrame\n",
      "Columns: [Date, Revenue]\n",
      "Index: []\n",
      "   Date Revenue\n",
      "0  2020  $6,466\n",
      "   Date Revenue\n",
      "0  2020  $6,466\n",
      "1  2019  $8,285\n",
      "   Date Revenue\n",
      "0  2020  $6,466\n",
      "1  2019  $8,285\n",
      "2  2018  $8,547\n",
      "   Date Revenue\n",
      "0  2020  $6,466\n",
      "1  2019  $8,285\n",
      "2  2018  $8,547\n",
      "3  2017  $7,965\n",
      "   Date Revenue\n",
      "0  2020  $6,466\n",
      "1  2019  $8,285\n",
      "2  2018  $8,547\n",
      "3  2017  $7,965\n",
      "4  2016  $9,364\n",
      "   Date Revenue\n",
      "0  2020  $6,466\n",
      "1  2019  $8,285\n",
      "2  2018  $8,547\n",
      "3  2017  $7,965\n",
      "4  2016  $9,364\n",
      "5  2015  $9,296\n",
      "   Date Revenue\n",
      "0  2020  $6,466\n",
      "1  2019  $8,285\n",
      "2  2018  $8,547\n",
      "3  2017  $7,965\n",
      "4  2016  $9,364\n",
      "5  2015  $9,296\n",
      "6  2014  $9,040\n",
      "   Date Revenue\n",
      "0  2020  $6,466\n",
      "1  2019  $8,285\n",
      "2  2018  $8,547\n",
      "3  2017  $7,965\n",
      "4  2016  $9,364\n",
      "5  2015  $9,296\n",
      "6  2014  $9,040\n",
      "7  2013  $8,887\n",
      "   Date Revenue\n",
      "0  2020  $6,466\n",
      "1  2019  $8,285\n",
      "2  2018  $8,547\n",
      "3  2017  $7,965\n",
      "4  2016  $9,364\n",
      "5  2015  $9,296\n",
      "6  2014  $9,040\n",
      "7  2013  $8,887\n",
      "8  2012  $9,551\n",
      "   Date Revenue\n",
      "0  2020  $6,466\n",
      "1  2019  $8,285\n",
      "2  2018  $8,547\n",
      "3  2017  $7,965\n",
      "4  2016  $9,364\n",
      "5  2015  $9,296\n",
      "6  2014  $9,040\n",
      "7  2013  $8,887\n",
      "8  2012  $9,551\n",
      "9  2011  $9,474\n",
      "    Date Revenue\n",
      "0   2020  $6,466\n",
      "1   2019  $8,285\n",
      "2   2018  $8,547\n",
      "3   2017  $7,965\n",
      "4   2016  $9,364\n",
      "5   2015  $9,296\n",
      "6   2014  $9,040\n",
      "7   2013  $8,887\n",
      "8   2012  $9,551\n",
      "9   2011  $9,474\n",
      "10  2010  $9,078\n",
      "    Date Revenue\n",
      "0   2020  $6,466\n",
      "1   2019  $8,285\n",
      "2   2018  $8,547\n",
      "3   2017  $7,965\n",
      "4   2016  $9,364\n",
      "5   2015  $9,296\n",
      "6   2014  $9,040\n",
      "7   2013  $8,887\n",
      "8   2012  $9,551\n",
      "9   2011  $9,474\n",
      "10  2010  $9,078\n",
      "11  2009  $8,806\n",
      "    Date Revenue\n",
      "0   2020  $6,466\n",
      "1   2019  $8,285\n",
      "2   2018  $8,547\n",
      "3   2017  $7,965\n",
      "4   2016  $9,364\n",
      "5   2015  $9,296\n",
      "6   2014  $9,040\n",
      "7   2013  $8,887\n",
      "8   2012  $9,551\n",
      "9   2011  $9,474\n",
      "10  2010  $9,078\n",
      "11  2009  $8,806\n",
      "12  2008  $7,094\n",
      "    Date Revenue\n",
      "0   2020  $6,466\n",
      "1   2019  $8,285\n",
      "2   2018  $8,547\n",
      "3   2017  $7,965\n",
      "4   2016  $9,364\n",
      "5   2015  $9,296\n",
      "6   2014  $9,040\n",
      "7   2013  $8,887\n",
      "8   2012  $9,551\n",
      "9   2011  $9,474\n",
      "10  2010  $9,078\n",
      "11  2009  $8,806\n",
      "12  2008  $7,094\n",
      "13  2007  $5,319\n",
      "    Date Revenue\n",
      "0   2020  $6,466\n",
      "1   2019  $8,285\n",
      "2   2018  $8,547\n",
      "3   2017  $7,965\n",
      "4   2016  $9,364\n",
      "5   2015  $9,296\n",
      "6   2014  $9,040\n",
      "7   2013  $8,887\n",
      "8   2012  $9,551\n",
      "9   2011  $9,474\n",
      "10  2010  $9,078\n",
      "11  2009  $8,806\n",
      "12  2008  $7,094\n",
      "13  2007  $5,319\n",
      "14  2006  $3,092\n",
      "    Date Revenue\n",
      "0   2020  $6,466\n",
      "1   2019  $8,285\n",
      "2   2018  $8,547\n",
      "3   2017  $7,965\n",
      "4   2016  $9,364\n",
      "5   2015  $9,296\n",
      "6   2014  $9,040\n",
      "7   2013  $8,887\n",
      "8   2012  $9,551\n",
      "9   2011  $9,474\n",
      "10  2010  $9,078\n",
      "11  2009  $8,806\n",
      "12  2008  $7,094\n",
      "13  2007  $5,319\n",
      "14  2006  $3,092\n",
      "15  2005  $1,843\n"
     ]
    }
   ],
   "source": [
    "gme_revenue = pd.DataFrame(columns=['Date', 'Revenue'])\n",
    "\n",
    "\n",
    "\n",
    "table = soup.find('table')\n",
    "headers = table.find_all('th')\n",
    "header_text = [header.get_text().strip() for header in headers]\n",
    "gme_revenue = pd.DataFrame(columns=[\"Date\", \"Revenue\"])\n",
    "\n",
    "# Find the table body\n",
    "table_body = table.find('tbody')\n",
    "for row in rows:\n",
    "    cols = row.find_all('td')  # Get all columns in the row\n",
    "    if len(cols) > 1:  # Ensure there are enough columns (Date, Revenue)\n",
    "        date = cols[0].get_text().strip()  # Extract Date\n",
    "        revenue = cols[1].get_text().strip()  # Extract Revenue\n",
    "\n",
    "        # Create a new row as a dataframe\n",
    "        new_row = pd.DataFrame({\"Date\": [date], \"Revenue\": [revenue]})\n",
    "\n",
    "        # Concatenate the new row with the existing dataframe\n",
    "        gme_revenue = pd.concat([gme_revenue, new_row], ignore_index=True)\n",
    "\n",
    "\n",
    "    print(gme_revenue)"
   ]
  },
  {
   "cell_type": "markdown",
   "metadata": {},
   "source": [
    "Display the last five rows of the `gme_revenue` dataframe using the `tail` function. Take a screenshot of the results.\n"
   ]
  },
  {
   "cell_type": "code",
   "execution_count": 172,
   "metadata": {},
   "outputs": [
    {
     "name": "stdout",
     "output_type": "stream",
     "text": [
      "    Date Revenue\n",
      "11  2009   8,806\n",
      "12  2008   7,094\n",
      "13  2007   5,319\n",
      "14  2006   3,092\n",
      "15  2005   1,843\n"
     ]
    }
   ],
   "source": [
    "gme_revenue[\"Revenue\"] = gme_revenue['Revenue'].str.replace('$',\"\")\n",
    "print(gme_revenue.tail())"
   ]
  },
  {
   "cell_type": "markdown",
   "metadata": {},
   "source": [
    "## Question 5: Plot Tesla Stock Graph\n"
   ]
  },
  {
   "cell_type": "markdown",
   "metadata": {},
   "source": [
    "Use the `make_graph` function to graph the Tesla Stock Data, also provide a title for the graph. Note the graph will only show data upto June 2021.\n"
   ]
  },
  {
   "cell_type": "markdown",
   "metadata": {},
   "source": [
    "<details><summary>Hint</summary>\n",
    "\n",
    "```\n",
    "\n",
    "You just need to invoke the make_graph function with the required parameter to print the graphs.The structure to call the `make_graph` function is `make_graph(tesla_data, tesla_revenue, 'Tesla')`.\n",
    "\n",
    "```\n",
    "    \n",
    "</details>\n"
   ]
  },
  {
   "cell_type": "code",
   "execution_count": 177,
   "metadata": {
    "scrolled": true
   },
   "outputs": [
    {
     "name": "stderr",
     "output_type": "stream",
     "text": [
      "[*********************100%***********************]  1 of 1 completed\n"
     ]
    },
    {
     "data": {
      "application/vnd.plotly.v1+json": {
       "config": {
        "plotlyServerURL": "https://plot.ly"
       },
       "data": [
        {
         "mode": "lines",
         "name": "Tesla Close",
         "type": "scatter",
         "x": [
          "2020-01-02T00:00:00",
          "2020-01-03T00:00:00",
          "2020-01-06T00:00:00",
          "2020-01-07T00:00:00",
          "2020-01-08T00:00:00",
          "2020-01-09T00:00:00",
          "2020-01-10T00:00:00",
          "2020-01-13T00:00:00",
          "2020-01-14T00:00:00",
          "2020-01-15T00:00:00",
          "2020-01-16T00:00:00",
          "2020-01-17T00:00:00",
          "2020-01-21T00:00:00",
          "2020-01-22T00:00:00",
          "2020-01-23T00:00:00",
          "2020-01-24T00:00:00",
          "2020-01-27T00:00:00",
          "2020-01-28T00:00:00",
          "2020-01-29T00:00:00",
          "2020-01-30T00:00:00",
          "2020-01-31T00:00:00",
          "2020-02-03T00:00:00",
          "2020-02-04T00:00:00",
          "2020-02-05T00:00:00",
          "2020-02-06T00:00:00",
          "2020-02-07T00:00:00",
          "2020-02-10T00:00:00",
          "2020-02-11T00:00:00",
          "2020-02-12T00:00:00",
          "2020-02-13T00:00:00",
          "2020-02-14T00:00:00",
          "2020-02-18T00:00:00",
          "2020-02-19T00:00:00",
          "2020-02-20T00:00:00",
          "2020-02-21T00:00:00",
          "2020-02-24T00:00:00",
          "2020-02-25T00:00:00",
          "2020-02-26T00:00:00",
          "2020-02-27T00:00:00",
          "2020-02-28T00:00:00",
          "2020-03-02T00:00:00",
          "2020-03-03T00:00:00",
          "2020-03-04T00:00:00",
          "2020-03-05T00:00:00",
          "2020-03-06T00:00:00",
          "2020-03-09T00:00:00",
          "2020-03-10T00:00:00",
          "2020-03-11T00:00:00",
          "2020-03-12T00:00:00",
          "2020-03-13T00:00:00",
          "2020-03-16T00:00:00",
          "2020-03-17T00:00:00",
          "2020-03-18T00:00:00",
          "2020-03-19T00:00:00",
          "2020-03-20T00:00:00",
          "2020-03-23T00:00:00",
          "2020-03-24T00:00:00",
          "2020-03-25T00:00:00",
          "2020-03-26T00:00:00",
          "2020-03-27T00:00:00",
          "2020-03-30T00:00:00",
          "2020-03-31T00:00:00",
          "2020-04-01T00:00:00",
          "2020-04-02T00:00:00",
          "2020-04-03T00:00:00",
          "2020-04-06T00:00:00",
          "2020-04-07T00:00:00",
          "2020-04-08T00:00:00",
          "2020-04-09T00:00:00",
          "2020-04-13T00:00:00",
          "2020-04-14T00:00:00",
          "2020-04-15T00:00:00",
          "2020-04-16T00:00:00",
          "2020-04-17T00:00:00",
          "2020-04-20T00:00:00",
          "2020-04-21T00:00:00",
          "2020-04-22T00:00:00",
          "2020-04-23T00:00:00",
          "2020-04-24T00:00:00",
          "2020-04-27T00:00:00",
          "2020-04-28T00:00:00",
          "2020-04-29T00:00:00",
          "2020-04-30T00:00:00",
          "2020-05-01T00:00:00",
          "2020-05-04T00:00:00",
          "2020-05-05T00:00:00",
          "2020-05-06T00:00:00",
          "2020-05-07T00:00:00",
          "2020-05-08T00:00:00",
          "2020-05-11T00:00:00",
          "2020-05-12T00:00:00",
          "2020-05-13T00:00:00",
          "2020-05-14T00:00:00",
          "2020-05-15T00:00:00",
          "2020-05-18T00:00:00",
          "2020-05-19T00:00:00",
          "2020-05-20T00:00:00",
          "2020-05-21T00:00:00",
          "2020-05-22T00:00:00",
          "2020-05-26T00:00:00",
          "2020-05-27T00:00:00",
          "2020-05-28T00:00:00",
          "2020-05-29T00:00:00",
          "2020-06-01T00:00:00",
          "2020-06-02T00:00:00",
          "2020-06-03T00:00:00",
          "2020-06-04T00:00:00",
          "2020-06-05T00:00:00",
          "2020-06-08T00:00:00",
          "2020-06-09T00:00:00",
          "2020-06-10T00:00:00",
          "2020-06-11T00:00:00",
          "2020-06-12T00:00:00",
          "2020-06-15T00:00:00",
          "2020-06-16T00:00:00",
          "2020-06-17T00:00:00",
          "2020-06-18T00:00:00",
          "2020-06-19T00:00:00",
          "2020-06-22T00:00:00",
          "2020-06-23T00:00:00",
          "2020-06-24T00:00:00",
          "2020-06-25T00:00:00",
          "2020-06-26T00:00:00",
          "2020-06-29T00:00:00",
          "2020-06-30T00:00:00",
          "2020-07-01T00:00:00",
          "2020-07-02T00:00:00",
          "2020-07-06T00:00:00",
          "2020-07-07T00:00:00",
          "2020-07-08T00:00:00",
          "2020-07-09T00:00:00",
          "2020-07-10T00:00:00",
          "2020-07-13T00:00:00",
          "2020-07-14T00:00:00",
          "2020-07-15T00:00:00",
          "2020-07-16T00:00:00",
          "2020-07-17T00:00:00",
          "2020-07-20T00:00:00",
          "2020-07-21T00:00:00",
          "2020-07-22T00:00:00",
          "2020-07-23T00:00:00",
          "2020-07-24T00:00:00",
          "2020-07-27T00:00:00",
          "2020-07-28T00:00:00",
          "2020-07-29T00:00:00",
          "2020-07-30T00:00:00",
          "2020-07-31T00:00:00",
          "2020-08-03T00:00:00",
          "2020-08-04T00:00:00",
          "2020-08-05T00:00:00",
          "2020-08-06T00:00:00",
          "2020-08-07T00:00:00",
          "2020-08-10T00:00:00",
          "2020-08-11T00:00:00",
          "2020-08-12T00:00:00",
          "2020-08-13T00:00:00",
          "2020-08-14T00:00:00",
          "2020-08-17T00:00:00",
          "2020-08-18T00:00:00",
          "2020-08-19T00:00:00",
          "2020-08-20T00:00:00",
          "2020-08-21T00:00:00",
          "2020-08-24T00:00:00",
          "2020-08-25T00:00:00",
          "2020-08-26T00:00:00",
          "2020-08-27T00:00:00",
          "2020-08-28T00:00:00",
          "2020-08-31T00:00:00",
          "2020-09-01T00:00:00",
          "2020-09-02T00:00:00",
          "2020-09-03T00:00:00",
          "2020-09-04T00:00:00",
          "2020-09-08T00:00:00",
          "2020-09-09T00:00:00",
          "2020-09-10T00:00:00",
          "2020-09-11T00:00:00",
          "2020-09-14T00:00:00",
          "2020-09-15T00:00:00",
          "2020-09-16T00:00:00",
          "2020-09-17T00:00:00",
          "2020-09-18T00:00:00",
          "2020-09-21T00:00:00",
          "2020-09-22T00:00:00",
          "2020-09-23T00:00:00",
          "2020-09-24T00:00:00",
          "2020-09-25T00:00:00",
          "2020-09-28T00:00:00",
          "2020-09-29T00:00:00",
          "2020-09-30T00:00:00",
          "2020-10-01T00:00:00",
          "2020-10-02T00:00:00",
          "2020-10-05T00:00:00",
          "2020-10-06T00:00:00",
          "2020-10-07T00:00:00",
          "2020-10-08T00:00:00",
          "2020-10-09T00:00:00",
          "2020-10-12T00:00:00",
          "2020-10-13T00:00:00",
          "2020-10-14T00:00:00",
          "2020-10-15T00:00:00",
          "2020-10-16T00:00:00",
          "2020-10-19T00:00:00",
          "2020-10-20T00:00:00",
          "2020-10-21T00:00:00",
          "2020-10-22T00:00:00",
          "2020-10-23T00:00:00",
          "2020-10-26T00:00:00",
          "2020-10-27T00:00:00",
          "2020-10-28T00:00:00",
          "2020-10-29T00:00:00",
          "2020-10-30T00:00:00",
          "2020-11-02T00:00:00",
          "2020-11-03T00:00:00",
          "2020-11-04T00:00:00",
          "2020-11-05T00:00:00",
          "2020-11-06T00:00:00",
          "2020-11-09T00:00:00",
          "2020-11-10T00:00:00",
          "2020-11-11T00:00:00",
          "2020-11-12T00:00:00",
          "2020-11-13T00:00:00",
          "2020-11-16T00:00:00",
          "2020-11-17T00:00:00",
          "2020-11-18T00:00:00",
          "2020-11-19T00:00:00",
          "2020-11-20T00:00:00",
          "2020-11-23T00:00:00",
          "2020-11-24T00:00:00",
          "2020-11-25T00:00:00",
          "2020-11-27T00:00:00",
          "2020-11-30T00:00:00",
          "2020-12-01T00:00:00",
          "2020-12-02T00:00:00",
          "2020-12-03T00:00:00",
          "2020-12-04T00:00:00",
          "2020-12-07T00:00:00",
          "2020-12-08T00:00:00",
          "2020-12-09T00:00:00",
          "2020-12-10T00:00:00",
          "2020-12-11T00:00:00",
          "2020-12-14T00:00:00",
          "2020-12-15T00:00:00",
          "2020-12-16T00:00:00",
          "2020-12-17T00:00:00",
          "2020-12-18T00:00:00",
          "2020-12-21T00:00:00",
          "2020-12-22T00:00:00",
          "2020-12-23T00:00:00",
          "2020-12-24T00:00:00",
          "2020-12-28T00:00:00",
          "2020-12-29T00:00:00",
          "2020-12-30T00:00:00",
          "2020-12-31T00:00:00",
          "2021-01-04T00:00:00",
          "2021-01-05T00:00:00",
          "2021-01-06T00:00:00",
          "2021-01-07T00:00:00",
          "2021-01-08T00:00:00",
          "2021-01-11T00:00:00",
          "2021-01-12T00:00:00",
          "2021-01-13T00:00:00",
          "2021-01-14T00:00:00",
          "2021-01-15T00:00:00",
          "2021-01-19T00:00:00",
          "2021-01-20T00:00:00",
          "2021-01-21T00:00:00",
          "2021-01-22T00:00:00",
          "2021-01-25T00:00:00",
          "2021-01-26T00:00:00",
          "2021-01-27T00:00:00",
          "2021-01-28T00:00:00",
          "2021-01-29T00:00:00",
          "2021-02-01T00:00:00",
          "2021-02-02T00:00:00",
          "2021-02-03T00:00:00",
          "2021-02-04T00:00:00",
          "2021-02-05T00:00:00",
          "2021-02-08T00:00:00",
          "2021-02-09T00:00:00",
          "2021-02-10T00:00:00",
          "2021-02-11T00:00:00",
          "2021-02-12T00:00:00",
          "2021-02-16T00:00:00",
          "2021-02-17T00:00:00",
          "2021-02-18T00:00:00",
          "2021-02-19T00:00:00",
          "2021-02-22T00:00:00",
          "2021-02-23T00:00:00",
          "2021-02-24T00:00:00",
          "2021-02-25T00:00:00",
          "2021-02-26T00:00:00",
          "2021-03-01T00:00:00",
          "2021-03-02T00:00:00",
          "2021-03-03T00:00:00",
          "2021-03-04T00:00:00",
          "2021-03-05T00:00:00",
          "2021-03-08T00:00:00",
          "2021-03-09T00:00:00",
          "2021-03-10T00:00:00",
          "2021-03-11T00:00:00",
          "2021-03-12T00:00:00",
          "2021-03-15T00:00:00",
          "2021-03-16T00:00:00",
          "2021-03-17T00:00:00",
          "2021-03-18T00:00:00",
          "2021-03-19T00:00:00",
          "2021-03-22T00:00:00",
          "2021-03-23T00:00:00",
          "2021-03-24T00:00:00",
          "2021-03-25T00:00:00",
          "2021-03-26T00:00:00",
          "2021-03-29T00:00:00",
          "2021-03-30T00:00:00",
          "2021-03-31T00:00:00",
          "2021-04-01T00:00:00",
          "2021-04-05T00:00:00",
          "2021-04-06T00:00:00",
          "2021-04-07T00:00:00",
          "2021-04-08T00:00:00",
          "2021-04-09T00:00:00",
          "2021-04-12T00:00:00",
          "2021-04-13T00:00:00",
          "2021-04-14T00:00:00",
          "2021-04-15T00:00:00",
          "2021-04-16T00:00:00",
          "2021-04-19T00:00:00",
          "2021-04-20T00:00:00",
          "2021-04-21T00:00:00",
          "2021-04-22T00:00:00",
          "2021-04-23T00:00:00",
          "2021-04-26T00:00:00",
          "2021-04-27T00:00:00",
          "2021-04-28T00:00:00",
          "2021-04-29T00:00:00",
          "2021-04-30T00:00:00",
          "2021-05-03T00:00:00",
          "2021-05-04T00:00:00",
          "2021-05-05T00:00:00",
          "2021-05-06T00:00:00",
          "2021-05-07T00:00:00",
          "2021-05-10T00:00:00",
          "2021-05-11T00:00:00",
          "2021-05-12T00:00:00",
          "2021-05-13T00:00:00",
          "2021-05-14T00:00:00",
          "2021-05-17T00:00:00",
          "2021-05-18T00:00:00",
          "2021-05-19T00:00:00",
          "2021-05-20T00:00:00",
          "2021-05-21T00:00:00",
          "2021-05-24T00:00:00",
          "2021-05-25T00:00:00",
          "2021-05-26T00:00:00",
          "2021-05-27T00:00:00",
          "2021-05-28T00:00:00",
          "2021-06-01T00:00:00",
          "2021-06-02T00:00:00",
          "2021-06-03T00:00:00",
          "2021-06-04T00:00:00",
          "2021-06-07T00:00:00",
          "2021-06-08T00:00:00",
          "2021-06-09T00:00:00",
          "2021-06-10T00:00:00",
          "2021-06-11T00:00:00",
          "2021-06-14T00:00:00",
          "2021-06-15T00:00:00",
          "2021-06-16T00:00:00",
          "2021-06-17T00:00:00",
          "2021-06-18T00:00:00",
          "2021-06-21T00:00:00",
          "2021-06-22T00:00:00",
          "2021-06-23T00:00:00",
          "2021-06-24T00:00:00",
          "2021-06-25T00:00:00",
          "2021-06-28T00:00:00",
          "2021-06-29T00:00:00",
          "2021-06-30T00:00:00",
          "2021-07-01T00:00:00",
          "2021-07-02T00:00:00",
          "2021-07-06T00:00:00",
          "2021-07-07T00:00:00",
          "2021-07-08T00:00:00",
          "2021-07-09T00:00:00",
          "2021-07-12T00:00:00",
          "2021-07-13T00:00:00",
          "2021-07-14T00:00:00",
          "2021-07-15T00:00:00",
          "2021-07-16T00:00:00",
          "2021-07-19T00:00:00",
          "2021-07-20T00:00:00",
          "2021-07-21T00:00:00",
          "2021-07-22T00:00:00",
          "2021-07-23T00:00:00",
          "2021-07-26T00:00:00",
          "2021-07-27T00:00:00",
          "2021-07-28T00:00:00",
          "2021-07-29T00:00:00",
          "2021-07-30T00:00:00",
          "2021-08-02T00:00:00",
          "2021-08-03T00:00:00",
          "2021-08-04T00:00:00",
          "2021-08-05T00:00:00",
          "2021-08-06T00:00:00",
          "2021-08-09T00:00:00",
          "2021-08-10T00:00:00",
          "2021-08-11T00:00:00",
          "2021-08-12T00:00:00",
          "2021-08-13T00:00:00",
          "2021-08-16T00:00:00",
          "2021-08-17T00:00:00",
          "2021-08-18T00:00:00",
          "2021-08-19T00:00:00",
          "2021-08-20T00:00:00",
          "2021-08-23T00:00:00",
          "2021-08-24T00:00:00",
          "2021-08-25T00:00:00",
          "2021-08-26T00:00:00",
          "2021-08-27T00:00:00",
          "2021-08-30T00:00:00",
          "2021-08-31T00:00:00",
          "2021-09-01T00:00:00",
          "2021-09-02T00:00:00",
          "2021-09-03T00:00:00",
          "2021-09-07T00:00:00",
          "2021-09-08T00:00:00",
          "2021-09-09T00:00:00",
          "2021-09-10T00:00:00",
          "2021-09-13T00:00:00",
          "2021-09-14T00:00:00",
          "2021-09-15T00:00:00",
          "2021-09-16T00:00:00",
          "2021-09-17T00:00:00",
          "2021-09-20T00:00:00",
          "2021-09-21T00:00:00",
          "2021-09-22T00:00:00",
          "2021-09-23T00:00:00",
          "2021-09-24T00:00:00",
          "2021-09-27T00:00:00",
          "2021-09-28T00:00:00",
          "2021-09-29T00:00:00",
          "2021-09-30T00:00:00",
          "2021-10-01T00:00:00",
          "2021-10-04T00:00:00",
          "2021-10-05T00:00:00",
          "2021-10-06T00:00:00",
          "2021-10-07T00:00:00",
          "2021-10-08T00:00:00",
          "2021-10-11T00:00:00",
          "2021-10-12T00:00:00",
          "2021-10-13T00:00:00",
          "2021-10-14T00:00:00",
          "2021-10-15T00:00:00",
          "2021-10-18T00:00:00",
          "2021-10-19T00:00:00",
          "2021-10-20T00:00:00",
          "2021-10-21T00:00:00",
          "2021-10-22T00:00:00",
          "2021-10-25T00:00:00",
          "2021-10-26T00:00:00",
          "2021-10-27T00:00:00",
          "2021-10-28T00:00:00",
          "2021-10-29T00:00:00",
          "2021-11-01T00:00:00",
          "2021-11-02T00:00:00",
          "2021-11-03T00:00:00",
          "2021-11-04T00:00:00",
          "2021-11-05T00:00:00",
          "2021-11-08T00:00:00",
          "2021-11-09T00:00:00",
          "2021-11-10T00:00:00",
          "2021-11-11T00:00:00",
          "2021-11-12T00:00:00",
          "2021-11-15T00:00:00",
          "2021-11-16T00:00:00",
          "2021-11-17T00:00:00",
          "2021-11-18T00:00:00",
          "2021-11-19T00:00:00",
          "2021-11-22T00:00:00",
          "2021-11-23T00:00:00",
          "2021-11-24T00:00:00",
          "2021-11-26T00:00:00",
          "2021-11-29T00:00:00",
          "2021-11-30T00:00:00",
          "2021-12-01T00:00:00",
          "2021-12-02T00:00:00",
          "2021-12-03T00:00:00",
          "2021-12-06T00:00:00",
          "2021-12-07T00:00:00",
          "2021-12-08T00:00:00",
          "2021-12-09T00:00:00",
          "2021-12-10T00:00:00",
          "2021-12-13T00:00:00",
          "2021-12-14T00:00:00",
          "2021-12-15T00:00:00",
          "2021-12-16T00:00:00",
          "2021-12-17T00:00:00",
          "2021-12-20T00:00:00",
          "2021-12-21T00:00:00",
          "2021-12-22T00:00:00",
          "2021-12-23T00:00:00",
          "2021-12-27T00:00:00",
          "2021-12-28T00:00:00",
          "2021-12-29T00:00:00",
          "2021-12-30T00:00:00",
          "2021-12-31T00:00:00",
          "2022-01-03T00:00:00",
          "2022-01-04T00:00:00",
          "2022-01-05T00:00:00",
          "2022-01-06T00:00:00",
          "2022-01-07T00:00:00",
          "2022-01-10T00:00:00",
          "2022-01-11T00:00:00",
          "2022-01-12T00:00:00",
          "2022-01-13T00:00:00",
          "2022-01-14T00:00:00",
          "2022-01-18T00:00:00",
          "2022-01-19T00:00:00",
          "2022-01-20T00:00:00",
          "2022-01-21T00:00:00",
          "2022-01-24T00:00:00",
          "2022-01-25T00:00:00",
          "2022-01-26T00:00:00",
          "2022-01-27T00:00:00",
          "2022-01-28T00:00:00",
          "2022-01-31T00:00:00",
          "2022-02-01T00:00:00",
          "2022-02-02T00:00:00",
          "2022-02-03T00:00:00",
          "2022-02-04T00:00:00",
          "2022-02-07T00:00:00",
          "2022-02-08T00:00:00",
          "2022-02-09T00:00:00",
          "2022-02-10T00:00:00",
          "2022-02-11T00:00:00",
          "2022-02-14T00:00:00",
          "2022-02-15T00:00:00",
          "2022-02-16T00:00:00",
          "2022-02-17T00:00:00",
          "2022-02-18T00:00:00",
          "2022-02-22T00:00:00",
          "2022-02-23T00:00:00",
          "2022-02-24T00:00:00",
          "2022-02-25T00:00:00",
          "2022-02-28T00:00:00",
          "2022-03-01T00:00:00",
          "2022-03-02T00:00:00",
          "2022-03-03T00:00:00",
          "2022-03-04T00:00:00",
          "2022-03-07T00:00:00",
          "2022-03-08T00:00:00",
          "2022-03-09T00:00:00",
          "2022-03-10T00:00:00",
          "2022-03-11T00:00:00",
          "2022-03-14T00:00:00",
          "2022-03-15T00:00:00",
          "2022-03-16T00:00:00",
          "2022-03-17T00:00:00",
          "2022-03-18T00:00:00",
          "2022-03-21T00:00:00",
          "2022-03-22T00:00:00",
          "2022-03-23T00:00:00",
          "2022-03-24T00:00:00",
          "2022-03-25T00:00:00",
          "2022-03-28T00:00:00",
          "2022-03-29T00:00:00",
          "2022-03-30T00:00:00",
          "2022-03-31T00:00:00",
          "2022-04-01T00:00:00",
          "2022-04-04T00:00:00",
          "2022-04-05T00:00:00",
          "2022-04-06T00:00:00",
          "2022-04-07T00:00:00",
          "2022-04-08T00:00:00",
          "2022-04-11T00:00:00",
          "2022-04-12T00:00:00",
          "2022-04-13T00:00:00",
          "2022-04-14T00:00:00",
          "2022-04-18T00:00:00",
          "2022-04-19T00:00:00",
          "2022-04-20T00:00:00",
          "2022-04-21T00:00:00",
          "2022-04-22T00:00:00",
          "2022-04-25T00:00:00",
          "2022-04-26T00:00:00",
          "2022-04-27T00:00:00",
          "2022-04-28T00:00:00",
          "2022-04-29T00:00:00",
          "2022-05-02T00:00:00",
          "2022-05-03T00:00:00",
          "2022-05-04T00:00:00",
          "2022-05-05T00:00:00",
          "2022-05-06T00:00:00",
          "2022-05-09T00:00:00",
          "2022-05-10T00:00:00",
          "2022-05-11T00:00:00",
          "2022-05-12T00:00:00",
          "2022-05-13T00:00:00",
          "2022-05-16T00:00:00",
          "2022-05-17T00:00:00",
          "2022-05-18T00:00:00",
          "2022-05-19T00:00:00",
          "2022-05-20T00:00:00",
          "2022-05-23T00:00:00",
          "2022-05-24T00:00:00",
          "2022-05-25T00:00:00",
          "2022-05-26T00:00:00",
          "2022-05-27T00:00:00",
          "2022-05-31T00:00:00",
          "2022-06-01T00:00:00",
          "2022-06-02T00:00:00",
          "2022-06-03T00:00:00",
          "2022-06-06T00:00:00",
          "2022-06-07T00:00:00",
          "2022-06-08T00:00:00",
          "2022-06-09T00:00:00",
          "2022-06-10T00:00:00",
          "2022-06-13T00:00:00",
          "2022-06-14T00:00:00",
          "2022-06-15T00:00:00",
          "2022-06-16T00:00:00",
          "2022-06-17T00:00:00",
          "2022-06-21T00:00:00",
          "2022-06-22T00:00:00",
          "2022-06-23T00:00:00",
          "2022-06-24T00:00:00",
          "2022-06-27T00:00:00",
          "2022-06-28T00:00:00",
          "2022-06-29T00:00:00",
          "2022-06-30T00:00:00",
          "2022-07-01T00:00:00",
          "2022-07-05T00:00:00",
          "2022-07-06T00:00:00",
          "2022-07-07T00:00:00",
          "2022-07-08T00:00:00",
          "2022-07-11T00:00:00",
          "2022-07-12T00:00:00",
          "2022-07-13T00:00:00",
          "2022-07-14T00:00:00",
          "2022-07-15T00:00:00",
          "2022-07-18T00:00:00",
          "2022-07-19T00:00:00",
          "2022-07-20T00:00:00",
          "2022-07-21T00:00:00",
          "2022-07-22T00:00:00",
          "2022-07-25T00:00:00",
          "2022-07-26T00:00:00",
          "2022-07-27T00:00:00",
          "2022-07-28T00:00:00",
          "2022-07-29T00:00:00",
          "2022-08-01T00:00:00",
          "2022-08-02T00:00:00",
          "2022-08-03T00:00:00",
          "2022-08-04T00:00:00",
          "2022-08-05T00:00:00",
          "2022-08-08T00:00:00",
          "2022-08-09T00:00:00",
          "2022-08-10T00:00:00",
          "2022-08-11T00:00:00",
          "2022-08-12T00:00:00",
          "2022-08-15T00:00:00",
          "2022-08-16T00:00:00",
          "2022-08-17T00:00:00",
          "2022-08-18T00:00:00",
          "2022-08-19T00:00:00",
          "2022-08-22T00:00:00",
          "2022-08-23T00:00:00",
          "2022-08-24T00:00:00",
          "2022-08-25T00:00:00",
          "2022-08-26T00:00:00",
          "2022-08-29T00:00:00",
          "2022-08-30T00:00:00",
          "2022-08-31T00:00:00",
          "2022-09-01T00:00:00",
          "2022-09-02T00:00:00",
          "2022-09-06T00:00:00",
          "2022-09-07T00:00:00",
          "2022-09-08T00:00:00",
          "2022-09-09T00:00:00",
          "2022-09-12T00:00:00",
          "2022-09-13T00:00:00",
          "2022-09-14T00:00:00",
          "2022-09-15T00:00:00",
          "2022-09-16T00:00:00",
          "2022-09-19T00:00:00",
          "2022-09-20T00:00:00",
          "2022-09-21T00:00:00",
          "2022-09-22T00:00:00",
          "2022-09-23T00:00:00",
          "2022-09-26T00:00:00",
          "2022-09-27T00:00:00",
          "2022-09-28T00:00:00",
          "2022-09-29T00:00:00",
          "2022-09-30T00:00:00",
          "2022-10-03T00:00:00",
          "2022-10-04T00:00:00",
          "2022-10-05T00:00:00",
          "2022-10-06T00:00:00",
          "2022-10-07T00:00:00",
          "2022-10-10T00:00:00",
          "2022-10-11T00:00:00",
          "2022-10-12T00:00:00",
          "2022-10-13T00:00:00",
          "2022-10-14T00:00:00",
          "2022-10-17T00:00:00",
          "2022-10-18T00:00:00",
          "2022-10-19T00:00:00",
          "2022-10-20T00:00:00",
          "2022-10-21T00:00:00",
          "2022-10-24T00:00:00",
          "2022-10-25T00:00:00",
          "2022-10-26T00:00:00",
          "2022-10-27T00:00:00",
          "2022-10-28T00:00:00",
          "2022-10-31T00:00:00",
          "2022-11-01T00:00:00",
          "2022-11-02T00:00:00",
          "2022-11-03T00:00:00",
          "2022-11-04T00:00:00",
          "2022-11-07T00:00:00",
          "2022-11-08T00:00:00",
          "2022-11-09T00:00:00",
          "2022-11-10T00:00:00",
          "2022-11-11T00:00:00",
          "2022-11-14T00:00:00",
          "2022-11-15T00:00:00",
          "2022-11-16T00:00:00",
          "2022-11-17T00:00:00",
          "2022-11-18T00:00:00",
          "2022-11-21T00:00:00",
          "2022-11-22T00:00:00",
          "2022-11-23T00:00:00",
          "2022-11-25T00:00:00",
          "2022-11-28T00:00:00",
          "2022-11-29T00:00:00",
          "2022-11-30T00:00:00",
          "2022-12-01T00:00:00",
          "2022-12-02T00:00:00",
          "2022-12-05T00:00:00",
          "2022-12-06T00:00:00",
          "2022-12-07T00:00:00",
          "2022-12-08T00:00:00",
          "2022-12-09T00:00:00",
          "2022-12-12T00:00:00",
          "2022-12-13T00:00:00",
          "2022-12-14T00:00:00",
          "2022-12-15T00:00:00",
          "2022-12-16T00:00:00",
          "2022-12-19T00:00:00",
          "2022-12-20T00:00:00",
          "2022-12-21T00:00:00",
          "2022-12-22T00:00:00",
          "2022-12-23T00:00:00",
          "2022-12-27T00:00:00",
          "2022-12-28T00:00:00",
          "2022-12-29T00:00:00",
          "2022-12-30T00:00:00",
          "2023-01-03T00:00:00",
          "2023-01-04T00:00:00",
          "2023-01-05T00:00:00",
          "2023-01-06T00:00:00",
          "2023-01-09T00:00:00",
          "2023-01-10T00:00:00",
          "2023-01-11T00:00:00",
          "2023-01-12T00:00:00",
          "2023-01-13T00:00:00",
          "2023-01-17T00:00:00",
          "2023-01-18T00:00:00",
          "2023-01-19T00:00:00",
          "2023-01-20T00:00:00",
          "2023-01-23T00:00:00",
          "2023-01-24T00:00:00",
          "2023-01-25T00:00:00",
          "2023-01-26T00:00:00",
          "2023-01-27T00:00:00",
          "2023-01-30T00:00:00",
          "2023-01-31T00:00:00",
          "2023-02-01T00:00:00",
          "2023-02-02T00:00:00",
          "2023-02-03T00:00:00",
          "2023-02-06T00:00:00",
          "2023-02-07T00:00:00",
          "2023-02-08T00:00:00",
          "2023-02-09T00:00:00",
          "2023-02-10T00:00:00",
          "2023-02-13T00:00:00",
          "2023-02-14T00:00:00",
          "2023-02-15T00:00:00",
          "2023-02-16T00:00:00",
          "2023-02-17T00:00:00",
          "2023-02-21T00:00:00",
          "2023-02-22T00:00:00",
          "2023-02-23T00:00:00",
          "2023-02-24T00:00:00",
          "2023-02-27T00:00:00",
          "2023-02-28T00:00:00",
          "2023-03-01T00:00:00",
          "2023-03-02T00:00:00",
          "2023-03-03T00:00:00",
          "2023-03-06T00:00:00",
          "2023-03-07T00:00:00",
          "2023-03-08T00:00:00",
          "2023-03-09T00:00:00",
          "2023-03-10T00:00:00",
          "2023-03-13T00:00:00",
          "2023-03-14T00:00:00",
          "2023-03-15T00:00:00",
          "2023-03-16T00:00:00",
          "2023-03-17T00:00:00",
          "2023-03-20T00:00:00",
          "2023-03-21T00:00:00",
          "2023-03-22T00:00:00",
          "2023-03-23T00:00:00",
          "2023-03-24T00:00:00",
          "2023-03-27T00:00:00",
          "2023-03-28T00:00:00",
          "2023-03-29T00:00:00",
          "2023-03-30T00:00:00",
          "2023-03-31T00:00:00",
          "2023-04-03T00:00:00",
          "2023-04-04T00:00:00",
          "2023-04-05T00:00:00",
          "2023-04-06T00:00:00",
          "2023-04-10T00:00:00",
          "2023-04-11T00:00:00",
          "2023-04-12T00:00:00",
          "2023-04-13T00:00:00",
          "2023-04-14T00:00:00",
          "2023-04-17T00:00:00",
          "2023-04-18T00:00:00",
          "2023-04-19T00:00:00",
          "2023-04-20T00:00:00",
          "2023-04-21T00:00:00",
          "2023-04-24T00:00:00",
          "2023-04-25T00:00:00",
          "2023-04-26T00:00:00",
          "2023-04-27T00:00:00",
          "2023-04-28T00:00:00",
          "2023-05-01T00:00:00",
          "2023-05-02T00:00:00",
          "2023-05-03T00:00:00",
          "2023-05-04T00:00:00",
          "2023-05-05T00:00:00",
          "2023-05-08T00:00:00",
          "2023-05-09T00:00:00",
          "2023-05-10T00:00:00",
          "2023-05-11T00:00:00",
          "2023-05-12T00:00:00",
          "2023-05-15T00:00:00",
          "2023-05-16T00:00:00",
          "2023-05-17T00:00:00",
          "2023-05-18T00:00:00",
          "2023-05-19T00:00:00",
          "2023-05-22T00:00:00",
          "2023-05-23T00:00:00",
          "2023-05-24T00:00:00",
          "2023-05-25T00:00:00",
          "2023-05-26T00:00:00",
          "2023-05-30T00:00:00",
          "2023-05-31T00:00:00",
          "2023-06-01T00:00:00",
          "2023-06-02T00:00:00",
          "2023-06-05T00:00:00",
          "2023-06-06T00:00:00",
          "2023-06-07T00:00:00",
          "2023-06-08T00:00:00",
          "2023-06-09T00:00:00",
          "2023-06-12T00:00:00",
          "2023-06-13T00:00:00",
          "2023-06-14T00:00:00",
          "2023-06-15T00:00:00",
          "2023-06-16T00:00:00",
          "2023-06-20T00:00:00",
          "2023-06-21T00:00:00",
          "2023-06-22T00:00:00",
          "2023-06-23T00:00:00",
          "2023-06-26T00:00:00",
          "2023-06-27T00:00:00",
          "2023-06-28T00:00:00",
          "2023-06-29T00:00:00",
          "2023-06-30T00:00:00",
          "2023-07-03T00:00:00",
          "2023-07-05T00:00:00",
          "2023-07-06T00:00:00",
          "2023-07-07T00:00:00",
          "2023-07-10T00:00:00",
          "2023-07-11T00:00:00",
          "2023-07-12T00:00:00",
          "2023-07-13T00:00:00",
          "2023-07-14T00:00:00",
          "2023-07-17T00:00:00",
          "2023-07-18T00:00:00",
          "2023-07-19T00:00:00",
          "2023-07-20T00:00:00",
          "2023-07-21T00:00:00",
          "2023-07-24T00:00:00",
          "2023-07-25T00:00:00",
          "2023-07-26T00:00:00",
          "2023-07-27T00:00:00",
          "2023-07-28T00:00:00",
          "2023-07-31T00:00:00",
          "2023-08-01T00:00:00",
          "2023-08-02T00:00:00",
          "2023-08-03T00:00:00",
          "2023-08-04T00:00:00",
          "2023-08-07T00:00:00",
          "2023-08-08T00:00:00",
          "2023-08-09T00:00:00",
          "2023-08-10T00:00:00",
          "2023-08-11T00:00:00",
          "2023-08-14T00:00:00",
          "2023-08-15T00:00:00",
          "2023-08-16T00:00:00",
          "2023-08-17T00:00:00",
          "2023-08-18T00:00:00",
          "2023-08-21T00:00:00",
          "2023-08-22T00:00:00",
          "2023-08-23T00:00:00",
          "2023-08-24T00:00:00",
          "2023-08-25T00:00:00",
          "2023-08-28T00:00:00",
          "2023-08-29T00:00:00",
          "2023-08-30T00:00:00",
          "2023-08-31T00:00:00",
          "2023-09-01T00:00:00",
          "2023-09-05T00:00:00",
          "2023-09-06T00:00:00",
          "2023-09-07T00:00:00",
          "2023-09-08T00:00:00",
          "2023-09-11T00:00:00",
          "2023-09-12T00:00:00",
          "2023-09-13T00:00:00",
          "2023-09-14T00:00:00",
          "2023-09-15T00:00:00",
          "2023-09-18T00:00:00",
          "2023-09-19T00:00:00",
          "2023-09-20T00:00:00",
          "2023-09-21T00:00:00",
          "2023-09-22T00:00:00",
          "2023-09-25T00:00:00",
          "2023-09-26T00:00:00",
          "2023-09-27T00:00:00",
          "2023-09-28T00:00:00",
          "2023-09-29T00:00:00",
          "2023-10-02T00:00:00",
          "2023-10-03T00:00:00",
          "2023-10-04T00:00:00",
          "2023-10-05T00:00:00",
          "2023-10-06T00:00:00",
          "2023-10-09T00:00:00",
          "2023-10-10T00:00:00",
          "2023-10-11T00:00:00",
          "2023-10-12T00:00:00",
          "2023-10-13T00:00:00",
          "2023-10-16T00:00:00",
          "2023-10-17T00:00:00",
          "2023-10-18T00:00:00",
          "2023-10-19T00:00:00",
          "2023-10-20T00:00:00",
          "2023-10-23T00:00:00",
          "2023-10-24T00:00:00",
          "2023-10-25T00:00:00",
          "2023-10-26T00:00:00",
          "2023-10-27T00:00:00",
          "2023-10-30T00:00:00",
          "2023-10-31T00:00:00",
          "2023-11-01T00:00:00",
          "2023-11-02T00:00:00",
          "2023-11-03T00:00:00",
          "2023-11-06T00:00:00",
          "2023-11-07T00:00:00",
          "2023-11-08T00:00:00",
          "2023-11-09T00:00:00",
          "2023-11-10T00:00:00",
          "2023-11-13T00:00:00",
          "2023-11-14T00:00:00",
          "2023-11-15T00:00:00",
          "2023-11-16T00:00:00",
          "2023-11-17T00:00:00",
          "2023-11-20T00:00:00",
          "2023-11-21T00:00:00",
          "2023-11-22T00:00:00",
          "2023-11-24T00:00:00",
          "2023-11-27T00:00:00",
          "2023-11-28T00:00:00",
          "2023-11-29T00:00:00",
          "2023-11-30T00:00:00",
          "2023-12-01T00:00:00",
          "2023-12-04T00:00:00",
          "2023-12-05T00:00:00",
          "2023-12-06T00:00:00",
          "2023-12-07T00:00:00",
          "2023-12-08T00:00:00",
          "2023-12-11T00:00:00",
          "2023-12-12T00:00:00",
          "2023-12-13T00:00:00",
          "2023-12-14T00:00:00",
          "2023-12-15T00:00:00",
          "2023-12-18T00:00:00",
          "2023-12-19T00:00:00",
          "2023-12-20T00:00:00",
          "2023-12-21T00:00:00",
          "2023-12-22T00:00:00",
          "2023-12-26T00:00:00",
          "2023-12-27T00:00:00",
          "2023-12-28T00:00:00",
          "2023-12-29T00:00:00",
          "2024-01-02T00:00:00",
          "2024-01-03T00:00:00",
          "2024-01-04T00:00:00",
          "2024-01-05T00:00:00",
          "2024-01-08T00:00:00",
          "2024-01-09T00:00:00",
          "2024-01-10T00:00:00",
          "2024-01-11T00:00:00",
          "2024-01-12T00:00:00",
          "2024-01-16T00:00:00",
          "2024-01-17T00:00:00",
          "2024-01-18T00:00:00",
          "2024-01-19T00:00:00",
          "2024-01-22T00:00:00",
          "2024-01-23T00:00:00",
          "2024-01-24T00:00:00",
          "2024-01-25T00:00:00",
          "2024-01-26T00:00:00",
          "2024-01-29T00:00:00",
          "2024-01-30T00:00:00",
          "2024-01-31T00:00:00",
          "2024-02-01T00:00:00",
          "2024-02-02T00:00:00",
          "2024-02-05T00:00:00",
          "2024-02-06T00:00:00",
          "2024-02-07T00:00:00",
          "2024-02-08T00:00:00",
          "2024-02-09T00:00:00",
          "2024-02-12T00:00:00",
          "2024-02-13T00:00:00",
          "2024-02-14T00:00:00",
          "2024-02-15T00:00:00",
          "2024-02-16T00:00:00",
          "2024-02-20T00:00:00",
          "2024-02-21T00:00:00",
          "2024-02-22T00:00:00",
          "2024-02-23T00:00:00",
          "2024-02-26T00:00:00",
          "2024-02-27T00:00:00",
          "2024-02-28T00:00:00",
          "2024-02-29T00:00:00",
          "2024-03-01T00:00:00",
          "2024-03-04T00:00:00",
          "2024-03-05T00:00:00",
          "2024-03-06T00:00:00",
          "2024-03-07T00:00:00",
          "2024-03-08T00:00:00",
          "2024-03-11T00:00:00",
          "2024-03-12T00:00:00",
          "2024-03-13T00:00:00",
          "2024-03-14T00:00:00",
          "2024-03-15T00:00:00",
          "2024-03-18T00:00:00",
          "2024-03-19T00:00:00",
          "2024-03-20T00:00:00",
          "2024-03-21T00:00:00",
          "2024-03-22T00:00:00",
          "2024-03-25T00:00:00",
          "2024-03-26T00:00:00",
          "2024-03-27T00:00:00",
          "2024-03-28T00:00:00",
          "2024-04-01T00:00:00",
          "2024-04-02T00:00:00",
          "2024-04-03T00:00:00",
          "2024-04-04T00:00:00",
          "2024-04-05T00:00:00",
          "2024-04-08T00:00:00",
          "2024-04-09T00:00:00",
          "2024-04-10T00:00:00",
          "2024-04-11T00:00:00",
          "2024-04-12T00:00:00",
          "2024-04-15T00:00:00",
          "2024-04-16T00:00:00",
          "2024-04-17T00:00:00",
          "2024-04-18T00:00:00",
          "2024-04-19T00:00:00",
          "2024-04-22T00:00:00",
          "2024-04-23T00:00:00",
          "2024-04-24T00:00:00",
          "2024-04-25T00:00:00",
          "2024-04-26T00:00:00",
          "2024-04-29T00:00:00",
          "2024-04-30T00:00:00",
          "2024-05-01T00:00:00",
          "2024-05-02T00:00:00",
          "2024-05-03T00:00:00",
          "2024-05-06T00:00:00",
          "2024-05-07T00:00:00",
          "2024-05-08T00:00:00",
          "2024-05-09T00:00:00",
          "2024-05-10T00:00:00",
          "2024-05-13T00:00:00",
          "2024-05-14T00:00:00",
          "2024-05-15T00:00:00",
          "2024-05-16T00:00:00",
          "2024-05-17T00:00:00",
          "2024-05-20T00:00:00",
          "2024-05-21T00:00:00",
          "2024-05-22T00:00:00",
          "2024-05-23T00:00:00",
          "2024-05-24T00:00:00",
          "2024-05-28T00:00:00",
          "2024-05-29T00:00:00",
          "2024-05-30T00:00:00",
          "2024-05-31T00:00:00",
          "2024-06-03T00:00:00",
          "2024-06-04T00:00:00",
          "2024-06-05T00:00:00",
          "2024-06-06T00:00:00",
          "2024-06-07T00:00:00",
          "2024-06-10T00:00:00",
          "2024-06-11T00:00:00",
          "2024-06-12T00:00:00",
          "2024-06-13T00:00:00",
          "2024-06-14T00:00:00",
          "2024-06-17T00:00:00",
          "2024-06-18T00:00:00",
          "2024-06-20T00:00:00",
          "2024-06-21T00:00:00",
          "2024-06-24T00:00:00",
          "2024-06-25T00:00:00",
          "2024-06-26T00:00:00",
          "2024-06-27T00:00:00",
          "2024-06-28T00:00:00",
          "2024-07-01T00:00:00",
          "2024-07-02T00:00:00",
          "2024-07-03T00:00:00",
          "2024-07-05T00:00:00",
          "2024-07-08T00:00:00",
          "2024-07-09T00:00:00",
          "2024-07-10T00:00:00",
          "2024-07-11T00:00:00",
          "2024-07-12T00:00:00",
          "2024-07-15T00:00:00",
          "2024-07-16T00:00:00",
          "2024-07-17T00:00:00",
          "2024-07-18T00:00:00",
          "2024-07-19T00:00:00",
          "2024-07-22T00:00:00",
          "2024-07-23T00:00:00",
          "2024-07-24T00:00:00",
          "2024-07-25T00:00:00",
          "2024-07-26T00:00:00",
          "2024-07-29T00:00:00",
          "2024-07-30T00:00:00",
          "2024-07-31T00:00:00",
          "2024-08-01T00:00:00",
          "2024-08-02T00:00:00",
          "2024-08-05T00:00:00",
          "2024-08-06T00:00:00",
          "2024-08-07T00:00:00",
          "2024-08-08T00:00:00",
          "2024-08-09T00:00:00",
          "2024-08-12T00:00:00",
          "2024-08-13T00:00:00",
          "2024-08-14T00:00:00",
          "2024-08-15T00:00:00",
          "2024-08-16T00:00:00",
          "2024-08-19T00:00:00",
          "2024-08-20T00:00:00",
          "2024-08-21T00:00:00",
          "2024-08-22T00:00:00",
          "2024-08-23T00:00:00",
          "2024-08-26T00:00:00",
          "2024-08-27T00:00:00",
          "2024-08-28T00:00:00",
          "2024-08-29T00:00:00",
          "2024-08-30T00:00:00",
          "2024-09-03T00:00:00",
          "2024-09-04T00:00:00",
          "2024-09-05T00:00:00",
          "2024-09-06T00:00:00",
          "2024-09-09T00:00:00",
          "2024-09-10T00:00:00",
          "2024-09-11T00:00:00",
          "2024-09-12T00:00:00",
          "2024-09-13T00:00:00",
          "2024-09-16T00:00:00",
          "2024-09-17T00:00:00",
          "2024-09-18T00:00:00",
          "2024-09-19T00:00:00",
          "2024-09-20T00:00:00",
          "2024-09-23T00:00:00",
          "2024-09-24T00:00:00",
          "2024-09-25T00:00:00",
          "2024-09-26T00:00:00",
          "2024-09-27T00:00:00",
          "2024-09-30T00:00:00",
          "2024-10-01T00:00:00",
          "2024-10-02T00:00:00",
          "2024-10-03T00:00:00",
          "2024-10-04T00:00:00",
          "2024-10-07T00:00:00",
          "2024-10-08T00:00:00",
          "2024-10-09T00:00:00",
          "2024-10-10T00:00:00",
          "2024-10-11T00:00:00",
          "2024-10-14T00:00:00",
          "2024-10-15T00:00:00",
          "2024-10-16T00:00:00",
          "2024-10-17T00:00:00",
          "2024-10-18T00:00:00",
          "2024-10-21T00:00:00",
          "2024-10-22T00:00:00",
          "2024-10-23T00:00:00",
          "2024-10-24T00:00:00",
          "2024-10-25T00:00:00",
          "2024-10-28T00:00:00",
          "2024-10-29T00:00:00",
          "2024-10-30T00:00:00",
          "2024-10-31T00:00:00",
          "2024-11-01T00:00:00",
          "2024-11-04T00:00:00",
          "2024-11-05T00:00:00",
          "2024-11-06T00:00:00",
          "2024-11-07T00:00:00",
          "2024-11-08T00:00:00",
          "2024-11-11T00:00:00",
          "2024-11-12T00:00:00",
          "2024-11-13T00:00:00",
          "2024-11-14T00:00:00",
          "2024-11-15T00:00:00",
          "2024-11-18T00:00:00",
          "2024-11-19T00:00:00",
          "2024-11-20T00:00:00",
          "2024-11-21T00:00:00",
          "2024-11-22T00:00:00",
          "2024-11-25T00:00:00",
          "2024-11-26T00:00:00",
          "2024-11-27T00:00:00",
          "2024-11-29T00:00:00",
          "2024-12-02T00:00:00",
          "2024-12-03T00:00:00",
          "2024-12-04T00:00:00",
          "2024-12-05T00:00:00",
          "2024-12-06T00:00:00",
          "2024-12-09T00:00:00",
          "2024-12-10T00:00:00",
          "2024-12-11T00:00:00",
          "2024-12-12T00:00:00",
          "2024-12-13T00:00:00",
          "2024-12-16T00:00:00",
          "2024-12-17T00:00:00",
          "2024-12-18T00:00:00",
          "2024-12-19T00:00:00",
          "2024-12-20T00:00:00",
          "2024-12-23T00:00:00",
          "2024-12-24T00:00:00",
          "2024-12-26T00:00:00",
          "2024-12-27T00:00:00",
          "2024-12-30T00:00:00",
          "2024-12-31T00:00:00"
         ],
         "y": [
          [
           28.68400001525879
          ],
          [
           29.534000396728516
          ],
          [
           30.1026668548584
          ],
          [
           31.270666122436523
          ],
          [
           32.80933380126953
          ],
          [
           32.089332580566406
          ],
          [
           31.876667022705078
          ],
          [
           34.990665435791016
          ],
          [
           35.861331939697266
          ],
          [
           34.56666564941406
          ],
          [
           34.232666015625
          ],
          [
           34.03333282470703
          ],
          [
           36.47999954223633
          ],
          [
           37.97066879272461
          ],
          [
           38.14666748046875
          ],
          [
           37.654666900634766
          ],
          [
           37.201332092285156
          ],
          [
           37.793331146240234
          ],
          [
           38.732666015625
          ],
          [
           42.72066879272461
          ],
          [
           43.371334075927734
          ],
          [
           52
          ],
          [
           59.137332916259766
          ],
          [
           48.97999954223633
          ],
          [
           49.930667877197266
          ],
          [
           49.871334075927734
          ],
          [
           51.41866683959961
          ],
          [
           51.62533187866211
          ],
          [
           51.15266799926758
          ],
          [
           53.599998474121094
          ],
          [
           53.33533477783203
          ],
          [
           57.22666549682617
          ],
          [
           61.16133117675781
          ],
          [
           59.96066665649414
          ],
          [
           60.06666564941406
          ],
          [
           55.58599853515625
          ],
          [
           53.32733154296875
          ],
          [
           51.91999816894531
          ],
          [
           45.266666412353516
          ],
          [
           44.53266525268555
          ],
          [
           49.574668884277344
          ],
          [
           49.70066833496094
          ],
          [
           49.96666717529297
          ],
          [
           48.30266571044922
          ],
          [
           46.89866638183594
          ],
          [
           40.53333282470703
          ],
          [
           43.02199935913086
          ],
          [
           42.28200149536133
          ],
          [
           37.369998931884766
          ],
          [
           36.44133377075195
          ],
          [
           29.67133331298828
          ],
          [
           28.68000030517578
          ],
          [
           24.08133316040039
          ],
          [
           28.50933265686035
          ],
          [
           28.50200080871582
          ],
          [
           28.952667236328125
          ],
          [
           33.66666793823242
          ],
          [
           35.95000076293945
          ],
          [
           35.21066665649414
          ],
          [
           34.29066848754883
          ],
          [
           33.47533416748047
          ],
          [
           34.93333435058594
          ],
          [
           32.104000091552734
          ],
          [
           30.29800033569336
          ],
          [
           32.000667572021484
          ],
          [
           34.41600036621094
          ],
          [
           36.36333465576172
          ],
          [
           36.589332580566406
          ],
          [
           38.20000076293945
          ],
          [
           43.39666748046875
          ],
          [
           47.32600021362305
          ],
          [
           48.65533447265625
          ],
          [
           49.680667877197266
          ],
          [
           50.259334564208984
          ],
          [
           49.75733184814453
          ],
          [
           45.781333923339844
          ],
          [
           48.807334899902344
          ],
          [
           47.04199981689453
          ],
          [
           48.34333419799805
          ],
          [
           53.25
          ],
          [
           51.27466583251953
          ],
          [
           53.367332458496094
          ],
          [
           52.12533187866211
          ],
          [
           46.75466537475586
          ],
          [
           50.74599838256836
          ],
          [
           51.2140007019043
          ],
          [
           52.172000885009766
          ],
          [
           52.00266647338867
          ],
          [
           54.62799835205078
          ],
          [
           54.08599853515625
          ],
          [
           53.96066665649414
          ],
          [
           52.73066711425781
          ],
          [
           53.55533218383789
          ],
          [
           53.27799987792969
          ],
          [
           54.242000579833984
          ],
          [
           53.867332458496094
          ],
          [
           54.37066650390625
          ],
          [
           55.17333221435547
          ],
          [
           54.45866775512695
          ],
          [
           54.591331481933594
          ],
          [
           54.68199920654297
          ],
          [
           53.72066879272461
          ],
          [
           55.66666793823242
          ],
          [
           59.87333297729492
          ],
          [
           58.770668029785156
          ],
          [
           58.86399841308594
          ],
          [
           57.62533187866211
          ],
          [
           59.04399871826172
          ],
          [
           63.327999114990234
          ],
          [
           62.711334228515625
          ],
          [
           68.336669921875
          ],
          [
           64.85600280761719
          ],
          [
           62.35200119018555
          ],
          [
           66.05999755859375
          ],
          [
           65.47533416748047
          ],
          [
           66.11933135986328
          ],
          [
           66.9306640625
          ],
          [
           66.72666931152344
          ],
          [
           66.28800201416016
          ],
          [
           66.78533172607422
          ],
          [
           64.0566635131836
          ],
          [
           65.73200225830078
          ],
          [
           63.982666015625
          ],
          [
           67.29000091552734
          ],
          [
           71.98733520507812
          ],
          [
           74.64199829101562
          ],
          [
           80.57733154296875
          ],
          [
           91.43866729736328
          ],
          [
           92.65733337402344
          ],
          [
           91.05867004394531
          ],
          [
           92.9520034790039
          ],
          [
           102.97666931152344
          ],
          [
           99.80400085449219
          ],
          [
           101.12000274658203
          ],
          [
           103.06732940673828
          ],
          [
           100.04266357421875
          ],
          [
           100.05599975585938
          ],
          [
           109.53333282470703
          ],
          [
           104.55733489990234
          ],
          [
           106.15533447265625
          ],
          [
           100.87133026123047
          ],
          [
           94.46666717529297
          ],
          [
           102.63999938964844
          ],
          [
           98.43267059326172
          ],
          [
           99.94066619873047
          ],
          [
           99.16600036621094
          ],
          [
           95.38400268554688
          ],
          [
           99
          ],
          [
           99.13333129882812
          ],
          [
           99.00133514404297
          ],
          [
           99.30533599853516
          ],
          [
           96.84733581542969
          ],
          [
           94.57133483886719
          ],
          [
           91.6259994506836
          ],
          [
           103.65066528320312
          ],
          [
           108.06666564941406
          ],
          [
           110.04733276367188
          ],
          [
           122.3759994506836
          ],
          [
           125.80599975585938
          ],
          [
           125.23533630371094
          ],
          [
           133.45533752441406
          ],
          [
           136.6653289794922
          ],
          [
           134.27999877929688
          ],
          [
           134.8893280029297
          ],
          [
           143.54466247558594
          ],
          [
           149.25
          ],
          [
           147.55999755859375
          ],
          [
           166.10667419433594
          ],
          [
           158.35000610351562
          ],
          [
           149.1233367919922
          ],
          [
           135.6666717529297
          ],
          [
           139.44000244140625
          ],
          [
           110.06999969482422
          ],
          [
           122.09333038330078
          ],
          [
           123.77999877929688
          ],
          [
           124.23999786376953
          ],
          [
           139.8733367919922
          ],
          [
           149.9199981689453
          ],
          [
           147.25332641601562
          ],
          [
           141.14332580566406
          ],
          [
           147.38333129882812
          ],
          [
           149.79666137695312
          ],
          [
           141.41000366210938
          ],
          [
           126.78666687011719
          ],
          [
           129.26333618164062
          ],
          [
           135.77999877929688
          ],
          [
           140.39999389648438
          ],
          [
           139.69000244140625
          ],
          [
           143.00332641601562
          ],
          [
           149.3866729736328
          ],
          [
           138.3633270263672
          ],
          [
           141.89332580566406
          ],
          [
           137.9933319091797
          ],
          [
           141.76666259765625
          ],
          [
           141.97332763671875
          ],
          [
           144.6666717529297
          ],
          [
           147.43333435058594
          ],
          [
           148.88333129882812
          ],
          [
           153.76666259765625
          ],
          [
           149.6266632080078
          ],
          [
           146.55667114257812
          ],
          [
           143.61000061035156
          ],
          [
           140.64666748046875
          ],
          [
           140.8800048828125
          ],
          [
           141.92999267578125
          ],
          [
           140.2100067138672
          ],
          [
           140.0933380126953
          ],
          [
           141.55999755859375
          ],
          [
           135.33999633789062
          ],
          [
           136.94332885742188
          ],
          [
           129.34666442871094
          ],
          [
           133.50332641601562
          ],
          [
           141.3000030517578
          ],
          [
           140.32666015625
          ],
          [
           146.02999877929688
          ],
          [
           143.31666564941406
          ],
          [
           140.4199981689453
          ],
          [
           136.7866668701172
          ],
          [
           139.0433349609375
          ],
          [
           137.25332641601562
          ],
          [
           136.1666717529297
          ],
          [
           136.02999877929688
          ],
          [
           147.20333862304688
          ],
          [
           162.2133331298828
          ],
          [
           166.42333984375
          ],
          [
           163.20333862304688
          ],
          [
           173.9499969482422
          ],
          [
           185.1266632080078
          ],
          [
           191.3333282470703
          ],
          [
           195.25332641601562
          ],
          [
           189.1999969482422
          ],
          [
           194.9199981689453
          ],
          [
           189.60667419433594
          ],
          [
           197.7933349609375
          ],
          [
           199.67999267578125
          ],
          [
           213.9199981689453
          ],
          [
           216.6266632080078
          ],
          [
           201.4933319091797
          ],
          [
           209.02333068847656
          ],
          [
           203.3300018310547
          ],
          [
           213.27667236328125
          ],
          [
           211.0833282470703
          ],
          [
           207.58999633789062
          ],
          [
           218.63333129882812
          ],
          [
           231.6666717529297
          ],
          [
           216.6199951171875
          ],
          [
           213.44667053222656
          ],
          [
           215.32666015625
          ],
          [
           220.58999633789062
          ],
          [
           221.22999572753906
          ],
          [
           221.99667358398438
          ],
          [
           231.5933380126953
          ],
          [
           235.22332763671875
          ],
          [
           243.2566680908203
          ],
          [
           245.0366668701172
          ],
          [
           251.9933319091797
          ],
          [
           272.0133361816406
          ],
          [
           293.3399963378906
          ],
          [
           270.39666748046875
          ],
          [
           283.14666748046875
          ],
          [
           284.8033447265625
          ],
          [
           281.6666564941406
          ],
          [
           275.38665771484375
          ],
          [
           281.51666259765625
          ],
          [
           283.48333740234375
          ],
          [
           281.663330078125
          ],
          [
           282.21331787109375
          ],
          [
           293.6000061035156
          ],
          [
           294.36334228515625
          ],
          [
           288.0533447265625
          ],
          [
           278.4766540527344
          ],
          [
           264.510009765625
          ],
          [
           279.9366760253906
          ],
          [
           290.92999267578125
          ],
          [
           284.89666748046875
          ],
          [
           283.3299865722656
          ],
          [
           284.07666015625
          ],
          [
           287.8066711425781
          ],
          [
           283.1533203125
          ],
          [
           268.2733459472656
          ],
          [
           270.5533447265625
          ],
          [
           272.0400085449219
          ],
          [
           265.40667724609375
          ],
          [
           266.04998779296875
          ],
          [
           262.4599914550781
          ],
          [
           260.4333190917969
          ],
          [
           238.1666717529297
          ],
          [
           232.94667053222656
          ],
          [
           247.33999633789062
          ],
          [
           227.4066619873047
          ],
          [
           225.1666717529297
          ],
          [
           239.47666931152344
          ],
          [
           228.81333923339844
          ],
          [
           217.73333740234375
          ],
          [
           207.14666748046875
          ],
          [
           199.31666564941406
          ],
          [
           187.6666717529297
          ],
          [
           224.52667236328125
          ],
          [
           222.68666076660156
          ],
          [
           233.1999969482422
          ],
          [
           231.2433319091797
          ],
          [
           235.97999572753906
          ],
          [
           225.6266632080078
          ],
          [
           233.93666076660156
          ],
          [
           217.72000122070312
          ],
          [
           218.2899932861328
          ],
          [
           223.3333282470703
          ],
          [
           220.72000122070312
          ],
          [
           210.08999633789062
          ],
          [
           213.4633331298828
          ],
          [
           206.23666381835938
          ],
          [
           203.76333618164062
          ],
          [
           211.8733367919922
          ],
          [
           222.64332580566406
          ],
          [
           220.5833282470703
          ],
          [
           230.35000610351562
          ],
          [
           230.5399932861328
          ],
          [
           223.6566619873047
          ],
          [
           227.93333435058594
          ],
          [
           225.67333984375
          ],
          [
           233.9933319091797
          ],
          [
           254.10667419433594
          ],
          [
           244.07666015625
          ],
          [
           246.28334045410156
          ],
          [
           246.5933380126953
          ],
          [
           238.2100067138672
          ],
          [
           239.663330078125
          ],
          [
           248.0399932861328
          ],
          [
           239.89666748046875
          ],
          [
           243.13333129882812
          ],
          [
           246.06666564941406
          ],
          [
           234.913330078125
          ],
          [
           231.46665954589844
          ],
          [
           225.6666717529297
          ],
          [
           236.47999572753906
          ],
          [
           228.3000030517578
          ],
          [
           224.53334045410156
          ],
          [
           223.64666748046875
          ],
          [
           221.17999267578125
          ],
          [
           224.1233367919922
          ],
          [
           209.67999267578125
          ],
          [
           205.73333740234375
          ],
          [
           196.6300048828125
          ],
          [
           190.56333923339844
          ],
          [
           196.5800018310547
          ],
          [
           192.27667236328125
          ],
          [
           192.6233367919922
          ],
          [
           187.82000732421875
          ],
          [
           195.5933380126953
          ],
          [
           193.6266632080078
          ],
          [
           202.14666748046875
          ],
          [
           201.56333923339844
          ],
          [
           206.3766632080078
          ],
          [
           210.28334045410156
          ],
          [
           208.4066619873047
          ],
          [
           207.96665954589844
          ],
          [
           201.7066650390625
          ],
          [
           190.94667053222656
          ],
          [
           199.68333435058594
          ],
          [
           201.7100067138672
          ],
          [
           201.19667053222656
          ],
          [
           199.5933380126953
          ],
          [
           203.3733367919922
          ],
          [
           203.29666137695312
          ],
          [
           205.89666748046875
          ],
          [
           199.7866668701172
          ],
          [
           201.6233367919922
          ],
          [
           205.53334045410156
          ],
          [
           207.77000427246094
          ],
          [
           206.94332885742188
          ],
          [
           207.90333557128906
          ],
          [
           218.85667419433594
          ],
          [
           226.60667419433594
          ],
          [
           223.9566650390625
          ],
          [
           229.57333374023438
          ],
          [
           226.9199981689453
          ],
          [
           226.56666564941406
          ],
          [
           225.97332763671875
          ],
          [
           226.3000030517578
          ],
          [
           219.86000061035156
          ],
          [
           214.88333129882812
          ],
          [
           217.60333251953125
          ],
          [
           218.98333740234375
          ],
          [
           228.56666564941406
          ],
          [
           222.84666442871094
          ],
          [
           217.7933349609375
          ],
          [
           216.86666870117188
          ],
          [
           214.74000549316406
          ],
          [
           215.4066619873047
          ],
          [
           220.1666717529297
          ],
          [
           218.42999267578125
          ],
          [
           216.4199981689453
          ],
          [
           214.4600067138672
          ],
          [
           219.2066650390625
          ],
          [
           214.92666625976562
          ],
          [
           215.66000366210938
          ],
          [
           225.78334045410156
          ],
          [
           229.06666564941406
          ],
          [
           236.55667114257812
          ],
          [
           236.5800018310547
          ],
          [
           236.97332763671875
          ],
          [
           238.2100067138672
          ],
          [
           233.03334045410156
          ],
          [
           237.9199981689453
          ],
          [
           236.663330078125
          ],
          [
           235.94000244140625
          ],
          [
           240.75
          ],
          [
           239.05667114257812
          ],
          [
           228.72332763671875
          ],
          [
           221.90333557128906
          ],
          [
           229.663330078125
          ],
          [
           224.49000549316406
          ],
          [
           226.75332641601562
          ],
          [
           235.43333435058594
          ],
          [
           236.163330078125
          ],
          [
           237.06666564941406
          ],
          [
           233.72000122070312
          ],
          [
           237.30667114257812
          ],
          [
           243.6366729736328
          ],
          [
           245.24000549316406
          ],
          [
           244.69667053222656
          ],
          [
           244.1300048828125
          ],
          [
           244.52333068847656
          ],
          [
           250.97332763671875
          ],
          [
           251.2899932861328
          ],
          [
           251.6199951171875
          ],
          [
           245.42333984375
          ],
          [
           247.6666717529297
          ],
          [
           248.163330078125
          ],
          [
           251.94332885742188
          ],
          [
           252.3300018310547
          ],
          [
           253.163330078125
          ],
          [
           243.38999938964844
          ],
          [
           246.4600067138672
          ],
          [
           250.64666748046875
          ],
          [
           251.2133331298828
          ],
          [
           258.1300048828125
          ],
          [
           263.78668212890625
          ],
          [
           259.1866760253906
          ],
          [
           260.4366760253906
          ],
          [
           258.49334716796875
          ],
          [
           258.40667724609375
          ],
          [
           260.510009765625
          ],
          [
           260.1966552734375
          ],
          [
           260.9166564941406
          ],
          [
           264.53668212890625
          ],
          [
           261.8299865722656
          ],
          [
           263.9800109863281
          ],
          [
           268.5733337402344
          ],
          [
           270.3599853515625
          ],
          [
           272.7733459472656
          ],
          [
           281.010009765625
          ],
          [
           290.03668212890625
          ],
          [
           288.0899963378906
          ],
          [
           288.6000061035156
          ],
          [
           298
          ],
          [
           303.2266540527344
          ],
          [
           341.6199951171875
          ],
          [
           339.4766540527344
          ],
          [
           345.9533386230469
          ],
          [
           359.0133361816406
          ],
          [
           371.3333435058594
          ],
          [
           402.86334228515625
          ],
          [
           390.6666564941406
          ],
          [
           404.6199951171875
          ],
          [
           409.9700012207031
          ],
          [
           407.36334228515625
          ],
          [
           387.64666748046875
          ],
          [
           341.1666564941406
          ],
          [
           355.98333740234375
          ],
          [
           354.5033264160156
          ],
          [
           344.47332763671875
          ],
          [
           337.7966613769531
          ],
          [
           351.57666015625
          ],
          [
           363.0033264160156
          ],
          [
           365.4599914550781
          ],
          [
           379.0199890136719
          ],
          [
           385.6233215332031
          ],
          [
           369.6766662597656
          ],
          [
           372
          ],
          [
           360.6400146484375
          ],
          [
           378.9966735839844
          ],
          [
           381.586669921875
          ],
          [
           365
          ],
          [
           361.5333251953125
          ],
          [
           338.3233337402344
          ],
          [
           336.336669921875
          ],
          [
           350.5833435058594
          ],
          [
           356.32000732421875
          ],
          [
           334.6000061035156
          ],
          [
           339.010009765625
          ],
          [
           322.13665771484375
          ],
          [
           319.5033264160156
          ],
          [
           325.3299865722656
          ],
          [
           308.97332763671875
          ],
          [
           310.8566589355469
          ],
          [
           299.9800109863281
          ],
          [
           312.84332275390625
          ],
          [
           336.2900085449219
          ],
          [
           355.6666564941406
          ],
          [
           364.64666748046875
          ],
          [
           362.8233337402344
          ],
          [
           362.0633239746094
          ],
          [
           356.7799987792969
          ],
          [
           352.260009765625
          ],
          [
           399.9266662597656
          ],
          [
           383.1966552734375
          ],
          [
           362.7066650390625
          ],
          [
           354.8999938964844
          ],
          [
           342.32000732421875
          ],
          [
           352.7066650390625
          ],
          [
           354.79998779296875
          ],
          [
           368.739990234375
          ],
          [
           343.85333251953125
          ],
          [
           349.8699951171875
          ],
          [
           343.5033264160156
          ],
          [
           331.8833312988281
          ],
          [
           332.0899963378906
          ],
          [
           314.6333312988281
          ],
          [
           310
          ],
          [
           306.1333312988281
          ],
          [
           312.4700012207031
          ],
          [
           276.3666687011719
          ],
          [
           282.1166687011719
          ],
          [
           312.239990234375
          ],
          [
           310.4166564941406
          ],
          [
           301.88665771484375
          ],
          [
           297.0466613769531
          ],
          [
           307.7733459472656
          ],
          [
           302.4466552734375
          ],
          [
           307.3333435058594
          ],
          [
           310.6666564941406
          ],
          [
           301.51666259765625
          ],
          [
           286.6666564941406
          ],
          [
           291.9200134277344
          ],
          [
           307.4766540527344
          ],
          [
           307.7966613769531
          ],
          [
           292.1166687011719
          ],
          [
           285.6600036621094
          ],
          [
           273.84332275390625
          ],
          [
           254.67999267578125
          ],
          [
           266.92333984375
          ],
          [
           269.9566650390625
          ],
          [
           290.1433410644531
          ],
          [
           288.1233215332031
          ],
          [
           293.2966613769531
          ],
          [
           279.7633361816406
          ],
          [
           279.42999267578125
          ],
          [
           268.1933288574219
          ],
          [
           274.79998779296875
          ],
          [
           286.3233337402344
          ],
          [
           279.4333190917969
          ],
          [
           265.1166687011719
          ],
          [
           255.4566650390625
          ],
          [
           267.2966613769531
          ],
          [
           280.07666015625
          ],
          [
           290.5333251953125
          ],
          [
           301.7966613769531
          ],
          [
           307.0533447265625
          ],
          [
           331.32666015625
          ],
          [
           333.03668212890625
          ],
          [
           337.97332763671875
          ],
          [
           336.8800048828125
          ],
          [
           363.9466552734375
          ],
          [
           366.5233459472656
          ],
          [
           364.663330078125
          ],
          [
           359.20001220703125
          ],
          [
           361.5299987792969
          ],
          [
           381.8166809082031
          ],
          [
           363.7533264160156
          ],
          [
           348.586669921875
          ],
          [
           352.4200134277344
          ],
          [
           341.8299865722656
          ],
          [
           325.30999755859375
          ],
          [
           328.98333740234375
          ],
          [
           340.7900085449219
          ],
          [
           328.3333435058594
          ],
          [
           334.7633361816406
          ],
          [
           342.7166748046875
          ],
          [
           325.73333740234375
          ],
          [
           336.260009765625
          ],
          [
           335.01666259765625
          ],
          [
           332.67333984375
          ],
          [
           292.1400146484375
          ],
          [
           293.836669921875
          ],
          [
           292.5033264160156
          ],
          [
           290.2533264160156
          ],
          [
           300.9800109863281
          ],
          [
           303.0833435058594
          ],
          [
           317.5400085449219
          ],
          [
           291.09332275390625
          ],
          [
           288.54998779296875
          ],
          [
           262.3699951171875
          ],
          [
           266.67999267578125
          ],
          [
           244.6666717529297
          ],
          [
           242.6666717529297
          ],
          [
           256.5299987792969
          ],
          [
           241.4566650390625
          ],
          [
           253.8699951171875
          ],
          [
           236.60333251953125
          ],
          [
           236.47332763671875
          ],
          [
           221.3000030517578
          ],
          [
           224.96665954589844
          ],
          [
           209.3866729736328
          ],
          [
           219.60000610351562
          ],
          [
           235.91000366210938
          ],
          [
           253.2100067138672
          ],
          [
           252.75332641601562
          ],
          [
           246.7899932861328
          ],
          [
           258.3333435058594
          ],
          [
           234.51666259765625
          ],
          [
           238.27999877929688
          ],
          [
           238.8866729736328
          ],
          [
           241.86666870117188
          ],
          [
           239.7066650390625
          ],
          [
           232.22999572753906
          ],
          [
           215.73666381835938
          ],
          [
           220.88999938964844
          ],
          [
           233
          ],
          [
           213.10000610351562
          ],
          [
           216.75999450683594
          ],
          [
           237.0366668701172
          ],
          [
           236.086669921875
          ],
          [
           235.07000732421875
          ],
          [
           245.7066650390625
          ],
          [
           244.9199981689453
          ],
          [
           232.663330078125
          ],
          [
           228.49000549316406
          ],
          [
           224.47332763671875
          ],
          [
           227.26333618164062
          ],
          [
           233.06666564941406
          ],
          [
           231.73333740234375
          ],
          [
           244.5433349609375
          ],
          [
           250.76333618164062
          ],
          [
           234.3433380126953
          ],
          [
           233.07000732421875
          ],
          [
           237.0399932861328
          ],
          [
           238.31333923339844
          ],
          [
           240.06666564941406
          ],
          [
           240.54666137695312
          ],
          [
           245.52999877929688
          ],
          [
           247.5
          ],
          [
           271.7066650390625
          ],
          [
           272.24334716796875
          ],
          [
           268.4333190917969
          ],
          [
           258.8599853515625
          ],
          [
           274.82000732421875
          ],
          [
           280.8999938964844
          ],
          [
           297.1499938964844
          ],
          [
           297.27667236328125
          ],
          [
           300.586669921875
          ],
          [
           307.39666748046875
          ],
          [
           308.6333312988281
          ],
          [
           288.1700134277344
          ],
          [
           290.42333984375
          ],
          [
           283.3333435058594
          ],
          [
           294.3566589355469
          ],
          [
           286.6300048828125
          ],
          [
           300.0299987792969
          ],
          [
           309.32000732421875
          ],
          [
           306.5633239746094
          ],
          [
           303.9966735839844
          ],
          [
           302.8699951171875
          ],
          [
           296.6666564941406
          ],
          [
           289.913330078125
          ],
          [
           296.4533386230469
          ],
          [
           297.0966796875
          ],
          [
           296.07000732421875
          ],
          [
           288.0899963378906
          ],
          [
           284.82000732421875
          ],
          [
           277.70001220703125
          ],
          [
           275.6099853515625
          ],
          [
           277.1600036621094
          ],
          [
           270.2099914550781
          ],
          [
           274.4200134277344
          ],
          [
           283.70001220703125
          ],
          [
           289.260009765625
          ],
          [
           299.67999267578125
          ],
          [
           304.4200134277344
          ],
          [
           292.1300048828125
          ],
          [
           302.6099853515625
          ],
          [
           303.75
          ],
          [
           303.3500061035156
          ],
          [
           309.07000732421875
          ],
          [
           308.7300109863281
          ],
          [
           300.79998779296875
          ],
          [
           288.5899963378906
          ],
          [
           275.3299865722656
          ],
          [
           276.010009765625
          ],
          [
           282.94000244140625
          ],
          [
           287.80999755859375
          ],
          [
           268.2099914550781
          ],
          [
           265.25
          ],
          [
           242.39999389648438
          ],
          [
           249.44000244140625
          ],
          [
           240.80999755859375
          ],
          [
           238.1300048828125
          ],
          [
           223.07000732421875
          ],
          [
           222.9600067138672
          ],
          [
           216.5
          ],
          [
           217.24000549316406
          ],
          [
           221.72000122070312
          ],
          [
           204.99000549316406
          ],
          [
           219.35000610351562
          ],
          [
           220.19000244140625
          ],
          [
           222.0399932861328
          ],
          [
           207.27999877929688
          ],
          [
           214.44000244140625
          ],
          [
           211.25
          ],
          [
           222.4199981689453
          ],
          [
           224.63999938964844
          ],
          [
           225.08999633789062
          ],
          [
           228.52000427246094
          ],
          [
           227.5399932861328
          ],
          [
           227.82000732421875
          ],
          [
           214.97999572753906
          ],
          [
           215.30999755859375
          ],
          [
           207.47000122070312
          ],
          [
           197.0800018310547
          ],
          [
           191.3000030517578
          ],
          [
           177.58999633789062
          ],
          [
           190.72000122070312
          ],
          [
           195.97000122070312
          ],
          [
           190.9499969482422
          ],
          [
           194.4199981689453
          ],
          [
           186.9199981689453
          ],
          [
           183.1699981689453
          ],
          [
           180.19000244140625
          ],
          [
           167.8699951171875
          ],
          [
           169.91000366210938
          ],
          [
           183.1999969482422
          ],
          [
           182.86000061035156
          ],
          [
           182.9199981689453
          ],
          [
           180.8300018310547
          ],
          [
           194.6999969482422
          ],
          [
           194.6999969482422
          ],
          [
           194.86000061035156
          ],
          [
           182.4499969482422
          ],
          [
           179.82000732421875
          ],
          [
           174.0399932861328
          ],
          [
           173.44000244140625
          ],
          [
           179.0500030517578
          ],
          [
           167.82000732421875
          ],
          [
           160.9499969482422
          ],
          [
           156.8000030517578
          ],
          [
           157.6699981689453
          ],
          [
           150.22999572753906
          ],
          [
           149.8699951171875
          ],
          [
           137.8000030517578
          ],
          [
           137.57000732421875
          ],
          [
           125.3499984741211
          ],
          [
           123.1500015258789
          ],
          [
           109.0999984741211
          ],
          [
           112.70999908447266
          ],
          [
           121.81999969482422
          ],
          [
           123.18000030517578
          ],
          [
           108.0999984741211
          ],
          [
           113.63999938964844
          ],
          [
           110.33999633789062
          ],
          [
           113.05999755859375
          ],
          [
           119.7699966430664
          ],
          [
           118.8499984741211
          ],
          [
           123.22000122070312
          ],
          [
           123.55999755859375
          ],
          [
           122.4000015258789
          ],
          [
           131.49000549316406
          ],
          [
           128.77999877929688
          ],
          [
           127.16999816894531
          ],
          [
           133.4199981689453
          ],
          [
           143.75
          ],
          [
           143.88999938964844
          ],
          [
           144.42999267578125
          ],
          [
           160.27000427246094
          ],
          [
           177.89999389648438
          ],
          [
           166.66000366210938
          ],
          [
           173.22000122070312
          ],
          [
           181.41000366210938
          ],
          [
           188.27000427246094
          ],
          [
           189.97999572753906
          ],
          [
           194.75999450683594
          ],
          [
           196.80999755859375
          ],
          [
           201.2899932861328
          ],
          [
           207.32000732421875
          ],
          [
           196.88999938964844
          ],
          [
           194.63999938964844
          ],
          [
           209.25
          ],
          [
           214.24000549316406
          ],
          [
           202.0399932861328
          ],
          [
           208.30999755859375
          ],
          [
           197.3699951171875
          ],
          [
           200.86000061035156
          ],
          [
           202.07000732421875
          ],
          [
           196.8800048828125
          ],
          [
           207.6300048828125
          ],
          [
           205.7100067138672
          ],
          [
           202.77000427246094
          ],
          [
           190.89999389648438
          ],
          [
           197.7899932861328
          ],
          [
           193.80999755859375
          ],
          [
           187.7100067138672
          ],
          [
           182
          ],
          [
           172.9199981689453
          ],
          [
           173.44000244140625
          ],
          [
           174.47999572753906
          ],
          [
           183.25999450683594
          ],
          [
           180.4499969482422
          ],
          [
           184.1300048828125
          ],
          [
           180.1300048828125
          ],
          [
           183.25
          ],
          [
           197.5800018310547
          ],
          [
           191.14999389648438
          ],
          [
           192.22000122070312
          ],
          [
           190.41000366210938
          ],
          [
           191.80999755859375
          ],
          [
           189.19000244140625
          ],
          [
           193.8800048828125
          ],
          [
           195.27999877929688
          ],
          [
           207.4600067138672
          ],
          [
           194.77000427246094
          ],
          [
           192.5800018310547
          ],
          [
           185.52000427246094
          ],
          [
           185.05999755859375
          ],
          [
           184.50999450683594
          ],
          [
           186.7899932861328
          ],
          [
           180.5399932861328
          ],
          [
           185.89999389648438
          ],
          [
           185
          ],
          [
           187.0399932861328
          ],
          [
           184.30999755859375
          ],
          [
           180.58999633789062
          ],
          [
           162.99000549316406
          ],
          [
           165.0800018310547
          ],
          [
           162.5500030517578
          ],
          [
           160.6699981689453
          ],
          [
           153.75
          ],
          [
           160.19000244140625
          ],
          [
           164.30999755859375
          ],
          [
           161.8300018310547
          ],
          [
           160.30999755859375
          ],
          [
           160.61000061035156
          ],
          [
           161.1999969482422
          ],
          [
           170.05999755859375
          ],
          [
           171.7899932861328
          ],
          [
           169.14999389648438
          ],
          [
           168.5399932861328
          ],
          [
           172.0800018310547
          ],
          [
           167.97999572753906
          ],
          [
           166.35000610351562
          ],
          [
           166.52000427246094
          ],
          [
           173.86000061035156
          ],
          [
           176.88999938964844
          ],
          [
           180.13999938964844
          ],
          [
           188.8699951171875
          ],
          [
           185.77000427246094
          ],
          [
           182.89999389648438
          ],
          [
           184.47000122070312
          ],
          [
           193.1699981689453
          ],
          [
           201.16000366210938
          ],
          [
           203.92999267578125
          ],
          [
           207.52000427246094
          ],
          [
           213.97000122070312
          ],
          [
           217.61000061035156
          ],
          [
           221.30999755859375
          ],
          [
           224.57000732421875
          ],
          [
           234.86000061035156
          ],
          [
           244.39999389648438
          ],
          [
           249.8300018310547
          ],
          [
           258.7099914550781
          ],
          [
           256.7900085449219
          ],
          [
           255.89999389648438
          ],
          [
           260.5400085449219
          ],
          [
           274.45001220703125
          ],
          [
           259.4599914550781
          ],
          [
           264.6099853515625
          ],
          [
           256.6000061035156
          ],
          [
           241.0500030517578
          ],
          [
           250.2100067138672
          ],
          [
           256.239990234375
          ],
          [
           257.5
          ],
          [
           261.7699890136719
          ],
          [
           279.82000732421875
          ],
          [
           282.4800109863281
          ],
          [
           276.5400085449219
          ],
          [
           274.42999267578125
          ],
          [
           269.6099853515625
          ],
          [
           269.7900085449219
          ],
          [
           271.989990234375
          ],
          [
           277.8999938964844
          ],
          [
           281.3800048828125
          ],
          [
           290.3800048828125
          ],
          [
           293.3399963378906
          ],
          [
           291.260009765625
          ],
          [
           262.8999938964844
          ],
          [
           260.0199890136719
          ],
          [
           269.05999755859375
          ],
          [
           265.2799987792969
          ],
          [
           264.3500061035156
          ],
          [
           255.7100067138672
          ],
          [
           266.44000244140625
          ],
          [
           267.42999267578125
          ],
          [
           261.07000732421875
          ],
          [
           254.11000061035156
          ],
          [
           259.32000732421875
          ],
          [
           253.86000061035156
          ],
          [
           251.4499969482422
          ],
          [
           249.6999969482422
          ],
          [
           242.19000244140625
          ],
          [
           245.33999633789062
          ],
          [
           242.64999389648438
          ],
          [
           239.75999450683594
          ],
          [
           232.9600067138672
          ],
          [
           225.60000610351562
          ],
          [
           219.22000122070312
          ],
          [
           215.49000549316406
          ],
          [
           231.27999877929688
          ],
          [
           233.19000244140625
          ],
          [
           236.86000061035156
          ],
          [
           230.0399932861328
          ],
          [
           238.58999633789062
          ],
          [
           238.82000732421875
          ],
          [
           257.17999267578125
          ],
          [
           256.8999938964844
          ],
          [
           258.0799865722656
          ],
          [
           245.00999450683594
          ],
          [
           256.489990234375
          ],
          [
           251.9199981689453
          ],
          [
           251.49000549316406
          ],
          [
           248.5
          ],
          [
           273.5799865722656
          ],
          [
           267.4800109863281
          ],
          [
           271.29998779296875
          ],
          [
           276.0400085449219
          ],
          [
           274.3900146484375
          ],
          [
           265.2799987792969
          ],
          [
           266.5
          ],
          [
           262.5899963378906
          ],
          [
           255.6999969482422
          ],
          [
           244.8800048828125
          ],
          [
           246.99000549316406
          ],
          [
           244.1199951171875
          ],
          [
           240.5
          ],
          [
           246.3800048828125
          ],
          [
           250.22000122070312
          ],
          [
           251.60000610351562
          ],
          [
           246.52999877929688
          ],
          [
           261.1600036621094
          ],
          [
           260.04998779296875
          ],
          [
           260.5299987792969
          ],
          [
           259.6700134277344
          ],
          [
           263.6199951171875
          ],
          [
           262.989990234375
          ],
          [
           258.8699951171875
          ],
          [
           251.1199951171875
          ],
          [
           253.9199981689453
          ],
          [
           254.85000610351562
          ],
          [
           242.67999267578125
          ],
          [
           220.11000061035156
          ],
          [
           211.99000549316406
          ],
          [
           212.0800018310547
          ],
          [
           216.52000427246094
          ],
          [
           212.4199981689453
          ],
          [
           205.75999450683594
          ],
          [
           207.3000030517578
          ],
          [
           197.36000061035156
          ],
          [
           200.83999633789062
          ],
          [
           205.66000366210938
          ],
          [
           218.50999450683594
          ],
          [
           219.9600067138672
          ],
          [
           219.27000427246094
          ],
          [
           222.17999267578125
          ],
          [
           222.11000061035156
          ],
          [
           209.97999572753906
          ],
          [
           214.64999389648438
          ],
          [
           223.7100067138672
          ],
          [
           237.41000366210938
          ],
          [
           242.83999633789062
          ],
          [
           233.58999633789062
          ],
          [
           234.3000030517578
          ],
          [
           235.60000610351562
          ],
          [
           241.1999969482422
          ],
          [
           234.2100067138672
          ],
          [
           235.4499969482422
          ],
          [
           236.0800018310547
          ],
          [
           246.72000122070312
          ],
          [
           244.13999938964844
          ],
          [
           240.0800018310547
          ],
          [
           238.8300018310547
          ],
          [
           235.5800018310547
          ],
          [
           238.72000122070312
          ],
          [
           239.3699951171875
          ],
          [
           242.63999938964844
          ],
          [
           243.83999633789062
          ],
          [
           239.74000549316406
          ],
          [
           237.00999450683594
          ],
          [
           239.2899932861328
          ],
          [
           251.0500030517578
          ],
          [
           253.5
          ],
          [
           252.0800018310547
          ],
          [
           257.2200012207031
          ],
          [
           247.13999938964844
          ],
          [
           254.5
          ],
          [
           252.5399932861328
          ],
          [
           256.6099853515625
          ],
          [
           261.44000244140625
          ],
          [
           253.17999267578125
          ],
          [
           248.47999572753906
          ],
          [
           248.4199981689453
          ],
          [
           238.4499969482422
          ],
          [
           237.92999267578125
          ],
          [
           237.49000549316406
          ],
          [
           240.4499969482422
          ],
          [
           234.9600067138672
          ],
          [
           233.94000244140625
          ],
          [
           227.22000122070312
          ],
          [
           218.88999938964844
          ],
          [
           219.91000366210938
          ],
          [
           215.5500030517578
          ],
          [
           211.8800048828125
          ],
          [
           212.19000244140625
          ],
          [
           208.8000030517578
          ],
          [
           209.13999938964844
          ],
          [
           207.8300018310547
          ],
          [
           182.6300048828125
          ],
          [
           183.25
          ],
          [
           190.92999267578125
          ],
          [
           191.58999633789062
          ],
          [
           187.2899932861328
          ],
          [
           188.86000061035156
          ],
          [
           187.91000366210938
          ],
          [
           181.05999755859375
          ],
          [
           185.10000610351562
          ],
          [
           187.5800018310547
          ],
          [
           189.55999755859375
          ],
          [
           193.57000732421875
          ],
          [
           188.1300048828125
          ],
          [
           184.02000427246094
          ],
          [
           188.7100067138672
          ],
          [
           200.4499969482422
          ],
          [
           199.9499969482422
          ],
          [
           193.75999450683594
          ],
          [
           194.77000427246094
          ],
          [
           197.41000366210938
          ],
          [
           191.97000122070312
          ],
          [
           199.39999389648438
          ],
          [
           199.72999572753906
          ],
          [
           202.0399932861328
          ],
          [
           201.8800048828125
          ],
          [
           202.63999938964844
          ],
          [
           188.13999938964844
          ],
          [
           180.74000549316406
          ],
          [
           176.5399932861328
          ],
          [
           178.64999389648438
          ],
          [
           175.33999633789062
          ],
          [
           177.77000427246094
          ],
          [
           177.5399932861328
          ],
          [
           169.47999572753906
          ],
          [
           162.5
          ],
          [
           163.57000732421875
          ],
          [
           173.8000030517578
          ],
          [
           171.32000732421875
          ],
          [
           175.66000366210938
          ],
          [
           172.82000732421875
          ],
          [
           170.8300018310547
          ],
          [
           172.6300048828125
          ],
          [
           177.6699981689453
          ],
          [
           179.8300018310547
          ],
          [
           175.7899932861328
          ],
          [
           175.22000122070312
          ],
          [
           166.6300048828125
          ],
          [
           168.3800048828125
          ],
          [
           171.11000061035156
          ],
          [
           164.89999389648438
          ],
          [
           172.97999572753906
          ],
          [
           176.8800048828125
          ],
          [
           171.75999450683594
          ],
          [
           174.60000610351562
          ],
          [
           171.0500030517578
          ],
          [
           161.47999572753906
          ],
          [
           157.11000061035156
          ],
          [
           155.4499969482422
          ],
          [
           149.92999267578125
          ],
          [
           147.0500030517578
          ],
          [
           142.0500030517578
          ],
          [
           144.67999267578125
          ],
          [
           162.1300048828125
          ],
          [
           170.17999267578125
          ],
          [
           168.2899932861328
          ],
          [
           194.0500030517578
          ],
          [
           183.27999877929688
          ],
          [
           179.99000549316406
          ],
          [
           180.00999450683594
          ],
          [
           181.19000244140625
          ],
          [
           184.75999450683594
          ],
          [
           177.80999755859375
          ],
          [
           174.72000122070312
          ],
          [
           171.97000122070312
          ],
          [
           168.47000122070312
          ],
          [
           171.88999938964844
          ],
          [
           177.5500030517578
          ],
          [
           173.99000549316406
          ],
          [
           174.83999633789062
          ],
          [
           177.4600067138672
          ],
          [
           174.9499969482422
          ],
          [
           186.60000610351562
          ],
          [
           180.11000061035156
          ],
          [
           173.74000549316406
          ],
          [
           179.24000549316406
          ],
          [
           176.75
          ],
          [
           176.19000244140625
          ],
          [
           178.7899932861328
          ],
          [
           178.0800018310547
          ],
          [
           176.2899932861328
          ],
          [
           174.77000427246094
          ],
          [
           175
          ],
          [
           177.94000244140625
          ],
          [
           177.47999572753906
          ],
          [
           173.7899932861328
          ],
          [
           170.66000366210938
          ],
          [
           177.2899932861328
          ],
          [
           182.47000122070312
          ],
          [
           178.00999450683594
          ],
          [
           187.44000244140625
          ],
          [
           184.86000061035156
          ],
          [
           181.57000732421875
          ],
          [
           183.00999450683594
          ],
          [
           182.5800018310547
          ],
          [
           187.35000610351562
          ],
          [
           196.3699951171875
          ],
          [
           197.4199981689453
          ],
          [
           197.8800048828125
          ],
          [
           209.86000061035156
          ],
          [
           231.25999450683594
          ],
          [
           246.38999938964844
          ],
          [
           251.52000427246094
          ],
          [
           252.94000244140625
          ],
          [
           262.3299865722656
          ],
          [
           263.260009765625
          ],
          [
           241.02999877929688
          ],
          [
           248.22999572753906
          ],
          [
           252.63999938964844
          ],
          [
           256.55999755859375
          ],
          [
           248.5
          ],
          [
           249.22999572753906
          ],
          [
           239.1999969482422
          ],
          [
           251.50999450683594
          ],
          [
           246.3800048828125
          ],
          [
           215.99000549316406
          ],
          [
           220.25
          ],
          [
           219.8000030517578
          ],
          [
           232.10000610351562
          ],
          [
           222.6199951171875
          ],
          [
           232.07000732421875
          ],
          [
           216.86000061035156
          ],
          [
           207.6699981689453
          ],
          [
           198.8800048828125
          ],
          [
           200.63999938964844
          ],
          [
           191.75999450683594
          ],
          [
           198.83999633789062
          ],
          [
           200
          ],
          [
           197.49000549316406
          ],
          [
           207.8300018310547
          ],
          [
           201.3800048828125
          ],
          [
           214.13999938964844
          ],
          [
           216.1199951171875
          ],
          [
           222.72000122070312
          ],
          [
           221.10000610351562
          ],
          [
           223.27000427246094
          ],
          [
           210.66000366210938
          ],
          [
           220.32000732421875
          ],
          [
           213.2100067138672
          ],
          [
           209.2100067138672
          ],
          [
           205.75
          ],
          [
           206.27999877929688
          ],
          [
           214.11000061035156
          ],
          [
           210.60000610351562
          ],
          [
           219.41000366210938
          ],
          [
           230.1699981689453
          ],
          [
           210.72999572753906
          ],
          [
           216.27000427246094
          ],
          [
           226.1699981689453
          ],
          [
           228.1300048828125
          ],
          [
           229.80999755859375
          ],
          [
           230.2899932861328
          ],
          [
           226.77999877929688
          ],
          [
           227.8699951171875
          ],
          [
           227.1999969482422
          ],
          [
           243.9199981689453
          ],
          [
           238.25
          ],
          [
           250
          ],
          [
           254.27000427246094
          ],
          [
           257.0199890136719
          ],
          [
           254.22000122070312
          ],
          [
           260.4599914550781
          ],
          [
           261.6300048828125
          ],
          [
           258.0199890136719
          ],
          [
           249.02000427246094
          ],
          [
           240.66000366210938
          ],
          [
           250.0800018310547
          ],
          [
           240.8300018310547
          ],
          [
           244.5
          ],
          [
           241.0500030517578
          ],
          [
           238.77000427246094
          ],
          [
           217.8000030517578
          ],
          [
           219.16000366210938
          ],
          [
           219.57000732421875
          ],
          [
           221.3300018310547
          ],
          [
           220.88999938964844
          ],
          [
           220.6999969482422
          ],
          [
           218.85000610351562
          ],
          [
           217.97000122070312
          ],
          [
           213.64999389648438
          ],
          [
           260.4800109863281
          ],
          [
           269.19000244140625
          ],
          [
           262.510009765625
          ],
          [
           259.5199890136719
          ],
          [
           257.54998779296875
          ],
          [
           249.85000610351562
          ],
          [
           248.97999572753906
          ],
          [
           242.83999633789062
          ],
          [
           251.44000244140625
          ],
          [
           288.5299987792969
          ],
          [
           296.9100036621094
          ],
          [
           321.2200012207031
          ],
          [
           350
          ],
          [
           328.489990234375
          ],
          [
           330.239990234375
          ],
          [
           311.17999267578125
          ],
          [
           320.7200012207031
          ],
          [
           338.739990234375
          ],
          [
           346
          ],
          [
           342.0299987792969
          ],
          [
           339.6400146484375
          ],
          [
           352.55999755859375
          ],
          [
           338.5899963378906
          ],
          [
           338.2300109863281
          ],
          [
           332.8900146484375
          ],
          [
           345.1600036621094
          ],
          [
           357.0899963378906
          ],
          [
           351.4200134277344
          ],
          [
           357.92999267578125
          ],
          [
           369.489990234375
          ],
          [
           389.2200012207031
          ],
          [
           389.7900085449219
          ],
          [
           400.989990234375
          ],
          [
           424.7699890136719
          ],
          [
           418.1000061035156
          ],
          [
           436.2300109863281
          ],
          [
           463.0199890136719
          ],
          [
           479.8599853515625
          ],
          [
           440.1300048828125
          ],
          [
           436.1700134277344
          ],
          [
           421.05999755859375
          ],
          [
           430.6000061035156
          ],
          [
           462.2799987792969
          ],
          [
           454.1300048828125
          ],
          [
           431.6600036621094
          ],
          [
           417.4100036621094
          ],
          [
           403.8399963378906
          ]
         ]
        }
       ],
       "layout": {
        "autosize": true,
        "template": {
         "data": {
          "bar": [
           {
            "error_x": {
             "color": "#f2f5fa"
            },
            "error_y": {
             "color": "#f2f5fa"
            },
            "marker": {
             "line": {
              "color": "rgb(17,17,17)",
              "width": 0.5
             },
             "pattern": {
              "fillmode": "overlay",
              "size": 10,
              "solidity": 0.2
             }
            },
            "type": "bar"
           }
          ],
          "barpolar": [
           {
            "marker": {
             "line": {
              "color": "rgb(17,17,17)",
              "width": 0.5
             },
             "pattern": {
              "fillmode": "overlay",
              "size": 10,
              "solidity": 0.2
             }
            },
            "type": "barpolar"
           }
          ],
          "carpet": [
           {
            "aaxis": {
             "endlinecolor": "#A2B1C6",
             "gridcolor": "#506784",
             "linecolor": "#506784",
             "minorgridcolor": "#506784",
             "startlinecolor": "#A2B1C6"
            },
            "baxis": {
             "endlinecolor": "#A2B1C6",
             "gridcolor": "#506784",
             "linecolor": "#506784",
             "minorgridcolor": "#506784",
             "startlinecolor": "#A2B1C6"
            },
            "type": "carpet"
           }
          ],
          "choropleth": [
           {
            "colorbar": {
             "outlinewidth": 0,
             "ticks": ""
            },
            "type": "choropleth"
           }
          ],
          "contour": [
           {
            "colorbar": {
             "outlinewidth": 0,
             "ticks": ""
            },
            "colorscale": [
             [
              0,
              "#0d0887"
             ],
             [
              0.1111111111111111,
              "#46039f"
             ],
             [
              0.2222222222222222,
              "#7201a8"
             ],
             [
              0.3333333333333333,
              "#9c179e"
             ],
             [
              0.4444444444444444,
              "#bd3786"
             ],
             [
              0.5555555555555556,
              "#d8576b"
             ],
             [
              0.6666666666666666,
              "#ed7953"
             ],
             [
              0.7777777777777778,
              "#fb9f3a"
             ],
             [
              0.8888888888888888,
              "#fdca26"
             ],
             [
              1,
              "#f0f921"
             ]
            ],
            "type": "contour"
           }
          ],
          "contourcarpet": [
           {
            "colorbar": {
             "outlinewidth": 0,
             "ticks": ""
            },
            "type": "contourcarpet"
           }
          ],
          "heatmap": [
           {
            "colorbar": {
             "outlinewidth": 0,
             "ticks": ""
            },
            "colorscale": [
             [
              0,
              "#0d0887"
             ],
             [
              0.1111111111111111,
              "#46039f"
             ],
             [
              0.2222222222222222,
              "#7201a8"
             ],
             [
              0.3333333333333333,
              "#9c179e"
             ],
             [
              0.4444444444444444,
              "#bd3786"
             ],
             [
              0.5555555555555556,
              "#d8576b"
             ],
             [
              0.6666666666666666,
              "#ed7953"
             ],
             [
              0.7777777777777778,
              "#fb9f3a"
             ],
             [
              0.8888888888888888,
              "#fdca26"
             ],
             [
              1,
              "#f0f921"
             ]
            ],
            "type": "heatmap"
           }
          ],
          "heatmapgl": [
           {
            "colorbar": {
             "outlinewidth": 0,
             "ticks": ""
            },
            "colorscale": [
             [
              0,
              "#0d0887"
             ],
             [
              0.1111111111111111,
              "#46039f"
             ],
             [
              0.2222222222222222,
              "#7201a8"
             ],
             [
              0.3333333333333333,
              "#9c179e"
             ],
             [
              0.4444444444444444,
              "#bd3786"
             ],
             [
              0.5555555555555556,
              "#d8576b"
             ],
             [
              0.6666666666666666,
              "#ed7953"
             ],
             [
              0.7777777777777778,
              "#fb9f3a"
             ],
             [
              0.8888888888888888,
              "#fdca26"
             ],
             [
              1,
              "#f0f921"
             ]
            ],
            "type": "heatmapgl"
           }
          ],
          "histogram": [
           {
            "marker": {
             "pattern": {
              "fillmode": "overlay",
              "size": 10,
              "solidity": 0.2
             }
            },
            "type": "histogram"
           }
          ],
          "histogram2d": [
           {
            "colorbar": {
             "outlinewidth": 0,
             "ticks": ""
            },
            "colorscale": [
             [
              0,
              "#0d0887"
             ],
             [
              0.1111111111111111,
              "#46039f"
             ],
             [
              0.2222222222222222,
              "#7201a8"
             ],
             [
              0.3333333333333333,
              "#9c179e"
             ],
             [
              0.4444444444444444,
              "#bd3786"
             ],
             [
              0.5555555555555556,
              "#d8576b"
             ],
             [
              0.6666666666666666,
              "#ed7953"
             ],
             [
              0.7777777777777778,
              "#fb9f3a"
             ],
             [
              0.8888888888888888,
              "#fdca26"
             ],
             [
              1,
              "#f0f921"
             ]
            ],
            "type": "histogram2d"
           }
          ],
          "histogram2dcontour": [
           {
            "colorbar": {
             "outlinewidth": 0,
             "ticks": ""
            },
            "colorscale": [
             [
              0,
              "#0d0887"
             ],
             [
              0.1111111111111111,
              "#46039f"
             ],
             [
              0.2222222222222222,
              "#7201a8"
             ],
             [
              0.3333333333333333,
              "#9c179e"
             ],
             [
              0.4444444444444444,
              "#bd3786"
             ],
             [
              0.5555555555555556,
              "#d8576b"
             ],
             [
              0.6666666666666666,
              "#ed7953"
             ],
             [
              0.7777777777777778,
              "#fb9f3a"
             ],
             [
              0.8888888888888888,
              "#fdca26"
             ],
             [
              1,
              "#f0f921"
             ]
            ],
            "type": "histogram2dcontour"
           }
          ],
          "mesh3d": [
           {
            "colorbar": {
             "outlinewidth": 0,
             "ticks": ""
            },
            "type": "mesh3d"
           }
          ],
          "parcoords": [
           {
            "line": {
             "colorbar": {
              "outlinewidth": 0,
              "ticks": ""
             }
            },
            "type": "parcoords"
           }
          ],
          "pie": [
           {
            "automargin": true,
            "type": "pie"
           }
          ],
          "scatter": [
           {
            "marker": {
             "line": {
              "color": "#283442"
             }
            },
            "type": "scatter"
           }
          ],
          "scatter3d": [
           {
            "line": {
             "colorbar": {
              "outlinewidth": 0,
              "ticks": ""
             }
            },
            "marker": {
             "colorbar": {
              "outlinewidth": 0,
              "ticks": ""
             }
            },
            "type": "scatter3d"
           }
          ],
          "scattercarpet": [
           {
            "marker": {
             "colorbar": {
              "outlinewidth": 0,
              "ticks": ""
             }
            },
            "type": "scattercarpet"
           }
          ],
          "scattergeo": [
           {
            "marker": {
             "colorbar": {
              "outlinewidth": 0,
              "ticks": ""
             }
            },
            "type": "scattergeo"
           }
          ],
          "scattergl": [
           {
            "marker": {
             "line": {
              "color": "#283442"
             }
            },
            "type": "scattergl"
           }
          ],
          "scattermapbox": [
           {
            "marker": {
             "colorbar": {
              "outlinewidth": 0,
              "ticks": ""
             }
            },
            "type": "scattermapbox"
           }
          ],
          "scatterpolar": [
           {
            "marker": {
             "colorbar": {
              "outlinewidth": 0,
              "ticks": ""
             }
            },
            "type": "scatterpolar"
           }
          ],
          "scatterpolargl": [
           {
            "marker": {
             "colorbar": {
              "outlinewidth": 0,
              "ticks": ""
             }
            },
            "type": "scatterpolargl"
           }
          ],
          "scatterternary": [
           {
            "marker": {
             "colorbar": {
              "outlinewidth": 0,
              "ticks": ""
             }
            },
            "type": "scatterternary"
           }
          ],
          "surface": [
           {
            "colorbar": {
             "outlinewidth": 0,
             "ticks": ""
            },
            "colorscale": [
             [
              0,
              "#0d0887"
             ],
             [
              0.1111111111111111,
              "#46039f"
             ],
             [
              0.2222222222222222,
              "#7201a8"
             ],
             [
              0.3333333333333333,
              "#9c179e"
             ],
             [
              0.4444444444444444,
              "#bd3786"
             ],
             [
              0.5555555555555556,
              "#d8576b"
             ],
             [
              0.6666666666666666,
              "#ed7953"
             ],
             [
              0.7777777777777778,
              "#fb9f3a"
             ],
             [
              0.8888888888888888,
              "#fdca26"
             ],
             [
              1,
              "#f0f921"
             ]
            ],
            "type": "surface"
           }
          ],
          "table": [
           {
            "cells": {
             "fill": {
              "color": "#506784"
             },
             "line": {
              "color": "rgb(17,17,17)"
             }
            },
            "header": {
             "fill": {
              "color": "#2a3f5f"
             },
             "line": {
              "color": "rgb(17,17,17)"
             }
            },
            "type": "table"
           }
          ]
         },
         "layout": {
          "annotationdefaults": {
           "arrowcolor": "#f2f5fa",
           "arrowhead": 0,
           "arrowwidth": 1
          },
          "autotypenumbers": "strict",
          "coloraxis": {
           "colorbar": {
            "outlinewidth": 0,
            "ticks": ""
           }
          },
          "colorscale": {
           "diverging": [
            [
             0,
             "#8e0152"
            ],
            [
             0.1,
             "#c51b7d"
            ],
            [
             0.2,
             "#de77ae"
            ],
            [
             0.3,
             "#f1b6da"
            ],
            [
             0.4,
             "#fde0ef"
            ],
            [
             0.5,
             "#f7f7f7"
            ],
            [
             0.6,
             "#e6f5d0"
            ],
            [
             0.7,
             "#b8e186"
            ],
            [
             0.8,
             "#7fbc41"
            ],
            [
             0.9,
             "#4d9221"
            ],
            [
             1,
             "#276419"
            ]
           ],
           "sequential": [
            [
             0,
             "#0d0887"
            ],
            [
             0.1111111111111111,
             "#46039f"
            ],
            [
             0.2222222222222222,
             "#7201a8"
            ],
            [
             0.3333333333333333,
             "#9c179e"
            ],
            [
             0.4444444444444444,
             "#bd3786"
            ],
            [
             0.5555555555555556,
             "#d8576b"
            ],
            [
             0.6666666666666666,
             "#ed7953"
            ],
            [
             0.7777777777777778,
             "#fb9f3a"
            ],
            [
             0.8888888888888888,
             "#fdca26"
            ],
            [
             1,
             "#f0f921"
            ]
           ],
           "sequentialminus": [
            [
             0,
             "#0d0887"
            ],
            [
             0.1111111111111111,
             "#46039f"
            ],
            [
             0.2222222222222222,
             "#7201a8"
            ],
            [
             0.3333333333333333,
             "#9c179e"
            ],
            [
             0.4444444444444444,
             "#bd3786"
            ],
            [
             0.5555555555555556,
             "#d8576b"
            ],
            [
             0.6666666666666666,
             "#ed7953"
            ],
            [
             0.7777777777777778,
             "#fb9f3a"
            ],
            [
             0.8888888888888888,
             "#fdca26"
            ],
            [
             1,
             "#f0f921"
            ]
           ]
          },
          "colorway": [
           "#636efa",
           "#EF553B",
           "#00cc96",
           "#ab63fa",
           "#FFA15A",
           "#19d3f3",
           "#FF6692",
           "#B6E880",
           "#FF97FF",
           "#FECB52"
          ],
          "font": {
           "color": "#f2f5fa"
          },
          "geo": {
           "bgcolor": "rgb(17,17,17)",
           "lakecolor": "rgb(17,17,17)",
           "landcolor": "rgb(17,17,17)",
           "showlakes": true,
           "showland": true,
           "subunitcolor": "#506784"
          },
          "hoverlabel": {
           "align": "left"
          },
          "hovermode": "closest",
          "mapbox": {
           "style": "dark"
          },
          "paper_bgcolor": "rgb(17,17,17)",
          "plot_bgcolor": "rgb(17,17,17)",
          "polar": {
           "angularaxis": {
            "gridcolor": "#506784",
            "linecolor": "#506784",
            "ticks": ""
           },
           "bgcolor": "rgb(17,17,17)",
           "radialaxis": {
            "gridcolor": "#506784",
            "linecolor": "#506784",
            "ticks": ""
           }
          },
          "scene": {
           "xaxis": {
            "backgroundcolor": "rgb(17,17,17)",
            "gridcolor": "#506784",
            "gridwidth": 2,
            "linecolor": "#506784",
            "showbackground": true,
            "ticks": "",
            "zerolinecolor": "#C8D4E3"
           },
           "yaxis": {
            "backgroundcolor": "rgb(17,17,17)",
            "gridcolor": "#506784",
            "gridwidth": 2,
            "linecolor": "#506784",
            "showbackground": true,
            "ticks": "",
            "zerolinecolor": "#C8D4E3"
           },
           "zaxis": {
            "backgroundcolor": "rgb(17,17,17)",
            "gridcolor": "#506784",
            "gridwidth": 2,
            "linecolor": "#506784",
            "showbackground": true,
            "ticks": "",
            "zerolinecolor": "#C8D4E3"
           }
          },
          "shapedefaults": {
           "line": {
            "color": "#f2f5fa"
           }
          },
          "sliderdefaults": {
           "bgcolor": "#C8D4E3",
           "bordercolor": "rgb(17,17,17)",
           "borderwidth": 1,
           "tickwidth": 0
          },
          "ternary": {
           "aaxis": {
            "gridcolor": "#506784",
            "linecolor": "#506784",
            "ticks": ""
           },
           "baxis": {
            "gridcolor": "#506784",
            "linecolor": "#506784",
            "ticks": ""
           },
           "bgcolor": "rgb(17,17,17)",
           "caxis": {
            "gridcolor": "#506784",
            "linecolor": "#506784",
            "ticks": ""
           }
          },
          "title": {
           "x": 0.05
          },
          "updatemenudefaults": {
           "bgcolor": "#506784",
           "borderwidth": 0
          },
          "xaxis": {
           "automargin": true,
           "gridcolor": "#283442",
           "linecolor": "#506784",
           "ticks": "",
           "title": {
            "standoff": 15
           },
           "zerolinecolor": "#283442",
           "zerolinewidth": 2
          },
          "yaxis": {
           "automargin": true,
           "gridcolor": "#283442",
           "linecolor": "#506784",
           "ticks": "",
           "title": {
            "standoff": 15
           },
           "zerolinecolor": "#283442",
           "zerolinewidth": 2
          }
         }
        },
        "title": {
         "text": "TSLA Stock Price"
        },
        "xaxis": {
         "autorange": true,
         "range": [
          "2020-01-01 23:59:59.999",
          "2020-01-02 00:00:00.001"
         ],
         "title": {
          "text": "Date"
         },
         "type": "date"
        },
        "yaxis": {
         "autorange": true,
         "range": [
          -1,
          1
         ],
         "title": {
          "text": "Price (USD)"
         },
         "type": "multicategory"
        }
       }
      },
      "image/png": "[encoded data removed]",
      "text/html": [
       "<div>                            <div id=\"03cf322c-6cf4-4322-8f20-c9b8365bdffb\" class=\"plotly-graph-div\" style=\"height:525px; width:100%;\"></div>            <script type=\"text/javascript\">                require([\"plotly\"], function(Plotly) {                    window.PLOTLYENV=window.PLOTLYENV || {};                                    if (document.getElementById(\"03cf322c-6cf4-4322-8f20-c9b8365bdffb\")) {                    Plotly.newPlot(                        \"03cf322c-6cf4-4322-8f20-c9b8365bdffb\",                        [{\"mode\":\"lines\",\"name\":\"Tesla Close\",\"x\":[\"2020-01-02T00:00:00\",\"2020-01-03T00:00:00\",\"2020-01-06T00:00:00\",\"2020-01-07T00:00:00\",\"2020-01-08T00:00:00\",\"2020-01-09T00:00:00\",\"2020-01-10T00:00:00\",\"2020-01-13T00:00:00\",\"2020-01-14T00:00:00\",\"2020-01-15T00:00:00\",\"2020-01-16T00:00:00\",\"2020-01-17T00:00:00\",\"2020-01-21T00:00:00\",\"2020-01-22T00:00:00\",\"2020-01-23T00:00:00\",\"2020-01-24T00:00:00\",\"2020-01-27T00:00:00\",\"2020-01-28T00:00:00\",\"2020-01-29T00:00:00\",\"2020-01-30T00:00:00\",\"2020-01-31T00:00:00\",\"2020-02-03T00:00:00\",\"2020-02-04T00:00:00\",\"2020-02-05T00:00:00\",\"2020-02-06T00:00:00\",\"2020-02-07T00:00:00\",\"2020-02-10T00:00:00\",\"2020-02-11T00:00:00\",\"2020-02-12T00:00:00\",\"2020-02-13T00:00:00\",\"2020-02-14T00:00:00\",\"2020-02-18T00:00:00\",\"2020-02-19T00:00:00\",\"2020-02-20T00:00:00\",\"2020-02-21T00:00:00\",\"2020-02-24T00:00:00\",\"2020-02-25T00:00:00\",\"2020-02-26T00:00:00\",\"2020-02-27T00:00:00\",\"2020-02-28T00:00:00\",\"2020-03-02T00:00:00\",\"2020-03-03T00:00:00\",\"2020-03-04T00:00:00\",\"2020-03-05T00:00:00\",\"2020-03-06T00:00:00\",\"2020-03-09T00:00:00\",\"2020-03-10T00:00:00\",\"2020-03-11T00:00:00\",\"2020-03-12T00:00:00\",\"2020-03-13T00:00:00\",\"2020-03-16T00:00:00\",\"2020-03-17T00:00:00\",\"2020-03-18T00:00:00\",\"2020-03-19T00:00:00\",\"2020-03-20T00:00:00\",\"2020-03-23T00:00:00\",\"2020-03-24T00:00:00\",\"2020-03-25T00:00:00\",\"2020-03-26T00:00:00\",\"2020-03-27T00:00:00\",\"2020-03-30T00:00:00\",\"2020-03-31T00:00:00\",\"2020-04-01T00:00:00\",\"2020-04-02T00:00:00\",\"2020-04-03T00:00:00\",\"2020-04-06T00:00:00\",\"2020-04-07T00:00:00\",\"2020-04-08T00:00:00\",\"2020-04-09T00:00:00\",\"2020-04-13T00:00:00\",\"2020-04-14T00:00:00\",\"2020-04-15T00:00:00\",\"2020-04-16T00:00:00\",\"2020-04-17T00:00:00\",\"2020-04-20T00:00:00\",\"2020-04-21T00:00:00\",\"2020-04-22T00:00:00\",\"2020-04-23T00:00:00\",\"2020-04-24T00:00:00\",\"2020-04-27T00:00:00\",\"2020-04-28T00:00:00\",\"2020-04-29T00:00:00\",\"2020-04-30T00:00:00\",\"2020-05-01T00:00:00\",\"2020-05-04T00:00:00\",\"2020-05-05T00:00:00\",\"2020-05-06T00:00:00\",\"2020-05-07T00:00:00\",\"2020-05-08T00:00:00\",\"2020-05-11T00:00:00\",\"2020-05-12T00:00:00\",\"2020-05-13T00:00:00\",\"2020-05-14T00:00:00\",\"2020-05-15T00:00:00\",\"2020-05-18T00:00:00\",\"2020-05-19T00:00:00\",\"2020-05-20T00:00:00\",\"2020-05-21T00:00:00\",\"2020-05-22T00:00:00\",\"2020-05-26T00:00:00\",\"2020-05-27T00:00:00\",\"2020-05-28T00:00:00\",\"2020-05-29T00:00:00\",\"2020-06-01T00:00:00\",\"2020-06-02T00:00:00\",\"2020-06-03T00:00:00\",\"2020-06-04T00:00:00\",\"2020-06-05T00:00:00\",\"2020-06-08T00:00:00\",\"2020-06-09T00:00:00\",\"2020-06-10T00:00:00\",\"2020-06-11T00:00:00\",\"2020-06-12T00:00:00\",\"2020-06-15T00:00:00\",\"2020-06-16T00:00:00\",\"2020-06-17T00:00:00\",\"2020-06-18T00:00:00\",\"2020-06-19T00:00:00\",\"2020-06-22T00:00:00\",\"2020-06-23T00:00:00\",\"2020-06-24T00:00:00\",\"2020-06-25T00:00:00\",\"2020-06-26T00:00:00\",\"2020-06-29T00:00:00\",\"2020-06-30T00:00:00\",\"2020-07-01T00:00:00\",\"2020-07-02T00:00:00\",\"2020-07-06T00:00:00\",\"2020-07-07T00:00:00\",\"2020-07-08T00:00:00\",\"2020-07-09T00:00:00\",\"2020-07-10T00:00:00\",\"2020-07-13T00:00:00\",\"2020-07-14T00:00:00\",\"2020-07-15T00:00:00\",\"2020-07-16T00:00:00\",\"2020-07-17T00:00:00\",\"2020-07-20T00:00:00\",\"2020-07-21T00:00:00\",\"2020-07-22T00:00:00\",\"2020-07-23T00:00:00\",\"2020-07-24T00:00:00\",\"2020-07-27T00:00:00\",\"2020-07-28T00:00:00\",\"2020-07-29T00:00:00\",\"2020-07-30T00:00:00\",\"2020-07-31T00:00:00\",\"2020-08-03T00:00:00\",\"2020-08-04T00:00:00\",\"2020-08-05T00:00:00\",\"2020-08-06T00:00:00\",\"2020-08-07T00:00:00\",\"2020-08-10T00:00:00\",\"2020-08-11T00:00:00\",\"2020-08-12T00:00:00\",\"2020-08-13T00:00:00\",\"2020-08-14T00:00:00\",\"2020-08-17T00:00:00\",\"2020-08-18T00:00:00\",\"2020-08-19T00:00:00\",\"2020-08-20T00:00:00\",\"2020-08-21T00:00:00\",\"2020-08-24T00:00:00\",\"2020-08-25T00:00:00\",\"2020-08-26T00:00:00\",\"2020-08-27T00:00:00\",\"2020-08-28T00:00:00\",\"2020-08-31T00:00:00\",\"2020-09-01T00:00:00\",\"2020-09-02T00:00:00\",\"2020-09-03T00:00:00\",\"2020-09-04T00:00:00\",\"2020-09-08T00:00:00\",\"2020-09-09T00:00:00\",\"2020-09-10T00:00:00\",\"2020-09-11T00:00:00\",\"2020-09-14T00:00:00\",\"2020-09-15T00:00:00\",\"2020-09-16T00:00:00\",\"2020-09-17T00:00:00\",\"2020-09-18T00:00:00\",\"2020-09-21T00:00:00\",\"2020-09-22T00:00:00\",\"2020-09-23T00:00:00\",\"2020-09-24T00:00:00\",\"2020-09-25T00:00:00\",\"2020-09-28T00:00:00\",\"2020-09-29T00:00:00\",\"2020-09-30T00:00:00\",\"2020-10-01T00:00:00\",\"2020-10-02T00:00:00\",\"2020-10-05T00:00:00\",\"2020-10-06T00:00:00\",\"2020-10-07T00:00:00\",\"2020-10-08T00:00:00\",\"2020-10-09T00:00:00\",\"2020-10-12T00:00:00\",\"2020-10-13T00:00:00\",\"2020-10-14T00:00:00\",\"2020-10-15T00:00:00\",\"2020-10-16T00:00:00\",\"2020-10-19T00:00:00\",\"2020-10-20T00:00:00\",\"2020-10-21T00:00:00\",\"2020-10-22T00:00:00\",\"2020-10-23T00:00:00\",\"2020-10-26T00:00:00\",\"2020-10-27T00:00:00\",\"2020-10-28T00:00:00\",\"2020-10-29T00:00:00\",\"2020-10-30T00:00:00\",\"2020-11-02T00:00:00\",\"2020-11-03T00:00:00\",\"2020-11-04T00:00:00\",\"2020-11-05T00:00:00\",\"2020-11-06T00:00:00\",\"2020-11-09T00:00:00\",\"2020-11-10T00:00:00\",\"2020-11-11T00:00:00\",\"2020-11-12T00:00:00\",\"2020-11-13T00:00:00\",\"2020-11-16T00:00:00\",\"2020-11-17T00:00:00\",\"2020-11-18T00:00:00\",\"2020-11-19T00:00:00\",\"2020-11-20T00:00:00\",\"2020-11-23T00:00:00\",\"2020-11-24T00:00:00\",\"2020-11-25T00:00:00\",\"2020-11-27T00:00:00\",\"2020-11-30T00:00:00\",\"2020-12-01T00:00:00\",\"2020-12-02T00:00:00\",\"2020-12-03T00:00:00\",\"2020-12-04T00:00:00\",\"2020-12-07T00:00:00\",\"2020-12-08T00:00:00\",\"2020-12-09T00:00:00\",\"2020-12-10T00:00:00\",\"2020-12-11T00:00:00\",\"2020-12-14T00:00:00\",\"2020-12-15T00:00:00\",\"2020-12-16T00:00:00\",\"2020-12-17T00:00:00\",\"2020-12-18T00:00:00\",\"2020-12-21T00:00:00\",\"2020-12-22T00:00:00\",\"2020-12-23T00:00:00\",\"2020-12-24T00:00:00\",\"2020-12-28T00:00:00\",\"2020-12-29T00:00:00\",\"2020-12-30T00:00:00\",\"2020-12-31T00:00:00\",\"2021-01-04T00:00:00\",\"2021-01-05T00:00:00\",\"2021-01-06T00:00:00\",\"2021-01-07T00:00:00\",\"2021-01-08T00:00:00\",\"2021-01-11T00:00:00\",\"2021-01-12T00:00:00\",\"2021-01-13T00:00:00\",\"2021-01-14T00:00:00\",\"2021-01-15T00:00:00\",\"2021-01-19T00:00:00\",\"2021-01-20T00:00:00\",\"2021-01-21T00:00:00\",\"2021-01-22T00:00:00\",\"2021-01-25T00:00:00\",\"2021-01-26T00:00:00\",\"2021-01-27T00:00:00\",\"2021-01-28T00:00:00\",\"2021-01-29T00:00:00\",\"2021-02-01T00:00:00\",\"2021-02-02T00:00:00\",\"2021-02-03T00:00:00\",\"2021-02-04T00:00:00\",\"2021-02-05T00:00:00\",\"2021-02-08T00:00:00\",\"2021-02-09T00:00:00\",\"2021-02-10T00:00:00\",\"2021-02-11T00:00:00\",\"2021-02-12T00:00:00\",\"2021-02-16T00:00:00\",\"2021-02-17T00:00:00\",\"2021-02-18T00:00:00\",\"2021-02-19T00:00:00\",\"2021-02-22T00:00:00\",\"2021-02-23T00:00:00\",\"2021-02-24T00:00:00\",\"2021-02-25T00:00:00\",\"2021-02-26T00:00:00\",\"2021-03-01T00:00:00\",\"2021-03-02T00:00:00\",\"2021-03-03T00:00:00\",\"2021-03-04T00:00:00\",\"2021-03-05T00:00:00\",\"2021-03-08T00:00:00\",\"2021-03-09T00:00:00\",\"2021-03-10T00:00:00\",\"2021-03-11T00:00:00\",\"2021-03-12T00:00:00\",\"2021-03-15T00:00:00\",\"2021-03-16T00:00:00\",\"2021-03-17T00:00:00\",\"2021-03-18T00:00:00\",\"2021-03-19T00:00:00\",\"2021-03-22T00:00:00\",\"2021-03-23T00:00:00\",\"2021-03-24T00:00:00\",\"2021-03-25T00:00:00\",\"2021-03-26T00:00:00\",\"2021-03-29T00:00:00\",\"2021-03-30T00:00:00\",\"2021-03-31T00:00:00\",\"2021-04-01T00:00:00\",\"2021-04-05T00:00:00\",\"2021-04-06T00:00:00\",\"2021-04-07T00:00:00\",\"2021-04-08T00:00:00\",\"2021-04-09T00:00:00\",\"2021-04-12T00:00:00\",\"2021-04-13T00:00:00\",\"2021-04-14T00:00:00\",\"2021-04-15T00:00:00\",\"2021-04-16T00:00:00\",\"2021-04-19T00:00:00\",\"2021-04-20T00:00:00\",\"2021-04-21T00:00:00\",\"2021-04-22T00:00:00\",\"2021-04-23T00:00:00\",\"2021-04-26T00:00:00\",\"2021-04-27T00:00:00\",\"2021-04-28T00:00:00\",\"2021-04-29T00:00:00\",\"2021-04-30T00:00:00\",\"2021-05-03T00:00:00\",\"2021-05-04T00:00:00\",\"2021-05-05T00:00:00\",\"2021-05-06T00:00:00\",\"2021-05-07T00:00:00\",\"2021-05-10T00:00:00\",\"2021-05-11T00:00:00\",\"2021-05-12T00:00:00\",\"2021-05-13T00:00:00\",\"2021-05-14T00:00:00\",\"2021-05-17T00:00:00\",\"2021-05-18T00:00:00\",\"2021-05-19T00:00:00\",\"2021-05-20T00:00:00\",\"2021-05-21T00:00:00\",\"2021-05-24T00:00:00\",\"2021-05-25T00:00:00\",\"2021-05-26T00:00:00\",\"2021-05-27T00:00:00\",\"2021-05-28T00:00:00\",\"2021-06-01T00:00:00\",\"2021-06-02T00:00:00\",\"2021-06-03T00:00:00\",\"2021-06-04T00:00:00\",\"2021-06-07T00:00:00\",\"2021-06-08T00:00:00\",\"2021-06-09T00:00:00\",\"2021-06-10T00:00:00\",\"2021-06-11T00:00:00\",\"2021-06-14T00:00:00\",\"2021-06-15T00:00:00\",\"2021-06-16T00:00:00\",\"2021-06-17T00:00:00\",\"2021-06-18T00:00:00\",\"2021-06-21T00:00:00\",\"2021-06-22T00:00:00\",\"2021-06-23T00:00:00\",\"2021-06-24T00:00:00\",\"2021-06-25T00:00:00\",\"2021-06-28T00:00:00\",\"2021-06-29T00:00:00\",\"2021-06-30T00:00:00\",\"2021-07-01T00:00:00\",\"2021-07-02T00:00:00\",\"2021-07-06T00:00:00\",\"2021-07-07T00:00:00\",\"2021-07-08T00:00:00\",\"2021-07-09T00:00:00\",\"2021-07-12T00:00:00\",\"2021-07-13T00:00:00\",\"2021-07-14T00:00:00\",\"2021-07-15T00:00:00\",\"2021-07-16T00:00:00\",\"2021-07-19T00:00:00\",\"2021-07-20T00:00:00\",\"2021-07-21T00:00:00\",\"2021-07-22T00:00:00\",\"2021-07-23T00:00:00\",\"2021-07-26T00:00:00\",\"2021-07-27T00:00:00\",\"2021-07-28T00:00:00\",\"2021-07-29T00:00:00\",\"2021-07-30T00:00:00\",\"2021-08-02T00:00:00\",\"2021-08-03T00:00:00\",\"2021-08-04T00:00:00\",\"2021-08-05T00:00:00\",\"2021-08-06T00:00:00\",\"2021-08-09T00:00:00\",\"2021-08-10T00:00:00\",\"2021-08-11T00:00:00\",\"2021-08-12T00:00:00\",\"2021-08-13T00:00:00\",\"2021-08-16T00:00:00\",\"2021-08-17T00:00:00\",\"2021-08-18T00:00:00\",\"2021-08-19T00:00:00\",\"2021-08-20T00:00:00\",\"2021-08-23T00:00:00\",\"2021-08-24T00:00:00\",\"2021-08-25T00:00:00\",\"2021-08-26T00:00:00\",\"2021-08-27T00:00:00\",\"2021-08-30T00:00:00\",\"2021-08-31T00:00:00\",\"2021-09-01T00:00:00\",\"2021-09-02T00:00:00\",\"2021-09-03T00:00:00\",\"2021-09-07T00:00:00\",\"2021-09-08T00:00:00\",\"2021-09-09T00:00:00\",\"2021-09-10T00:00:00\",\"2021-09-13T00:00:00\",\"2021-09-14T00:00:00\",\"2021-09-15T00:00:00\",\"2021-09-16T00:00:00\",\"2021-09-17T00:00:00\",\"2021-09-20T00:00:00\",\"2021-09-21T00:00:00\",\"2021-09-22T00:00:00\",\"2021-09-23T00:00:00\",\"2021-09-24T00:00:00\",\"2021-09-27T00:00:00\",\"2021-09-28T00:00:00\",\"2021-09-29T00:00:00\",\"2021-09-30T00:00:00\",\"2021-10-01T00:00:00\",\"2021-10-04T00:00:00\",\"2021-10-05T00:00:00\",\"2021-10-06T00:00:00\",\"2021-10-07T00:00:00\",\"2021-10-08T00:00:00\",\"2021-10-11T00:00:00\",\"2021-10-12T00:00:00\",\"2021-10-13T00:00:00\",\"2021-10-14T00:00:00\",\"2021-10-15T00:00:00\",\"2021-10-18T00:00:00\",\"2021-10-19T00:00:00\",\"2021-10-20T00:00:00\",\"2021-10-21T00:00:00\",\"2021-10-22T00:00:00\",\"2021-10-25T00:00:00\",\"2021-10-26T00:00:00\",\"2021-10-27T00:00:00\",\"2021-10-28T00:00:00\",\"2021-10-29T00:00:00\",\"2021-11-01T00:00:00\",\"2021-11-02T00:00:00\",\"2021-11-03T00:00:00\",\"2021-11-04T00:00:00\",\"2021-11-05T00:00:00\",\"2021-11-08T00:00:00\",\"2021-11-09T00:00:00\",\"2021-11-10T00:00:00\",\"2021-11-11T00:00:00\",\"2021-11-12T00:00:00\",\"2021-11-15T00:00:00\",\"2021-11-16T00:00:00\",\"2021-11-17T00:00:00\",\"2021-11-18T00:00:00\",\"2021-11-19T00:00:00\",\"2021-11-22T00:00:00\",\"2021-11-23T00:00:00\",\"2021-11-24T00:00:00\",\"2021-11-26T00:00:00\",\"2021-11-29T00:00:00\",\"2021-11-30T00:00:00\",\"2021-12-01T00:00:00\",\"2021-12-02T00:00:00\",\"2021-12-03T00:00:00\",\"2021-12-06T00:00:00\",\"2021-12-07T00:00:00\",\"2021-12-08T00:00:00\",\"2021-12-09T00:00:00\",\"2021-12-10T00:00:00\",\"2021-12-13T00:00:00\",\"2021-12-14T00:00:00\",\"2021-12-15T00:00:00\",\"2021-12-16T00:00:00\",\"2021-12-17T00:00:00\",\"2021-12-20T00:00:00\",\"2021-12-21T00:00:00\",\"2021-12-22T00:00:00\",\"2021-12-23T00:00:00\",\"2021-12-27T00:00:00\",\"2021-12-28T00:00:00\",\"2021-12-29T00:00:00\",\"2021-12-30T00:00:00\",\"2021-12-31T00:00:00\",\"2022-01-03T00:00:00\",\"2022-01-04T00:00:00\",\"2022-01-05T00:00:00\",\"2022-01-06T00:00:00\",\"2022-01-07T00:00:00\",\"2022-01-10T00:00:00\",\"2022-01-11T00:00:00\",\"2022-01-12T00:00:00\",\"2022-01-13T00:00:00\",\"2022-01-14T00:00:00\",\"2022-01-18T00:00:00\",\"2022-01-19T00:00:00\",\"2022-01-20T00:00:00\",\"2022-01-21T00:00:00\",\"2022-01-24T00:00:00\",\"2022-01-25T00:00:00\",\"2022-01-26T00:00:00\",\"2022-01-27T00:00:00\",\"2022-01-28T00:00:00\",\"2022-01-31T00:00:00\",\"2022-02-01T00:00:00\",\"2022-02-02T00:00:00\",\"2022-02-03T00:00:00\",\"2022-02-04T00:00:00\",\"2022-02-07T00:00:00\",\"2022-02-08T00:00:00\",\"2022-02-09T00:00:00\",\"2022-02-10T00:00:00\",\"2022-02-11T00:00:00\",\"2022-02-14T00:00:00\",\"2022-02-15T00:00:00\",\"2022-02-16T00:00:00\",\"2022-02-17T00:00:00\",\"2022-02-18T00:00:00\",\"2022-02-22T00:00:00\",\"2022-02-23T00:00:00\",\"2022-02-24T00:00:00\",\"2022-02-25T00:00:00\",\"2022-02-28T00:00:00\",\"2022-03-01T00:00:00\",\"2022-03-02T00:00:00\",\"2022-03-03T00:00:00\",\"2022-03-04T00:00:00\",\"2022-03-07T00:00:00\",\"2022-03-08T00:00:00\",\"2022-03-09T00:00:00\",\"2022-03-10T00:00:00\",\"2022-03-11T00:00:00\",\"2022-03-14T00:00:00\",\"2022-03-15T00:00:00\",\"2022-03-16T00:00:00\",\"2022-03-17T00:00:00\",\"2022-03-18T00:00:00\",\"2022-03-21T00:00:00\",\"2022-03-22T00:00:00\",\"2022-03-23T00:00:00\",\"2022-03-24T00:00:00\",\"2022-03-25T00:00:00\",\"2022-03-28T00:00:00\",\"2022-03-29T00:00:00\",\"2022-03-30T00:00:00\",\"2022-03-31T00:00:00\",\"2022-04-01T00:00:00\",\"2022-04-04T00:00:00\",\"2022-04-05T00:00:00\",\"2022-04-06T00:00:00\",\"2022-04-07T00:00:00\",\"2022-04-08T00:00:00\",\"2022-04-11T00:00:00\",\"2022-04-12T00:00:00\",\"2022-04-13T00:00:00\",\"2022-04-14T00:00:00\",\"2022-04-18T00:00:00\",\"2022-04-19T00:00:00\",\"2022-04-20T00:00:00\",\"2022-04-21T00:00:00\",\"2022-04-22T00:00:00\",\"2022-04-25T00:00:00\",\"2022-04-26T00:00:00\",\"2022-04-27T00:00:00\",\"2022-04-28T00:00:00\",\"2022-04-29T00:00:00\",\"2022-05-02T00:00:00\",\"2022-05-03T00:00:00\",\"2022-05-04T00:00:00\",\"2022-05-05T00:00:00\",\"2022-05-06T00:00:00\",\"2022-05-09T00:00:00\",\"2022-05-10T00:00:00\",\"2022-05-11T00:00:00\",\"2022-05-12T00:00:00\",\"2022-05-13T00:00:00\",\"2022-05-16T00:00:00\",\"2022-05-17T00:00:00\",\"2022-05-18T00:00:00\",\"2022-05-19T00:00:00\",\"2022-05-20T00:00:00\",\"2022-05-23T00:00:00\",\"2022-05-24T00:00:00\",\"2022-05-25T00:00:00\",\"2022-05-26T00:00:00\",\"2022-05-27T00:00:00\",\"2022-05-31T00:00:00\",\"2022-06-01T00:00:00\",\"2022-06-02T00:00:00\",\"2022-06-03T00:00:00\",\"2022-06-06T00:00:00\",\"2022-06-07T00:00:00\",\"2022-06-08T00:00:00\",\"2022-06-09T00:00:00\",\"2022-06-10T00:00:00\",\"2022-06-13T00:00:00\",\"2022-06-14T00:00:00\",\"2022-06-15T00:00:00\",\"2022-06-16T00:00:00\",\"2022-06-17T00:00:00\",\"2022-06-21T00:00:00\",\"2022-06-22T00:00:00\",\"2022-06-23T00:00:00\",\"2022-06-24T00:00:00\",\"2022-06-27T00:00:00\",\"2022-06-28T00:00:00\",\"2022-06-29T00:00:00\",\"2022-06-30T00:00:00\",\"2022-07-01T00:00:00\",\"2022-07-05T00:00:00\",\"2022-07-06T00:00:00\",\"2022-07-07T00:00:00\",\"2022-07-08T00:00:00\",\"2022-07-11T00:00:00\",\"2022-07-12T00:00:00\",\"2022-07-13T00:00:00\",\"2022-07-14T00:00:00\",\"2022-07-15T00:00:00\",\"2022-07-18T00:00:00\",\"2022-07-19T00:00:00\",\"2022-07-20T00:00:00\",\"2022-07-21T00:00:00\",\"2022-07-22T00:00:00\",\"2022-07-25T00:00:00\",\"2022-07-26T00:00:00\",\"2022-07-27T00:00:00\",\"2022-07-28T00:00:00\",\"2022-07-29T00:00:00\",\"2022-08-01T00:00:00\",\"2022-08-02T00:00:00\",\"2022-08-03T00:00:00\",\"2022-08-04T00:00:00\",\"2022-08-05T00:00:00\",\"2022-08-08T00:00:00\",\"2022-08-09T00:00:00\",\"2022-08-10T00:00:00\",\"2022-08-11T00:00:00\",\"2022-08-12T00:00:00\",\"2022-08-15T00:00:00\",\"2022-08-16T00:00:00\",\"2022-08-17T00:00:00\",\"2022-08-18T00:00:00\",\"2022-08-19T00:00:00\",\"2022-08-22T00:00:00\",\"2022-08-23T00:00:00\",\"2022-08-24T00:00:00\",\"2022-08-25T00:00:00\",\"2022-08-26T00:00:00\",\"2022-08-29T00:00:00\",\"2022-08-30T00:00:00\",\"2022-08-31T00:00:00\",\"2022-09-01T00:00:00\",\"2022-09-02T00:00:00\",\"2022-09-06T00:00:00\",\"2022-09-07T00:00:00\",\"2022-09-08T00:00:00\",\"2022-09-09T00:00:00\",\"2022-09-12T00:00:00\",\"2022-09-13T00:00:00\",\"2022-09-14T00:00:00\",\"2022-09-15T00:00:00\",\"2022-09-16T00:00:00\",\"2022-09-19T00:00:00\",\"2022-09-20T00:00:00\",\"2022-09-21T00:00:00\",\"2022-09-22T00:00:00\",\"2022-09-23T00:00:00\",\"2022-09-26T00:00:00\",\"2022-09-27T00:00:00\",\"2022-09-28T00:00:00\",\"2022-09-29T00:00:00\",\"2022-09-30T00:00:00\",\"2022-10-03T00:00:00\",\"2022-10-04T00:00:00\",\"2022-10-05T00:00:00\",\"2022-10-06T00:00:00\",\"2022-10-07T00:00:00\",\"2022-10-10T00:00:00\",\"2022-10-11T00:00:00\",\"2022-10-12T00:00:00\",\"2022-10-13T00:00:00\",\"2022-10-14T00:00:00\",\"2022-10-17T00:00:00\",\"2022-10-18T00:00:00\",\"2022-10-19T00:00:00\",\"2022-10-20T00:00:00\",\"2022-10-21T00:00:00\",\"2022-10-24T00:00:00\",\"2022-10-25T00:00:00\",\"2022-10-26T00:00:00\",\"2022-10-27T00:00:00\",\"2022-10-28T00:00:00\",\"2022-10-31T00:00:00\",\"2022-11-01T00:00:00\",\"2022-11-02T00:00:00\",\"2022-11-03T00:00:00\",\"2022-11-04T00:00:00\",\"2022-11-07T00:00:00\",\"2022-11-08T00:00:00\",\"2022-11-09T00:00:00\",\"2022-11-10T00:00:00\",\"2022-11-11T00:00:00\",\"2022-11-14T00:00:00\",\"2022-11-15T00:00:00\",\"2022-11-16T00:00:00\",\"2022-11-17T00:00:00\",\"2022-11-18T00:00:00\",\"2022-11-21T00:00:00\",\"2022-11-22T00:00:00\",\"2022-11-23T00:00:00\",\"2022-11-25T00:00:00\",\"2022-11-28T00:00:00\",\"2022-11-29T00:00:00\",\"2022-11-30T00:00:00\",\"2022-12-01T00:00:00\",\"2022-12-02T00:00:00\",\"2022-12-05T00:00:00\",\"2022-12-06T00:00:00\",\"2022-12-07T00:00:00\",\"2022-12-08T00:00:00\",\"2022-12-09T00:00:00\",\"2022-12-12T00:00:00\",\"2022-12-13T00:00:00\",\"2022-12-14T00:00:00\",\"2022-12-15T00:00:00\",\"2022-12-16T00:00:00\",\"2022-12-19T00:00:00\",\"2022-12-20T00:00:00\",\"2022-12-21T00:00:00\",\"2022-12-22T00:00:00\",\"2022-12-23T00:00:00\",\"2022-12-27T00:00:00\",\"2022-12-28T00:00:00\",\"2022-12-29T00:00:00\",\"2022-12-30T00:00:00\",\"2023-01-03T00:00:00\",\"2023-01-04T00:00:00\",\"2023-01-05T00:00:00\",\"2023-01-06T00:00:00\",\"2023-01-09T00:00:00\",\"2023-01-10T00:00:00\",\"2023-01-11T00:00:00\",\"2023-01-12T00:00:00\",\"2023-01-13T00:00:00\",\"2023-01-17T00:00:00\",\"2023-01-18T00:00:00\",\"2023-01-19T00:00:00\",\"2023-01-20T00:00:00\",\"2023-01-23T00:00:00\",\"2023-01-24T00:00:00\",\"2023-01-25T00:00:00\",\"2023-01-26T00:00:00\",\"2023-01-27T00:00:00\",\"2023-01-30T00:00:00\",\"2023-01-31T00:00:00\",\"2023-02-01T00:00:00\",\"2023-02-02T00:00:00\",\"2023-02-03T00:00:00\",\"2023-02-06T00:00:00\",\"2023-02-07T00:00:00\",\"2023-02-08T00:00:00\",\"2023-02-09T00:00:00\",\"2023-02-10T00:00:00\",\"2023-02-13T00:00:00\",\"2023-02-14T00:00:00\",\"2023-02-15T00:00:00\",\"2023-02-16T00:00:00\",\"2023-02-17T00:00:00\",\"2023-02-21T00:00:00\",\"2023-02-22T00:00:00\",\"2023-02-23T00:00:00\",\"2023-02-24T00:00:00\",\"2023-02-27T00:00:00\",\"2023-02-28T00:00:00\",\"2023-03-01T00:00:00\",\"2023-03-02T00:00:00\",\"2023-03-03T00:00:00\",\"2023-03-06T00:00:00\",\"2023-03-07T00:00:00\",\"2023-03-08T00:00:00\",\"2023-03-09T00:00:00\",\"2023-03-10T00:00:00\",\"2023-03-13T00:00:00\",\"2023-03-14T00:00:00\",\"2023-03-15T00:00:00\",\"2023-03-16T00:00:00\",\"2023-03-17T00:00:00\",\"2023-03-20T00:00:00\",\"2023-03-21T00:00:00\",\"2023-03-22T00:00:00\",\"2023-03-23T00:00:00\",\"2023-03-24T00:00:00\",\"2023-03-27T00:00:00\",\"2023-03-28T00:00:00\",\"2023-03-29T00:00:00\",\"2023-03-30T00:00:00\",\"2023-03-31T00:00:00\",\"2023-04-03T00:00:00\",\"2023-04-04T00:00:00\",\"2023-04-05T00:00:00\",\"2023-04-06T00:00:00\",\"2023-04-10T00:00:00\",\"2023-04-11T00:00:00\",\"2023-04-12T00:00:00\",\"2023-04-13T00:00:00\",\"2023-04-14T00:00:00\",\"2023-04-17T00:00:00\",\"2023-04-18T00:00:00\",\"2023-04-19T00:00:00\",\"2023-04-20T00:00:00\",\"2023-04-21T00:00:00\",\"2023-04-24T00:00:00\",\"2023-04-25T00:00:00\",\"2023-04-26T00:00:00\",\"2023-04-27T00:00:00\",\"2023-04-28T00:00:00\",\"2023-05-01T00:00:00\",\"2023-05-02T00:00:00\",\"2023-05-03T00:00:00\",\"2023-05-04T00:00:00\",\"2023-05-05T00:00:00\",\"2023-05-08T00:00:00\",\"2023-05-09T00:00:00\",\"2023-05-10T00:00:00\",\"2023-05-11T00:00:00\",\"2023-05-12T00:00:00\",\"2023-05-15T00:00:00\",\"2023-05-16T00:00:00\",\"2023-05-17T00:00:00\",\"2023-05-18T00:00:00\",\"2023-05-19T00:00:00\",\"2023-05-22T00:00:00\",\"2023-05-23T00:00:00\",\"2023-05-24T00:00:00\",\"2023-05-25T00:00:00\",\"2023-05-26T00:00:00\",\"2023-05-30T00:00:00\",\"2023-05-31T00:00:00\",\"2023-06-01T00:00:00\",\"2023-06-02T00:00:00\",\"2023-06-05T00:00:00\",\"2023-06-06T00:00:00\",\"2023-06-07T00:00:00\",\"2023-06-08T00:00:00\",\"2023-06-09T00:00:00\",\"2023-06-12T00:00:00\",\"2023-06-13T00:00:00\",\"2023-06-14T00:00:00\",\"2023-06-15T00:00:00\",\"2023-06-16T00:00:00\",\"2023-06-20T00:00:00\",\"2023-06-21T00:00:00\",\"2023-06-22T00:00:00\",\"2023-06-23T00:00:00\",\"2023-06-26T00:00:00\",\"2023-06-27T00:00:00\",\"2023-06-28T00:00:00\",\"2023-06-29T00:00:00\",\"2023-06-30T00:00:00\",\"2023-07-03T00:00:00\",\"2023-07-05T00:00:00\",\"2023-07-06T00:00:00\",\"2023-07-07T00:00:00\",\"2023-07-10T00:00:00\",\"2023-07-11T00:00:00\",\"2023-07-12T00:00:00\",\"2023-07-13T00:00:00\",\"2023-07-14T00:00:00\",\"2023-07-17T00:00:00\",\"2023-07-18T00:00:00\",\"2023-07-19T00:00:00\",\"2023-07-20T00:00:00\",\"2023-07-21T00:00:00\",\"2023-07-24T00:00:00\",\"2023-07-25T00:00:00\",\"2023-07-26T00:00:00\",\"2023-07-27T00:00:00\",\"2023-07-28T00:00:00\",\"2023-07-31T00:00:00\",\"2023-08-01T00:00:00\",\"2023-08-02T00:00:00\",\"2023-08-03T00:00:00\",\"2023-08-04T00:00:00\",\"2023-08-07T00:00:00\",\"2023-08-08T00:00:00\",\"2023-08-09T00:00:00\",\"2023-08-10T00:00:00\",\"2023-08-11T00:00:00\",\"2023-08-14T00:00:00\",\"2023-08-15T00:00:00\",\"2023-08-16T00:00:00\",\"2023-08-17T00:00:00\",\"2023-08-18T00:00:00\",\"2023-08-21T00:00:00\",\"2023-08-22T00:00:00\",\"2023-08-23T00:00:00\",\"2023-08-24T00:00:00\",\"2023-08-25T00:00:00\",\"2023-08-28T00:00:00\",\"2023-08-29T00:00:00\",\"2023-08-30T00:00:00\",\"2023-08-31T00:00:00\",\"2023-09-01T00:00:00\",\"2023-09-05T00:00:00\",\"2023-09-06T00:00:00\",\"2023-09-07T00:00:00\",\"2023-09-08T00:00:00\",\"2023-09-11T00:00:00\",\"2023-09-12T00:00:00\",\"2023-09-13T00:00:00\",\"2023-09-14T00:00:00\",\"2023-09-15T00:00:00\",\"2023-09-18T00:00:00\",\"2023-09-19T00:00:00\",\"2023-09-20T00:00:00\",\"2023-09-21T00:00:00\",\"2023-09-22T00:00:00\",\"2023-09-25T00:00:00\",\"2023-09-26T00:00:00\",\"2023-09-27T00:00:00\",\"2023-09-28T00:00:00\",\"2023-09-29T00:00:00\",\"2023-10-02T00:00:00\",\"2023-10-03T00:00:00\",\"2023-10-04T00:00:00\",\"2023-10-05T00:00:00\",\"2023-10-06T00:00:00\",\"2023-10-09T00:00:00\",\"2023-10-10T00:00:00\",\"2023-10-11T00:00:00\",\"2023-10-12T00:00:00\",\"2023-10-13T00:00:00\",\"2023-10-16T00:00:00\",\"2023-10-17T00:00:00\",\"2023-10-18T00:00:00\",\"2023-10-19T00:00:00\",\"2023-10-20T00:00:00\",\"2023-10-23T00:00:00\",\"2023-10-24T00:00:00\",\"2023-10-25T00:00:00\",\"2023-10-26T00:00:00\",\"2023-10-27T00:00:00\",\"2023-10-30T00:00:00\",\"2023-10-31T00:00:00\",\"2023-11-01T00:00:00\",\"2023-11-02T00:00:00\",\"2023-11-03T00:00:00\",\"2023-11-06T00:00:00\",\"2023-11-07T00:00:00\",\"2023-11-08T00:00:00\",\"2023-11-09T00:00:00\",\"2023-11-10T00:00:00\",\"2023-11-13T00:00:00\",\"2023-11-14T00:00:00\",\"2023-11-15T00:00:00\",\"2023-11-16T00:00:00\",\"2023-11-17T00:00:00\",\"2023-11-20T00:00:00\",\"2023-11-21T00:00:00\",\"2023-11-22T00:00:00\",\"2023-11-24T00:00:00\",\"2023-11-27T00:00:00\",\"2023-11-28T00:00:00\",\"2023-11-29T00:00:00\",\"2023-11-30T00:00:00\",\"2023-12-01T00:00:00\",\"2023-12-04T00:00:00\",\"2023-12-05T00:00:00\",\"2023-12-06T00:00:00\",\"2023-12-07T00:00:00\",\"2023-12-08T00:00:00\",\"2023-12-11T00:00:00\",\"2023-12-12T00:00:00\",\"2023-12-13T00:00:00\",\"2023-12-14T00:00:00\",\"2023-12-15T00:00:00\",\"2023-12-18T00:00:00\",\"2023-12-19T00:00:00\",\"2023-12-20T00:00:00\",\"2023-12-21T00:00:00\",\"2023-12-22T00:00:00\",\"2023-12-26T00:00:00\",\"2023-12-27T00:00:00\",\"2023-12-28T00:00:00\",\"2023-12-29T00:00:00\",\"2024-01-02T00:00:00\",\"2024-01-03T00:00:00\",\"2024-01-04T00:00:00\",\"2024-01-05T00:00:00\",\"2024-01-08T00:00:00\",\"2024-01-09T00:00:00\",\"2024-01-10T00:00:00\",\"2024-01-11T00:00:00\",\"2024-01-12T00:00:00\",\"2024-01-16T00:00:00\",\"2024-01-17T00:00:00\",\"2024-01-18T00:00:00\",\"2024-01-19T00:00:00\",\"2024-01-22T00:00:00\",\"2024-01-23T00:00:00\",\"2024-01-24T00:00:00\",\"2024-01-25T00:00:00\",\"2024-01-26T00:00:00\",\"2024-01-29T00:00:00\",\"2024-01-30T00:00:00\",\"2024-01-31T00:00:00\",\"2024-02-01T00:00:00\",\"2024-02-02T00:00:00\",\"2024-02-05T00:00:00\",\"2024-02-06T00:00:00\",\"2024-02-07T00:00:00\",\"2024-02-08T00:00:00\",\"2024-02-09T00:00:00\",\"2024-02-12T00:00:00\",\"2024-02-13T00:00:00\",\"2024-02-14T00:00:00\",\"2024-02-15T00:00:00\",\"2024-02-16T00:00:00\",\"2024-02-20T00:00:00\",\"2024-02-21T00:00:00\",\"2024-02-22T00:00:00\",\"2024-02-23T00:00:00\",\"2024-02-26T00:00:00\",\"2024-02-27T00:00:00\",\"2024-02-28T00:00:00\",\"2024-02-29T00:00:00\",\"2024-03-01T00:00:00\",\"2024-03-04T00:00:00\",\"2024-03-05T00:00:00\",\"2024-03-06T00:00:00\",\"2024-03-07T00:00:00\",\"2024-03-08T00:00:00\",\"2024-03-11T00:00:00\",\"2024-03-12T00:00:00\",\"2024-03-13T00:00:00\",\"2024-03-14T00:00:00\",\"2024-03-15T00:00:00\",\"2024-03-18T00:00:00\",\"2024-03-19T00:00:00\",\"2024-03-20T00:00:00\",\"2024-03-21T00:00:00\",\"2024-03-22T00:00:00\",\"2024-03-25T00:00:00\",\"2024-03-26T00:00:00\",\"2024-03-27T00:00:00\",\"2024-03-28T00:00:00\",\"2024-04-01T00:00:00\",\"2024-04-02T00:00:00\",\"2024-04-03T00:00:00\",\"2024-04-04T00:00:00\",\"2024-04-05T00:00:00\",\"2024-04-08T00:00:00\",\"2024-04-09T00:00:00\",\"2024-04-10T00:00:00\",\"2024-04-11T00:00:00\",\"2024-04-12T00:00:00\",\"2024-04-15T00:00:00\",\"2024-04-16T00:00:00\",\"2024-04-17T00:00:00\",\"2024-04-18T00:00:00\",\"2024-04-19T00:00:00\",\"2024-04-22T00:00:00\",\"2024-04-23T00:00:00\",\"2024-04-24T00:00:00\",\"2024-04-25T00:00:00\",\"2024-04-26T00:00:00\",\"2024-04-29T00:00:00\",\"2024-04-30T00:00:00\",\"2024-05-01T00:00:00\",\"2024-05-02T00:00:00\",\"2024-05-03T00:00:00\",\"2024-05-06T00:00:00\",\"2024-05-07T00:00:00\",\"2024-05-08T00:00:00\",\"2024-05-09T00:00:00\",\"2024-05-10T00:00:00\",\"2024-05-13T00:00:00\",\"2024-05-14T00:00:00\",\"2024-05-15T00:00:00\",\"2024-05-16T00:00:00\",\"2024-05-17T00:00:00\",\"2024-05-20T00:00:00\",\"2024-05-21T00:00:00\",\"2024-05-22T00:00:00\",\"2024-05-23T00:00:00\",\"2024-05-24T00:00:00\",\"2024-05-28T00:00:00\",\"2024-05-29T00:00:00\",\"2024-05-30T00:00:00\",\"2024-05-31T00:00:00\",\"2024-06-03T00:00:00\",\"2024-06-04T00:00:00\",\"2024-06-05T00:00:00\",\"2024-06-06T00:00:00\",\"2024-06-07T00:00:00\",\"2024-06-10T00:00:00\",\"2024-06-11T00:00:00\",\"2024-06-12T00:00:00\",\"2024-06-13T00:00:00\",\"2024-06-14T00:00:00\",\"2024-06-17T00:00:00\",\"2024-06-18T00:00:00\",\"2024-06-20T00:00:00\",\"2024-06-21T00:00:00\",\"2024-06-24T00:00:00\",\"2024-06-25T00:00:00\",\"2024-06-26T00:00:00\",\"2024-06-27T00:00:00\",\"2024-06-28T00:00:00\",\"2024-07-01T00:00:00\",\"2024-07-02T00:00:00\",\"2024-07-03T00:00:00\",\"2024-07-05T00:00:00\",\"2024-07-08T00:00:00\",\"2024-07-09T00:00:00\",\"2024-07-10T00:00:00\",\"2024-07-11T00:00:00\",\"2024-07-12T00:00:00\",\"2024-07-15T00:00:00\",\"2024-07-16T00:00:00\",\"2024-07-17T00:00:00\",\"2024-07-18T00:00:00\",\"2024-07-19T00:00:00\",\"2024-07-22T00:00:00\",\"2024-07-23T00:00:00\",\"2024-07-24T00:00:00\",\"2024-07-25T00:00:00\",\"2024-07-26T00:00:00\",\"2024-07-29T00:00:00\",\"2024-07-30T00:00:00\",\"2024-07-31T00:00:00\",\"2024-08-01T00:00:00\",\"2024-08-02T00:00:00\",\"2024-08-05T00:00:00\",\"2024-08-06T00:00:00\",\"2024-08-07T00:00:00\",\"2024-08-08T00:00:00\",\"2024-08-09T00:00:00\",\"2024-08-12T00:00:00\",\"2024-08-13T00:00:00\",\"2024-08-14T00:00:00\",\"2024-08-15T00:00:00\",\"2024-08-16T00:00:00\",\"2024-08-19T00:00:00\",\"2024-08-20T00:00:00\",\"2024-08-21T00:00:00\",\"2024-08-22T00:00:00\",\"2024-08-23T00:00:00\",\"2024-08-26T00:00:00\",\"2024-08-27T00:00:00\",\"2024-08-28T00:00:00\",\"2024-08-29T00:00:00\",\"2024-08-30T00:00:00\",\"2024-09-03T00:00:00\",\"2024-09-04T00:00:00\",\"2024-09-05T00:00:00\",\"2024-09-06T00:00:00\",\"2024-09-09T00:00:00\",\"2024-09-10T00:00:00\",\"2024-09-11T00:00:00\",\"2024-09-12T00:00:00\",\"2024-09-13T00:00:00\",\"2024-09-16T00:00:00\",\"2024-09-17T00:00:00\",\"2024-09-18T00:00:00\",\"2024-09-19T00:00:00\",\"2024-09-20T00:00:00\",\"2024-09-23T00:00:00\",\"2024-09-24T00:00:00\",\"2024-09-25T00:00:00\",\"2024-09-26T00:00:00\",\"2024-09-27T00:00:00\",\"2024-09-30T00:00:00\",\"2024-10-01T00:00:00\",\"2024-10-02T00:00:00\",\"2024-10-03T00:00:00\",\"2024-10-04T00:00:00\",\"2024-10-07T00:00:00\",\"2024-10-08T00:00:00\",\"2024-10-09T00:00:00\",\"2024-10-10T00:00:00\",\"2024-10-11T00:00:00\",\"2024-10-14T00:00:00\",\"2024-10-15T00:00:00\",\"2024-10-16T00:00:00\",\"2024-10-17T00:00:00\",\"2024-10-18T00:00:00\",\"2024-10-21T00:00:00\",\"2024-10-22T00:00:00\",\"2024-10-23T00:00:00\",\"2024-10-24T00:00:00\",\"2024-10-25T00:00:00\",\"2024-10-28T00:00:00\",\"2024-10-29T00:00:00\",\"2024-10-30T00:00:00\",\"2024-10-31T00:00:00\",\"2024-11-01T00:00:00\",\"2024-11-04T00:00:00\",\"2024-11-05T00:00:00\",\"2024-11-06T00:00:00\",\"2024-11-07T00:00:00\",\"2024-11-08T00:00:00\",\"2024-11-11T00:00:00\",\"2024-11-12T00:00:00\",\"2024-11-13T00:00:00\",\"2024-11-14T00:00:00\",\"2024-11-15T00:00:00\",\"2024-11-18T00:00:00\",\"2024-11-19T00:00:00\",\"2024-11-20T00:00:00\",\"2024-11-21T00:00:00\",\"2024-11-22T00:00:00\",\"2024-11-25T00:00:00\",\"2024-11-26T00:00:00\",\"2024-11-27T00:00:00\",\"2024-11-29T00:00:00\",\"2024-12-02T00:00:00\",\"2024-12-03T00:00:00\",\"2024-12-04T00:00:00\",\"2024-12-05T00:00:00\",\"2024-12-06T00:00:00\",\"2024-12-09T00:00:00\",\"2024-12-10T00:00:00\",\"2024-12-11T00:00:00\",\"2024-12-12T00:00:00\",\"2024-12-13T00:00:00\",\"2024-12-16T00:00:00\",\"2024-12-17T00:00:00\",\"2024-12-18T00:00:00\",\"2024-12-19T00:00:00\",\"2024-12-20T00:00:00\",\"2024-12-23T00:00:00\",\"2024-12-24T00:00:00\",\"2024-12-26T00:00:00\",\"2024-12-27T00:00:00\",\"2024-12-30T00:00:00\",\"2024-12-31T00:00:00\"],\"y\":[[28.68400001525879],[29.534000396728516],[30.1026668548584],[31.270666122436523],[32.80933380126953],[32.089332580566406],[31.876667022705078],[34.990665435791016],[35.861331939697266],[34.56666564941406],[34.232666015625],[34.03333282470703],[36.47999954223633],[37.97066879272461],[38.14666748046875],[37.654666900634766],[37.201332092285156],[37.793331146240234],[38.732666015625],[42.72066879272461],[43.371334075927734],[52.0],[59.137332916259766],[48.97999954223633],[49.930667877197266],[49.871334075927734],[51.41866683959961],[51.62533187866211],[51.15266799926758],[53.599998474121094],[53.33533477783203],[57.22666549682617],[61.16133117675781],[59.96066665649414],[60.06666564941406],[55.58599853515625],[53.32733154296875],[51.91999816894531],[45.266666412353516],[44.53266525268555],[49.574668884277344],[49.70066833496094],[49.96666717529297],[48.30266571044922],[46.89866638183594],[40.53333282470703],[43.02199935913086],[42.28200149536133],[37.369998931884766],[36.44133377075195],[29.67133331298828],[28.68000030517578],[24.08133316040039],[28.50933265686035],[28.50200080871582],[28.952667236328125],[33.66666793823242],[35.95000076293945],[35.21066665649414],[34.29066848754883],[33.47533416748047],[34.93333435058594],[32.104000091552734],[30.29800033569336],[32.000667572021484],[34.41600036621094],[36.36333465576172],[36.589332580566406],[38.20000076293945],[43.39666748046875],[47.32600021362305],[48.65533447265625],[49.680667877197266],[50.259334564208984],[49.75733184814453],[45.781333923339844],[48.807334899902344],[47.04199981689453],[48.34333419799805],[53.25],[51.27466583251953],[53.367332458496094],[52.12533187866211],[46.75466537475586],[50.74599838256836],[51.2140007019043],[52.172000885009766],[52.00266647338867],[54.62799835205078],[54.08599853515625],[53.96066665649414],[52.73066711425781],[53.55533218383789],[53.27799987792969],[54.242000579833984],[53.867332458496094],[54.37066650390625],[55.17333221435547],[54.45866775512695],[54.591331481933594],[54.68199920654297],[53.72066879272461],[55.66666793823242],[59.87333297729492],[58.770668029785156],[58.86399841308594],[57.62533187866211],[59.04399871826172],[63.327999114990234],[62.711334228515625],[68.336669921875],[64.85600280761719],[62.35200119018555],[66.05999755859375],[65.47533416748047],[66.11933135986328],[66.9306640625],[66.72666931152344],[66.28800201416016],[66.78533172607422],[64.0566635131836],[65.73200225830078],[63.982666015625],[67.29000091552734],[71.98733520507812],[74.64199829101562],[80.57733154296875],[91.43866729736328],[92.65733337402344],[91.05867004394531],[92.9520034790039],[102.97666931152344],[99.80400085449219],[101.12000274658203],[103.06732940673828],[100.04266357421875],[100.05599975585938],[109.53333282470703],[104.55733489990234],[106.15533447265625],[100.87133026123047],[94.46666717529297],[102.63999938964844],[98.43267059326172],[99.94066619873047],[99.16600036621094],[95.38400268554688],[99.0],[99.13333129882812],[99.00133514404297],[99.30533599853516],[96.84733581542969],[94.57133483886719],[91.6259994506836],[103.65066528320312],[108.06666564941406],[110.04733276367188],[122.3759994506836],[125.80599975585938],[125.23533630371094],[133.45533752441406],[136.6653289794922],[134.27999877929688],[134.8893280029297],[143.54466247558594],[149.25],[147.55999755859375],[166.10667419433594],[158.35000610351562],[149.1233367919922],[135.6666717529297],[139.44000244140625],[110.06999969482422],[122.09333038330078],[123.77999877929688],[124.23999786376953],[139.8733367919922],[149.9199981689453],[147.25332641601562],[141.14332580566406],[147.38333129882812],[149.79666137695312],[141.41000366210938],[126.78666687011719],[129.26333618164062],[135.77999877929688],[140.39999389648438],[139.69000244140625],[143.00332641601562],[149.3866729736328],[138.3633270263672],[141.89332580566406],[137.9933319091797],[141.76666259765625],[141.97332763671875],[144.6666717529297],[147.43333435058594],[148.88333129882812],[153.76666259765625],[149.6266632080078],[146.55667114257812],[143.61000061035156],[140.64666748046875],[140.8800048828125],[141.92999267578125],[140.2100067138672],[140.0933380126953],[141.55999755859375],[135.33999633789062],[136.94332885742188],[129.34666442871094],[133.50332641601562],[141.3000030517578],[140.32666015625],[146.02999877929688],[143.31666564941406],[140.4199981689453],[136.7866668701172],[139.0433349609375],[137.25332641601562],[136.1666717529297],[136.02999877929688],[147.20333862304688],[162.2133331298828],[166.42333984375],[163.20333862304688],[173.9499969482422],[185.1266632080078],[191.3333282470703],[195.25332641601562],[189.1999969482422],[194.9199981689453],[189.60667419433594],[197.7933349609375],[199.67999267578125],[213.9199981689453],[216.6266632080078],[201.4933319091797],[209.02333068847656],[203.3300018310547],[213.27667236328125],[211.0833282470703],[207.58999633789062],[218.63333129882812],[231.6666717529297],[216.6199951171875],[213.44667053222656],[215.32666015625],[220.58999633789062],[221.22999572753906],[221.99667358398438],[231.5933380126953],[235.22332763671875],[243.2566680908203],[245.0366668701172],[251.9933319091797],[272.0133361816406],[293.3399963378906],[270.39666748046875],[283.14666748046875],[284.8033447265625],[281.6666564941406],[275.38665771484375],[281.51666259765625],[283.48333740234375],[281.663330078125],[282.21331787109375],[293.6000061035156],[294.36334228515625],[288.0533447265625],[278.4766540527344],[264.510009765625],[279.9366760253906],[290.92999267578125],[284.89666748046875],[283.3299865722656],[284.07666015625],[287.8066711425781],[283.1533203125],[268.2733459472656],[270.5533447265625],[272.0400085449219],[265.40667724609375],[266.04998779296875],[262.4599914550781],[260.4333190917969],[238.1666717529297],[232.94667053222656],[247.33999633789062],[227.4066619873047],[225.1666717529297],[239.47666931152344],[228.81333923339844],[217.73333740234375],[207.14666748046875],[199.31666564941406],[187.6666717529297],[224.52667236328125],[222.68666076660156],[233.1999969482422],[231.2433319091797],[235.97999572753906],[225.6266632080078],[233.93666076660156],[217.72000122070312],[218.2899932861328],[223.3333282470703],[220.72000122070312],[210.08999633789062],[213.4633331298828],[206.23666381835938],[203.76333618164062],[211.8733367919922],[222.64332580566406],[220.5833282470703],[230.35000610351562],[230.5399932861328],[223.6566619873047],[227.93333435058594],[225.67333984375],[233.9933319091797],[254.10667419433594],[244.07666015625],[246.28334045410156],[246.5933380126953],[238.2100067138672],[239.663330078125],[248.0399932861328],[239.89666748046875],[243.13333129882812],[246.06666564941406],[234.913330078125],[231.46665954589844],[225.6666717529297],[236.47999572753906],[228.3000030517578],[224.53334045410156],[223.64666748046875],[221.17999267578125],[224.1233367919922],[209.67999267578125],[205.73333740234375],[196.6300048828125],[190.56333923339844],[196.5800018310547],[192.27667236328125],[192.6233367919922],[187.82000732421875],[195.5933380126953],[193.6266632080078],[202.14666748046875],[201.56333923339844],[206.3766632080078],[210.28334045410156],[208.4066619873047],[207.96665954589844],[201.7066650390625],[190.94667053222656],[199.68333435058594],[201.7100067138672],[201.19667053222656],[199.5933380126953],[203.3733367919922],[203.29666137695312],[205.89666748046875],[199.7866668701172],[201.6233367919922],[205.53334045410156],[207.77000427246094],[206.94332885742188],[207.90333557128906],[218.85667419433594],[226.60667419433594],[223.9566650390625],[229.57333374023438],[226.9199981689453],[226.56666564941406],[225.97332763671875],[226.3000030517578],[219.86000061035156],[214.88333129882812],[217.60333251953125],[218.98333740234375],[228.56666564941406],[222.84666442871094],[217.7933349609375],[216.86666870117188],[214.74000549316406],[215.4066619873047],[220.1666717529297],[218.42999267578125],[216.4199981689453],[214.4600067138672],[219.2066650390625],[214.92666625976562],[215.66000366210938],[225.78334045410156],[229.06666564941406],[236.55667114257812],[236.5800018310547],[236.97332763671875],[238.2100067138672],[233.03334045410156],[237.9199981689453],[236.663330078125],[235.94000244140625],[240.75],[239.05667114257812],[228.72332763671875],[221.90333557128906],[229.663330078125],[224.49000549316406],[226.75332641601562],[235.43333435058594],[236.163330078125],[237.06666564941406],[233.72000122070312],[237.30667114257812],[243.6366729736328],[245.24000549316406],[244.69667053222656],[244.1300048828125],[244.52333068847656],[250.97332763671875],[251.2899932861328],[251.6199951171875],[245.42333984375],[247.6666717529297],[248.163330078125],[251.94332885742188],[252.3300018310547],[253.163330078125],[243.38999938964844],[246.4600067138672],[250.64666748046875],[251.2133331298828],[258.1300048828125],[263.78668212890625],[259.1866760253906],[260.4366760253906],[258.49334716796875],[258.40667724609375],[260.510009765625],[260.1966552734375],[260.9166564941406],[264.53668212890625],[261.8299865722656],[263.9800109863281],[268.5733337402344],[270.3599853515625],[272.7733459472656],[281.010009765625],[290.03668212890625],[288.0899963378906],[288.6000061035156],[298.0],[303.2266540527344],[341.6199951171875],[339.4766540527344],[345.9533386230469],[359.0133361816406],[371.3333435058594],[402.86334228515625],[390.6666564941406],[404.6199951171875],[409.9700012207031],[407.36334228515625],[387.64666748046875],[341.1666564941406],[355.98333740234375],[354.5033264160156],[344.47332763671875],[337.7966613769531],[351.57666015625],[363.0033264160156],[365.4599914550781],[379.0199890136719],[385.6233215332031],[369.6766662597656],[372.0],[360.6400146484375],[378.9966735839844],[381.586669921875],[365.0],[361.5333251953125],[338.3233337402344],[336.336669921875],[350.5833435058594],[356.32000732421875],[334.6000061035156],[339.010009765625],[322.13665771484375],[319.5033264160156],[325.3299865722656],[308.97332763671875],[310.8566589355469],[299.9800109863281],[312.84332275390625],[336.2900085449219],[355.6666564941406],[364.64666748046875],[362.8233337402344],[362.0633239746094],[356.7799987792969],[352.260009765625],[399.9266662597656],[383.1966552734375],[362.7066650390625],[354.8999938964844],[342.32000732421875],[352.7066650390625],[354.79998779296875],[368.739990234375],[343.85333251953125],[349.8699951171875],[343.5033264160156],[331.8833312988281],[332.0899963378906],[314.6333312988281],[310.0],[306.1333312988281],[312.4700012207031],[276.3666687011719],[282.1166687011719],[312.239990234375],[310.4166564941406],[301.88665771484375],[297.0466613769531],[307.7733459472656],[302.4466552734375],[307.3333435058594],[310.6666564941406],[301.51666259765625],[286.6666564941406],[291.9200134277344],[307.4766540527344],[307.7966613769531],[292.1166687011719],[285.6600036621094],[273.84332275390625],[254.67999267578125],[266.92333984375],[269.9566650390625],[290.1433410644531],[288.1233215332031],[293.2966613769531],[279.7633361816406],[279.42999267578125],[268.1933288574219],[274.79998779296875],[286.3233337402344],[279.4333190917969],[265.1166687011719],[255.4566650390625],[267.2966613769531],[280.07666015625],[290.5333251953125],[301.7966613769531],[307.0533447265625],[331.32666015625],[333.03668212890625],[337.97332763671875],[336.8800048828125],[363.9466552734375],[366.5233459472656],[364.663330078125],[359.20001220703125],[361.5299987792969],[381.8166809082031],[363.7533264160156],[348.586669921875],[352.4200134277344],[341.8299865722656],[325.30999755859375],[328.98333740234375],[340.7900085449219],[328.3333435058594],[334.7633361816406],[342.7166748046875],[325.73333740234375],[336.260009765625],[335.01666259765625],[332.67333984375],[292.1400146484375],[293.836669921875],[292.5033264160156],[290.2533264160156],[300.9800109863281],[303.0833435058594],[317.5400085449219],[291.09332275390625],[288.54998779296875],[262.3699951171875],[266.67999267578125],[244.6666717529297],[242.6666717529297],[256.5299987792969],[241.4566650390625],[253.8699951171875],[236.60333251953125],[236.47332763671875],[221.3000030517578],[224.96665954589844],[209.3866729736328],[219.60000610351562],[235.91000366210938],[253.2100067138672],[252.75332641601562],[246.7899932861328],[258.3333435058594],[234.51666259765625],[238.27999877929688],[238.8866729736328],[241.86666870117188],[239.7066650390625],[232.22999572753906],[215.73666381835938],[220.88999938964844],[233.0],[213.10000610351562],[216.75999450683594],[237.0366668701172],[236.086669921875],[235.07000732421875],[245.7066650390625],[244.9199981689453],[232.663330078125],[228.49000549316406],[224.47332763671875],[227.26333618164062],[233.06666564941406],[231.73333740234375],[244.5433349609375],[250.76333618164062],[234.3433380126953],[233.07000732421875],[237.0399932861328],[238.31333923339844],[240.06666564941406],[240.54666137695312],[245.52999877929688],[247.5],[271.7066650390625],[272.24334716796875],[268.4333190917969],[258.8599853515625],[274.82000732421875],[280.8999938964844],[297.1499938964844],[297.27667236328125],[300.586669921875],[307.39666748046875],[308.6333312988281],[288.1700134277344],[290.42333984375],[283.3333435058594],[294.3566589355469],[286.6300048828125],[300.0299987792969],[309.32000732421875],[306.5633239746094],[303.9966735839844],[302.8699951171875],[296.6666564941406],[289.913330078125],[296.4533386230469],[297.0966796875],[296.07000732421875],[288.0899963378906],[284.82000732421875],[277.70001220703125],[275.6099853515625],[277.1600036621094],[270.2099914550781],[274.4200134277344],[283.70001220703125],[289.260009765625],[299.67999267578125],[304.4200134277344],[292.1300048828125],[302.6099853515625],[303.75],[303.3500061035156],[309.07000732421875],[308.7300109863281],[300.79998779296875],[288.5899963378906],[275.3299865722656],[276.010009765625],[282.94000244140625],[287.80999755859375],[268.2099914550781],[265.25],[242.39999389648438],[249.44000244140625],[240.80999755859375],[238.1300048828125],[223.07000732421875],[222.9600067138672],[216.5],[217.24000549316406],[221.72000122070312],[204.99000549316406],[219.35000610351562],[220.19000244140625],[222.0399932861328],[207.27999877929688],[214.44000244140625],[211.25],[222.4199981689453],[224.63999938964844],[225.08999633789062],[228.52000427246094],[227.5399932861328],[227.82000732421875],[214.97999572753906],[215.30999755859375],[207.47000122070312],[197.0800018310547],[191.3000030517578],[177.58999633789062],[190.72000122070312],[195.97000122070312],[190.9499969482422],[194.4199981689453],[186.9199981689453],[183.1699981689453],[180.19000244140625],[167.8699951171875],[169.91000366210938],[183.1999969482422],[182.86000061035156],[182.9199981689453],[180.8300018310547],[194.6999969482422],[194.6999969482422],[194.86000061035156],[182.4499969482422],[179.82000732421875],[174.0399932861328],[173.44000244140625],[179.0500030517578],[167.82000732421875],[160.9499969482422],[156.8000030517578],[157.6699981689453],[150.22999572753906],[149.8699951171875],[137.8000030517578],[137.57000732421875],[125.3499984741211],[123.1500015258789],[109.0999984741211],[112.70999908447266],[121.81999969482422],[123.18000030517578],[108.0999984741211],[113.63999938964844],[110.33999633789062],[113.05999755859375],[119.7699966430664],[118.8499984741211],[123.22000122070312],[123.55999755859375],[122.4000015258789],[131.49000549316406],[128.77999877929688],[127.16999816894531],[133.4199981689453],[143.75],[143.88999938964844],[144.42999267578125],[160.27000427246094],[177.89999389648438],[166.66000366210938],[173.22000122070312],[181.41000366210938],[188.27000427246094],[189.97999572753906],[194.75999450683594],[196.80999755859375],[201.2899932861328],[207.32000732421875],[196.88999938964844],[194.63999938964844],[209.25],[214.24000549316406],[202.0399932861328],[208.30999755859375],[197.3699951171875],[200.86000061035156],[202.07000732421875],[196.8800048828125],[207.6300048828125],[205.7100067138672],[202.77000427246094],[190.89999389648438],[197.7899932861328],[193.80999755859375],[187.7100067138672],[182.0],[172.9199981689453],[173.44000244140625],[174.47999572753906],[183.25999450683594],[180.4499969482422],[184.1300048828125],[180.1300048828125],[183.25],[197.5800018310547],[191.14999389648438],[192.22000122070312],[190.41000366210938],[191.80999755859375],[189.19000244140625],[193.8800048828125],[195.27999877929688],[207.4600067138672],[194.77000427246094],[192.5800018310547],[185.52000427246094],[185.05999755859375],[184.50999450683594],[186.7899932861328],[180.5399932861328],[185.89999389648438],[185.0],[187.0399932861328],[184.30999755859375],[180.58999633789062],[162.99000549316406],[165.0800018310547],[162.5500030517578],[160.6699981689453],[153.75],[160.19000244140625],[164.30999755859375],[161.8300018310547],[160.30999755859375],[160.61000061035156],[161.1999969482422],[170.05999755859375],[171.7899932861328],[169.14999389648438],[168.5399932861328],[172.0800018310547],[167.97999572753906],[166.35000610351562],[166.52000427246094],[173.86000061035156],[176.88999938964844],[180.13999938964844],[188.8699951171875],[185.77000427246094],[182.89999389648438],[184.47000122070312],[193.1699981689453],[201.16000366210938],[203.92999267578125],[207.52000427246094],[213.97000122070312],[217.61000061035156],[221.30999755859375],[224.57000732421875],[234.86000061035156],[244.39999389648438],[249.8300018310547],[258.7099914550781],[256.7900085449219],[255.89999389648438],[260.5400085449219],[274.45001220703125],[259.4599914550781],[264.6099853515625],[256.6000061035156],[241.0500030517578],[250.2100067138672],[256.239990234375],[257.5],[261.7699890136719],[279.82000732421875],[282.4800109863281],[276.5400085449219],[274.42999267578125],[269.6099853515625],[269.7900085449219],[271.989990234375],[277.8999938964844],[281.3800048828125],[290.3800048828125],[293.3399963378906],[291.260009765625],[262.8999938964844],[260.0199890136719],[269.05999755859375],[265.2799987792969],[264.3500061035156],[255.7100067138672],[266.44000244140625],[267.42999267578125],[261.07000732421875],[254.11000061035156],[259.32000732421875],[253.86000061035156],[251.4499969482422],[249.6999969482422],[242.19000244140625],[245.33999633789062],[242.64999389648438],[239.75999450683594],[232.9600067138672],[225.60000610351562],[219.22000122070312],[215.49000549316406],[231.27999877929688],[233.19000244140625],[236.86000061035156],[230.0399932861328],[238.58999633789062],[238.82000732421875],[257.17999267578125],[256.8999938964844],[258.0799865722656],[245.00999450683594],[256.489990234375],[251.9199981689453],[251.49000549316406],[248.5],[273.5799865722656],[267.4800109863281],[271.29998779296875],[276.0400085449219],[274.3900146484375],[265.2799987792969],[266.5],[262.5899963378906],[255.6999969482422],[244.8800048828125],[246.99000549316406],[244.1199951171875],[240.5],[246.3800048828125],[250.22000122070312],[251.60000610351562],[246.52999877929688],[261.1600036621094],[260.04998779296875],[260.5299987792969],[259.6700134277344],[263.6199951171875],[262.989990234375],[258.8699951171875],[251.1199951171875],[253.9199981689453],[254.85000610351562],[242.67999267578125],[220.11000061035156],[211.99000549316406],[212.0800018310547],[216.52000427246094],[212.4199981689453],[205.75999450683594],[207.3000030517578],[197.36000061035156],[200.83999633789062],[205.66000366210938],[218.50999450683594],[219.9600067138672],[219.27000427246094],[222.17999267578125],[222.11000061035156],[209.97999572753906],[214.64999389648438],[223.7100067138672],[237.41000366210938],[242.83999633789062],[233.58999633789062],[234.3000030517578],[235.60000610351562],[241.1999969482422],[234.2100067138672],[235.4499969482422],[236.0800018310547],[246.72000122070312],[244.13999938964844],[240.0800018310547],[238.8300018310547],[235.5800018310547],[238.72000122070312],[239.3699951171875],[242.63999938964844],[243.83999633789062],[239.74000549316406],[237.00999450683594],[239.2899932861328],[251.0500030517578],[253.5],[252.0800018310547],[257.2200012207031],[247.13999938964844],[254.5],[252.5399932861328],[256.6099853515625],[261.44000244140625],[253.17999267578125],[248.47999572753906],[248.4199981689453],[238.4499969482422],[237.92999267578125],[237.49000549316406],[240.4499969482422],[234.9600067138672],[233.94000244140625],[227.22000122070312],[218.88999938964844],[219.91000366210938],[215.5500030517578],[211.8800048828125],[212.19000244140625],[208.8000030517578],[209.13999938964844],[207.8300018310547],[182.6300048828125],[183.25],[190.92999267578125],[191.58999633789062],[187.2899932861328],[188.86000061035156],[187.91000366210938],[181.05999755859375],[185.10000610351562],[187.5800018310547],[189.55999755859375],[193.57000732421875],[188.1300048828125],[184.02000427246094],[188.7100067138672],[200.4499969482422],[199.9499969482422],[193.75999450683594],[194.77000427246094],[197.41000366210938],[191.97000122070312],[199.39999389648438],[199.72999572753906],[202.0399932861328],[201.8800048828125],[202.63999938964844],[188.13999938964844],[180.74000549316406],[176.5399932861328],[178.64999389648438],[175.33999633789062],[177.77000427246094],[177.5399932861328],[169.47999572753906],[162.5],[163.57000732421875],[173.8000030517578],[171.32000732421875],[175.66000366210938],[172.82000732421875],[170.8300018310547],[172.6300048828125],[177.6699981689453],[179.8300018310547],[175.7899932861328],[175.22000122070312],[166.6300048828125],[168.3800048828125],[171.11000061035156],[164.89999389648438],[172.97999572753906],[176.8800048828125],[171.75999450683594],[174.60000610351562],[171.0500030517578],[161.47999572753906],[157.11000061035156],[155.4499969482422],[149.92999267578125],[147.0500030517578],[142.0500030517578],[144.67999267578125],[162.1300048828125],[170.17999267578125],[168.2899932861328],[194.0500030517578],[183.27999877929688],[179.99000549316406],[180.00999450683594],[181.19000244140625],[184.75999450683594],[177.80999755859375],[174.72000122070312],[171.97000122070312],[168.47000122070312],[171.88999938964844],[177.5500030517578],[173.99000549316406],[174.83999633789062],[177.4600067138672],[174.9499969482422],[186.60000610351562],[180.11000061035156],[173.74000549316406],[179.24000549316406],[176.75],[176.19000244140625],[178.7899932861328],[178.0800018310547],[176.2899932861328],[174.77000427246094],[175.0],[177.94000244140625],[177.47999572753906],[173.7899932861328],[170.66000366210938],[177.2899932861328],[182.47000122070312],[178.00999450683594],[187.44000244140625],[184.86000061035156],[181.57000732421875],[183.00999450683594],[182.5800018310547],[187.35000610351562],[196.3699951171875],[197.4199981689453],[197.8800048828125],[209.86000061035156],[231.25999450683594],[246.38999938964844],[251.52000427246094],[252.94000244140625],[262.3299865722656],[263.260009765625],[241.02999877929688],[248.22999572753906],[252.63999938964844],[256.55999755859375],[248.5],[249.22999572753906],[239.1999969482422],[251.50999450683594],[246.3800048828125],[215.99000549316406],[220.25],[219.8000030517578],[232.10000610351562],[222.6199951171875],[232.07000732421875],[216.86000061035156],[207.6699981689453],[198.8800048828125],[200.63999938964844],[191.75999450683594],[198.83999633789062],[200.0],[197.49000549316406],[207.8300018310547],[201.3800048828125],[214.13999938964844],[216.1199951171875],[222.72000122070312],[221.10000610351562],[223.27000427246094],[210.66000366210938],[220.32000732421875],[213.2100067138672],[209.2100067138672],[205.75],[206.27999877929688],[214.11000061035156],[210.60000610351562],[219.41000366210938],[230.1699981689453],[210.72999572753906],[216.27000427246094],[226.1699981689453],[228.1300048828125],[229.80999755859375],[230.2899932861328],[226.77999877929688],[227.8699951171875],[227.1999969482422],[243.9199981689453],[238.25],[250.0],[254.27000427246094],[257.0199890136719],[254.22000122070312],[260.4599914550781],[261.6300048828125],[258.0199890136719],[249.02000427246094],[240.66000366210938],[250.0800018310547],[240.8300018310547],[244.5],[241.0500030517578],[238.77000427246094],[217.8000030517578],[219.16000366210938],[219.57000732421875],[221.3300018310547],[220.88999938964844],[220.6999969482422],[218.85000610351562],[217.97000122070312],[213.64999389648438],[260.4800109863281],[269.19000244140625],[262.510009765625],[259.5199890136719],[257.54998779296875],[249.85000610351562],[248.97999572753906],[242.83999633789062],[251.44000244140625],[288.5299987792969],[296.9100036621094],[321.2200012207031],[350.0],[328.489990234375],[330.239990234375],[311.17999267578125],[320.7200012207031],[338.739990234375],[346.0],[342.0299987792969],[339.6400146484375],[352.55999755859375],[338.5899963378906],[338.2300109863281],[332.8900146484375],[345.1600036621094],[357.0899963378906],[351.4200134277344],[357.92999267578125],[369.489990234375],[389.2200012207031],[389.7900085449219],[400.989990234375],[424.7699890136719],[418.1000061035156],[436.2300109863281],[463.0199890136719],[479.8599853515625],[440.1300048828125],[436.1700134277344],[421.05999755859375],[430.6000061035156],[462.2799987792969],[454.1300048828125],[431.6600036621094],[417.4100036621094],[403.8399963378906]],\"type\":\"scatter\"}],                        {\"template\":{\"data\":{\"barpolar\":[{\"marker\":{\"line\":{\"color\":\"rgb(17,17,17)\",\"width\":0.5},\"pattern\":{\"fillmode\":\"overlay\",\"size\":10,\"solidity\":0.2}},\"type\":\"barpolar\"}],\"bar\":[{\"error_x\":{\"color\":\"#f2f5fa\"},\"error_y\":{\"color\":\"#f2f5fa\"},\"marker\":{\"line\":{\"color\":\"rgb(17,17,17)\",\"width\":0.5},\"pattern\":{\"fillmode\":\"overlay\",\"size\":10,\"solidity\":0.2}},\"type\":\"bar\"}],\"carpet\":[{\"aaxis\":{\"endlinecolor\":\"#A2B1C6\",\"gridcolor\":\"#506784\",\"linecolor\":\"#506784\",\"minorgridcolor\":\"#506784\",\"startlinecolor\":\"#A2B1C6\"},\"baxis\":{\"endlinecolor\":\"#A2B1C6\",\"gridcolor\":\"#506784\",\"linecolor\":\"#506784\",\"minorgridcolor\":\"#506784\",\"startlinecolor\":\"#A2B1C6\"},\"type\":\"carpet\"}],\"choropleth\":[{\"colorbar\":{\"outlinewidth\":0,\"ticks\":\"\"},\"type\":\"choropleth\"}],\"contourcarpet\":[{\"colorbar\":{\"outlinewidth\":0,\"ticks\":\"\"},\"type\":\"contourcarpet\"}],\"contour\":[{\"colorbar\":{\"outlinewidth\":0,\"ticks\":\"\"},\"colorscale\":[[0.0,\"#0d0887\"],[0.1111111111111111,\"#46039f\"],[0.2222222222222222,\"#7201a8\"],[0.3333333333333333,\"#9c179e\"],[0.4444444444444444,\"#bd3786\"],[0.5555555555555556,\"#d8576b\"],[0.6666666666666666,\"#ed7953\"],[0.7777777777777778,\"#fb9f3a\"],[0.8888888888888888,\"#fdca26\"],[1.0,\"#f0f921\"]],\"type\":\"contour\"}],\"heatmapgl\":[{\"colorbar\":{\"outlinewidth\":0,\"ticks\":\"\"},\"colorscale\":[[0.0,\"#0d0887\"],[0.1111111111111111,\"#46039f\"],[0.2222222222222222,\"#7201a8\"],[0.3333333333333333,\"#9c179e\"],[0.4444444444444444,\"#bd3786\"],[0.5555555555555556,\"#d8576b\"],[0.6666666666666666,\"#ed7953\"],[0.7777777777777778,\"#fb9f3a\"],[0.8888888888888888,\"#fdca26\"],[1.0,\"#f0f921\"]],\"type\":\"heatmapgl\"}],\"heatmap\":[{\"colorbar\":{\"outlinewidth\":0,\"ticks\":\"\"},\"colorscale\":[[0.0,\"#0d0887\"],[0.1111111111111111,\"#46039f\"],[0.2222222222222222,\"#7201a8\"],[0.3333333333333333,\"#9c179e\"],[0.4444444444444444,\"#bd3786\"],[0.5555555555555556,\"#d8576b\"],[0.6666666666666666,\"#ed7953\"],[0.7777777777777778,\"#fb9f3a\"],[0.8888888888888888,\"#fdca26\"],[1.0,\"#f0f921\"]],\"type\":\"heatmap\"}],\"histogram2dcontour\":[{\"colorbar\":{\"outlinewidth\":0,\"ticks\":\"\"},\"colorscale\":[[0.0,\"#0d0887\"],[0.1111111111111111,\"#46039f\"],[0.2222222222222222,\"#7201a8\"],[0.3333333333333333,\"#9c179e\"],[0.4444444444444444,\"#bd3786\"],[0.5555555555555556,\"#d8576b\"],[0.6666666666666666,\"#ed7953\"],[0.7777777777777778,\"#fb9f3a\"],[0.8888888888888888,\"#fdca26\"],[1.0,\"#f0f921\"]],\"type\":\"histogram2dcontour\"}],\"histogram2d\":[{\"colorbar\":{\"outlinewidth\":0,\"ticks\":\"\"},\"colorscale\":[[0.0,\"#0d0887\"],[0.1111111111111111,\"#46039f\"],[0.2222222222222222,\"#7201a8\"],[0.3333333333333333,\"#9c179e\"],[0.4444444444444444,\"#bd3786\"],[0.5555555555555556,\"#d8576b\"],[0.6666666666666666,\"#ed7953\"],[0.7777777777777778,\"#fb9f3a\"],[0.8888888888888888,\"#fdca26\"],[1.0,\"#f0f921\"]],\"type\":\"histogram2d\"}],\"histogram\":[{\"marker\":{\"pattern\":{\"fillmode\":\"overlay\",\"size\":10,\"solidity\":0.2}},\"type\":\"histogram\"}],\"mesh3d\":[{\"colorbar\":{\"outlinewidth\":0,\"ticks\":\"\"},\"type\":\"mesh3d\"}],\"parcoords\":[{\"line\":{\"colorbar\":{\"outlinewidth\":0,\"ticks\":\"\"}},\"type\":\"parcoords\"}],\"pie\":[{\"automargin\":true,\"type\":\"pie\"}],\"scatter3d\":[{\"line\":{\"colorbar\":{\"outlinewidth\":0,\"ticks\":\"\"}},\"marker\":{\"colorbar\":{\"outlinewidth\":0,\"ticks\":\"\"}},\"type\":\"scatter3d\"}],\"scattercarpet\":[{\"marker\":{\"colorbar\":{\"outlinewidth\":0,\"ticks\":\"\"}},\"type\":\"scattercarpet\"}],\"scattergeo\":[{\"marker\":{\"colorbar\":{\"outlinewidth\":0,\"ticks\":\"\"}},\"type\":\"scattergeo\"}],\"scattergl\":[{\"marker\":{\"line\":{\"color\":\"#283442\"}},\"type\":\"scattergl\"}],\"scattermapbox\":[{\"marker\":{\"colorbar\":{\"outlinewidth\":0,\"ticks\":\"\"}},\"type\":\"scattermapbox\"}],\"scatterpolargl\":[{\"marker\":{\"colorbar\":{\"outlinewidth\":0,\"ticks\":\"\"}},\"type\":\"scatterpolargl\"}],\"scatterpolar\":[{\"marker\":{\"colorbar\":{\"outlinewidth\":0,\"ticks\":\"\"}},\"type\":\"scatterpolar\"}],\"scatter\":[{\"marker\":{\"line\":{\"color\":\"#283442\"}},\"type\":\"scatter\"}],\"scatterternary\":[{\"marker\":{\"colorbar\":{\"outlinewidth\":0,\"ticks\":\"\"}},\"type\":\"scatterternary\"}],\"surface\":[{\"colorbar\":{\"outlinewidth\":0,\"ticks\":\"\"},\"colorscale\":[[0.0,\"#0d0887\"],[0.1111111111111111,\"#46039f\"],[0.2222222222222222,\"#7201a8\"],[0.3333333333333333,\"#9c179e\"],[0.4444444444444444,\"#bd3786\"],[0.5555555555555556,\"#d8576b\"],[0.6666666666666666,\"#ed7953\"],[0.7777777777777778,\"#fb9f3a\"],[0.8888888888888888,\"#fdca26\"],[1.0,\"#f0f921\"]],\"type\":\"surface\"}],\"table\":[{\"cells\":{\"fill\":{\"color\":\"#506784\"},\"line\":{\"color\":\"rgb(17,17,17)\"}},\"header\":{\"fill\":{\"color\":\"#2a3f5f\"},\"line\":{\"color\":\"rgb(17,17,17)\"}},\"type\":\"table\"}]},\"layout\":{\"annotationdefaults\":{\"arrowcolor\":\"#f2f5fa\",\"arrowhead\":0,\"arrowwidth\":1},\"autotypenumbers\":\"strict\",\"coloraxis\":{\"colorbar\":{\"outlinewidth\":0,\"ticks\":\"\"}},\"colorscale\":{\"diverging\":[[0,\"#8e0152\"],[0.1,\"#c51b7d\"],[0.2,\"#de77ae\"],[0.3,\"#f1b6da\"],[0.4,\"#fde0ef\"],[0.5,\"#f7f7f7\"],[0.6,\"#e6f5d0\"],[0.7,\"#b8e186\"],[0.8,\"#7fbc41\"],[0.9,\"#4d9221\"],[1,\"#276419\"]],\"sequential\":[[0.0,\"#0d0887\"],[0.1111111111111111,\"#46039f\"],[0.2222222222222222,\"#7201a8\"],[0.3333333333333333,\"#9c179e\"],[0.4444444444444444,\"#bd3786\"],[0.5555555555555556,\"#d8576b\"],[0.6666666666666666,\"#ed7953\"],[0.7777777777777778,\"#fb9f3a\"],[0.8888888888888888,\"#fdca26\"],[1.0,\"#f0f921\"]],\"sequentialminus\":[[0.0,\"#0d0887\"],[0.1111111111111111,\"#46039f\"],[0.2222222222222222,\"#7201a8\"],[0.3333333333333333,\"#9c179e\"],[0.4444444444444444,\"#bd3786\"],[0.5555555555555556,\"#d8576b\"],[0.6666666666666666,\"#ed7953\"],[0.7777777777777778,\"#fb9f3a\"],[0.8888888888888888,\"#fdca26\"],[1.0,\"#f0f921\"]]},\"colorway\":[\"#636efa\",\"#EF553B\",\"#00cc96\",\"#ab63fa\",\"#FFA15A\",\"#19d3f3\",\"#FF6692\",\"#B6E880\",\"#FF97FF\",\"#FECB52\"],\"font\":{\"color\":\"#f2f5fa\"},\"geo\":{\"bgcolor\":\"rgb(17,17,17)\",\"lakecolor\":\"rgb(17,17,17)\",\"landcolor\":\"rgb(17,17,17)\",\"showlakes\":true,\"showland\":true,\"subunitcolor\":\"#506784\"},\"hoverlabel\":{\"align\":\"left\"},\"hovermode\":\"closest\",\"mapbox\":{\"style\":\"dark\"},\"paper_bgcolor\":\"rgb(17,17,17)\",\"plot_bgcolor\":\"rgb(17,17,17)\",\"polar\":{\"angularaxis\":{\"gridcolor\":\"#506784\",\"linecolor\":\"#506784\",\"ticks\":\"\"},\"bgcolor\":\"rgb(17,17,17)\",\"radialaxis\":{\"gridcolor\":\"#506784\",\"linecolor\":\"#506784\",\"ticks\":\"\"}},\"scene\":{\"xaxis\":{\"backgroundcolor\":\"rgb(17,17,17)\",\"gridcolor\":\"#506784\",\"gridwidth\":2,\"linecolor\":\"#506784\",\"showbackground\":true,\"ticks\":\"\",\"zerolinecolor\":\"#C8D4E3\"},\"yaxis\":{\"backgroundcolor\":\"rgb(17,17,17)\",\"gridcolor\":\"#506784\",\"gridwidth\":2,\"linecolor\":\"#506784\",\"showbackground\":true,\"ticks\":\"\",\"zerolinecolor\":\"#C8D4E3\"},\"zaxis\":{\"backgroundcolor\":\"rgb(17,17,17)\",\"gridcolor\":\"#506784\",\"gridwidth\":2,\"linecolor\":\"#506784\",\"showbackground\":true,\"ticks\":\"\",\"zerolinecolor\":\"#C8D4E3\"}},\"shapedefaults\":{\"line\":{\"color\":\"#f2f5fa\"}},\"sliderdefaults\":{\"bgcolor\":\"#C8D4E3\",\"bordercolor\":\"rgb(17,17,17)\",\"borderwidth\":1,\"tickwidth\":0},\"ternary\":{\"aaxis\":{\"gridcolor\":\"#506784\",\"linecolor\":\"#506784\",\"ticks\":\"\"},\"baxis\":{\"gridcolor\":\"#506784\",\"linecolor\":\"#506784\",\"ticks\":\"\"},\"bgcolor\":\"rgb(17,17,17)\",\"caxis\":{\"gridcolor\":\"#506784\",\"linecolor\":\"#506784\",\"ticks\":\"\"}},\"title\":{\"x\":0.05},\"updatemenudefaults\":{\"bgcolor\":\"#506784\",\"borderwidth\":0},\"xaxis\":{\"automargin\":true,\"gridcolor\":\"#283442\",\"linecolor\":\"#506784\",\"ticks\":\"\",\"title\":{\"standoff\":15},\"zerolinecolor\":\"#283442\",\"zerolinewidth\":2},\"yaxis\":{\"automargin\":true,\"gridcolor\":\"#283442\",\"linecolor\":\"#506784\",\"ticks\":\"\",\"title\":{\"standoff\":15},\"zerolinecolor\":\"#283442\",\"zerolinewidth\":2}}},\"title\":{\"text\":\"TSLA Stock Price\"},\"xaxis\":{\"title\":{\"text\":\"Date\"}},\"yaxis\":{\"title\":{\"text\":\"Price (USD)\"}}},                        {\"responsive\": true}                    ).then(function(){\n",
       "                            \n",
       "var gd = document.getElementById('03cf322c-6cf4-4322-8f20-c9b8365bdffb');\n",
       "var x = new MutationObserver(function (mutations, observer) {{\n",
       "        var display = window.getComputedStyle(gd).display;\n",
       "        if (!display || display === 'none') {{\n",
       "            console.log([gd, 'removed!']);\n",
       "            Plotly.purge(gd);\n",
       "            observer.disconnect();\n",
       "        }}\n",
       "}});\n",
       "\n",
       "// Listen for the removal of the full notebook cells\n",
       "var notebookContainer = gd.closest('#notebook-container');\n",
       "if (notebookContainer) {{\n",
       "    x.observe(notebookContainer, {childList: true});\n",
       "}}\n",
       "\n",
       "// Listen for the clearing of the current output cell\n",
       "var outputEl = gd.closest('.output');\n",
       "if (outputEl) {{\n",
       "    x.observe(outputEl, {childList: true});\n",
       "}}\n",
       "\n",
       "                        })                };                });            </script>        </div>"
      ]
     },
     "metadata": {},
     "output_type": "display_data"
    }
   ],
   "source": [
    "import yfinance as yf\n",
    "import plotly.graph_objects as go\n",
    "\n",
    "def make_graph(ticker):\n",
    "    # Step 1: Fetch the stock data using yfinance\n",
    "    stock_data = yf.download(ticker, start=\"2020-01-01\", end=\"2025-01-01\")\n",
    "\n",
    "    # Step 2: Create the plot\n",
    "    fig = go.Figure()\n",
    "\n",
    "    # Step 3: Add a trace for the stock's closing prices\n",
    "    fig.add_trace(go.Scatter(x=stock_data.index, y=stock_data['Close'], mode='lines', name='Tesla Close'))\n",
    "\n",
    "    # Step 4: Add titles and labels\n",
    "    fig.update_layout(\n",
    "        title=f'{ticker} Stock Price',\n",
    "        xaxis_title='Date',\n",
    "        yaxis_title='Price (USD)',\n",
    "        template=\"plotly_dark\"\n",
    "    )\n",
    "\n",
    "    # Step 5: Show the plot\n",
    "    fig.show()\n",
    "\n",
    "# Call the make_graph function to plot Tesla stock\n",
    "make_graph('TSLA')"
   ]
  },
  {
   "cell_type": "markdown",
   "metadata": {},
   "source": [
    "## Question 6: Plot GameStop Stock Graph\n"
   ]
  },
  {
   "cell_type": "markdown",
   "metadata": {},
   "source": [
    "Use the `make_graph` function to graph the GameStop Stock Data, also provide a title for the graph. The structure to call the `make_graph` function is `make_graph(gme_data, gme_revenue, 'GameStop')`. Note the graph will only show data upto June 2021.\n"
   ]
  },
  {
   "cell_type": "markdown",
   "metadata": {},
   "source": [
    "<details><summary>Hint</summary>\n",
    "\n",
    "```\n",
    "\n",
    "You just need to invoke the make_graph function with the required parameter to print the graphs.The structure to call the `make_graph` function is `make_graph(gme_data, gme_revenue, 'GameStop')`\n",
    "\n",
    "```\n",
    "    \n",
    "</details>\n"
   ]
  },
  {
   "cell_type": "code",
   "execution_count": 178,
   "metadata": {},
   "outputs": [
    {
     "name": "stderr",
     "output_type": "stream",
     "text": [
      "[*********************100%***********************]  1 of 1 completed\n"
     ]
    },
    {
     "ename": "KeyError",
     "evalue": "'Date'",
     "output_type": "error",
     "traceback": [
      "\u001b[0;31m---------------------------------------------------------------------------\u001b[0m",
      "\u001b[0;31mKeyError\u001b[0m                                  Traceback (most recent call last)",
      "File \u001b[0;32m/opt/conda/lib/python3.11/site-packages/pandas/core/indexes/base.py:3805\u001b[0m, in \u001b[0;36mIndex.get_loc\u001b[0;34m(self, key)\u001b[0m\n\u001b[1;32m   3804\u001b[0m \u001b[38;5;28;01mtry\u001b[39;00m:\n\u001b[0;32m-> 3805\u001b[0m     \u001b[38;5;28;01mreturn\u001b[39;00m \u001b[38;5;28;43mself\u001b[39;49m\u001b[38;5;241;43m.\u001b[39;49m\u001b[43m_engine\u001b[49m\u001b[38;5;241;43m.\u001b[39;49m\u001b[43mget_loc\u001b[49m\u001b[43m(\u001b[49m\u001b[43mcasted_key\u001b[49m\u001b[43m)\u001b[49m\n\u001b[1;32m   3806\u001b[0m \u001b[38;5;28;01mexcept\u001b[39;00m \u001b[38;5;167;01mKeyError\u001b[39;00m \u001b[38;5;28;01mas\u001b[39;00m err:\n",
      "File \u001b[0;32mindex.pyx:167\u001b[0m, in \u001b[0;36mpandas._libs.index.IndexEngine.get_loc\u001b[0;34m()\u001b[0m\n",
      "File \u001b[0;32mindex.pyx:196\u001b[0m, in \u001b[0;36mpandas._libs.index.IndexEngine.get_loc\u001b[0;34m()\u001b[0m\n",
      "File \u001b[0;32mpandas/_libs/hashtable_class_helper.pxi:7081\u001b[0m, in \u001b[0;36mpandas._libs.hashtable.PyObjectHashTable.get_item\u001b[0;34m()\u001b[0m\n",
      "File \u001b[0;32mpandas/_libs/hashtable_class_helper.pxi:7089\u001b[0m, in \u001b[0;36mpandas._libs.hashtable.PyObjectHashTable.get_item\u001b[0;34m()\u001b[0m\n",
      "\u001b[0;31mKeyError\u001b[0m: 'Date'",
      "\nThe above exception was the direct cause of the following exception:\n",
      "\u001b[0;31mKeyError\u001b[0m                                  Traceback (most recent call last)",
      "Cell \u001b[0;32mIn[178], line 35\u001b[0m\n\u001b[1;32m     32\u001b[0m     fig\u001b[38;5;241m.\u001b[39mshow()\n\u001b[1;32m     34\u001b[0m \u001b[38;5;66;03m# Step 9: Call the make_graph function\u001b[39;00m\n\u001b[0;32m---> 35\u001b[0m \u001b[43mmake_graph\u001b[49m\u001b[43m(\u001b[49m\u001b[43mgme_data\u001b[49m\u001b[43m,\u001b[49m\u001b[43m \u001b[49m\u001b[43mgme_revenue\u001b[49m\u001b[43m,\u001b[49m\u001b[43m \u001b[49m\u001b[38;5;124;43m'\u001b[39;49m\u001b[38;5;124;43mGameStop Stock and Revenue\u001b[39;49m\u001b[38;5;124;43m'\u001b[39;49m\u001b[43m)\u001b[49m\n",
      "Cell \u001b[0;32mIn[178], line 21\u001b[0m, in \u001b[0;36mmake_graph\u001b[0;34m(gme_data, gme_revenue, title)\u001b[0m\n\u001b[1;32m     18\u001b[0m fig\u001b[38;5;241m.\u001b[39madd_trace(go\u001b[38;5;241m.\u001b[39mScatter(x\u001b[38;5;241m=\u001b[39mgme_data\u001b[38;5;241m.\u001b[39mindex, y\u001b[38;5;241m=\u001b[39mgme_data[\u001b[38;5;124m'\u001b[39m\u001b[38;5;124mClose\u001b[39m\u001b[38;5;124m'\u001b[39m], mode\u001b[38;5;241m=\u001b[39m\u001b[38;5;124m'\u001b[39m\u001b[38;5;124mlines\u001b[39m\u001b[38;5;124m'\u001b[39m, name\u001b[38;5;241m=\u001b[39m\u001b[38;5;124m'\u001b[39m\u001b[38;5;124mGameStop Close\u001b[39m\u001b[38;5;124m'\u001b[39m))\n\u001b[1;32m     20\u001b[0m \u001b[38;5;66;03m# Step 6: Add the revenue data (if desired)\u001b[39;00m\n\u001b[0;32m---> 21\u001b[0m fig\u001b[38;5;241m.\u001b[39madd_trace(go\u001b[38;5;241m.\u001b[39mScatter(x\u001b[38;5;241m=\u001b[39m\u001b[43mgme_revenue\u001b[49m\u001b[43m[\u001b[49m\u001b[38;5;124;43m'\u001b[39;49m\u001b[38;5;124;43mDate\u001b[39;49m\u001b[38;5;124;43m'\u001b[39;49m\u001b[43m]\u001b[49m, y\u001b[38;5;241m=\u001b[39mgme_revenue[\u001b[38;5;124m'\u001b[39m\u001b[38;5;124mRevenue\u001b[39m\u001b[38;5;124m'\u001b[39m], mode\u001b[38;5;241m=\u001b[39m\u001b[38;5;124m'\u001b[39m\u001b[38;5;124mlines\u001b[39m\u001b[38;5;124m'\u001b[39m, name\u001b[38;5;241m=\u001b[39m\u001b[38;5;124m'\u001b[39m\u001b[38;5;124mGameStop Revenue\u001b[39m\u001b[38;5;124m'\u001b[39m))\n\u001b[1;32m     23\u001b[0m \u001b[38;5;66;03m# Step 7: Customize the graph\u001b[39;00m\n\u001b[1;32m     24\u001b[0m fig\u001b[38;5;241m.\u001b[39mupdate_layout(\n\u001b[1;32m     25\u001b[0m     title\u001b[38;5;241m=\u001b[39mtitle,\n\u001b[1;32m     26\u001b[0m     xaxis_title\u001b[38;5;241m=\u001b[39m\u001b[38;5;124m'\u001b[39m\u001b[38;5;124mDate\u001b[39m\u001b[38;5;124m'\u001b[39m,\n\u001b[1;32m     27\u001b[0m     yaxis_title\u001b[38;5;241m=\u001b[39m\u001b[38;5;124m'\u001b[39m\u001b[38;5;124mValue (USD)\u001b[39m\u001b[38;5;124m'\u001b[39m,\n\u001b[1;32m     28\u001b[0m     template\u001b[38;5;241m=\u001b[39m\u001b[38;5;124m\"\u001b[39m\u001b[38;5;124mplotly_dark\u001b[39m\u001b[38;5;124m\"\u001b[39m\n\u001b[1;32m     29\u001b[0m )\n",
      "File \u001b[0;32m/opt/conda/lib/python3.11/site-packages/pandas/core/frame.py:4102\u001b[0m, in \u001b[0;36mDataFrame.__getitem__\u001b[0;34m(self, key)\u001b[0m\n\u001b[1;32m   4100\u001b[0m \u001b[38;5;28;01mif\u001b[39;00m \u001b[38;5;28mself\u001b[39m\u001b[38;5;241m.\u001b[39mcolumns\u001b[38;5;241m.\u001b[39mnlevels \u001b[38;5;241m>\u001b[39m \u001b[38;5;241m1\u001b[39m:\n\u001b[1;32m   4101\u001b[0m     \u001b[38;5;28;01mreturn\u001b[39;00m \u001b[38;5;28mself\u001b[39m\u001b[38;5;241m.\u001b[39m_getitem_multilevel(key)\n\u001b[0;32m-> 4102\u001b[0m indexer \u001b[38;5;241m=\u001b[39m \u001b[38;5;28;43mself\u001b[39;49m\u001b[38;5;241;43m.\u001b[39;49m\u001b[43mcolumns\u001b[49m\u001b[38;5;241;43m.\u001b[39;49m\u001b[43mget_loc\u001b[49m\u001b[43m(\u001b[49m\u001b[43mkey\u001b[49m\u001b[43m)\u001b[49m\n\u001b[1;32m   4103\u001b[0m \u001b[38;5;28;01mif\u001b[39;00m is_integer(indexer):\n\u001b[1;32m   4104\u001b[0m     indexer \u001b[38;5;241m=\u001b[39m [indexer]\n",
      "File \u001b[0;32m/opt/conda/lib/python3.11/site-packages/pandas/core/indexes/base.py:3812\u001b[0m, in \u001b[0;36mIndex.get_loc\u001b[0;34m(self, key)\u001b[0m\n\u001b[1;32m   3807\u001b[0m     \u001b[38;5;28;01mif\u001b[39;00m \u001b[38;5;28misinstance\u001b[39m(casted_key, \u001b[38;5;28mslice\u001b[39m) \u001b[38;5;129;01mor\u001b[39;00m (\n\u001b[1;32m   3808\u001b[0m         \u001b[38;5;28misinstance\u001b[39m(casted_key, abc\u001b[38;5;241m.\u001b[39mIterable)\n\u001b[1;32m   3809\u001b[0m         \u001b[38;5;129;01mand\u001b[39;00m \u001b[38;5;28many\u001b[39m(\u001b[38;5;28misinstance\u001b[39m(x, \u001b[38;5;28mslice\u001b[39m) \u001b[38;5;28;01mfor\u001b[39;00m x \u001b[38;5;129;01min\u001b[39;00m casted_key)\n\u001b[1;32m   3810\u001b[0m     ):\n\u001b[1;32m   3811\u001b[0m         \u001b[38;5;28;01mraise\u001b[39;00m InvalidIndexError(key)\n\u001b[0;32m-> 3812\u001b[0m     \u001b[38;5;28;01mraise\u001b[39;00m \u001b[38;5;167;01mKeyError\u001b[39;00m(key) \u001b[38;5;28;01mfrom\u001b[39;00m \u001b[38;5;21;01merr\u001b[39;00m\n\u001b[1;32m   3813\u001b[0m \u001b[38;5;28;01mexcept\u001b[39;00m \u001b[38;5;167;01mTypeError\u001b[39;00m:\n\u001b[1;32m   3814\u001b[0m     \u001b[38;5;66;03m# If we have a listlike key, _check_indexing_error will raise\u001b[39;00m\n\u001b[1;32m   3815\u001b[0m     \u001b[38;5;66;03m#  InvalidIndexError. Otherwise we fall through and re-raise\u001b[39;00m\n\u001b[1;32m   3816\u001b[0m     \u001b[38;5;66;03m#  the TypeError.\u001b[39;00m\n\u001b[1;32m   3817\u001b[0m     \u001b[38;5;28mself\u001b[39m\u001b[38;5;241m.\u001b[39m_check_indexing_error(key)\n",
      "\u001b[0;31mKeyError\u001b[0m: 'Date'"
     ]
    }
   ],
   "source": [
    "import pandas as pd\n",
    "import yfinance as yf\n",
    "import plotly.graph_objects as go\n",
    "\n",
    "# Step 1: Fetch GameStop stock data up to June 2021\n",
    "gme_data = yf.download('GME', start='2010-01-01', end='2021-06-30')\n",
    "\n",
    "# Step 2: Load the revenue data from the provided URL\n",
    "url = \"https://cf-courses-data.s3.us.cloud-object-storage.appdomain.cloud/IBMDeveloperSkillsNetwork-PY0220EN-SkillsNetwork/labs/project/revenue.htm\"\n",
    "gme_revenue = pd.read_html(url)[0]  # Extract the table from the webpage\n",
    "\n",
    "# Step 3: Define the make_graph function\n",
    "def make_graph(gme_data, gme_revenue, title):\n",
    "    # Step 4: Create the plot for GameStop stock\n",
    "    fig = go.Figure()\n",
    "\n",
    "    # Step 5: Add the GameStop stock closing prices\n",
    "    fig.add_trace(go.Scatter(x=gme_data.index, y=gme_data['Close'], mode='lines', name='GameStop Close'))\n",
    "\n",
    "    # Step 6: Add the revenue data (if desired)\n",
    "    fig.add_trace(go.Scatter(x=gme_revenue['Date'], y=gme_revenue['Revenue'], mode='lines', name='GameStop Revenue'))\n",
    "\n",
    "    # Step 7: Customize the graph\n",
    "    fig.update_layout(\n",
    "        title=title,\n",
    "        xaxis_title='Date',\n",
    "        yaxis_title='Value (USD)',\n",
    "        template=\"plotly_dark\"\n",
    "    )\n",
    "\n",
    "    # Step 8: Display the graph\n",
    "    fig.show()\n",
    "\n",
    "# Step 9: Call the make_graph function\n",
    "make_graph(gme_data, gme_revenue, 'GameStop Stock and Revenue')"
   ]
  },
  {
   "cell_type": "markdown",
   "metadata": {},
   "source": [
    "<h2>About the Authors:</h2> \n",
    "\n",
    "<a href=\"https://www.linkedin.com/in/joseph-s-50398b136/\">Joseph Santarcangelo</a> has a PhD in Electrical Engineering, his research focused on using machine learning, signal processing, and computer vision to determine how videos impact human cognition. Joseph has been working for IBM since he completed his PhD.\n",
    "\n",
    "Azim Hirjani\n"
   ]
  },
  {
   "cell_type": "markdown",
   "metadata": {},
   "source": [
    "## Change Log\n",
    "\n",
    "| Date (YYYY-MM-DD) | Version | Changed By    | Change Description        |\n",
    "| ----------------- | ------- | ------------- | ------------------------- |\n",
    "| 2022-02-28        | 1.2     | Lakshmi Holla | Changed the URL of GameStop |\n",
    "| 2020-11-10        | 1.1     | Malika Singla | Deleted the Optional part |\n",
    "| 2020-08-27        | 1.0     | Malika Singla | Added lab to GitLab       |\n",
    "\n",
    "<hr>\n",
    "\n",
    "## <h3 align=\"center\"> © IBM Corporation 2020. All rights reserved. <h3/>\n",
    "\n",
    "<p>\n"
   ]
  }
 ],
 "metadata": {
  "kernelspec": {
   "display_name": "Python 3 (ipykernel)",
   "language": "python",
   "name": "python3"
  },
  "language_info": {
   "codemirror_mode": {
    "name": "ipython",
    "version": 3
   },
   "file_extension": ".py",
   "mimetype": "text/x-python",
   "name": "python",
   "nbconvert_exporter": "python",
   "pygments_lexer": "ipython3",
   "version": "3.11.9"
  },
  "prev_pub_hash": "2394e43de8043319cad418d17eee53a62befece05145764d1d80fe8937a818b2"
 },
 "nbformat": 4,
 "nbformat_minor": 4
}
